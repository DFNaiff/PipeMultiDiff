{
 "cells": [
  {
   "cell_type": "code",
   "execution_count": 1,
   "id": "d7931108",
   "metadata": {},
   "outputs": [],
   "source": [
    "import sys\n",
    "sys.path.append(\"..\")\n",
    "import functools\n",
    "import pickle\n",
    "\n",
    "import numpy as np\n",
    "import torch\n",
    "import pyequion2\n",
    "\n",
    "import tmcdiff"
   ]
  },
  {
   "cell_type": "code",
   "execution_count": 2,
   "id": "a909bfb5",
   "metadata": {},
   "outputs": [],
   "source": [
    "%load_ext autoreload\n",
    "%autoreload 2\n",
    "%matplotlib inline"
   ]
  },
  {
   "cell_type": "code",
   "execution_count": 3,
   "id": "6ffd3809",
   "metadata": {},
   "outputs": [
    {
     "data": {
      "text/plain": [
       "18.0"
      ]
     },
     "execution_count": 3,
     "metadata": {},
     "output_type": "execute_result"
    }
   ],
   "source": [
    "0.018*1000"
   ]
  },
  {
   "cell_type": "code",
   "execution_count": 83,
   "id": "bb948b96",
   "metadata": {},
   "outputs": [],
   "source": [
    "TK = 298.15\n",
    "bulk_velocity = 1e0\n",
    "pipe_diameter = 1e-2\n",
    "species = [\"C\", \"Ca\", \"Cl\"]\n",
    "phases = [\"Calcite\"]\n",
    "c_caco3 = 1e-4\n",
    "c_hcl = 1e-4\n",
    "molal_balance = {'C': c_caco3,\n",
    "                 'Ca': c_caco3,\n",
    "                 'Cl': c_hcl}\n",
    "ngrid = 20\n",
    "ypmax = 5"
   ]
  },
  {
   "cell_type": "code",
   "execution_count": 84,
   "id": "e27949da",
   "metadata": {},
   "outputs": [
    {
     "data": {
      "text/plain": [
       "{'Aragonite': -1.9824785948105337,\n",
       " 'Calcite': -1.8387087474182984,\n",
       " 'Vaterite': -2.4051402416325978}"
      ]
     },
     "execution_count": 84,
     "metadata": {},
     "output_type": "execute_result"
    }
   ],
   "source": [
    "eqsys_front = pyequion2.EquilibriumSystem(species, from_elements=True,\n",
    "                                           activity_model=\"DEBYE\")\n",
    "sol, _ = eqsys_front.solve_equilibrium_mixed_balance(TK, molal_balance=molal_balance)\n",
    "sol.saturation_indexes"
   ]
  },
  {
   "cell_type": "code",
   "execution_count": 85,
   "id": "44ef16ad",
   "metadata": {},
   "outputs": [
    {
     "data": {
      "text/plain": [
       "8.06633702432687"
      ]
     },
     "execution_count": 85,
     "metadata": {},
     "output_type": "execute_result"
    }
   ],
   "source": [
    "sol.ph"
   ]
  },
  {
   "cell_type": "code",
   "execution_count": 86,
   "id": "34ef4f72",
   "metadata": {},
   "outputs": [],
   "source": [
    "solver = tmcdiff.TransportSolver(species)\n",
    "solver.set_flow_conditions(TK, bulk_velocity, pipe_diameter)\n",
    "solver.set_initial_conditions(molal_balance, phases)\n",
    "solver.build_transport(ngrid, ypmax)\n",
    "solver.set_initial_guess()"
   ]
  },
  {
   "cell_type": "code",
   "execution_count": 87,
   "id": "706647f9",
   "metadata": {},
   "outputs": [
    {
     "name": "stdout",
     "output_type": "stream",
     "text": [
      "0.0017597561733662512%\n",
      "0.2518944652065496%\n",
      "2.7532415555383833%\n",
      "2.7594949232642123%\n",
      "2.765748290990042%\n",
      "2.828281968248338%\n",
      "3.4536187408312964%\n",
      "9.70698646666088%\n",
      "9.722619885975453%\n",
      "9.738253305290026%\n",
      "9.894587498435765%\n",
      "11.457929429893161%\n",
      "27.09134874446712%\n",
      "27.247682937612858%\n",
      "27.404017130758596%\n",
      "28.96735906221599%\n",
      "44.60077837678995%\n"
     ]
    }
   ],
   "source": [
    "solver.solve(100.0, print_frequency=1)"
   ]
  },
  {
   "cell_type": "code",
   "execution_count": 88,
   "id": "671210bf",
   "metadata": {},
   "outputs": [],
   "source": [
    "solver.save(\"data/exp4_b\")"
   ]
  },
  {
   "cell_type": "code",
   "execution_count": null,
   "id": "8e58cbdd",
   "metadata": {},
   "outputs": [],
   "source": []
  },
  {
   "cell_type": "code",
   "execution_count": null,
   "id": "3531ab1c",
   "metadata": {},
   "outputs": [],
   "source": []
  },
  {
   "cell_type": "code",
   "execution_count": null,
   "id": "2d693eda",
   "metadata": {},
   "outputs": [],
   "source": []
  },
  {
   "cell_type": "code",
   "execution_count": null,
   "id": "640e922a",
   "metadata": {},
   "outputs": [],
   "source": []
  }
 ],
 "metadata": {
  "kernelspec": {
   "display_name": "Python 3 (ipykernel)",
   "language": "python",
   "name": "python3"
  },
  "language_info": {
   "codemirror_mode": {
    "name": "ipython",
    "version": 3
   },
   "file_extension": ".py",
   "mimetype": "text/x-python",
   "name": "python",
   "nbconvert_exporter": "python",
   "pygments_lexer": "ipython3",
   "version": "3.9.7"
  }
 },
 "nbformat": 4,
 "nbformat_minor": 5
}
