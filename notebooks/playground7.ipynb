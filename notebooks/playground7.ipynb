{
 "cells": [
  {
   "cell_type": "code",
   "execution_count": 1,
   "id": "adb5c4cf",
   "metadata": {},
   "outputs": [],
   "source": [
    "import numpy as np\n",
    "import jax.numpy as jnp\n",
    "import jax\n",
    "import scipy.linalg\n",
    "\n",
    "import pyequion2\n",
    "import matplotlib.pyplot as plt"
   ]
  },
  {
   "cell_type": "code",
   "execution_count": 2,
   "id": "6558f18d",
   "metadata": {},
   "outputs": [],
   "source": [
    "%load_ext autoreload\n",
    "%autoreload 2\n",
    "%matplotlib inline"
   ]
  },
  {
   "cell_type": "code",
   "execution_count": 3,
   "id": "22f63458",
   "metadata": {},
   "outputs": [],
   "source": [
    "class TransportBuilder(object):\n",
    "    def __init__(self, eqsys, TK, shear_velocity, kinematic_viscosity, cbulk, phases):\n",
    "        self.eqsys = eqsys\n",
    "        self.TK = TK\n",
    "        self.shear_velocity = shear_velocity\n",
    "        self.kinematic_viscosity = kinematic_viscosity\n",
    "        self.cbulk = cbulk\n",
    "        self.phases = phases\n",
    "        \n",
    "    def set_species(self, species_to_remove=[]):\n",
    "        self.basedict = {k: v\n",
    "                         for k, v in pyequion2.datamods.chemical_potentials.items()\n",
    "                         if k in self.eqsys.solutes\n",
    "                         and k not in species_to_remove}\n",
    "        self.species = [spec for spec in eqsys.species[1:] if spec not in species_to_remove]\n",
    "        self.species_ind = jnp.array([eqsys.species.index(spec) for spec in self.species])\n",
    "        self.solid_ind = jnp.array([eqsys.solid_phase_names.index(phase) for phase in self.phases])\n",
    "        self.reduced_formula_matrix = self.eqsys.formula_matrix[2:, self.species_ind]\n",
    "        self.reduced_reaction_vector = \\\n",
    "            eqsys.solid_stoich_matrix[self.solid_ind, :][:, self.species_ind]\n",
    "        self.closure_matrix = jnp.array(\n",
    "            scipy.linalg.null_space(\n",
    "                (self.reduced_formula_matrix@(self.reduced_reaction_vector.T)).T\n",
    "            ).T\n",
    "        )\n",
    "        self.nspecies = len(self.species)\n",
    "        self.logk_solid = eqsys.get_solid_log_equilibrium_constants(self.TK)[self.solid_ind]\n",
    "        self.reduced_standard_potentials = eqsys.get_standard_chemical_potentials(self.TK)[self.species_ind]\n",
    "        self.reduced_standard_potentials /= (pyequion2.constants.GAS_CONSTANT*self.TK)    \n",
    "        self.reduce_activity_function()\n",
    "        self.reduced_diffusion_coefficients = pyequion2.equilibrium_backend.diffusion_coefficients.get_diffusion_coefficients(\n",
    "                                        self.species, self.TK)\n",
    "        self.reduced_diffusion_coefficients = jnp.array(self.reduced_diffusion_coefficients)/self.kinematic_viscosity\n",
    "        \n",
    "    def reduce_activity_function(self):\n",
    "        self._actfunc = pyequion2.equilibrium_backend.ACTIVITY_MODEL_MAP[eqsys.activity_model](\n",
    "                            self.species, backend=\"jax\")\n",
    "        \n",
    "    def activity_model_func(self, molals, TK):\n",
    "        return self._actfunc(molals, TK)[..., 1:]/pyequion2.constants.LOG10E*0.0\n",
    "        \n",
    "    def make_grid(self, ngrid, ymax):\n",
    "        self.ymax = ymax\n",
    "        self.ngrid = ngrid\n",
    "        self.npoints = ngrid + 1\n",
    "        self.ypoints, self.ystep = jnp.linspace(0, self.ymax, self.npoints, retstep=True)\n",
    "        self.ygrid = ypoints[:-1] + self.ystep/2\n",
    "        \n",
    "    def wall_diffusion_plus(self, yplus):\n",
    "        return 9.5*1e-4*yplus**3\n",
    "    \n",
    "    def wall_diffusion_plus_deriv(self, yplus):\n",
    "        return 3*9.5*1e-4*yplus**2\n",
    "    \n",
    "    def bulk_boundary_condition(self, logc, mu):\n",
    "        c = jnp.exp(logc)\n",
    "        cbulk = self.cbulk[..., None]\n",
    "        return self.reduced_formula_matrix@(c[:, -1][..., None]) - cbulk\n",
    "        \n",
    "    def equilibrium_wall_boundary_condition(self, logc, mu):\n",
    "        c = jnp.exp(logc)\n",
    "        cm = c[:, 0]\n",
    "        dc = (c[:, 1] - c[:, 0])/(self.ystep)\n",
    "        dmu = (mu[:, 1] - mu[:, 0])/self.ystep\n",
    "        loga = jnp.log(c[:,0]) + self.activity_model_func(c[:,0], self.TK)\n",
    "        res1 = self.reduced_reaction_vector@loga - self.logk_solid[..., None]\n",
    "#         res2 = self.closure_matrix@self.reduced_formula_matrix@\\\n",
    "#                 (dc)[..., None]\n",
    "        res2 = self.closure_matrix@self.reduced_formula_matrix@\\\n",
    "                  (self.reduced_diffusion_coefficients*cm*dmu)[..., None]\n",
    "        res = jnp.vstack([res1, res2])\n",
    "        return res\n",
    "    \n",
    "    def modelled_wall_boundary_condition(self, logc, mu):\n",
    "        c = jnp.exp(logc)\n",
    "        dc = (c[:, 1] - c[:, 0])/(self.ystep)\n",
    "        loga = jnp.log(c[:,0]) + self.activity_model_func(c[:,0], self.TK)\n",
    "        logsatur = self.reduced_reaction_vector@loga - self.logk_solid[..., None]\n",
    "        fsatur = jnp.clip(jnp.exp(logsatur)-1, 0.0, jnp.inf)*1e-3\n",
    "        res = self.reduced_formula_matrix@dc[..., None] \\\n",
    "              - self.reduced_formula_matrix@(self.reduced_reaction_vector.T)@fsatur\n",
    "        return res\n",
    "\n",
    "    def transport_residual(self, logc, mu):\n",
    "        #logc : (nsolutes, ngrid)\n",
    "        #mu : (nsolutes, ngrid)\n",
    "        c = jnp.exp(logc)\n",
    "        ymiddle = self.ygrid[1:-1]\n",
    "        cm = c[:, 1:-1]\n",
    "        d1c = (c[:, 2:] - c[:, :-2])/(2*self.ystep) #(nsolutes, ngrid-2)\n",
    "        d1mu = (mu[:, 2:] - mu[:, :-2])/(2*self.ystep) #(nsolutes, ngrid-2)\n",
    "        d2c = (c[:, 2:] - 2*c[:, 1:-1] + c[:, :-2])/(self.ystep**2) #(nsolutes, ngrid-2\n",
    "        d2mu = (mu[:, 2:] - 2*mu[:, 1:-1] + mu[:, :-2])/(self.ystep**2) #(nsolutes, ngrid-2)        \n",
    "        molecular_diffusions = self.reduced_diffusion_coefficients[..., None] #(nsolutes, 1)\n",
    "        turbulent_diffusions = self.wall_diffusion_plus(ymiddle)\n",
    "        turbulent_diffusions_deriv = self.wall_diffusion_plus_deriv(ymiddle)\n",
    "        term1 = molecular_diffusions*(d1c*d1mu + cm*d2mu)\n",
    "        term2 = turbulent_diffusions*d2c + turbulent_diffusions_deriv*d1c\n",
    "        term = term1 + term2\n",
    "        res = self.reduced_formula_matrix@term\n",
    "        return res\n",
    "                \n",
    "    def potential_residual(self, logc, mu):\n",
    "        logg = self.activity_model_func(jnp.exp(logc).T, self.TK).T\n",
    "        mu0 = self.reduced_standard_potentials[..., None]\n",
    "        return mu - (mu0 + logg + logc)\n",
    "    \n",
    "    def full_residual(self, logcmu):\n",
    "        n = logcmu.shape[0]\n",
    "        logc = logcmu[:n//2, :]\n",
    "        mu = logcmu[n//2:, :]\n",
    "        res1a = self.equilibrium_wall_boundary_condition(logc, mu)\n",
    "        res1b = self.transport_residual(logc, mu)\n",
    "        res1c = self.bulk_boundary_condition(logc, mu)\n",
    "        res1 = jnp.hstack([res1a, res1b, res1c])\n",
    "        res3 = self.potential_residual(logc, mu)\n",
    "        res = jnp.vstack([res1, res3])\n",
    "        return res\n",
    "    \n",
    "    def bulk_residual(self, logcmu):\n",
    "        n = logcmu.shape[0]\n",
    "        logc = logcmu[:n//2, :]\n",
    "        mu = logcmu[n//2:, :]\n",
    "        res1 = self.bulk_boundary_condition(logc, mu)\n",
    "        res3 = self.potential_residual(logc, mu)\n",
    "        res = jnp.vstack([res1, res3])\n",
    "        return res\n",
    "\n",
    "    def gibbs_free_energy(self, logcmu):\n",
    "        n = logcmu.shape[0]\n",
    "        logc = logcmu[:n//2, :]\n",
    "        mu = logcmu[n//2:, :]\n",
    "        c = jnp.exp(logc)\n",
    "        return jnp.mean(jnp.sum(c*mu, axis=0))    \n",
    "    \n",
    "    def flattened_equality_constraint(self, x):\n",
    "        cmu = x.reshape(2*self.nspecies, self.ngrid)\n",
    "        return self.full_residual(cmu).flatten()\n",
    "    \n",
    "    def flattened_minimization_objective(self, x):\n",
    "        cmu = x.reshape(2*self.nspecies, self.ngrid)\n",
    "        return self.gibbs_free_energy(cmu).flatten()[0]\n",
    "        \n",
    "    def wall_length(self):\n",
    "        return self.kinematic_viscosity/self.shear_velocity\n",
    "    \n",
    "    def wall_time(self):\n",
    "        return self.kinematic_viscosity/(self.shear_velocity**2)\n",
    "    \n",
    "    def get_log_equilibrium_constants(self, TK):\n",
    "        return self.eqsys.get_log_equilibrium_constants(TK)"
   ]
  },
  {
   "cell_type": "code",
   "execution_count": 4,
   "id": "177d5a61",
   "metadata": {},
   "outputs": [
    {
     "name": "stderr",
     "output_type": "stream",
     "text": [
      "WARNING:absl:No GPU/TPU found, falling back to CPU. (Set TF_CPP_MIN_LOG_LEVEL=0 and rerun for more info.)\n"
     ]
    }
   ],
   "source": [
    "eqsys = pyequion2.EquilibriumBackend([\"Na\", \"Cl\", \"Ca\", \"C\"], from_elements=True, backend=\"jax\", logbase=\"e\")"
   ]
  },
  {
   "cell_type": "code",
   "execution_count": 5,
   "id": "e5c08f72",
   "metadata": {},
   "outputs": [
    {
     "ename": "NameError",
     "evalue": "name 'ypoints' is not defined",
     "output_type": "error",
     "traceback": [
      "\u001b[0;31m---------------------------------------------------------------------------\u001b[0m",
      "\u001b[0;31mNameError\u001b[0m                                 Traceback (most recent call last)",
      "\u001b[0;32m/tmp/ipykernel_25865/1589706702.py\u001b[0m in \u001b[0;36m<module>\u001b[0;34m\u001b[0m\n\u001b[1;32m      2\u001b[0m builder.set_species(['CaCO3', 'CaHCO3+', 'CCaOH+', 'Na2CO3', 'NaCO3-', 'NaHCO3', 'NaOH', 'CaOH+',\n\u001b[1;32m      3\u001b[0m                      'H+', 'OH-'])\n\u001b[0;32m----> 4\u001b[0;31m \u001b[0mbuilder\u001b[0m\u001b[0;34m.\u001b[0m\u001b[0mmake_grid\u001b[0m\u001b[0;34m(\u001b[0m\u001b[0;36m100\u001b[0m\u001b[0;34m,\u001b[0m \u001b[0;36m5\u001b[0m\u001b[0;34m)\u001b[0m\u001b[0;34m\u001b[0m\u001b[0;34m\u001b[0m\u001b[0m\n\u001b[0m\u001b[1;32m      5\u001b[0m \u001b[0mbuilder\u001b[0m\u001b[0;34m.\u001b[0m\u001b[0mspecies\u001b[0m\u001b[0;34m\u001b[0m\u001b[0;34m\u001b[0m\u001b[0m\n",
      "\u001b[0;32m/tmp/ipykernel_25865/2551565789.py\u001b[0m in \u001b[0;36mmake_grid\u001b[0;34m(self, ngrid, ymax)\u001b[0m\n\u001b[1;32m     45\u001b[0m         \u001b[0mself\u001b[0m\u001b[0;34m.\u001b[0m\u001b[0mnpoints\u001b[0m \u001b[0;34m=\u001b[0m \u001b[0mngrid\u001b[0m \u001b[0;34m+\u001b[0m \u001b[0;36m1\u001b[0m\u001b[0;34m\u001b[0m\u001b[0;34m\u001b[0m\u001b[0m\n\u001b[1;32m     46\u001b[0m         \u001b[0mself\u001b[0m\u001b[0;34m.\u001b[0m\u001b[0mypoints\u001b[0m\u001b[0;34m,\u001b[0m \u001b[0mself\u001b[0m\u001b[0;34m.\u001b[0m\u001b[0mystep\u001b[0m \u001b[0;34m=\u001b[0m \u001b[0mjnp\u001b[0m\u001b[0;34m.\u001b[0m\u001b[0mlinspace\u001b[0m\u001b[0;34m(\u001b[0m\u001b[0;36m0\u001b[0m\u001b[0;34m,\u001b[0m \u001b[0mself\u001b[0m\u001b[0;34m.\u001b[0m\u001b[0mymax\u001b[0m\u001b[0;34m,\u001b[0m \u001b[0mself\u001b[0m\u001b[0;34m.\u001b[0m\u001b[0mnpoints\u001b[0m\u001b[0;34m,\u001b[0m \u001b[0mretstep\u001b[0m\u001b[0;34m=\u001b[0m\u001b[0;32mTrue\u001b[0m\u001b[0;34m)\u001b[0m\u001b[0;34m\u001b[0m\u001b[0;34m\u001b[0m\u001b[0m\n\u001b[0;32m---> 47\u001b[0;31m         \u001b[0mself\u001b[0m\u001b[0;34m.\u001b[0m\u001b[0mygrid\u001b[0m \u001b[0;34m=\u001b[0m \u001b[0mypoints\u001b[0m\u001b[0;34m[\u001b[0m\u001b[0;34m:\u001b[0m\u001b[0;34m-\u001b[0m\u001b[0;36m1\u001b[0m\u001b[0;34m]\u001b[0m \u001b[0;34m+\u001b[0m \u001b[0mself\u001b[0m\u001b[0;34m.\u001b[0m\u001b[0mystep\u001b[0m\u001b[0;34m/\u001b[0m\u001b[0;36m2\u001b[0m\u001b[0;34m\u001b[0m\u001b[0;34m\u001b[0m\u001b[0m\n\u001b[0m\u001b[1;32m     48\u001b[0m \u001b[0;34m\u001b[0m\u001b[0m\n\u001b[1;32m     49\u001b[0m     \u001b[0;32mdef\u001b[0m \u001b[0mwall_diffusion_plus\u001b[0m\u001b[0;34m(\u001b[0m\u001b[0mself\u001b[0m\u001b[0;34m,\u001b[0m \u001b[0myplus\u001b[0m\u001b[0;34m)\u001b[0m\u001b[0;34m:\u001b[0m\u001b[0;34m\u001b[0m\u001b[0;34m\u001b[0m\u001b[0m\n",
      "\u001b[0;31mNameError\u001b[0m: name 'ypoints' is not defined"
     ]
    }
   ],
   "source": [
    "builder = TransportBuilder(eqsys, 298.15, 0.1, 1e-6, jnp.array([1e-1, 1e-1, 1e-1, 1e-1, 0.0]), [\"Calcite\"])\n",
    "builder.set_species(['CaCO3', 'CaHCO3+', 'CCaOH+', 'Na2CO3', 'NaCO3-', 'NaHCO3', 'NaOH', 'CaOH+',\n",
    "                     'H+', 'OH-'])\n",
    "builder.make_grid(100, 5)\n",
    "builder.species"
   ]
  },
  {
   "cell_type": "code",
   "execution_count": null,
   "id": "94950066",
   "metadata": {},
   "outputs": [],
   "source": [
    "logc = np.ones([builder.nspecies, builder.npoints])*0.0 - 3.0\n",
    "mu = builder.reduced_standard_potentials[..., None] + logc\n",
    "logcmu = jnp.vstack([logc, mu])"
   ]
  },
  {
   "cell_type": "code",
   "execution_count": 6,
   "id": "0de1ae95",
   "metadata": {},
   "outputs": [],
   "source": [
    "constraints = {'type':'eq',\n",
    "               'fun':jax.jit(builder.flattened_equality_constraint),\n",
    "               'jac':jax.jit(jax.jacfwd(builder.flattened_equality_constraint))}\n",
    "equality_constraint = scipy.optimize.NonlinearConstraint(\n",
    "    jax.jit(builder.flattened_equality_constraint),\n",
    "    lb=0.0,\n",
    "    ub=0.0,\n",
    "    jac = jax.jit(jax.jacfwd(builder.flattened_equality_constraint)))\n"
   ]
  },
  {
   "cell_type": "code",
   "execution_count": 206,
   "id": "397d76e3",
   "metadata": {},
   "outputs": [],
   "source": [
    "sol = scipy.optimize.minimize(jax.jit(builder.flattened_minimization_objective),\n",
    "                              logcmu.flatten(),\n",
    "                              jac = jax.jit(jax.grad(builder.flattened_minimization_objective)),\n",
    "                              constraints=equality_constraint,\n",
    "                              method='trust-constr')"
   ]
  },
  {
   "cell_type": "code",
   "execution_count": 207,
   "id": "4dc78a5e",
   "metadata": {},
   "outputs": [
    {
     "data": {
      "text/plain": [
       "False"
      ]
     },
     "execution_count": 207,
     "metadata": {},
     "output_type": "execute_result"
    }
   ],
   "source": [
    "sol.success"
   ]
  },
  {
   "cell_type": "code",
   "execution_count": 208,
   "id": "9731a92b",
   "metadata": {},
   "outputs": [],
   "source": [
    "logcmu = sol.x.reshape(builder.nspecies*2, builder.npoints)\n",
    "logc, mu = logcmu[:builder.nspecies, :], logcmu[builder.nspecies:, :]\n",
    "c = np.exp(logc)"
   ]
  },
  {
   "cell_type": "code",
   "execution_count": 209,
   "id": "3fcf1448",
   "metadata": {},
   "outputs": [
    {
     "data": {
      "text/plain": [
       "DeviceArray([[ 1.41915848e-08,  4.56213911e-08,  1.19898687e-08,\n",
       "               4.13037924e-08,  3.45353328e-08, -2.20157744e-07,\n",
       "               1.78763003e-07, -2.94719939e-07,  1.65211532e-07,\n",
       "               1.94453605e-07,  4.88871592e-08,  3.88790795e-08,\n",
       "              -2.50041921e-07,  1.17644959e-07, -3.97885742e-08,\n",
       "              -8.80390871e-10,  3.50992195e-08,  2.91925971e-07,\n",
       "              -2.24950782e-07,  2.06709956e-08, -4.78401489e-07,\n",
       "               8.47776391e-07, -6.15320459e-07,  8.54670361e-07,\n",
       "              -1.57456088e-06,  7.88786565e-07,  6.93180482e-08,\n",
       "               6.82777682e-07, -7.98105248e-07,  3.84930900e-07,\n",
       "              -5.07441655e-07,  1.35756636e-07,  2.32296043e-06,\n",
       "              -4.78516176e-06,  3.03865818e-06, -5.56778105e-07,\n",
       "               1.52862776e-06, -7.09745655e-06,  1.02025606e-05,\n",
       "              -3.04167770e-06, -3.95355210e-06,  5.66261497e-06,\n",
       "              -2.35026664e-06, -5.57642443e-06,  5.16140335e-06,\n",
       "              -4.03914328e-07, -9.41065991e-07,  6.76699528e-07,\n",
       "               4.34829508e-06, -4.33143487e-06,  5.43567012e-07,\n",
       "              -6.79995537e-07,  1.67426356e-06, -1.93756091e-06,\n",
       "              -2.16390163e-07,  9.30429451e-07,  7.69807116e-07,\n",
       "               1.08777203e-06, -3.11804661e-06, -1.34649667e-07,\n",
       "              -2.64264622e-06,  1.18279593e-06,  4.19913204e-06,\n",
       "               3.71096576e-06,  1.12109296e-06, -1.18042999e-06,\n",
       "              -5.14550311e-06, -3.94990911e-06,  1.23360678e-06,\n",
       "              -2.92166533e-07, -3.63990978e-07,  4.73315254e-07,\n",
       "               2.87769217e-06, -3.95736606e-07,  1.46456341e-06,\n",
       "               1.50720280e-06,  2.13609360e-06,  1.11463260e-06,\n",
       "              -8.00541329e-07, -2.85294209e-06, -1.45950048e-06,\n",
       "              -2.59015133e-06, -2.04098319e-06,  1.68588940e-06,\n",
       "               1.79555548e-06,  1.93366668e-06,  1.67157111e-06,\n",
       "              -4.86244789e-06, -6.81163192e-06, -1.59623733e-06,\n",
       "               1.00785746e-05, -2.57932311e-06,  7.11560779e-06,\n",
       "              -5.93789082e-06, -1.23281934e-05, -8.71023167e-06,\n",
       "              -1.66434183e-05, -8.87404167e-06,  3.49152742e-06],\n",
       "             [-8.97377220e-07,  1.60454351e-06, -3.33719186e-07,\n",
       "              -3.16254386e-07,  1.74022261e-07,  8.51330242e-08,\n",
       "              -2.96689450e-07, -4.38899633e-07,  6.63855872e-07,\n",
       "              -8.28376869e-08,  7.13893087e-08, -1.50841288e-07,\n",
       "               4.38140688e-08,  3.32423156e-07, -6.88932744e-07,\n",
       "              -4.59028570e-07,  1.31891579e-06, -4.13688269e-07,\n",
       "              -2.84894895e-07, -3.37878419e-07,  1.22854306e-06,\n",
       "              -7.66737799e-07, -5.43022395e-07,  8.66523919e-07,\n",
       "               1.48074150e-07, -1.60632351e-06,  2.37396966e-06,\n",
       "              -1.75312573e-06,  1.12022576e-06, -1.46020932e-06,\n",
       "               8.79219328e-07, -3.64357362e-07,  2.41953876e-06,\n",
       "              -3.56690316e-06,  8.23189396e-07,  2.49915502e-06,\n",
       "              -2.78942093e-06, -1.25343070e-06,  2.93226026e-06,\n",
       "               2.24822685e-07,  1.53376095e-06, -3.89974548e-06,\n",
       "               3.72408385e-06, -2.43336535e-06, -5.70366524e-07,\n",
       "              -7.13399345e-07, -2.35752918e-06,  6.23426922e-06,\n",
       "              -2.51116035e-07, -2.16868830e-06,  1.31960996e-06,\n",
       "              -3.19720903e-06,  1.05865774e-06,  1.83000145e-06,\n",
       "               2.54766576e-07, -1.33855463e-06, -8.53751942e-07,\n",
       "               1.11344423e-06, -1.35910898e-06, -3.06519127e-07,\n",
       "               2.02576999e-07,  2.01297257e-06, -7.49523537e-08,\n",
       "              -1.56893157e-06, -2.20402126e-06,  7.21546712e-07,\n",
       "               1.95769508e-06,  2.79605183e-06,  1.76906542e-06,\n",
       "               7.40101527e-08, -1.51071379e-06, -1.73478020e-06,\n",
       "              -1.43388138e-06, -3.82518323e-07, -2.46103184e-07,\n",
       "              -6.01639329e-07,  8.95817607e-07, -1.14892600e-07,\n",
       "               1.38056350e-06, -2.07141966e-08,  9.84191161e-07,\n",
       "              -1.01434807e-06, -3.53041787e-06, -2.11125212e-06,\n",
       "              -8.14119858e-07,  2.83936220e-06,  4.28205158e-06,\n",
       "               5.91405296e-06,  2.64001574e-06, -1.31475963e-06,\n",
       "              -2.07509174e-06, -2.40022700e-06, -5.08586254e-07,\n",
       "               1.43257375e-06,  1.75635580e-06,  2.60381989e-06,\n",
       "              -2.13558178e-06, -8.12982489e-06, -3.21805464e-06],\n",
       "             [-5.47655509e-06, -6.43751700e-05, -6.71371818e-05,\n",
       "              -3.42859421e-05,  1.30338594e-05, -2.13425956e-05,\n",
       "              -2.07402336e-05, -7.43066048e-05, -2.35310144e-04,\n",
       "              -3.52593197e-04, -3.52417235e-04, -3.18337959e-04,\n",
       "              -3.19661864e-04, -2.98792118e-04, -2.07418023e-04,\n",
       "              -9.73227870e-05, -7.25654390e-05, -4.07319094e-05,\n",
       "              -1.04412626e-04, -7.75532535e-05, -3.72566938e-05,\n",
       "              -1.41815053e-05, -7.93848085e-06, -4.01737634e-06,\n",
       "              -2.20562360e-05, -1.66505197e-06, -7.09367669e-06,\n",
       "              -5.90595846e-06, -1.53687215e-05, -9.40320388e-06,\n",
       "              -1.05428644e-05,  3.74187766e-06, -5.17115404e-06,\n",
       "              -1.12624284e-05,  6.34557182e-07, -2.24915311e-06,\n",
       "               1.35391019e-07, -1.26245068e-05,  7.44801218e-06,\n",
       "              -5.12442057e-06, -1.60724085e-05, -1.49292646e-07,\n",
       "              -1.77332549e-06, -5.27624798e-06,  2.11158476e-06,\n",
       "               2.17696652e-08, -1.93902633e-06,  5.47639502e-06,\n",
       "              -4.03617742e-06, -1.18287862e-05, -3.19088576e-06,\n",
       "              -1.32989953e-07,  1.15405419e-06,  2.43473914e-06,\n",
       "               2.80735549e-07, -2.30086152e-06,  1.32681453e-06,\n",
       "              -5.64468792e-07, -3.30511830e-06, -1.47101819e-05,\n",
       "              -3.78812911e-06,  5.60216722e-06,  3.51059134e-06,\n",
       "               1.51884160e-06,  1.30134868e-06, -1.08795939e-06,\n",
       "              -2.47024582e-06, -1.82999065e-06,  1.77466427e-06,\n",
       "               6.78526703e-07, -1.90462742e-06, -6.45872205e-07,\n",
       "               2.37487257e-08, -5.63450158e-07, -6.66826963e-07,\n",
       "               2.79024243e-06,  1.42864883e-06,  1.93156302e-06,\n",
       "              -2.14390457e-06, -1.35600567e-06, -1.50222331e-06,\n",
       "              -7.44592398e-07, -2.43121758e-06,  2.37446511e-06,\n",
       "              -4.22587618e-08,  1.99768692e-06,  7.31553882e-07,\n",
       "              -4.52564564e-06, -7.62083801e-06, -1.95557368e-06,\n",
       "               4.81354073e-06, -1.12666748e-06,  6.19777711e-06,\n",
       "               2.22641393e-06,  4.65380435e-06,  7.50922482e-06,\n",
       "               1.29439286e-07, -8.66367918e-06,  6.57131022e-06],\n",
       "             [-1.42092188e-06,  1.30026899e-06, -7.46217665e-09,\n",
       "              -2.54116230e-08, -3.63239906e-07, -1.41615146e-07,\n",
       "               9.48886736e-07, -1.66635255e-06,  5.23957169e-07,\n",
       "               6.65148036e-07, -4.93103926e-07,  4.20263859e-07,\n",
       "              -2.66861889e-07,  5.47326181e-07, -3.18221623e-07,\n",
       "              -8.90789352e-07,  1.84468399e-06, -1.20565824e-06,\n",
       "              -1.32981540e-07,  8.92727030e-07, -8.49942580e-07,\n",
       "              -1.29430362e-07,  1.52870825e-07,  1.34744198e-07,\n",
       "               1.19369611e-06, -1.58272144e-06,  3.52411689e-07,\n",
       "              -2.51326696e-07,  1.92449079e-08,  1.16238493e-06,\n",
       "              -9.88895977e-07, -1.09669725e-06,  1.85194153e-06,\n",
       "              -1.33099161e-06,  6.07589982e-07,  2.74114086e-06,\n",
       "              -3.91916410e-06,  1.73459773e-06, -1.21414826e-06,\n",
       "               3.34479205e-06, -3.97954364e-06,  2.28317685e-06,\n",
       "              -1.78883181e-06,  1.53646602e-06, -1.28263287e-06,\n",
       "               7.66086714e-08, -5.52430947e-07, -2.80030008e-07,\n",
       "               2.66700090e-06, -7.14949181e-07, -7.32654257e-07,\n",
       "               7.60922660e-07, -8.93758170e-08, -1.24228666e-06,\n",
       "              -1.82471439e-07,  1.99528836e-06, -2.78331981e-07,\n",
       "              -2.08690699e-06,  1.10329245e-06,  1.02417107e-06,\n",
       "               5.07708592e-07, -2.51879760e-06, -7.51410141e-07,\n",
       "               2.27115584e-06,  1.08520737e-06, -2.44206285e-06,\n",
       "              -1.04180515e-06,  1.39217218e-06, -3.39438202e-08,\n",
       "              -6.72773695e-08,  9.69390157e-07, -2.65461608e-07,\n",
       "               1.46596074e-06,  6.95837343e-07, -8.35081664e-07,\n",
       "              -1.55296675e-07, -1.12551197e-06, -1.16630645e-06,\n",
       "              -5.11564394e-07, -6.48617061e-07,  1.06042148e-06,\n",
       "              -7.15807573e-07,  5.73780767e-07,  2.82164615e-06,\n",
       "               2.02899514e-06,  1.20169943e-06,  4.41747488e-07,\n",
       "               1.43947830e-07, -9.34211698e-07, -1.60018567e-06,\n",
       "              -1.63308562e-06, -3.31052729e-06, -3.53389783e-06,\n",
       "              -2.16636795e-06, -3.21635775e-06, -6.94353957e-06,\n",
       "              -4.82595806e-06, -6.12430040e-06, -6.20058358e-07],\n",
       "             [-4.72787769e-06,  8.94329205e-05,  9.47603694e-05,\n",
       "               5.59391810e-05, -1.47983847e-05,  1.75715868e-05,\n",
       "               2.79545729e-05,  8.22235015e-05,  2.46966403e-04,\n",
       "               3.61085666e-04,  3.45756795e-04,  2.98273109e-04,\n",
       "               2.91630393e-04,  2.61166133e-04,  1.83850250e-04,\n",
       "               7.96458917e-05,  5.66239360e-05,  3.49735856e-05,\n",
       "               8.21571011e-05,  5.57437561e-05,  3.15670732e-05,\n",
       "               1.09828025e-05,  3.43046531e-06,  4.59233070e-06,\n",
       "               1.16318852e-05,  4.08440292e-06,  7.12662859e-06,\n",
       "               3.23907989e-06,  9.27559904e-06,  1.56210342e-06,\n",
       "               1.34777683e-05, -5.27246902e-06,  5.62545392e-06,\n",
       "               2.88637375e-06,  1.11548093e-06, -1.15701368e-06,\n",
       "               9.43283567e-07,  3.48550975e-06,  3.40329120e-06,\n",
       "               7.29966541e-06,  3.08552626e-06, -9.81604899e-07,\n",
       "               1.28459351e-06,  1.12073621e-06, -1.29323291e-06,\n",
       "               2.24762630e-07,  9.29577482e-07,  1.35621985e-06,\n",
       "               2.78377320e-06,  2.92008735e-06,  1.37548932e-06,\n",
       "               8.98638518e-07, -2.08336269e-06, -1.69240604e-06,\n",
       "              -1.98089026e-07, -1.64721530e-06,  1.44377714e-06,\n",
       "               2.09633890e-06,  2.01489820e-06,  1.49500795e-06,\n",
       "               2.46350078e-06,  2.33529749e-06,  2.44607963e-06,\n",
       "              -1.78915298e-06,  1.02093509e-07, -2.09384143e-06,\n",
       "              -1.24909593e-06, -7.89132628e-07, -5.76907041e-07,\n",
       "              -1.13449732e-06,  7.95517394e-07,  1.53357996e-06,\n",
       "              -4.47145112e-07,  1.36184883e-06,  1.36787889e-06,\n",
       "              -6.23991070e-07,  2.68395706e-06,  7.45649459e-07,\n",
       "               2.45344700e-06, -1.52666280e-06, -3.80196411e-07,\n",
       "              -2.76942546e-06, -5.75243712e-06, -5.08548874e-06,\n",
       "               9.04519538e-07,  1.17382274e-06,  6.19583216e-06,\n",
       "               5.46952106e-06,  5.53922291e-06, -7.18223419e-08,\n",
       "               1.13971291e-05, -2.42962187e-06,  4.45286014e-06,\n",
       "              -1.19945653e-05, -2.90367043e-05, -2.22362996e-05,\n",
       "              -3.08067974e-05, -2.13115709e-06, -7.80748087e-06]],            dtype=float32)"
      ]
     },
     "execution_count": 209,
     "metadata": {},
     "output_type": "execute_result"
    }
   ],
   "source": [
    "builder.transport_residual(logc, mu)"
   ]
  },
  {
   "cell_type": "code",
   "execution_count": 210,
   "id": "4e7e8d08",
   "metadata": {},
   "outputs": [
    {
     "data": {
      "text/plain": [
       "Text(0.5, 0, '$y^+$')"
      ]
     },
     "execution_count": 210,
     "metadata": {},
     "output_type": "execute_result"
    },
    {
     "data": {
      "image/png": "[encoded data removed]",
      "text/plain": [
       "<Figure size 432x288 with 1 Axes>"
      ]
     },
     "metadata": {
      "needs_background": "light"
     },
     "output_type": "display_data"
    }
   ],
   "source": [
    "plt.figure()\n",
    "for i in range(builder.nspecies):\n",
    "    plt.plot(builder.ygrid, c[i, :], label=builder.species[i])\n",
    "plt.legend()\n",
    "plt.ylabel(r'$c$[molal]')\n",
    "plt.xlabel(r'$y^+$')"
   ]
  },
  {
   "cell_type": "code",
   "execution_count": 211,
   "id": "66c17ff1",
   "metadata": {},
   "outputs": [
    {
     "data": {
      "text/plain": [
       "Text(0.5, 0, '$y^+$')"
      ]
     },
     "execution_count": 211,
     "metadata": {},
     "output_type": "execute_result"
    },
    {
     "data": {
      "image/png": "[encoded data removed]",
      "text/plain": [
       "<Figure size 432x288 with 1 Axes>"
      ]
     },
     "metadata": {
      "needs_background": "light"
     },
     "output_type": "display_data"
    }
   ],
   "source": [
    "plt.figure()\n",
    "for i in range(builder.nspecies):\n",
    "    plt.plot(builder.ygrid, c[i, :], 'o', label=builder.species[i])\n",
    "plt.legend()\n",
    "plt.ylabel(r'$c$[molal]')\n",
    "plt.xlabel(r'$y^+$')"
   ]
  },
  {
   "cell_type": "code",
   "execution_count": 220,
   "id": "1e495f8a",
   "metadata": {},
   "outputs": [
    {
     "data": {
      "text/plain": [
       "array([0.08639015, 0.08715439, 0.08804887, 0.08884128, 0.0895087 ,\n",
       "       0.09009886, 0.09121563, 0.09234368, 0.09340308, 0.09436609,\n",
       "       0.09521662, 0.09594853, 0.09657063, 0.09709742, 0.09753837,\n",
       "       0.09790668, 0.09821472, 0.09847457, 0.09869624, 0.09888273,\n",
       "       0.09903988, 0.09917407, 0.0992875 , 0.09938495, 0.09946748,\n",
       "       0.09953956, 0.09960195, 0.09965417, 0.09969922, 0.09973775,\n",
       "       0.09977079, 0.09979967, 0.0998243 , 0.09984522, 0.09986394,\n",
       "       0.09987944, 0.09989327, 0.09990622, 0.09991631, 0.09992582,\n",
       "       0.09993372, 0.09994158, 0.09994769, 0.09995352, 0.09995824,\n",
       "       0.09996259, 0.09996612, 0.09996925, 0.09997197, 0.09997425,\n",
       "       0.09997678, 0.09997902, 0.099981  , 0.09998294, 0.09998459,\n",
       "       0.09998585, 0.099987  , 0.09998815, 0.09998924, 0.09999006,\n",
       "       0.09999094, 0.09999183, 0.09999268, 0.09999327, 0.09999371,\n",
       "       0.09999427, 0.09999488, 0.09999516, 0.09999546, 0.09999578,\n",
       "       0.09999609, 0.09999635, 0.0999966 , 0.09999692, 0.09999716,\n",
       "       0.09999758, 0.09999774, 0.09999812, 0.09999813, 0.0999984 ,\n",
       "       0.09999837, 0.09999851, 0.09999851, 0.09999858, 0.09999866,\n",
       "       0.0999988 , 0.09999902, 0.09999927, 0.09999949, 0.09999973,\n",
       "       0.09999992, 0.1000001 , 0.10000015, 0.10000017, 0.10000007,\n",
       "       0.09999992, 0.09999971, 0.09999933, 0.09999888, 0.09999826,\n",
       "       0.09999763])"
      ]
     },
     "execution_count": 220,
     "metadata": {},
     "output_type": "execute_result"
    }
   ],
   "source": [
    "c[3, :]"
   ]
  },
  {
   "cell_type": "code",
   "execution_count": null,
   "id": "f271cb43",
   "metadata": {},
   "outputs": [],
   "source": []
  },
  {
   "cell_type": "code",
   "execution_count": null,
   "id": "1e7b3385",
   "metadata": {},
   "outputs": [],
   "source": []
  },
  {
   "cell_type": "code",
   "execution_count": null,
   "id": "ab2f0c89",
   "metadata": {},
   "outputs": [],
   "source": []
  }
 ],
 "metadata": {
  "kernelspec": {
   "display_name": "Python 3 (ipykernel)",
   "language": "python",
   "name": "python3"
  },
  "language_info": {
   "codemirror_mode": {
    "name": "ipython",
    "version": 3
   },
   "file_extension": ".py",
   "mimetype": "text/x-python",
   "name": "python",
   "nbconvert_exporter": "python",
   "pygments_lexer": "ipython3",
   "version": "3.9.7"
  }
 },
 "nbformat": 4,
 "nbformat_minor": 5
}
