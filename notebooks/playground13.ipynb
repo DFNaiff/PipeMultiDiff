{
 "cells": [
  {
   "cell_type": "code",
   "execution_count": 84,
   "id": "c0b3dbdd",
   "metadata": {},
   "outputs": [],
   "source": [
    "import sys\n",
    "sys.path.append(\"..\")\n",
    "import functools\n",
    "\n",
    "import numpy as np\n",
    "import torch\n",
    "import scipy.linalg\n",
    "import scipy.optimize\n",
    "import matplotlib.pyplot as plt\n",
    "from dict_minimize.torch_api import minimize\n",
    "import functorch\n",
    "\n",
    "import pyequion2"
   ]
  },
  {
   "cell_type": "code",
   "execution_count": 85,
   "id": "ffa825ce",
   "metadata": {},
   "outputs": [
    {
     "name": "stdout",
     "output_type": "stream",
     "text": [
      "The autoreload extension is already loaded. To reload it, use:\n",
      "  %reload_ext autoreload\n"
     ]
    }
   ],
   "source": [
    "%load_ext autoreload\n",
    "%autoreload 2\n",
    "%matplotlib inline"
   ]
  },
  {
   "cell_type": "code",
   "execution_count": 118,
   "id": "4baf044e",
   "metadata": {},
   "outputs": [
    {
     "data": {
      "text/plain": [
       "<function torch._VariableFunctionsClass.relu>"
      ]
     },
     "execution_count": 118,
     "metadata": {},
     "output_type": "execute_result"
    }
   ],
   "source": [
    "torch.relu"
   ]
  },
  {
   "cell_type": "code",
   "execution_count": 322,
   "id": "32551cd2",
   "metadata": {},
   "outputs": [
    {
     "data": {
      "text/plain": [
       "tensor([[1],\n",
       "        [0]])"
      ]
     },
     "execution_count": 322,
     "metadata": {},
     "output_type": "execute_result"
    }
   ],
   "source": [
    "torch.arange(2)[[1, 0], None]"
   ]
  },
  {
   "cell_type": "code",
   "execution_count": 566,
   "id": "3af83001",
   "metadata": {},
   "outputs": [],
   "source": [
    "class TransportBuilder(object):\n",
    "    def __init__(self, eqsys, TK, shear_velocity, kinematic_viscosity, cbulk, phases,\n",
    "                 kreaction=\"inf\"):\n",
    "        self.eqsys = eqsys\n",
    "        self.TK = TK\n",
    "        self.shear_velocity = shear_velocity\n",
    "        self.kinematic_viscosity = kinematic_viscosity\n",
    "        self.cbulk = cbulk\n",
    "        self.phases = phases\n",
    "        self.kreaction = kreaction\n",
    "        self.simplified = False\n",
    "        self.idealized = False\n",
    "        \n",
    "    def set_species(self, species_to_remove=[]):\n",
    "        self.basedict = {k: v\n",
    "                         for k, v in pyequion2.datamods.chemical_potentials.items()\n",
    "                         if k in self.eqsys.solutes\n",
    "                         and k not in species_to_remove}\n",
    "        self.species = [spec for spec in eqsys.species[1:] if spec not in species_to_remove]\n",
    "        self.species_ind = [eqsys.species.index(spec) for spec in self.species]\n",
    "        self.solid_ind = [eqsys.solid_phase_names.index(phase) for phase in self.phases]\n",
    "        self.reduced_formula_matrix = self.eqsys.formula_matrix[2:, self.species_ind]\n",
    "        self.reduced_stoich_matrix = self.eqsys.stoich_matrix[:, self.species_ind]\n",
    "        self.logk = eqsys.get_log_equilibrium_constants(self.TK)\n",
    "        self.reduced_reaction_vector = \\\n",
    "            eqsys.solid_stoich_matrix[self.solid_ind, :][:, self.species_ind]\n",
    "        self.nonconserved = torch.any(builder.reduced_formula_matrix@builder.reduced_reaction_vector.T != 0, dim=-1)\n",
    "        self.nonconserved_inds = [i for i, c in enumerate(self.nonconserved) if c]\n",
    "        self.conserved_inds = [i for i, c in enumerate(self.nonconserved) if not c]\n",
    "        self.closure_matrix = torch.tensor(\n",
    "            scipy.linalg.null_space(\n",
    "                (self.reduced_formula_matrix@(self.reduced_reaction_vector.T)).T\n",
    "            ).T\n",
    "        )\n",
    "        self.nspecies = len(self.species)\n",
    "        self.logk_solid = self.eqsys.get_solid_log_equilibrium_constants(self.TK)[self.solid_ind]\n",
    "        self.reduced_standard_potentials = self.eqsys.get_standard_chemical_potentials(self.TK)[self.species_ind]\n",
    "        self.reduced_standard_potentials /= (pyequion2.constants.GAS_CONSTANT*self.TK)    \n",
    "        self.reduce_activity_function()\n",
    "        self.reduced_diffusion_coefficients = pyequion2.equilibrium_backend.diffusion_coefficients.get_diffusion_coefficients(\n",
    "                                        self.species, self.TK)\n",
    "        self.reduced_diffusion_coefficients = torch.tensor(self.reduced_diffusion_coefficients, dtype=torch.float)/self.kinematic_viscosity\n",
    "        \n",
    "    def reduce_activity_function(self):\n",
    "        activity_model = eqsys.activity_model\n",
    "        self._actfunc = pyequion2.equilibrium_backend.ACTIVITY_MODEL_MAP[activity_model](\n",
    "                            self.species, backend=\"torch\")\n",
    "        \n",
    "    def activity_model_func(self, molals, TK):\n",
    "        if self.idealized:\n",
    "            return torch.zeros_like(molals)\n",
    "        else:\n",
    "            return self._actfunc(molals, TK)[..., 1:]/pyequion2.constants.LOG10E\n",
    "        \n",
    "    def make_grid(self, ngrid, ymax):\n",
    "        self.ngrid = ngrid\n",
    "        self.npoints = ngrid + 1\n",
    "        self.ymax = ymax\n",
    "        self.ypoints = torch.linspace(0, self.ymax, self.npoints)\n",
    "        self.ystep = self.ypoints[1] - self.ypoints[0]\n",
    "        self.ygrid = self.ypoints[:-1] + self.ystep/2\n",
    "        \n",
    "    def wall_diffusion_plus(self, yplus):\n",
    "        return 9.5*1e-4*yplus**3\n",
    "    \n",
    "    def wall_diffusion_plus_deriv(self, yplus):\n",
    "        return 3*9.5*1e-4*yplus**2\n",
    "\n",
    "    def transport_residual(self, logc):\n",
    "        #logc : (nsolutes, ngrid)\n",
    "        #npoints = ngrid + 1\n",
    "        logg = self.activity_model_func(torch.exp(logc).T, self.TK).T #(nsolutes, ngrid)\n",
    "        c = torch.exp(logc) #(nsolutes, ngrid)\n",
    "        loga = logg + logc #(nsolutes, ngrid)\n",
    "        ypoints = self.ypoints #(npoints,)\n",
    "        ystep = self.ystep\n",
    "        mdiffs = self.reduced_diffusion_coefficients[..., None] #(nsolutes, 1)\n",
    "        mdiffs = torch.mean(mdiffs) + 0.0*mdiffs\n",
    "        tdiffs = self.wall_diffusion_plus(ypoints)[1:-1] #(ngrid-1,)\n",
    "        A = self.reduced_formula_matrix #(nels, nsolutes)\n",
    "        C = self.closure_matrix #(nnoncon-nreac, nsolutes)\n",
    "        R = self.reduced_reaction_vector #(nreac, nsolutes)\n",
    "        logKsp = self.logk_solid[..., None] #(nreac, 1)\n",
    "        cbulk = self.cbulk[:, None] #(nels, 1)\n",
    "        cinterp = (c[:, 1:] + c[:, :-1])*0.5 #(nsolutes, ngrid-1)\n",
    "        dmu = (loga[:, 1:] - loga[:, :-1])/ystep #(nsolutes, ngrid-1)\n",
    "        dc = (c[:, 1:] - c[:, :-1])/ystep #(nsolutes, ngrid-1)\n",
    "        if self.simplified:\n",
    "            jmiddle = -A@(mdiffs*dc + tdiffs*dc) #(nels, ngrid-1)\n",
    "        else:\n",
    "            jmiddle = -A@(mdiffs*cinterp*dmu + tdiffs*dc) #(nels, ngrid-1)\n",
    "        jleft = jmiddle[:, :1] #(nels, 1)\n",
    "        cright = c[:, -1:] #(nsolutes, 1)\n",
    "        logaleft = loga[:, :1] #(nsolutes, 1)\n",
    "        middle_residual = jmiddle[:, 1:] - jmiddle[:, :-1] #(nels, ngrid-2)\n",
    "        right_residual = A@cright - cbulk #(nsolutes, 1)\n",
    "        if self.kreaction == \"inf\":\n",
    "            upper_left_residual = R@logaleft - logKsp #(nreac, 1)\n",
    "            lower_left_residual = C@(jleft) #(nnoncon - nreac, 1)\n",
    "            left_residual = torch.cat([upper_left_residual, lower_left_residual], dim=0) #(nsolutes, 1)\n",
    "        else:\n",
    "            logsatur = R@logaleft - logKsp #(nreac, 1)\n",
    "            jsatur = -self.kreaction*torch.relu(torch.exp(logsatur) - 1) #(nreac, 1)\n",
    "            jend = A@(R.T)@jsatur #(nels, 1)\n",
    "            left_residual = jend - jleft #(nels, 1)\n",
    "        residual = torch.cat([left_residual, middle_residual, right_residual], dim=1) #(nsolutes, ngrid)\n",
    "        return residual\n",
    "    \n",
    "    def fluxes(self, logc):\n",
    "        #logc : (nsolutes, ngrid)\n",
    "        #npoints = ngrid + 1\n",
    "        logg = self.activity_model_func(torch.exp(logc).T, self.TK).T #(nsolutes, ngrid)\n",
    "        c = torch.exp(logc) #(nsolutes, ngrid)\n",
    "        loga = logg + logc #(nsolutes, ngrid)\n",
    "        ypoints = self.ypoints #(npoints,)\n",
    "        ystep = self.ystep\n",
    "        mdiffs = self.reduced_diffusion_coefficients[..., None] #(nsolutes, 1)\n",
    "        tdiffs = self.wall_diffusion_plus(ypoints)[1:-1] #(ngrid-1,)\n",
    "        mdiffs = torch.mean(mdiffs) + 0.0*mdiffs\n",
    "        A = self.reduced_formula_matrix #(nels, nsolutes)\n",
    "        C = self.closure_matrix #(nnoncon-nreac, nsolutes)\n",
    "        R = self.reduced_reaction_vector #(nreac, nsolutes)\n",
    "        logKsp = self.logk_solid[..., None] #(nreac, 1)\n",
    "        cbulk = self.cbulk[:, None] #(nels, 1)\n",
    "        cinterp = (c[:, 1:] + c[:, :-1])*0.5 #(nsolutes, ngrid-1)\n",
    "        dmu = (loga[:, 1:] - loga[:, :-1])/ystep #(nsolutes, ngrid-1)\n",
    "        dc = (c[:, 1:] - c[:, :-1])/ystep #(nsolutes, ngrid-1)\n",
    "        if self.simplified:\n",
    "            jmiddle = -A@(mdiffs*dc + tdiffs*dc) #(nels, ngrid-1)\n",
    "        else:\n",
    "            jmiddle = -A@(mdiffs*cinterp*dmu + tdiffs*dc) #(nels, ngrid-1)\n",
    "        return jmiddle    \n",
    "        \n",
    "    def potential_residual(self, logc, mu):\n",
    "        #logc : (nsolutes, ngrid)\n",
    "        #mu : (nsolutes, ngrid)\n",
    "        logg = self.activity_model_func(torch.exp(logc).T, self.TK).T\n",
    "        loga = logg + logc\n",
    "        mu0 = self.reduced_standard_potentials[..., None]\n",
    "        return mu - (mu0 + loga)\n",
    "    \n",
    "    def lma_residual(self, logc):\n",
    "        logg = self.activity_model_func(torch.exp(logc).T, self.TK).T\n",
    "        loga = logg + logc\n",
    "        res = self.reduced_stoich_matrix@loga - self.logk[..., None]\n",
    "        return res\n",
    "    \n",
    "    def full_residual(self, logcmu, lma=True, include_mu=False):\n",
    "        #logcmu : (2*nsolutes, ngrid)\n",
    "        if include_mu:\n",
    "            n = logcmu.shape[0]\n",
    "            logc = logcmu[:n//2, :]\n",
    "            mu = logcmu[n//2:, :]\n",
    "        else:\n",
    "            logc = logcmu\n",
    "        res1 = self.transport_residual(logc) #(nels, ngrid)\n",
    "        if include_mu:\n",
    "            res3 = self.potential_residual(logc, mu) #(nsolutes, ngrid)\n",
    "        if lma:\n",
    "            res2 = self.lma_residual(logc)\n",
    "        if include_mu and lma:\n",
    "            res = torch.cat([res1, res2, res3], dim=0)\n",
    "        elif not include_mu and lma:\n",
    "            res = torch.cat([res1, res2], dim=0)\n",
    "        else:\n",
    "            res = torch.cat([res1, res3], dim=0) #(nels + nreac, ngrid)\n",
    "        return res\n",
    "\n",
    "    def gibbs_free_energy(self, logcmu):\n",
    "        n = logcmu.shape[0]\n",
    "        logc = logcmu[:n//2, :]\n",
    "        mu = logcmu[n//2:, :]\n",
    "        c = torch.exp(logc)\n",
    "        return torch.mean(torch.sum(c*mu, dim=0))    \n",
    "    \n",
    "    def wall_length(self):\n",
    "        return self.kinematic_viscosity/self.shear_velocity\n",
    "    \n",
    "    def wall_time(self):\n",
    "        return self.kinematic_viscosity/(self.shear_velocity**2)\n",
    "\n",
    "    def get_log_equilibrium_constants(self, TK):\n",
    "        return self.eqsys.get_log_equilibrium_constants(TK)"
   ]
  },
  {
   "cell_type": "code",
   "execution_count": 567,
   "id": "5bf99c7b",
   "metadata": {},
   "outputs": [
    {
     "data": {
      "text/plain": [
       "tensor([ True,  True, False])"
      ]
     },
     "execution_count": 567,
     "metadata": {},
     "output_type": "execute_result"
    }
   ],
   "source": [
    "torch.any(builder.reduced_formula_matrix@builder.reduced_reaction_vector.T != 0, dim=-1)"
   ]
  },
  {
   "cell_type": "code",
   "execution_count": 568,
   "id": "b7442e2d",
   "metadata": {},
   "outputs": [],
   "source": [
    "eqsys = pyequion2.EquilibriumBackend([\"Na\", \"Cl\"], from_elements=True, backend=\"torch\", logbase=\"e\",\n",
    "                                     activity_model=\"IDEAL\")"
   ]
  },
  {
   "cell_type": "code",
   "execution_count": 569,
   "id": "c6d16dc6",
   "metadata": {},
   "outputs": [],
   "source": [
    "builder = TransportBuilder(eqsys, 298.15, 0.1, 1e-6,\n",
    "                           torch.tensor([1.0, 1.0, 0.0]), [\"Halite\"],\n",
    "                           kreaction=\"inf\")\n",
    "builder.make_grid(10, 5)\n",
    "builder.set_species()\n",
    "builder.simplified = True"
   ]
  },
  {
   "cell_type": "code",
   "execution_count": 570,
   "id": "1a9b821e",
   "metadata": {},
   "outputs": [],
   "source": [
    "logc = torch.ones([builder.nspecies, builder.ngrid])*0.0 - 0.0\n",
    "mu = builder.reduced_standard_potentials[..., None] + logc\n",
    "logcmu = torch.cat([logc, mu], axis=0).requires_grad_()"
   ]
  },
  {
   "cell_type": "code",
   "execution_count": 572,
   "id": "117196e2",
   "metadata": {},
   "outputs": [
    {
     "name": "stdout",
     "output_type": "stream",
     "text": [
      "torch.Size([5, 1])\n",
      "torch.Size([5, 9])\n",
      "torch.Size([9])\n",
      "torch.Size([3, 5])\n"
     ]
    },
    {
     "data": {
      "text/plain": [
       "tensor([[-3.6151,  0.0000,  0.0000,  0.0000,  0.0000,  0.0000,  0.0000,  0.0000,\n",
       "          0.0000,  1.0000],\n",
       "        [ 0.0000,  0.0000,  0.0000,  0.0000,  0.0000,  0.0000,  0.0000,  0.0000,\n",
       "          0.0000,  0.0000],\n",
       "        [ 0.0000,  0.0000,  0.0000,  0.0000,  0.0000,  0.0000,  0.0000,  0.0000,\n",
       "          0.0000,  0.0000],\n",
       "        [32.6507, 32.6507, 32.6507, 32.6507, 32.6507, 32.6507, 32.6507, 32.6507,\n",
       "         32.6507, 32.6507],\n",
       "        [32.2241, 32.2241, 32.2241, 32.2241, 32.2241, 32.2241, 32.2241, 32.2241,\n",
       "         32.2241, 32.2241]])"
      ]
     },
     "execution_count": 572,
     "metadata": {},
     "output_type": "execute_result"
    }
   ],
   "source": [
    "builder.full_residual(logc)"
   ]
  },
  {
   "cell_type": "code",
   "execution_count": 573,
   "id": "396f0505",
   "metadata": {},
   "outputs": [],
   "source": [
    "builder.idealized = True\n",
    "\n",
    "def flat_residual(x):\n",
    "    logcmu = x.reshape([builder.nspecies, builder.ngrid])\n",
    "    res = builder.full_residual(logcmu, lma=True, include_mu=False)\n",
    "    return res.flatten()\n",
    "\n",
    "def torch_wrap(f):\n",
    "    def g(x):\n",
    "        x = torch.tensor(x, dtype=torch.float)\n",
    "        res = f(x).detach().numpy()\n",
    "        return res\n",
    "    return g\n",
    "f = torch_wrap(flat_residual)\n",
    "jac = torch_wrap(functorch.jacrev(flat_residual))"
   ]
  },
  {
   "cell_type": "code",
   "execution_count": 574,
   "id": "312c5d54",
   "metadata": {},
   "outputs": [
    {
     "name": "stdout",
     "output_type": "stream",
     "text": [
      "torch.Size([5, 1])\n",
      "torch.Size([5, 9])\n",
      "torch.Size([9])\n",
      "torch.Size([3, 5])\n",
      "torch.Size([5, 1])\n",
      "torch.Size([5, 9])\n",
      "torch.Size([9])\n",
      "torch.Size([3, 5])\n",
      "torch.Size([5, 1])\n",
      "torch.Size([5, 9])\n",
      "torch.Size([9])\n",
      "torch.Size([3, 5])\n",
      "torch.Size([5, 1])\n",
      "torch.Size([5, 9])\n",
      "torch.Size([9])\n",
      "torch.Size([3, 5])\n",
      "torch.Size([5, 1])\n",
      "torch.Size([5, 9])\n",
      "torch.Size([9])\n",
      "torch.Size([3, 5])\n",
      "torch.Size([5, 1])\n",
      "torch.Size([5, 9])\n",
      "torch.Size([9])\n",
      "torch.Size([3, 5])\n",
      "torch.Size([5, 1])\n",
      "torch.Size([5, 9])\n",
      "torch.Size([9])\n",
      "torch.Size([3, 5])\n",
      "torch.Size([5, 1])\n",
      "torch.Size([5, 9])\n",
      "torch.Size([9])\n",
      "torch.Size([3, 5])\n",
      "torch.Size([5, 1])\n",
      "torch.Size([5, 9])\n",
      "torch.Size([9])\n",
      "torch.Size([3, 5])\n",
      "torch.Size([5, 1])\n",
      "torch.Size([5, 9])\n",
      "torch.Size([9])\n",
      "torch.Size([3, 5])\n",
      "torch.Size([5, 1])\n",
      "torch.Size([5, 9])\n",
      "torch.Size([9])\n",
      "torch.Size([3, 5])\n",
      "torch.Size([5, 1])\n",
      "torch.Size([5, 9])\n",
      "torch.Size([9])\n",
      "torch.Size([3, 5])\n",
      "torch.Size([5, 1])\n",
      "torch.Size([5, 9])\n",
      "torch.Size([9])\n",
      "torch.Size([3, 5])\n",
      "torch.Size([5, 1])\n",
      "torch.Size([5, 9])\n",
      "torch.Size([9])\n",
      "torch.Size([3, 5])\n",
      "torch.Size([5, 1])\n",
      "torch.Size([5, 9])\n",
      "torch.Size([9])\n",
      "torch.Size([3, 5])\n",
      "torch.Size([5, 1])\n",
      "torch.Size([5, 9])\n",
      "torch.Size([9])\n",
      "torch.Size([3, 5])\n",
      "torch.Size([5, 1])\n",
      "torch.Size([5, 9])\n",
      "torch.Size([9])\n",
      "torch.Size([3, 5])\n",
      "torch.Size([5, 1])\n",
      "torch.Size([5, 9])\n",
      "torch.Size([9])\n",
      "torch.Size([3, 5])\n",
      "torch.Size([5, 1])\n",
      "torch.Size([5, 9])\n",
      "torch.Size([9])\n",
      "torch.Size([3, 5])\n",
      "torch.Size([5, 1])\n",
      "torch.Size([5, 9])\n",
      "torch.Size([9])\n",
      "torch.Size([3, 5])\n",
      "torch.Size([5, 1])\n",
      "torch.Size([5, 9])\n",
      "torch.Size([9])\n",
      "torch.Size([3, 5])\n",
      "torch.Size([5, 1])\n",
      "torch.Size([5, 9])\n",
      "torch.Size([9])\n",
      "torch.Size([3, 5])\n",
      "torch.Size([5, 1])\n",
      "torch.Size([5, 9])\n",
      "torch.Size([9])\n",
      "torch.Size([3, 5])\n",
      "torch.Size([5, 1])\n",
      "torch.Size([5, 9])\n",
      "torch.Size([9])\n",
      "torch.Size([3, 5])\n",
      "torch.Size([5, 1])\n",
      "torch.Size([5, 9])\n",
      "torch.Size([9])\n",
      "torch.Size([3, 5])\n",
      "torch.Size([5, 1])\n",
      "torch.Size([5, 9])\n",
      "torch.Size([9])\n",
      "torch.Size([3, 5])\n",
      "torch.Size([5, 1])\n",
      "torch.Size([5, 9])\n",
      "torch.Size([9])\n",
      "torch.Size([3, 5])\n",
      "torch.Size([5, 1])\n",
      "torch.Size([5, 9])\n",
      "torch.Size([9])\n",
      "torch.Size([3, 5])\n",
      "torch.Size([5, 1])\n",
      "torch.Size([5, 9])\n",
      "torch.Size([9])\n",
      "torch.Size([3, 5])\n",
      "torch.Size([5, 1])\n",
      "torch.Size([5, 9])\n",
      "torch.Size([9])\n",
      "torch.Size([3, 5])\n",
      "torch.Size([5, 1])\n",
      "torch.Size([5, 9])\n",
      "torch.Size([9])\n",
      "torch.Size([3, 5])\n",
      "torch.Size([5, 1])\n",
      "torch.Size([5, 9])\n",
      "torch.Size([9])\n",
      "torch.Size([3, 5])\n",
      "torch.Size([5, 1])\n",
      "torch.Size([5, 9])\n",
      "torch.Size([9])\n",
      "torch.Size([3, 5])\n",
      "torch.Size([5, 1])\n",
      "torch.Size([5, 9])\n",
      "torch.Size([9])\n",
      "torch.Size([3, 5])\n",
      "torch.Size([5, 1])\n",
      "torch.Size([5, 9])\n",
      "torch.Size([9])\n",
      "torch.Size([3, 5])\n",
      "torch.Size([5, 1])\n",
      "torch.Size([5, 9])\n",
      "torch.Size([9])\n",
      "torch.Size([3, 5])\n",
      "torch.Size([5, 1])\n",
      "torch.Size([5, 9])\n",
      "torch.Size([9])\n",
      "torch.Size([3, 5])\n",
      "torch.Size([5, 1])\n",
      "torch.Size([5, 9])\n",
      "torch.Size([9])\n",
      "torch.Size([3, 5])\n",
      "torch.Size([5, 1])\n",
      "torch.Size([5, 9])\n",
      "torch.Size([9])\n",
      "torch.Size([3, 5])\n",
      "torch.Size([5, 1])\n",
      "torch.Size([5, 9])\n",
      "torch.Size([9])\n",
      "torch.Size([3, 5])\n",
      "torch.Size([5, 1])\n",
      "torch.Size([5, 9])\n",
      "torch.Size([9])\n",
      "torch.Size([3, 5])\n",
      "torch.Size([5, 1])\n",
      "torch.Size([5, 9])\n",
      "torch.Size([9])\n",
      "torch.Size([3, 5])\n",
      "torch.Size([5, 1])\n",
      "torch.Size([5, 9])\n",
      "torch.Size([9])\n",
      "torch.Size([3, 5])\n",
      "torch.Size([5, 1])\n",
      "torch.Size([5, 9])\n",
      "torch.Size([9])\n",
      "torch.Size([3, 5])\n",
      "torch.Size([5, 1])\n",
      "torch.Size([5, 9])\n",
      "torch.Size([9])\n",
      "torch.Size([3, 5])\n",
      "torch.Size([5, 1])\n",
      "torch.Size([5, 9])\n",
      "torch.Size([9])\n",
      "torch.Size([3, 5])\n",
      "torch.Size([5, 1])\n",
      "torch.Size([5, 9])\n",
      "torch.Size([9])\n",
      "torch.Size([3, 5])\n",
      "torch.Size([5, 1])\n",
      "torch.Size([5, 9])\n",
      "torch.Size([9])\n",
      "torch.Size([3, 5])\n",
      "torch.Size([5, 1])\n",
      "torch.Size([5, 9])\n",
      "torch.Size([9])\n",
      "torch.Size([3, 5])\n",
      "torch.Size([5, 1])\n",
      "torch.Size([5, 9])\n",
      "torch.Size([9])\n",
      "torch.Size([3, 5])\n",
      "torch.Size([5, 1])\n",
      "torch.Size([5, 9])\n",
      "torch.Size([9])\n",
      "torch.Size([3, 5])\n",
      "torch.Size([5, 1])\n",
      "torch.Size([5, 9])\n",
      "torch.Size([9])\n",
      "torch.Size([3, 5])\n",
      "torch.Size([5, 1])\n",
      "torch.Size([5, 9])\n",
      "torch.Size([9])\n",
      "torch.Size([3, 5])\n",
      "torch.Size([5, 1])\n",
      "torch.Size([5, 9])\n",
      "torch.Size([9])\n",
      "torch.Size([3, 5])\n",
      "torch.Size([5, 1])\n",
      "torch.Size([5, 9])\n",
      "torch.Size([9])\n",
      "torch.Size([3, 5])\n",
      "torch.Size([5, 1])\n",
      "torch.Size([5, 9])\n",
      "torch.Size([9])\n",
      "torch.Size([3, 5])\n"
     ]
    }
   ],
   "source": [
    "x0 = logc.flatten().detach().numpy()\n",
    "solsimple = scipy.optimize.root(f, x0, jac=jac, method=\"lm\")"
   ]
  },
  {
   "cell_type": "code",
   "execution_count": 575,
   "id": "46683ca7",
   "metadata": {},
   "outputs": [],
   "source": [
    "# builder.idealized = False\n",
    "\n",
    "# def flat_residual(x):\n",
    "#     logcmu = x.reshape([builder.nspecies, builder.ngrid])\n",
    "#     res = builder.full_residual(logcmu, lma=True, include_mu=False)\n",
    "#     return res.flatten()\n",
    "\n",
    "# def torch_wrap(f):\n",
    "#     def g(x):\n",
    "#         x = torch.tensor(x, dtype=torch.float)\n",
    "#         res = f(x).detach().numpy()\n",
    "#         return res\n",
    "#     return g\n",
    "# f = torch_wrap(flat_residual)\n",
    "# jac = torch_wrap(functorch.jacrev(flat_residual))\n",
    "\n",
    "# sol = scipy.optimize.root(f, solsimple.x, jac=jac, method=\"lm\")\n",
    "sol = solsimple"
   ]
  },
  {
   "cell_type": "code",
   "execution_count": 576,
   "id": "f8c8bc57",
   "metadata": {},
   "outputs": [],
   "source": [
    "logcmu = solsimple.x.reshape(builder.nspecies, builder.ngrid)\n",
    "logc = logcmu[:builder.nspecies, :]\n",
    "c = np.exp(logc)"
   ]
  },
  {
   "cell_type": "code",
   "execution_count": 577,
   "id": "db249a51",
   "metadata": {},
   "outputs": [
    {
     "data": {
      "text/plain": [
       "array([ 3.00414548e-07,  1.32273385e-07,  3.47281601e-07,  6.17682070e-07,\n",
       "        1.59952414e-07, -6.10225349e-09, -1.53114684e-08,  2.40036976e-09,\n",
       "        2.10131339e-08, -6.08569863e-08])"
      ]
     },
     "execution_count": 577,
     "metadata": {},
     "output_type": "execute_result"
    }
   ],
   "source": [
    "(builder.reduced_formula_matrix.numpy()@c)[-1, :]"
   ]
  },
  {
   "cell_type": "code",
   "execution_count": 578,
   "id": "ae1379c0",
   "metadata": {},
   "outputs": [
    {
     "data": {
      "text/plain": [
       "tensor([ 4.3594e-09, -3.0084e-09, -6.4508e-09,  1.2901e-08,  4.2561e-09,\n",
       "         1.0253e-09, -9.2490e-10, -1.1834e-08,  2.2604e-08])"
      ]
     },
     "execution_count": 578,
     "metadata": {},
     "output_type": "execute_result"
    }
   ],
   "source": [
    "builder.fluxes(torch.tensor(logc, dtype=torch.float))[-1, :]"
   ]
  },
  {
   "cell_type": "code",
   "execution_count": 579,
   "id": "1c23bb60",
   "metadata": {},
   "outputs": [
    {
     "name": "stdout",
     "output_type": "stream",
     "text": [
      "torch.Size([5, 1])\n",
      "torch.Size([5, 9])\n",
      "torch.Size([9])\n",
      "torch.Size([3, 5])\n"
     ]
    },
    {
     "data": {
      "text/plain": [
       "tensor([[ 0.0000e+00,  2.7940e-09,  4.6566e-09, -1.9558e-08,  3.7253e-09,\n",
       "          1.2107e-08,  1.8626e-09, -1.8626e-08,  1.6764e-08,  0.0000e+00],\n",
       "        [ 2.1868e-09, -6.5193e-09, -9.3132e-10,  1.4901e-08, -2.7940e-09,\n",
       "         -2.7940e-09,  9.3132e-10, -1.8626e-09, -8.3819e-09,  0.0000e+00],\n",
       "        [ 4.3594e-09, -7.3678e-09, -3.4424e-09,  1.9352e-08, -8.6447e-09,\n",
       "         -3.2308e-09, -1.9502e-09, -1.0909e-08,  3.4438e-08,  0.0000e+00],\n",
       "        [ 0.0000e+00,  0.0000e+00,  0.0000e+00,  0.0000e+00,  0.0000e+00,\n",
       "          0.0000e+00,  0.0000e+00,  0.0000e+00,  0.0000e+00,  0.0000e+00],\n",
       "        [ 0.0000e+00,  0.0000e+00,  0.0000e+00,  0.0000e+00,  0.0000e+00,\n",
       "          0.0000e+00,  0.0000e+00,  0.0000e+00,  0.0000e+00,  0.0000e+00]])"
      ]
     },
     "execution_count": 579,
     "metadata": {},
     "output_type": "execute_result"
    }
   ],
   "source": [
    "builder.full_residual(torch.tensor(logc, dtype=torch.float), lma=True, include_mu=False)"
   ]
  },
  {
   "cell_type": "code",
   "execution_count": 580,
   "id": "26cb0ffa",
   "metadata": {},
   "outputs": [
    {
     "data": {
      "text/plain": [
       "True"
      ]
     },
     "execution_count": 580,
     "metadata": {},
     "output_type": "execute_result"
    }
   ],
   "source": [
    "sol.success"
   ]
  },
  {
   "cell_type": "code",
   "execution_count": 581,
   "id": "d4ff4823",
   "metadata": {},
   "outputs": [
    {
     "data": {
      "text/plain": [
       "Text(0.5, 0, '$y^+$')"
      ]
     },
     "execution_count": 581,
     "metadata": {},
     "output_type": "execute_result"
    },
    {
     "data": {
      "image/png": "[encoded data removed]",
      "text/plain": [
       "<Figure size 432x288 with 1 Axes>"
      ]
     },
     "metadata": {
      "needs_background": "light"
     },
     "output_type": "display_data"
    }
   ],
   "source": [
    "plt.figure()\n",
    "for i in range(builder.nspecies):\n",
    "    plt.plot(builder.ygrid, c[i, :], label=builder.species[i])\n",
    "plt.legend()\n",
    "plt.ylabel(r'$c$[molal]')\n",
    "plt.xlabel(r'$y^+$')"
   ]
  },
  {
   "cell_type": "code",
   "execution_count": 519,
   "id": "65026a41",
   "metadata": {},
   "outputs": [
    {
     "data": {
      "text/plain": [
       "array([[ 6.79594396e+00,  4.31382878e+00,  2.73625485e+00,\n",
       "         1.94316502e+00,  1.54024852e+00,  1.31777541e+00,\n",
       "         1.18440565e+00,  1.09885518e+00,  1.04093808e+00,\n",
       "         9.99999997e-01],\n",
       "       [ 5.46701483e+00,  3.79312402e+00,  2.58599675e+00,\n",
       "         1.89890973e+00,  1.52527805e+00,  1.31203350e+00,\n",
       "         1.18203655e+00,  1.09788643e+00,  1.04061458e+00,\n",
       "         1.00000002e+00],\n",
       "       [ 1.32892888e+00,  5.20704584e-01,  1.50257975e-01,\n",
       "         4.42552066e-02,  1.49704134e-02,  5.74187217e-03,\n",
       "         2.36906272e-03,  9.68721858e-04,  3.23469802e-04,\n",
       "        -4.25810476e-08]])"
      ]
     },
     "execution_count": 519,
     "metadata": {},
     "output_type": "execute_result"
    }
   ],
   "source": [
    "builder.reduced_formula_matrix.numpy()@np.exp(logc)"
   ]
  },
  {
   "cell_type": "code",
   "execution_count": null,
   "id": "63a0e360",
   "metadata": {},
   "outputs": [],
   "source": [
    "plt.figure()\n",
    "for i in range(builder.nspecies):\n",
    "    plt.plot(builder.ygrid, c[i, :], label=builder.species[i])\n",
    "plt.legend()\n",
    "plt.ylabel(r'$c$[molal]')\n",
    "plt.xlabel(r'$y^+$')"
   ]
  },
  {
   "cell_type": "code",
   "execution_count": null,
   "id": "a064f2ae",
   "metadata": {},
   "outputs": [],
   "source": [
    "builder.full_residual(torch.tensor(logc, dtype=torch.float), lma=True, include_mu=False)"
   ]
  },
  {
   "cell_type": "code",
   "execution_count": null,
   "id": "284d8c3e",
   "metadata": {},
   "outputs": [],
   "source": []
  }
 ],
 "metadata": {
  "kernelspec": {
   "display_name": "Python 3 (ipykernel)",
   "language": "python",
   "name": "python3"
  },
  "language_info": {
   "codemirror_mode": {
    "name": "ipython",
    "version": 3
   },
   "file_extension": ".py",
   "mimetype": "text/x-python",
   "name": "python",
   "nbconvert_exporter": "python",
   "pygments_lexer": "ipython3",
   "version": "3.9.7"
  }
 },
 "nbformat": 4,
 "nbformat_minor": 5
}
