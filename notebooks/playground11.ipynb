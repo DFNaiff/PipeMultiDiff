{
 "cells": [
  {
   "cell_type": "code",
   "execution_count": 4,
   "id": "adb5c4cf",
   "metadata": {},
   "outputs": [],
   "source": [
    "import sys\n",
    "sys.path.append(\"..\")\n",
    "\n",
    "import numpy as np\n",
    "import jax.numpy as jnp\n",
    "import jax\n",
    "import scipy.linalg\n",
    "import scipy.optimize\n",
    "import matplotlib.pyplot as plt\n",
    "\n",
    "import pyequion2\n",
    "import tmcdiff.builder\n",
    "import matplotlib.pyplot as plt"
   ]
  },
  {
   "cell_type": "code",
   "execution_count": 5,
   "id": "6558f18d",
   "metadata": {},
   "outputs": [],
   "source": [
    "%load_ext autoreload\n",
    "%autoreload 2\n",
    "%matplotlib inline"
   ]
  },
  {
   "cell_type": "code",
   "execution_count": 3,
   "id": "177d5a61",
   "metadata": {},
   "outputs": [
    {
     "name": "stderr",
     "output_type": "stream",
     "text": [
      "WARNING:absl:No GPU/TPU found, falling back to CPU. (Set TF_CPP_MIN_LOG_LEVEL=0 and rerun for more info.)\n"
     ]
    }
   ],
   "source": [
    "eqsys = pyequion2.EquilibriumBackend([\"Na\", \"Cl\", \"Ca\", \"C\"], from_elements=True, backend=\"jax\", logbase=\"e\")"
   ]
  },
  {
   "cell_type": "code",
   "execution_count": 10,
   "id": "e5c08f72",
   "metadata": {},
   "outputs": [
    {
     "data": {
      "text/plain": [
       "['CO2', 'CO3--', 'Ca++', 'Cl-', 'HCO3-', 'Na+']"
      ]
     },
     "execution_count": 10,
     "metadata": {},
     "output_type": "execute_result"
    }
   ],
   "source": [
    "builder = tmcdiff.builder.TransportBuilder(eqsys,\n",
    "                                           298.15,\n",
    "                                           0.1,\n",
    "                                           1e-6,\n",
    "                                           jnp.array([65, 56, 75.0, 28.0, 0.0]), [\"Calcite\"])\n",
    "builder.set_species(['CaCO3', 'CaHCO3+', 'CaOH+', 'Na2CO3', 'NaCO3-', 'NaHCO3', 'NaOH', 'CaOH+',\n",
    "                     'H+', 'OH-'])\n",
    "builder.make_grid(3, 5)\n",
    "builder.species"
   ]
  },
  {
   "cell_type": "code",
   "execution_count": 11,
   "id": "9cc44560",
   "metadata": {},
   "outputs": [],
   "source": [
    "logc = np.ones([builder.nspecies, builder.ngrid])*0.0 - 1.0\n",
    "mu = builder.reduced_standard_potentials[..., None] + logc\n",
    "logcmu = jnp.vstack([logc, mu])"
   ]
  },
  {
   "cell_type": "code",
   "execution_count": 12,
   "id": "ff20d588",
   "metadata": {},
   "outputs": [
    {
     "data": {
      "text/plain": [
       "DeviceArray([[ 14.393301  ,   0.        , -64.63212   ],\n",
       "             [  0.        ,   0.        , -54.896362  ],\n",
       "             [  0.        ,   0.        , -74.63212   ],\n",
       "             [  0.        ,   0.        , -27.63212   ],\n",
       "             [  0.        ,   0.        ,  -0.36787945],\n",
       "             [ -0.4658966 ,  -0.4658966 ,  -0.4658966 ],\n",
       "             [  1.8973236 ,   1.8973236 ,   1.8973236 ],\n",
       "             [  1.234909  ,   1.234909  ,   1.234909  ],\n",
       "             [  0.56424713,   0.56424713,   0.56424713],\n",
       "             [  0.47433472,   0.47433472,   0.47433472],\n",
       "             [  0.23307037,   0.23307037,   0.23307037]], dtype=float32)"
      ]
     },
     "execution_count": 12,
     "metadata": {},
     "output_type": "execute_result"
    }
   ],
   "source": [
    "builder.simplify()\n",
    "builder.full_residual(logcmu)"
   ]
  },
  {
   "cell_type": "code",
   "execution_count": 13,
   "id": "079c9539",
   "metadata": {},
   "outputs": [
    {
     "name": "stdout",
     "output_type": "stream",
     "text": [
      "[ 14.393301     0.         -64.63212      0.           0.\n",
      " -54.896362     0.           0.         -74.63212      0.\n",
      "   0.         -27.63212      0.           0.          -0.36787945\n",
      "  -0.4658966   -0.4658966   -0.4658966    1.8973236    1.8973236\n",
      "   1.8973236    1.234909     1.234909     1.234909     0.56424713\n",
      "   0.56424713   0.56424713   0.47433472   0.47433472   0.47433472\n",
      "   0.23307037   0.23307037   0.23307037]\n",
      "[[0. 0. 0. ... 0. 0. 0.]\n",
      " [0. 0. 0. ... 0. 0. 0.]\n",
      " [0. 0. 0. ... 0. 0. 0.]\n",
      " ...\n",
      " [0. 0. 0. ... 1. 0. 0.]\n",
      " [0. 0. 0. ... 0. 1. 0.]\n",
      " [0. 0. 0. ... 0. 0. 1.]]\n",
      "-365.32776\n",
      "[-19.213984   -19.213984   -19.213984   -26.236238   -26.236238\n",
      " -26.236238   -27.47984    -27.47984    -27.47984     -6.615661\n",
      "  -6.615661    -6.615661   -29.152672   -29.152672   -29.152672\n",
      " -13.077531   -13.077531   -13.077531     0.12262648   0.12262648\n",
      "   0.12262648   0.12262648   0.12262648   0.12262648   0.12262648\n",
      "   0.12262648   0.12262648   0.12262648   0.12262648   0.12262648\n",
      "   0.12262648   0.12262648   0.12262648   0.12262648   0.12262648\n",
      "   0.12262648]\n"
     ]
    }
   ],
   "source": [
    "print(jax.jit(builder.flattened_equality_constraint)(logcmu.flatten()))\n",
    "print(jax.jit(jax.jacfwd(builder.flattened_equality_constraint))(logcmu.flatten()))\n",
    "print(jax.jit(builder.flattened_minimization_objective)(logcmu.flatten()))\n",
    "print(jax.jit(jax.grad(builder.flattened_minimization_objective))(logcmu.flatten()))"
   ]
  },
  {
   "cell_type": "code",
   "execution_count": 14,
   "id": "26ab66c2",
   "metadata": {},
   "outputs": [],
   "source": [
    "constraints = {'type':'eq',\n",
    "               'fun':jax.jit(builder.flattened_equality_constraint),\n",
    "               'jac':jax.jit(jax.jacfwd(builder.flattened_equality_constraint))}\n",
    "equality_constraint = scipy.optimize.NonlinearConstraint(\n",
    "    jax.jit(builder.flattened_equality_constraint),\n",
    "    lb=0.0,\n",
    "    ub=0.0,\n",
    "    jac = jax.jit(jax.jacfwd(builder.flattened_equality_constraint)))\n"
   ]
  },
  {
   "cell_type": "code",
   "execution_count": 15,
   "id": "c0f15597",
   "metadata": {},
   "outputs": [],
   "source": [
    "sol_simple = scipy.optimize.minimize(jax.jit(builder.flattened_minimization_objective),\n",
    "                              logcmu.flatten(),\n",
    "                              jac = jax.jit(jax.grad(builder.flattened_minimization_objective)),\n",
    "                              constraints=equality_constraint,\n",
    "                              method='trust-constr')"
   ]
  },
  {
   "cell_type": "code",
   "execution_count": 16,
   "id": "e53319f5",
   "metadata": {},
   "outputs": [
    {
     "data": {
      "text/plain": [
       "         cg_niter: 2816\n",
       "     cg_stop_cond: 1\n",
       "           constr: [array([ 6.8017292e+00, -2.8799686e-01, -4.8649632e+01, -2.0977886e-02,\n",
       "       -9.2283434e-01,  1.0777283e-01, -4.2521711e-03, -1.1772488e+00,\n",
       "       -1.5617100e+01, -2.3797576e-03, -5.5483043e-01, -3.6661720e-01,\n",
       "        4.0473945e-02, -4.4173872e-01,  7.9992332e+00,  8.1643677e-01,\n",
       "       -7.9487610e-01, -1.2063644e+01,  3.8017120e+00,  1.4663849e+00,\n",
       "        2.5277557e+00,  3.8818512e+00,  1.7710876e-01, -2.6927612e+01,\n",
       "        5.5050659e-01,  2.2394562e-01, -4.3907928e+00,  1.6401672e-01,\n",
       "        3.4533691e-01, -2.9358978e+00,  1.1600113e+00, -2.2312927e-01,\n",
       "       -1.5133003e+01], dtype=float32)]\n",
       "      constr_nfev: [1000]\n",
       "      constr_nhev: [0]\n",
       "      constr_njev: [1000]\n",
       "   constr_penalty: 1.944943600075987e+18\n",
       " constr_violation: 48.64963150024414\n",
       "   execution_time: 9.06349802017212\n",
       "              fun: DeviceArray(-9532.727, dtype=float32)\n",
       "             grad: array([-1.3690460e-10, -2.1639787e-02, -2.4847784e+00, -3.8533424e+01,\n",
       "       -4.9756375e+02, -2.8095144e+01, -6.0794950e-03, -1.8815187e+02,\n",
       "       -1.1450741e+03, -3.5923553e+01, -4.6193638e+01, -4.7292352e+02,\n",
       "       -1.0988036e-05, -3.9815085e+02, -4.3840010e+03, -1.4484042e+02,\n",
       "       -1.8275043e+02, -1.9680132e+03,  7.5760980e-13,  1.3669656e-04,\n",
       "        1.6950311e-02,  1.8190226e-01,  2.3478942e+00,  1.3136750e-01,\n",
       "        2.6518986e-05,  8.7657040e-01,  5.4501228e+00,  6.8756908e-01,\n",
       "        8.9320868e-01,  9.2111282e+00,  4.3440476e-08,  1.6916518e+00,\n",
       "        1.8554274e+01,  1.4066672e+00,  1.8190002e+00,  1.9794300e+01],\n",
       "      dtype=float32)\n",
       "              jac: [array([[0., 0., 0., ..., 0., 0., 0.],\n",
       "       [0., 0., 0., ..., 0., 0., 0.],\n",
       "       [0., 0., 0., ..., 0., 0., 0.],\n",
       "       ...,\n",
       "       [0., 0., 0., ..., 1., 0., 0.],\n",
       "       [0., 0., 0., ..., 0., 1., 0.],\n",
       "       [0., 0., 0., ..., 0., 0., 1.]], dtype=float32)]\n",
       "  lagrangian_grad: array([-3.94773662e-01,  3.82060796e-01,  1.58154380e+00,  2.19242781e-01,\n",
       "       -1.20602965e-01,  2.38899559e-01,  5.13959229e-02, -1.28114611e-01,\n",
       "        3.40968698e-01,  5.18994033e-02, -2.87460648e-02,  2.97191292e-01,\n",
       "        3.03556491e-03,  2.40904927e-01,  6.07758999e-01, -9.20275003e-02,\n",
       "        4.86911647e-02,  5.00690401e-01,  3.94773960e-01, -3.67089778e-01,\n",
       "        6.15752399e-01, -4.71517444e-04, -7.04684258e-02,  3.82106155e-02,\n",
       "        4.22221087e-02, -7.24796057e-02, -2.22916603e-02,  7.18258023e-02,\n",
       "        2.64343023e-02, -2.14834213e-02,  5.76810818e-03,  7.46465921e-02,\n",
       "       -5.94215393e-02, -5.41342497e-02,  2.22734213e-02,  2.44712830e-03],\n",
       "      dtype=float32)\n",
       "          message: 'The maximum number of function evaluations is exceeded.'\n",
       "           method: 'equality_constrained_sqp'\n",
       "             nfev: 1000\n",
       "             nhev: 0\n",
       "              nit: 1000\n",
       "            niter: 1000\n",
       "             njev: 1000\n",
       "       optimality: 1.5815438\n",
       "           status: 0\n",
       "          success: False\n",
       "        tr_radius: 0.09397451480923019\n",
       "                v: [array([ 1.06466882e-01, -6.19489500e+06, -1.35140828e+05,  6.58978280e+07,\n",
       "        6.20055850e+06,  1.35382438e+05, -2.32713700e+07, -3.09403200e+06,\n",
       "       -6.74949141e+04,  2.32902000e+07,  3.09857950e+06,  6.76391250e+04,\n",
       "        2.32842700e+07,  3.09707500e+06,  6.75915703e+04,  3.94773960e-01,\n",
       "       -3.67226481e-01,  5.98802090e-01, -1.82373777e-01, -2.41836262e+00,\n",
       "       -9.31568891e-02,  4.21955884e-02, -9.49050009e-01, -5.47241449e+00,\n",
       "       -6.15743279e-01, -8.66774380e-01, -9.23261166e+00,  5.76806488e-03,\n",
       "       -1.61700523e+00, -1.86136951e+01, -1.46080148e+00, -1.79672682e+00,\n",
       "       -1.97918530e+01])]\n",
       "                x: array([ -26.80999544,   -7.79913461,   -2.97885679,   -0.60567357,\n",
       "          1.95213105,   -0.93114426,   -9.43903749,    0.96687401,\n",
       "          2.79425048,    0.72401931,    0.98567726,    3.31902449,\n",
       "        -15.85326182,    1.6243178 ,    4.01931254,    1.43983554,\n",
       "          1.69689926,    4.0840061 , -180.7059517 , -158.30526154,\n",
       "       -146.59190014, -211.8358824 , -211.91917898, -213.86676172,\n",
       "       -229.25064194, -214.64546329, -210.10058595,  -52.24719232,\n",
       "        -51.71651471,  -51.34262888, -252.94463082, -235.36217081,\n",
       "       -236.27983716, -102.96708069, -100.46750772,  -99.42322287])"
      ]
     },
     "execution_count": 16,
     "metadata": {},
     "output_type": "execute_result"
    }
   ],
   "source": [
    "sol_simple"
   ]
  },
  {
   "cell_type": "code",
   "execution_count": 3,
   "id": "7658560b",
   "metadata": {},
   "outputs": [
    {
     "ename": "NameError",
     "evalue": "name 'builder' is not defined",
     "output_type": "error",
     "traceback": [
      "\u001b[0;31m---------------------------------------------------------------------------\u001b[0m",
      "\u001b[0;31mNameError\u001b[0m                                 Traceback (most recent call last)",
      "\u001b[0;32m/tmp/ipykernel_24315/3437989874.py\u001b[0m in \u001b[0;36m<module>\u001b[0;34m\u001b[0m\n\u001b[1;32m      1\u001b[0m \u001b[0mplt\u001b[0m\u001b[0;34m.\u001b[0m\u001b[0mfigure\u001b[0m\u001b[0;34m(\u001b[0m\u001b[0;34m)\u001b[0m\u001b[0;34m\u001b[0m\u001b[0;34m\u001b[0m\u001b[0m\n\u001b[0;32m----> 2\u001b[0;31m \u001b[0;32mfor\u001b[0m \u001b[0mi\u001b[0m \u001b[0;32min\u001b[0m \u001b[0mrange\u001b[0m\u001b[0;34m(\u001b[0m\u001b[0mbuilder\u001b[0m\u001b[0;34m.\u001b[0m\u001b[0mnspecies\u001b[0m\u001b[0;34m)\u001b[0m\u001b[0;34m:\u001b[0m\u001b[0;34m\u001b[0m\u001b[0;34m\u001b[0m\u001b[0m\n\u001b[0m\u001b[1;32m      3\u001b[0m     \u001b[0mplt\u001b[0m\u001b[0;34m.\u001b[0m\u001b[0mplot\u001b[0m\u001b[0;34m(\u001b[0m\u001b[0mbuilder\u001b[0m\u001b[0;34m.\u001b[0m\u001b[0mygrid\u001b[0m\u001b[0;34m,\u001b[0m \u001b[0mc\u001b[0m\u001b[0;34m[\u001b[0m\u001b[0mi\u001b[0m\u001b[0;34m,\u001b[0m \u001b[0;34m:\u001b[0m\u001b[0;34m]\u001b[0m\u001b[0;34m,\u001b[0m \u001b[0mlabel\u001b[0m\u001b[0;34m=\u001b[0m\u001b[0mbuilder\u001b[0m\u001b[0;34m.\u001b[0m\u001b[0mspecies\u001b[0m\u001b[0;34m[\u001b[0m\u001b[0mi\u001b[0m\u001b[0;34m]\u001b[0m\u001b[0;34m)\u001b[0m\u001b[0;34m\u001b[0m\u001b[0;34m\u001b[0m\u001b[0m\n\u001b[1;32m      4\u001b[0m \u001b[0mplt\u001b[0m\u001b[0;34m.\u001b[0m\u001b[0mlegend\u001b[0m\u001b[0;34m(\u001b[0m\u001b[0;34m)\u001b[0m\u001b[0;34m\u001b[0m\u001b[0;34m\u001b[0m\u001b[0m\n\u001b[1;32m      5\u001b[0m \u001b[0mplt\u001b[0m\u001b[0;34m.\u001b[0m\u001b[0mylabel\u001b[0m\u001b[0;34m(\u001b[0m\u001b[0;34mr'$c$[molal]'\u001b[0m\u001b[0;34m)\u001b[0m\u001b[0;34m\u001b[0m\u001b[0;34m\u001b[0m\u001b[0m\n",
      "\u001b[0;31mNameError\u001b[0m: name 'builder' is not defined"
     ]
    }
   ],
   "source": [
    "plt.figure()\n",
    "for i in range(builder.nspecies):\n",
    "    plt.plot(builder.ygrid, c[i, :], label=builder.species[i])\n",
    "plt.legend()\n",
    "plt.ylabel(r'$c$[molal]')\n",
    "plt.xlabel(r'$y^+$')"
   ]
  },
  {
   "cell_type": "code",
   "execution_count": null,
   "id": "68285723",
   "metadata": {},
   "outputs": [],
   "source": []
  }
 ],
 "metadata": {
  "kernelspec": {
   "display_name": "Python 3 (ipykernel)",
   "language": "python",
   "name": "python3"
  },
  "language_info": {
   "codemirror_mode": {
    "name": "ipython",
    "version": 3
   },
   "file_extension": ".py",
   "mimetype": "text/x-python",
   "name": "python",
   "nbconvert_exporter": "python",
   "pygments_lexer": "ipython3",
   "version": "3.9.7"
  }
 },
 "nbformat": 4,
 "nbformat_minor": 5
}
