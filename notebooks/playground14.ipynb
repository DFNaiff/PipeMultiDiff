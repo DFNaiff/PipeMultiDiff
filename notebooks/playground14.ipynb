{
 "cells": [
  {
   "cell_type": "code",
   "execution_count": 1,
   "id": "c0b3dbdd",
   "metadata": {},
   "outputs": [],
   "source": [
    "import sys\n",
    "sys.path.append(\"..\")\n",
    "import functools\n",
    "\n",
    "import numpy as np\n",
    "import torch\n",
    "import scipy.linalg\n",
    "import scipy.optimize\n",
    "import matplotlib.pyplot as plt\n",
    "from dict_minimize.torch_api import minimize\n",
    "import functorch\n",
    "\n",
    "import pyequion2"
   ]
  },
  {
   "cell_type": "code",
   "execution_count": 2,
   "id": "ffa825ce",
   "metadata": {},
   "outputs": [],
   "source": [
    "%load_ext autoreload\n",
    "%autoreload 2\n",
    "%matplotlib inline"
   ]
  },
  {
   "cell_type": "code",
   "execution_count": 210,
   "id": "e2147f9b",
   "metadata": {},
   "outputs": [
    {
     "data": {
      "text/plain": [
       "2"
      ]
     },
     "execution_count": 210,
     "metadata": {},
     "output_type": "execute_result"
    }
   ],
   "source": [
    "class A():\n",
    "    def __init__(self):\n",
    "        self.a = \\\n",
    "        self.b = \\\n",
    "        2\n",
    "test = A()\n",
    "test.b"
   ]
  },
  {
   "cell_type": "code",
   "execution_count": 211,
   "id": "5cde1f11",
   "metadata": {},
   "outputs": [
    {
     "data": {
      "text/plain": [
       "0.00095"
      ]
     },
     "execution_count": 211,
     "metadata": {},
     "output_type": "execute_result"
    }
   ],
   "source": [
    "pyequion2.constants.TURBULENT_VISCOSITY_CONSTANT"
   ]
  },
  {
   "cell_type": "code",
   "execution_count": 212,
   "id": "67b2117d",
   "metadata": {},
   "outputs": [
    {
     "data": {
      "text/plain": [
       "<function Tensor.numel>"
      ]
     },
     "execution_count": 212,
     "metadata": {},
     "output_type": "execute_result"
    }
   ],
   "source": [
    "torch.tensor([1, 2, 3]).numel"
   ]
  },
  {
   "cell_type": "code",
   "execution_count": 258,
   "id": "3af83001",
   "metadata": {},
   "outputs": [],
   "source": [
    "class TransportBuilder(object):\n",
    "    def __init__(self, eqsys, TK, shear_velocity, cbulk, phases,\n",
    "                 kreaction=\"inf\", flux_residual_tol = 1.0):\n",
    "        self.eqsys = eqsys\n",
    "        self.TK = TK\n",
    "        self.shear_velocity = shear_velocity\n",
    "        self.kinematic_viscosity = pyequion2.water_properties.water_kinematic_viscosity(self.TK)\n",
    "        self.water_density = pyequion2.water_properties.water_density(self.TK)\n",
    "        self.cbulk = cbulk\n",
    "        self.phases = phases\n",
    "        self.kreaction = kreaction\n",
    "        self.bturb = pyequion2.constants.TURBULENT_VISCOSITY_CONSTANT\n",
    "        self.flux_residual_tol = flux_residual_tol\n",
    "        self.simplified = False\n",
    "        self.idealized = False\n",
    "        self.species_to_remove = []\n",
    "        self.base_dict = None\n",
    "        self.species = None\n",
    "        self.species_ind = None\n",
    "        self.solid_ind = None\n",
    "        self.reduced_formula_matrix = None\n",
    "        self.reduced_stoich_matrix = None\n",
    "        self.logk = None\n",
    "        self.reduced_reaction_vector = None\n",
    "        self.closure_matrix = None\n",
    "        self.nspecies = None\n",
    "        self.logk_solid = None\n",
    "        self.reduced_standard_potentials = None\n",
    "        self.reduced_diffusion_coefficients = None\n",
    "        self.ngrid = None\n",
    "        self.npoints = None\n",
    "        self.ymax = None\n",
    "        self.ypoints = None\n",
    "        self.ystep = None\n",
    "        self.ygrid = None\n",
    "        self.x = None\n",
    "        \n",
    "    def get_logcmu(self):\n",
    "        if self.x is None:\n",
    "            return None, None\n",
    "        elif self.x.numel() == self.ngrid*self.nspecies:\n",
    "            logc = self.x.reshape(self.nspecies, self.ngrid)\n",
    "            mu = None\n",
    "            return logc, mu\n",
    "        elif self.x.numel() == 2*self.ngrid*self.nspecies:\n",
    "            logcmu = self.x.reshape(2*self.nspecies, self.ngrid)\n",
    "            logc = logcmu[:self.nspecies, :]\n",
    "            mu = logcmu[self.nspecies:, :]\n",
    "            return logc, mu\n",
    "        else:\n",
    "            raise ValueError\n",
    "\n",
    "    def set_species(self, species_to_remove=None):\n",
    "        if species_to_remove is not None:\n",
    "            self.species_to_remove = species_to_remove\n",
    "        self.basedict = {k: v\n",
    "                         for k, v in pyequion2.datamods.chemical_potentials.items()\n",
    "                         if k in self.eqsys.solutes\n",
    "                         and k not in self.species_to_remove}\n",
    "        self.species = [spec for spec in self.eqsys.species[1:] if spec not in self.species_to_remove]\n",
    "        self.species_ind = [self.eqsys.species.index(spec) for spec in self.species]\n",
    "        self.solid_ind = [self.eqsys.solid_phase_names.index(phase) for phase in self.phases]\n",
    "        self.reduced_formula_matrix = self.eqsys.formula_matrix[2:, self.species_ind]\n",
    "        self.reduced_stoich_matrix = self.eqsys.stoich_matrix[:, self.species_ind]\n",
    "        self.logk = self.eqsys.get_log_equilibrium_constants(self.TK)\n",
    "        self.reduced_reaction_vector = \\\n",
    "            self.eqsys.solid_stoich_matrix[self.solid_ind, :][:, self.species_ind]\n",
    "        self.closure_matrix = torch.tensor(\n",
    "            scipy.linalg.null_space(\n",
    "                (self.reduced_formula_matrix@(self.reduced_reaction_vector.T)).T\n",
    "            ).T\n",
    "        )\n",
    "        self.nspecies = len(self.species)\n",
    "        self.logk_solid = self.eqsys.get_solid_log_equilibrium_constants(self.TK)[self.solid_ind]\n",
    "        \n",
    "        self.reduced_standard_potentials = self.eqsys.get_standard_chemical_potentials(self.TK)[self.species_ind]\n",
    "        self.reduced_standard_potentials /= (pyequion2.constants.GAS_CONSTANT*self.TK)    \n",
    "        self.reduce_activity_function()\n",
    "        self.reduced_diffusion_coefficients = pyequion2.equilibrium_backend.diffusion_coefficients.get_diffusion_coefficients(\n",
    "                                        self.species, self.TK)\n",
    "        self.reduced_diffusion_coefficients = torch.tensor(self.reduced_diffusion_coefficients,\n",
    "                                                           dtype=torch.float)\n",
    "        self.reduced_diffusion_coefficients /=self.kinematic_viscosity\n",
    "        \n",
    "    def change_temperature(self, TK):\n",
    "        self.TK = TK\n",
    "        self.kinematic_viscosity = pyequion2.water_properties.water_kinematic_viscosity(self.TK)\n",
    "        self.water_density = pyequion2.water_properties.water_density(self.TK)\n",
    "        self.set_species()\n",
    "        \n",
    "    def reduce_activity_function(self):\n",
    "        activity_model = eqsys.activity_model\n",
    "        self._actfunc = pyequion2.equilibrium_backend.ACTIVITY_MODEL_MAP[activity_model](\n",
    "                            self.species, backend=\"torch\")\n",
    "        \n",
    "    def activity_model_func(self, molals, TK):\n",
    "        if self.idealized:\n",
    "            return torch.zeros_like(molals)\n",
    "        else:\n",
    "            return self._actfunc(molals, TK)[..., 1:]/pyequion2.constants.LOG10E\n",
    "        \n",
    "    def make_grid(self, ngrid, ymax):\n",
    "        self.ngrid = ngrid\n",
    "        self.npoints = ngrid + 1\n",
    "        self.ymax = ymax\n",
    "        self.ypoints = torch.linspace(0, self.ymax, self.npoints)\n",
    "        self.ystep = self.ypoints[1] - self.ypoints[0]\n",
    "        self.ygrid = self.ypoints[:-1] + self.ystep/2\n",
    "        \n",
    "    def wall_diffusion_plus(self, yplus):\n",
    "        return self.bturb*yplus**3\n",
    "\n",
    "    def transport_residual(self, logc):\n",
    "        #logc : (nsolutes, ngrid)\n",
    "        #npoints = ngrid + 1\n",
    "        logg = self.activity_model_func(torch.exp(logc).T, self.TK).T #(nsolutes, ngrid)\n",
    "        c = torch.exp(logc) #(nsolutes, ngrid)\n",
    "        loga = logg + logc #(nsolutes, ngrid)\n",
    "        ypoints = self.ypoints #(npoints,)\n",
    "        ystep = self.ystep\n",
    "        mdiffs = self.reduced_diffusion_coefficients[..., None] #(nsolutes, 1)\n",
    "        tdiffs = self.wall_diffusion_plus(ypoints)[1:-1] #(ngrid-1,)\n",
    "        A = self.reduced_formula_matrix #(nels, nsolutes)\n",
    "        C = self.closure_matrix #(nnoncon-nreac, nsolutes)\n",
    "        R = self.reduced_reaction_vector #(nreac, nsolutes)\n",
    "        logKsp = self.logk_solid[..., None] #(nreac, 1)\n",
    "        cbulk = self.make_bulk_vector() #(nels, 1) #(mol/kgH2O)\n",
    "        cinterp = (c[:, 1:] + c[:, :-1])*0.5 #(nsolutes, ngrid-1)\n",
    "        dmu = (loga[:, 1:] - loga[:, :-1])/ystep #(nsolutes, ngrid-1)\n",
    "        dc = (c[:, 1:] - c[:, :-1])/ystep #(nsolutes, ngrid-1)\n",
    "        if self.simplified:\n",
    "            jmiddle = -A@(mdiffs*dc + tdiffs*dc)*self.water_density #(nels, ngrid-1) #(mol/(m3*m))\n",
    "        else:\n",
    "            jmiddle = -A@(mdiffs*cinterp*dmu + tdiffs*dc)*self.water_density #(nels, ngrid-1)\n",
    "        jleft = jmiddle[:, :1] #(nels, 1)\n",
    "        cright = c[:, -1:] #(nsolutes, 1)\n",
    "        logaleft = loga[:, :1] #(nsolutes, 1)\n",
    "        middle_residual = jmiddle[:, 1:] - jmiddle[:, :-1] #(nels, ngrid-2)\n",
    "        right_residual = A@cright - cbulk #(nsolutes, 1) #mol/l\n",
    "        if self.kreaction == \"inf\":\n",
    "            upper_left_residual = R@logaleft - logKsp #(nreac, 1)\n",
    "            lower_left_residual = C@(jleft) #(nnoncon - nreac, 1) #(mol/(l*m))\n",
    "            left_residual = torch.cat([upper_left_residual, lower_left_residual], dim=0) #(nsolutes, 1)\n",
    "        else:\n",
    "            logsatur = R@logaleft - logKsp #(nreac, 1)\n",
    "            jsatur = -self.kreaction*torch.relu(torch.exp(logsatur) - 1) #(nreac, 1) #(mol/m4)\n",
    "            jend = A@(R.T)@jsatur #(nels, 1)\n",
    "            left_residual = jend - jleft #(nels, 1)\n",
    "        residual = torch.cat([left_residual, middle_residual, right_residual], dim=1) #(nsolutes, ngrid)\n",
    "        return residual\n",
    "    \n",
    "    def fluxes(self, logc):\n",
    "        #logc : (nsolutes, ngrid)\n",
    "        #npoints = ngrid + 1\n",
    "        logg = self.activity_model_func(torch.exp(logc).T, self.TK).T #(nsolutes, ngrid)\n",
    "        c = torch.exp(logc) #(nsolutes, ngrid)\n",
    "        loga = logg + logc #(nsolutes, ngrid)\n",
    "        ypoints = self.ypoints #(npoints,)\n",
    "        ystep = self.ystep\n",
    "        mdiffs = self.reduced_diffusion_coefficients[..., None] #(nsolutes, 1)\n",
    "        tdiffs = self.wall_diffusion_plus(ypoints)[1:-1] #(ngrid-1,)\n",
    "        mdiffs = torch.mean(mdiffs) + 0.0*mdiffs\n",
    "        A = self.reduced_formula_matrix #(nels, nsolutes)\n",
    "        C = self.closure_matrix #(nnoncon-nreac, nsolutes)\n",
    "        R = self.reduced_reaction_vector #(nreac, nsolutes)\n",
    "        logKsp = self.logk_solid[..., None] #(nreac, 1)\n",
    "        cbulk = self.make_bulk_vector() #(nels, 1)\n",
    "        cinterp = (c[:, 1:] + c[:, :-1])*0.5 #(nsolutes, ngrid-1)\n",
    "        dmu = (loga[:, 1:] - loga[:, :-1])/ystep #(nsolutes, ngrid-1)\n",
    "        dc = (c[:, 1:] - c[:, :-1])/ystep #(nsolutes, ngrid-1)\n",
    "        if self.simplified:\n",
    "            jmiddle = -A@(mdiffs*dc + tdiffs*dc)*self.water_density #(nels, ngrid-1)\n",
    "        else:\n",
    "            jmiddle = -A@(mdiffs*cinterp*dmu + tdiffs*dc)*self.water_density #(nels, ngrid-1)\n",
    "        if self.kreaction != \"inf\":\n",
    "            logaleft = loga[:, :1]\n",
    "            logsatur = R@logaleft - logKsp #(nreac, 1)\n",
    "            jsatur = -self.kreaction*torch.relu(torch.exp(logsatur) - 1) #(nreac, 1) #mol/m4 #TODO: Correct unit for kreaction\n",
    "            jend = A@(R.T)@jsatur #(nels, 1)\n",
    "            jfull = torch.cat([jend, jmiddle], dim=-1)\n",
    "        else:\n",
    "            jfull = jmiddle\n",
    "        jfull *= self.kinematic_viscosity #mol/m4 to mol/(m2*s)\n",
    "        return jfull\n",
    "        \n",
    "    def potential_residual(self, logc, mu):\n",
    "        #logc : (nsolutes, ngrid)\n",
    "        #mu : (nsolutes, ngrid)\n",
    "        logg = self.activity_model_func(torch.exp(logc).T, self.TK).T\n",
    "        loga = logg + logc\n",
    "        mu0 = self.reduced_standard_potentials[..., None]\n",
    "        return mu - (mu0 + loga)\n",
    "    \n",
    "    def lma_residual(self, logc):\n",
    "        logg = self.activity_model_func(torch.exp(logc).T, self.TK).T\n",
    "        loga = logg + logc\n",
    "        res = self.reduced_stoich_matrix@loga - self.logk[..., None]\n",
    "        return res\n",
    "    \n",
    "    def full_residual(self, logcmu, lma=True, include_mu=False):\n",
    "        #logcmu : (2*nsolutes, ngrid)\n",
    "        if include_mu:\n",
    "            n = logcmu.shape[0]\n",
    "            logc = logcmu[:n//2, :]\n",
    "            mu = logcmu[n//2:, :]\n",
    "        else:\n",
    "            logc = logcmu\n",
    "        residual_factor = 1/max(self.cbulk.values())*1/self.flux_residual_tol\n",
    "        res1 = self.transport_residual(logc) #(nels, ngrid)\n",
    "        res1 *= residual_factor\n",
    "        if include_mu:\n",
    "            res3 = self.potential_residual(logc, mu) #(nsolutes, ngrid)\n",
    "        if lma:\n",
    "            res2 = self.lma_residual(logc)\n",
    "        if include_mu and lma:\n",
    "            res = torch.cat([res1, res2, res3], dim=0)\n",
    "        elif not include_mu and lma:\n",
    "            res = torch.cat([res1, res2], dim=0)\n",
    "        else:\n",
    "            res = torch.cat([res1, res3], dim=0) #(nels + nreac, ngrid)\n",
    "        return res\n",
    "\n",
    "    def gibbs_free_energy(self, logcmu, include_mu=False):\n",
    "        if include_mu:\n",
    "            n = logcmu.shape[0]\n",
    "            logc = logcmu[:n//2, :]\n",
    "            mu = logcmu[n//2:, :]\n",
    "            c = torch.exp(logc)\n",
    "        else:\n",
    "            logg = self.activity_model_func(torch.exp(logc).T, self.TK).T\n",
    "            loga = logg + logc\n",
    "            mu0 = self.reduced_standard_potentials[..., None]\n",
    "            mu = mu0 + loga\n",
    "            c = torch.exp(logc)\n",
    "        return torch.mean(torch.sum(c*mu, dim=0))\n",
    "        \n",
    "    def wall_length(self):\n",
    "        return self.kinematic_viscosity/self.shear_velocity\n",
    "    \n",
    "    def wall_time(self):\n",
    "        return self.kinematic_viscosity/(self.shear_velocity**2)\n",
    "\n",
    "    def get_log_equilibrium_constants(self, TK):\n",
    "        return self.eqsys.get_log_equilibrium_constants(TK)\n",
    "    \n",
    "    def make_bulk_vector(self):\n",
    "        base = [self.cbulk[el] for el in eqsys.solute_elements] + [0.0]\n",
    "        base = torch.tensor(base, dtype=torch.float)\n",
    "        base = base[..., None]\n",
    "        return base"
   ]
  },
  {
   "cell_type": "code",
   "execution_count": 239,
   "id": "b7442e2d",
   "metadata": {},
   "outputs": [],
   "source": [
    "eqsys = pyequion2.EquilibriumBackend([\"C\", \"Ca\", \"Na\", \"Cl\"], from_elements=True, backend=\"torch\", logbase=\"e\",\n",
    "                                     activity_model=\"DEBYE\")\n",
    "eqsys_front = pyequion2.EquilibriumSystem(['Ca', 'C', 'Na', 'Cl'], activity_model=\"DEBYE\", from_elements=True) #We set up the feed components of our system"
   ]
  },
  {
   "cell_type": "code",
   "execution_count": 240,
   "id": "7adb7fdc",
   "metadata": {},
   "outputs": [
    {
     "data": {
      "text/plain": [
       "9.104043867992329e-07"
      ]
     },
     "execution_count": 240,
     "metadata": {},
     "output_type": "execute_result"
    }
   ],
   "source": [
    "pyequion2.water_properties.water_kinematic_viscosity(298.15)"
   ]
  },
  {
   "cell_type": "code",
   "execution_count": 242,
   "id": "c6d16dc6",
   "metadata": {},
   "outputs": [],
   "source": [
    "TK = 298.15\n",
    "shear_velocity = 0.1\n",
    "kinematic_viscosity = 1e-6\n",
    "molal_balance = {'C':0.065, 'Ca':0.028, 'Na':0.075, 'Cl':0.056}\n",
    "\n",
    "builder = TransportBuilder(eqsys, TK, shear_velocity,\n",
    "                           molal_balance, [\"Calcite\"],\n",
    "                           kreaction=\"inf\")\n",
    "builder.make_grid(50, 5)\n",
    "builder.set_species()"
   ]
  },
  {
   "cell_type": "code",
   "execution_count": 243,
   "id": "6e409013",
   "metadata": {},
   "outputs": [],
   "source": [
    "bulk_solution, bulk_stats = eqsys_front.solve_equilibrium_mixed_balance(TK, molal_balance=molal_balance)"
   ]
  },
  {
   "cell_type": "code",
   "execution_count": 244,
   "id": "1a9b821e",
   "metadata": {},
   "outputs": [],
   "source": [
    "logc = torch.ones([builder.nspecies, builder.ngrid])*0.0 - 0.0\n",
    "mu = builder.reduced_standard_potentials[..., None] + logc\n",
    "logcmu = torch.cat([logc, mu], axis=0).requires_grad_()"
   ]
  },
  {
   "cell_type": "code",
   "execution_count": 245,
   "id": "396f0505",
   "metadata": {},
   "outputs": [],
   "source": [
    "builder.simplified = True\n",
    "\n",
    "def flat_residual(x):\n",
    "    logcmu = x.reshape([builder.nspecies, builder.ngrid])\n",
    "    res = builder.full_residual(logcmu, lma=True, include_mu=False)\n",
    "    return res.flatten()\n",
    "\n",
    "def torch_wrap(f):\n",
    "    def g(x):\n",
    "        x = torch.tensor(x, dtype=torch.float)\n",
    "        res = f(x).detach().numpy()\n",
    "        return res\n",
    "    return g\n",
    "f = torch_wrap(flat_residual)\n",
    "jac = torch_wrap(functorch.jacrev(flat_residual))"
   ]
  },
  {
   "cell_type": "code",
   "execution_count": 246,
   "id": "312c5d54",
   "metadata": {},
   "outputs": [],
   "source": [
    "x0 = logc.flatten().detach().numpy()\n",
    "solsimple = scipy.optimize.root(f, x0, jac=jac, method=\"lm\", tol=1e-12)"
   ]
  },
  {
   "cell_type": "code",
   "execution_count": 247,
   "id": "46683ca7",
   "metadata": {},
   "outputs": [],
   "source": [
    "builder.simplified = False\n",
    "f = torch_wrap(flat_residual)\n",
    "jac = torch_wrap(functorch.jacrev(flat_residual))\n",
    "sol = scipy.optimize.root(f, solsimple.x, jac=jac, method=\"lm\")"
   ]
  },
  {
   "cell_type": "code",
   "execution_count": 248,
   "id": "f8c8bc57",
   "metadata": {},
   "outputs": [],
   "source": [
    "logcmu = solsimple.x.reshape(builder.nspecies, builder.ngrid)\n",
    "logc = logcmu[:builder.nspecies, :]\n",
    "c = np.exp(logc)\n",
    "logc_t = torch.tensor(logc, dtype=torch.float)"
   ]
  },
  {
   "cell_type": "code",
   "execution_count": 249,
   "id": "7951eb06",
   "metadata": {},
   "outputs": [],
   "source": [
    "logg_t = builder.activity_model_func(torch.exp(logc_t).T, TK).T\n",
    "loga_t = logc_t + logg_t"
   ]
  },
  {
   "cell_type": "code",
   "execution_count": 250,
   "id": "a08206de",
   "metadata": {},
   "outputs": [
    {
     "data": {
      "text/plain": [
       "{'CO2': 0.00017901716637425125,\n",
       " 'CO3--': 0.002960560377687216,\n",
       " 'Ca++': 0.018728084862232208,\n",
       " 'CaCO3': 0.006167631130665541,\n",
       " 'CaHCO3+': 0.003103778464719653,\n",
       " 'CaOH+': 5.072200792710646e-07,\n",
       " 'Cl-': 0.0559999980032444,\n",
       " 'H+': 3.1084137486203645e-09,\n",
       " 'HCO3-': 0.050495244562625885,\n",
       " 'Na+': 0.07289642095565796,\n",
       " 'Na2CO3': 9.649660569266416e-06,\n",
       " 'NaCO3-': 0.001034103101119399,\n",
       " 'NaHCO3': 0.0010500221978873014,\n",
       " 'NaOH': 1.549412758095059e-07,\n",
       " 'OH-': 6.419023975468008e-06}"
      ]
     },
     "execution_count": 250,
     "metadata": {},
     "output_type": "execute_result"
    }
   ],
   "source": [
    "{s: c.item() for s, c in zip(builder.species, torch.exp(logc_t[:, -1]))}"
   ]
  },
  {
   "cell_type": "code",
   "execution_count": 251,
   "id": "db88e3b9",
   "metadata": {},
   "outputs": [
    {
     "data": {
      "text/plain": [
       "{'H2O': 55.508435061791985,\n",
       " 'CO2': 0.0001790173222390131,\n",
       " 'CO3--': 0.0029605595225237692,\n",
       " 'Ca++': 0.018728087818576027,\n",
       " 'CaCO3': 0.0061676272745718325,\n",
       " 'CaHCO3+': 0.003103777686446763,\n",
       " 'CaOH+': 5.072204053798984e-07,\n",
       " 'Cl-': 0.056,\n",
       " 'H+': 3.1084120107692326e-09,\n",
       " 'HCO3-': 0.05049524340911361,\n",
       " 'Na+': 0.07289642061860441,\n",
       " 'Na2CO3': 9.649654837141504e-06,\n",
       " 'NaCO3-': 0.001034102807316018,\n",
       " 'NaHCO3': 0.0010500223229518444,\n",
       " 'NaOH': 1.549414534462422e-07,\n",
       " 'OH-': 6.419009543428712e-06}"
      ]
     },
     "execution_count": 251,
     "metadata": {},
     "output_type": "execute_result"
    }
   ],
   "source": [
    "bulk_solution.molals"
   ]
  },
  {
   "cell_type": "code",
   "execution_count": 252,
   "id": "4dc94a98",
   "metadata": {},
   "outputs": [
    {
     "data": {
      "text/plain": [
       "tensor([[1.0000e+00, 2.9332e+00, 6.1035e+00, 1.1338e+01, 2.0249e+01, 3.6240e+01,\n",
       "         6.6463e+01, 1.2145e+02, 2.0225e+02, 2.9449e+02, 3.8531e+02, 4.6897e+02,\n",
       "         5.4374e+02, 6.0957e+02, 6.6712e+02, 7.1727e+02, 7.6095e+02, 7.9903e+02,\n",
       "         8.3232e+02, 8.6148e+02, 8.8712e+02, 9.0974e+02, 9.2976e+02, 9.4754e+02,\n",
       "         9.6340e+02, 9.7757e+02, 9.9030e+02, 1.0018e+03, 1.0121e+03, 1.0215e+03,\n",
       "         1.0300e+03, 1.0377e+03, 1.0448e+03, 1.0513e+03, 1.0572e+03, 1.0627e+03,\n",
       "         1.0677e+03, 1.0723e+03, 1.0766e+03, 1.0806e+03, 1.0843e+03, 1.0878e+03,\n",
       "         1.0910e+03, 1.0940e+03, 1.0968e+03, 1.0994e+03, 1.1018e+03, 1.1041e+03,\n",
       "         1.1063e+03, 1.1083e+03]])"
      ]
     },
     "execution_count": 252,
     "metadata": {},
     "output_type": "execute_result"
    }
   ],
   "source": [
    "torch.exp(builder.reduced_reaction_vector@loga_t - builder.logk_solid[:, None])"
   ]
  },
  {
   "cell_type": "code",
   "execution_count": 253,
   "id": "615f603d",
   "metadata": {},
   "outputs": [
    {
     "data": {
      "text/plain": [
       "tensor([[ 9.4336e-03,  8.8934e-03,  8.2899e-03,  7.5804e-03,  6.7286e-03,\n",
       "          5.6932e-03,  4.4654e-03,  3.2894e-03,  2.4625e-03,  1.9374e-03,\n",
       "          1.5743e-03,  1.3017e-03,  1.0865e-03,  9.1498e-04,  7.7386e-04,\n",
       "          6.5862e-04,  5.6335e-04,  4.8561e-04,  4.2145e-04,  3.6584e-04,\n",
       "          3.1997e-04,  2.8089e-04,  2.4804e-04,  2.2001e-04,  1.9566e-04,\n",
       "          1.7223e-04,  1.5965e-04,  1.4129e-04,  1.2742e-04,  1.1553e-04,\n",
       "          1.0477e-04,  9.5707e-05,  8.7212e-05,  7.9850e-05,  7.3620e-05,\n",
       "          6.7391e-05,  6.2294e-05,  5.7764e-05,  5.3233e-05,  4.9269e-05,\n",
       "          4.5871e-05,  4.2756e-05,  2.8419e-05,  4.9684e-05,  3.4545e-05,\n",
       "          3.2563e-05,  1.5643e-05,  2.8882e-05,  4.3790e-05],\n",
       "        [ 1.2281e-02,  1.1551e-02,  1.0729e-02,  9.7518e-03,  8.5499e-03,\n",
       "          7.0267e-03,  5.1446e-03,  3.3613e-03,  2.2291e-03,  1.6214e-03,\n",
       "          1.2658e-03,  1.0297e-03,  8.5385e-04,  7.1918e-04,  6.0887e-04,\n",
       "          5.2068e-04,  4.4923e-04,  3.8736e-04,  3.3743e-04,  2.9507e-04,\n",
       "          2.5912e-04,  2.2467e-04,  2.0059e-04,  1.7997e-04,  1.5953e-04,\n",
       "          1.4172e-04,  1.2871e-04,  1.1934e-04,  9.9821e-05,  9.7211e-05,\n",
       "          8.6276e-05,  7.5964e-05,  7.6890e-05,  6.2519e-05,  6.3501e-05,\n",
       "          5.0189e-05,  4.8109e-05,  4.7927e-05,  5.1793e-05,  4.6119e-05,\n",
       "          2.7651e-05,  3.6489e-05,  3.5495e-05,  3.6892e-05,  2.4614e-05,\n",
       "          2.3827e-05,  1.8919e-05,  2.1464e-05,  2.9103e-05],\n",
       "        [-5.3128e-02, -4.9825e-02, -4.7707e-02, -4.5469e-02, -4.2875e-02,\n",
       "         -3.9874e-02, -3.6562e-02, -3.3422e-02, -3.1006e-02, -2.9251e-02,\n",
       "         -2.7893e-02, -2.6784e-02, -2.5861e-02, -2.5088e-02, -2.4440e-02,\n",
       "         -2.3896e-02, -2.3440e-02, -2.3056e-02, -2.2733e-02, -2.2461e-02,\n",
       "         -2.2229e-02, -2.2030e-02, -2.1863e-02, -2.1717e-02, -2.1593e-02,\n",
       "         -2.1485e-02, -2.1390e-02, -2.1310e-02, -2.1236e-02, -2.1174e-02,\n",
       "         -2.1118e-02, -2.1071e-02, -2.1024e-02, -2.0987e-02, -2.0951e-02,\n",
       "         -2.0920e-02, -2.0895e-02, -2.0869e-02, -2.0842e-02, -2.0824e-02,\n",
       "         -2.0806e-02, -2.0791e-02, -2.0774e-02, -2.0755e-02, -2.0746e-02,\n",
       "         -2.0738e-02, -2.0725e-02, -2.0711e-02, -2.0707e-02],\n",
       "        [-3.7257e-02, -3.1113e-02, -2.7367e-02, -2.3634e-02, -1.9451e-02,\n",
       "         -1.4568e-02, -9.0344e-03, -4.2710e-03, -1.6324e-03, -4.8896e-04,\n",
       "         -3.1491e-06,  2.0946e-04,  2.9831e-04,  3.2526e-04,  3.2246e-04,\n",
       "          3.0847e-04,  2.8864e-04,  2.6233e-04,  2.3764e-04,  2.1553e-04,\n",
       "          1.9328e-04,  1.7380e-04,  1.5588e-04,  1.4351e-04,  1.2757e-04,\n",
       "          1.1386e-04,  1.0661e-04,  9.7567e-05,  8.2831e-05,  8.0434e-05,\n",
       "          7.2442e-05,  6.6132e-05,  6.5523e-05,  5.1624e-05,  5.6011e-05,\n",
       "          4.2371e-05,  4.0381e-05,  3.4505e-05,  5.2205e-05,  4.6289e-05,\n",
       "          1.5328e-05,  3.7328e-05,  4.0591e-05,  2.2676e-05,  1.6690e-05,\n",
       "          1.8925e-05,  3.6404e-05,  1.6747e-05,  8.9212e-06]])"
      ]
     },
     "execution_count": 253,
     "metadata": {},
     "output_type": "execute_result"
    }
   ],
   "source": [
    "builder.fluxes(logc_t)[1:]"
   ]
  },
  {
   "cell_type": "code",
   "execution_count": 254,
   "id": "516db869",
   "metadata": {},
   "outputs": [
    {
     "data": {
      "text/plain": [
       "{'Aragonite': 795.9663245041784,\n",
       " 'Calcite': 1108.318395379106,\n",
       " 'Halite': 5.57360374104836e-05,\n",
       " 'Vaterite': 300.76898298947964}"
      ]
     },
     "execution_count": 254,
     "metadata": {},
     "output_type": "execute_result"
    }
   ],
   "source": [
    "bulk_solution.saturations"
   ]
  },
  {
   "cell_type": "code",
   "execution_count": 255,
   "id": "90c9aaae",
   "metadata": {},
   "outputs": [
    {
     "data": {
      "text/plain": [
       "Text(0.5, 0, '$y^+$')"
      ]
     },
     "execution_count": 255,
     "metadata": {},
     "output_type": "execute_result"
    },
    {
     "data": {
      "image/png": "[encoded data removed]",
      "text/plain": [
       "<Figure size 432x288 with 1 Axes>"
      ]
     },
     "metadata": {
      "needs_background": "light"
     },
     "output_type": "display_data"
    }
   ],
   "source": [
    "plt.figure()\n",
    "for i in range(builder.nspecies):\n",
    "    plt.plot(builder.ygrid, c[i, :], label=builder.species[i])\n",
    "plt.legend()\n",
    "plt.ylabel(r'$c$[molal]')\n",
    "plt.xlabel(r'$y^+$')"
   ]
  },
  {
   "cell_type": "code",
   "execution_count": 256,
   "id": "bc3b5d90",
   "metadata": {},
   "outputs": [
    {
     "data": {
      "text/plain": [
       "Text(0.5, 0, '$y^+$')"
      ]
     },
     "execution_count": 256,
     "metadata": {},
     "output_type": "execute_result"
    },
    {
     "data": {
      "image/png": "[encoded data removed]",
      "text/plain": [
       "<Figure size 432x288 with 1 Axes>"
      ]
     },
     "metadata": {
      "needs_background": "light"
     },
     "output_type": "display_data"
    }
   ],
   "source": [
    "cel = builder.reduced_formula_matrix.numpy()@c\n",
    "plt.figure()\n",
    "for i, el in enumerate(eqsys.solute_elements + ['e']):\n",
    "    plt.plot(builder.ygrid, cel[i, :], label=el)\n",
    "plt.legend()\n",
    "plt.ylabel(r'$c$[molal]')\n",
    "plt.xlabel(r'$y^+$')"
   ]
  },
  {
   "cell_type": "code",
   "execution_count": null,
   "id": "284d8c3e",
   "metadata": {},
   "outputs": [],
   "source": []
  },
  {
   "cell_type": "code",
   "execution_count": null,
   "id": "3563f927",
   "metadata": {},
   "outputs": [],
   "source": []
  }
 ],
 "metadata": {
  "kernelspec": {
   "display_name": "Python 3 (ipykernel)",
   "language": "python",
   "name": "python3"
  },
  "language_info": {
   "codemirror_mode": {
    "name": "ipython",
    "version": 3
   },
   "file_extension": ".py",
   "mimetype": "text/x-python",
   "name": "python",
   "nbconvert_exporter": "python",
   "pygments_lexer": "ipython3",
   "version": "3.9.7"
  }
 },
 "nbformat": 4,
 "nbformat_minor": 5
}
