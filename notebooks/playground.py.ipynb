{
 "cells": [
  {
   "cell_type": "code",
   "execution_count": 647,
   "id": "adb5c4cf",
   "metadata": {},
   "outputs": [],
   "source": [
    "import numpy as np\n",
    "import jax.numpy as jnp\n",
    "import jax\n",
    "import scipy.linalg\n",
    "import matplotlib.pyplot as plt\n",
    "\n",
    "import pyequion2"
   ]
  },
  {
   "cell_type": "code",
   "execution_count": 648,
   "id": "6558f18d",
   "metadata": {},
   "outputs": [
    {
     "name": "stdout",
     "output_type": "stream",
     "text": [
      "The autoreload extension is already loaded. To reload it, use:\n",
      "  %reload_ext autoreload\n"
     ]
    }
   ],
   "source": [
    "%load_ext autoreload\n",
    "%autoreload 2\n",
    "%matplotlib inline"
   ]
  },
  {
   "cell_type": "code",
   "execution_count": 649,
   "id": "22f63458",
   "metadata": {},
   "outputs": [],
   "source": [
    "class TransportBuilder(object):\n",
    "    def __init__(self, eqsys, TK, shear_velocity, kinematic_viscosity, cbulk, phases):\n",
    "        self.eqsys = eqsys\n",
    "        self.TK = TK\n",
    "        self.shear_velocity = shear_velocity\n",
    "        self.kinematic_viscosity = kinematic_viscosity\n",
    "        self.cbulk = cbulk\n",
    "        self.phases = phases\n",
    "        \n",
    "    def set_species(self):\n",
    "        self.species = eqsys.solutes\n",
    "        self.species_ind = jnp.array([eqsys.species.index(spec) for spec in self.species])\n",
    "        self.solid_ind = jnp.array([eqsys.solid_phase_names.index(phase) for phase in self.phases])\n",
    "        self.reduced_formula_matrix = self.eqsys.formula_matrix[2:, self.species_ind]\n",
    "        self.reduced_stoich_matrix = self.eqsys.stoich_matrix[:, 1:]\n",
    "        self.reduced_reaction_vector = \\\n",
    "            eqsys.solid_stoich_matrix[self.solid_ind, :][:, self.species_ind]\n",
    "        self.closure_matrix = jnp.array(\n",
    "            scipy.linalg.null_space(\n",
    "                (self.reduced_formula_matrix@(self.reduced_reaction_vector.T)).T\n",
    "            ).T\n",
    "        )\n",
    "        self.nspecies = len(self.species)\n",
    "        self.logk_solid = eqsys.get_solid_log_equilibrium_constants(self.TK)[self.solid_ind]\n",
    "        self.logk_solutes = self.eqsys.get_log_equilibrium_constants(self.TK)\n",
    "        self.reduce_activity_function()\n",
    "        self.reduced_diffusion_coefficients = pyequion2.equilibrium_backend.diffusion_coefficients.get_diffusion_coefficients(\n",
    "                                        self.species, self.TK)\n",
    "        self.reduced_diffusion_coefficients = jnp.array(self.reduced_diffusion_coefficients)/self.kinematic_viscosity\n",
    "        \n",
    "    def reduce_activity_function(self):\n",
    "        self._actfunc = pyequion2.equilibrium_backend.ACTIVITY_MODEL_MAP[eqsys.activity_model](\n",
    "                            self.species, backend=\"jax\")\n",
    "\n",
    "    def make_grid(self, ngrid, ymax):\n",
    "        self.ngrid = ngrid\n",
    "        self.npoints = ngrid + 1\n",
    "        self.ymax = ymax\n",
    "        self.ygrid, self.ystep = jnp.linspace(0, self.ymax, self.npoints, retstep=True)\n",
    "        \n",
    "    def wall_diffusion_plus(self, yplus):\n",
    "        return 9.5*1e-4*yplus**3\n",
    "    \n",
    "    def wall_diffusion_plus_deriv(self, yplus):\n",
    "        return 3*9.5*1e-4*yplus**2\n",
    "    \n",
    "    def bulk_boundary_condition(self, logc, loga):\n",
    "        cbulk = self.cbulk[..., None]\n",
    "        return self.reduced_formula_matrix@(jnp.exp(logc[:, -1][..., None])) - cbulk\n",
    "        \n",
    "    def equilibrium_wall_boundary_condition(self, logc, loga):\n",
    "        logKsolid = self.logk_solid[..., None]\n",
    "        c = jnp.exp(logc)\n",
    "        dc = (c[:, 1] - c[:, 0])/(self.ystep)\n",
    "        res1 = self.reduced_reaction_vector@loga[:, 0] - logKsolid\n",
    "        res2 = self.closure_matrix@\\\n",
    "                self.reduced_formula_matrix@\\\n",
    "                (self.reduced_diffusion_coefficients*dc)[..., None]\n",
    "        res = jnp.vstack([res1, res2])\n",
    "        return res\n",
    "        \n",
    "    def transport_middle_residual(self, logc, loga):\n",
    "        #logc : (nsolutes, ngrid)\n",
    "        #loga : (nsolutes, ngrid)\n",
    "        c = jnp.exp(logc)\n",
    "        ymiddle = self.ygrid[1:-1]\n",
    "        cm = c[:, 1:-1]\n",
    "        dc1 = (c[:, 2:] - c[:, :-2])/(2*self.ystep) #(nsolutes, ngrid-2)\n",
    "        dloga1 = (loga[:, 2:] - loga[:, :-2])/(2*self.ystep) #(nsolutes, ngrid-2)\n",
    "        dc2 = (c[:, 2:] - 2*c[:, 1:-1] + c[:, :-2])/(self.ystep**2) #(nsolutes, ngrid-2)\n",
    "        dloga2 = (loga[:, 2:] - 2*loga[:, 1:-1] + loga[:, :-2])/(self.ystep**2) #(nsolutes, ngrid-2)\n",
    "        molecular_diffusions = self.reduced_diffusion_coefficients[..., None] #(nsolutes, 1)\n",
    "        turbulent_diffusions = self.wall_diffusion_plus(ymiddle)\n",
    "        turbulent_diffusions_deriv = self.wall_diffusion_plus_deriv(ymiddle)\n",
    "        term1 = molecular_diffusions*(dc1*dloga1 + cm*dloga2)\n",
    "        term2 = turbulent_diffusions_deriv*dc1 + turbulent_diffusions*dc2\n",
    "        term = term1 + term2 #(nsolutes, ngrid-2)\n",
    "        res = eqsys.formula_matrix[2:, 1:]@term #(nels, ngrid-2)\n",
    "        return res\n",
    "        \n",
    "    def lma_residual(self, logc, loga):\n",
    "        #logc : (nsolutes, ngrid)\n",
    "        #loga : (nsolutes, ngrid)\n",
    "        logK = self.logk_solutes[..., None] #(nreac, 1)\n",
    "        return self.reduced_stoich_matrix@(logc + loga) - logK\n",
    "        \n",
    "    def act_residual(self, logc, loga):\n",
    "        logg = self.eqsys.solute_activity_model_func(jnp.exp(logc.T), self.TK).T\n",
    "        return loga - (logc + logg)\n",
    "    \n",
    "    def full_residual(self, logca):\n",
    "        n = logca.shape[0]\n",
    "        m = logca.shape[1]\n",
    "        logc = logca[:n//2, :]\n",
    "        loga = logca[n//2:, :]\n",
    "        res1a = self.equilibrium_wall_boundary_condition(logc, loga)\n",
    "        res1b = self.transport_middle_residual(logc, loga)\n",
    "        res1c = self.bulk_boundary_condition(logc, loga)\n",
    "        res1 = jnp.hstack([res1a, res1b, res1c])\n",
    "        res2 = self.lma_residual(logc, loga)\n",
    "        res3 = self.act_residual(logc, loga)\n",
    "        res = jnp.vstack([res1, res2, res3])\n",
    "        return res\n",
    "        \n",
    "    def bulk_residual(self, x):\n",
    "        logca = x.reshape(-1, 1)\n",
    "        n = logca.shape[0]\n",
    "        logc = logca[:n//2, :]\n",
    "        loga = logca[n//2:, :]\n",
    "        res1 = self.bulk_boundary_condition(logc, loga)\n",
    "        res2 = self.lma_residual(logc, loga)\n",
    "        res3 = self.act_residual(logc, loga)\n",
    "        res = jnp.vstack([res1, res2, res3])\n",
    "        return res.flatten()\n",
    "        \n",
    "    def flattened_residual(self, x):\n",
    "        logca = x.reshape(2*self.eqsys.nsolutes, self.npoints)\n",
    "        return self.full_residual(logca).flatten()\n",
    "    \n",
    "    def wall_length(self):\n",
    "        return self.kinematic_viscosity/self.shear_velocity\n",
    "    \n",
    "    def wall_time(self):\n",
    "        return self.kinematic_viscosity/(self.shear_velocity**2)\n",
    "\n",
    "    \n",
    "    @property\n",
    "    def nvariables(self):\n",
    "        return 2*self.nspecies*self.npoints\n",
    "    \n",
    "    @property\n",
    "    def nbulkvariables(self):\n",
    "        return 2*self.nspecies"
   ]
  },
  {
   "cell_type": "code",
   "execution_count": 650,
   "id": "177d5a61",
   "metadata": {},
   "outputs": [],
   "source": [
    "eqsys = pyequion2.EquilibriumBackend([\"Na\", \"Cl\", \"Ca\", \"C\"], from_elements=True, backend=\"jax\", logbase=\"e\")"
   ]
  },
  {
   "cell_type": "code",
   "execution_count": 639,
   "id": "e5c08f72",
   "metadata": {},
   "outputs": [],
   "source": [
    "builder = TransportBuilder(eqsys, 298.15, 0.1, 1e-6, 1e-1*jnp.array([1.0, 1.0, 1.0, 1.0, 0.0]), [\"Calcite\"])\n",
    "builder.make_grid(40, 5)\n",
    "builder.set_species()"
   ]
  },
  {
   "cell_type": "code",
   "execution_count": 640,
   "id": "1cc9aef6",
   "metadata": {},
   "outputs": [],
   "source": [
    "x = np.random.randn(builder.nbulkvariables)*0.0 - 1.0\n",
    "f = jax.jit(builder.bulk_residual)\n",
    "df = jax.jit(jax.jacfwd(f))\n",
    "sol = scipy.optimize.root(f, x, jac=df)\n",
    "x0 = (sol.x[..., None]*np.ones([builder.nbulkvariables, builder.npoints])).flatten()"
   ]
  },
  {
   "cell_type": "code",
   "execution_count": 641,
   "id": "797ddad5",
   "metadata": {},
   "outputs": [],
   "source": [
    "f = jax.jit(builder.flattened_residual)\n",
    "df = jax.jit(jax.jacfwd(builder.flattened_residual))"
   ]
  },
  {
   "cell_type": "code",
   "execution_count": 642,
   "id": "0abb3321",
   "metadata": {},
   "outputs": [],
   "source": [
    "solfull = scipy.optimize.root(f, x0, jac=df)"
   ]
  },
  {
   "cell_type": "code",
   "execution_count": 643,
   "id": "6ce65eba",
   "metadata": {},
   "outputs": [
    {
     "data": {
      "text/plain": [
       "array([-1.42499749e+00, -5.62880065e-03, -2.48591132e-02, ...,\n",
       "        2.53169006e-03, -4.17998648e-03, -1.38733119e-04])"
      ]
     },
     "execution_count": 643,
     "metadata": {},
     "output_type": "execute_result"
    }
   ],
   "source": [
    "solfull.r"
   ]
  },
  {
   "cell_type": "code",
   "execution_count": 644,
   "id": "a9c4f539",
   "metadata": {},
   "outputs": [],
   "source": [
    "# x = x0.copy()\n",
    "# for i in range(100):\n",
    "#     dx = np.linalg.solve(df(x), -f(x))\n",
    "#     x = x + dx\n",
    "#     delta = np.sum(np.abs(dx))\n",
    "#     if delta < 1e-4:\n",
    "#         break\n",
    "#     print(i, delta)"
   ]
  },
  {
   "cell_type": "code",
   "execution_count": null,
   "id": "dc2aff6e",
   "metadata": {},
   "outputs": [],
   "source": []
  },
  {
   "cell_type": "code",
   "execution_count": 645,
   "id": "990d36ce",
   "metadata": {},
   "outputs": [],
   "source": [
    "logca = solfull.x.reshape(eqsys.nsolutes*2, builder.npoints)\n",
    "logc, loga = logca[:eqsys.nsolutes, :], logca[eqsys.nsolutes:, :]"
   ]
  },
  {
   "cell_type": "code",
   "execution_count": 646,
   "id": "743b1e99",
   "metadata": {},
   "outputs": [
    {
     "data": {
      "text/plain": [
       "DeviceArray([ 6.7420187e-06,  3.7527315e-11,  4.2978846e-11,\n",
       "              6.7423034e-06, -5.2250471e-10], dtype=float32)"
      ]
     },
     "execution_count": 646,
     "metadata": {},
     "output_type": "execute_result"
    }
   ],
   "source": [
    "dc = np.exp(logc[:, 1]) - np.exp(logc[:, 0])\n",
    "builder.reduced_formula_matrix@(builder.reduced_diffusion_coefficients*dc)"
   ]
  },
  {
   "cell_type": "code",
   "execution_count": 621,
   "id": "36e213b9",
   "metadata": {},
   "outputs": [
    {
     "data": {
      "text/plain": [
       "<matplotlib.legend.Legend at 0x7ff70ff3a8e0>"
      ]
     },
     "execution_count": 621,
     "metadata": {},
     "output_type": "execute_result"
    },
    {
     "data": {
      "image/png": "[encoded data removed]",
      "text/plain": [
       "<Figure size 432x288 with 1 Axes>"
      ]
     },
     "metadata": {
      "needs_background": "light"
     },
     "output_type": "display_data"
    }
   ],
   "source": [
    "i = 1\n",
    "plt.plot(builder.ygrid, np.exp(logc[i, :]), 'o', label=builder.species[i])\n",
    "plt.legend()"
   ]
  },
  {
   "cell_type": "code",
   "execution_count": 509,
   "id": "086c3de5",
   "metadata": {},
   "outputs": [
    {
     "data": {
      "text/plain": [
       "['H2O',\n",
       " 'CO2',\n",
       " 'CO3--',\n",
       " 'Ca++',\n",
       " 'CaCO3',\n",
       " 'CaHCO3+',\n",
       " 'CaOH+',\n",
       " 'Cl-',\n",
       " 'H+',\n",
       " 'HCO3-',\n",
       " 'Na+',\n",
       " 'Na2CO3',\n",
       " 'NaCO3-',\n",
       " 'NaHCO3',\n",
       " 'NaOH',\n",
       " 'OH-']"
      ]
     },
     "execution_count": 509,
     "metadata": {},
     "output_type": "execute_result"
    }
   ],
   "source": [
    "eqsys.species"
   ]
  },
  {
   "cell_type": "code",
   "execution_count": null,
   "id": "fd23d4a2",
   "metadata": {},
   "outputs": [],
   "source": []
  }
 ],
 "metadata": {
  "kernelspec": {
   "display_name": "Python 3 (ipykernel)",
   "language": "python",
   "name": "python3"
  },
  "language_info": {
   "codemirror_mode": {
    "name": "ipython",
    "version": 3
   },
   "file_extension": ".py",
   "mimetype": "text/x-python",
   "name": "python",
   "nbconvert_exporter": "python",
   "pygments_lexer": "ipython3",
   "version": "3.9.7"
  }
 },
 "nbformat": 4,
 "nbformat_minor": 5
}
