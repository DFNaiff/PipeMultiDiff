{
 "cells": [
  {
   "cell_type": "code",
   "execution_count": 2,
   "id": "adb5c4cf",
   "metadata": {},
   "outputs": [],
   "source": [
    "import sys\n",
    "sys.path.append(\"..\")\n",
    "\n",
    "import numpy as np\n",
    "import jax.numpy as jnp\n",
    "import jax\n",
    "import scipy.linalg\n",
    "import scipy.optimize\n",
    "import matplotlib.pyplot as plt\n",
    "\n",
    "import pyequion2\n",
    "import tmcdiff.builder"
   ]
  },
  {
   "cell_type": "code",
   "execution_count": 3,
   "id": "6558f18d",
   "metadata": {},
   "outputs": [],
   "source": [
    "%load_ext autoreload\n",
    "%autoreload 2\n",
    "%matplotlib inline"
   ]
  },
  {
   "cell_type": "code",
   "execution_count": 4,
   "id": "177d5a61",
   "metadata": {},
   "outputs": [
    {
     "name": "stderr",
     "output_type": "stream",
     "text": [
      "WARNING:absl:No GPU/TPU found, falling back to CPU. (Set TF_CPP_MIN_LOG_LEVEL=0 and rerun for more info.)\n"
     ]
    }
   ],
   "source": [
    "eqsys = pyequion2.EquilibriumBackend([\"Na\", \"Cl\", \"Ca\", \"C\"], from_elements=True, backend=\"jax\", logbase=\"e\")"
   ]
  },
  {
   "cell_type": "code",
   "execution_count": 5,
   "id": "390f9d50",
   "metadata": {},
   "outputs": [
    {
     "data": {
      "text/plain": [
       "['H', 'O', 'Na', 'Cl', 'C', 'Ca']"
      ]
     },
     "execution_count": 5,
     "metadata": {},
     "output_type": "execute_result"
    }
   ],
   "source": [
    "eqsys.elements"
   ]
  },
  {
   "cell_type": "code",
   "execution_count": 6,
   "id": "3ff5751a",
   "metadata": {},
   "outputs": [
    {
     "data": {
      "text/plain": [
       "{'H2O': DeviceArray(-237172.17, dtype=float32),\n",
       " 'CO2': DeviceArray(-385941.53, dtype=float32),\n",
       " 'CO3--': DeviceArray(-527900., dtype=float32),\n",
       " 'Ca++': DeviceArray(-553040., dtype=float32),\n",
       " 'CaCO3': DeviceArray(-1099350., dtype=float32),\n",
       " 'CaHCO3+': DeviceArray(-1146208.4, dtype=float32),\n",
       " 'CaOH+': DeviceArray(-717263.8, dtype=float32),\n",
       " 'Cl-': DeviceArray(-131260., dtype=float32),\n",
       " 'H+': DeviceArray(0., dtype=float32),\n",
       " 'HCO3-': DeviceArray(-586857.2, dtype=float32),\n",
       " 'Na+': DeviceArray(-261890., dtype=float32),\n",
       " 'Na2CO3': DeviceArray(-1055515.8, dtype=float32),\n",
       " 'NaCO3-': DeviceArray(-797039.2, dtype=float32),\n",
       " 'NaHCO3': DeviceArray(-847320.2, dtype=float32),\n",
       " 'NaOH': DeviceArray(-418122.6, dtype=float32),\n",
       " 'OH-': DeviceArray(-157290., dtype=float32)}"
      ]
     },
     "execution_count": 6,
     "metadata": {},
     "output_type": "execute_result"
    }
   ],
   "source": [
    "{sp: k for sp, k in zip(eqsys.species, eqsys.get_standard_chemical_potentials(298.15))}"
   ]
  },
  {
   "cell_type": "code",
   "execution_count": 7,
   "id": "e5c08f72",
   "metadata": {},
   "outputs": [
    {
     "ename": "AttributeError",
     "evalue": "module 'tmcdiff.builder' has no attribute 'FixedGridTransportBuilder'",
     "output_type": "error",
     "traceback": [
      "\u001b[0;31m---------------------------------------------------------------------------\u001b[0m",
      "\u001b[0;31mAttributeError\u001b[0m                            Traceback (most recent call last)",
      "\u001b[0;32m/tmp/ipykernel_6885/2866786526.py\u001b[0m in \u001b[0;36m<module>\u001b[0;34m\u001b[0m\n\u001b[0;32m----> 1\u001b[0;31m \u001b[0mbuilder\u001b[0m \u001b[0;34m=\u001b[0m \u001b[0mtmcdiff\u001b[0m\u001b[0;34m.\u001b[0m\u001b[0mbuilder\u001b[0m\u001b[0;34m.\u001b[0m\u001b[0mFixedGridTransportBuilder\u001b[0m\u001b[0;34m(\u001b[0m\u001b[0meqsys\u001b[0m\u001b[0;34m,\u001b[0m \u001b[0;36m298.15\u001b[0m\u001b[0;34m,\u001b[0m \u001b[0;36m0.1\u001b[0m\u001b[0;34m,\u001b[0m \u001b[0;36m1e-6\u001b[0m\u001b[0;34m,\u001b[0m \u001b[0mjnp\u001b[0m\u001b[0;34m.\u001b[0m\u001b[0marray\u001b[0m\u001b[0;34m(\u001b[0m\u001b[0;34m[\u001b[0m\u001b[0;36m65\u001b[0m\u001b[0;34m,\u001b[0m \u001b[0;36m56\u001b[0m\u001b[0;34m,\u001b[0m \u001b[0;36m75.0\u001b[0m\u001b[0;34m,\u001b[0m \u001b[0;36m28.0\u001b[0m\u001b[0;34m,\u001b[0m \u001b[0;36m0.0\u001b[0m\u001b[0;34m]\u001b[0m\u001b[0;34m)\u001b[0m\u001b[0;34m,\u001b[0m \u001b[0;34m[\u001b[0m\u001b[0;34m\"Calcite\"\u001b[0m\u001b[0;34m]\u001b[0m\u001b[0;34m)\u001b[0m\u001b[0;34m\u001b[0m\u001b[0;34m\u001b[0m\u001b[0m\n\u001b[0m\u001b[1;32m      2\u001b[0m builder.set_species(['CaCO3', 'CaHCO3+', 'CaOH+', 'Na2CO3', 'NaCO3-', 'NaHCO3', 'NaOH', 'CaOH+',\n\u001b[1;32m      3\u001b[0m                      'H+', 'OH-'])\n\u001b[1;32m      4\u001b[0m \u001b[0mbuilder\u001b[0m\u001b[0;34m.\u001b[0m\u001b[0mmake_grid\u001b[0m\u001b[0;34m(\u001b[0m\u001b[0;36m30\u001b[0m\u001b[0;34m,\u001b[0m \u001b[0;36m5\u001b[0m\u001b[0;34m)\u001b[0m\u001b[0;34m\u001b[0m\u001b[0;34m\u001b[0m\u001b[0m\n\u001b[1;32m      5\u001b[0m \u001b[0mbuilder\u001b[0m\u001b[0;34m.\u001b[0m\u001b[0mset_initial_guess\u001b[0m\u001b[0;34m(\u001b[0m\u001b[0;34m)\u001b[0m\u001b[0;34m\u001b[0m\u001b[0;34m\u001b[0m\u001b[0m\n",
      "\u001b[0;31mAttributeError\u001b[0m: module 'tmcdiff.builder' has no attribute 'FixedGridTransportBuilder'"
     ]
    }
   ],
   "source": [
    "builder = tmcdiff.builder.FixedGridTransportBuilder(eqsys, 298.15, 0.1, 1e-6, jnp.array([65, 56, 75.0, 28.0, 0.0]), [\"Calcite\"])\n",
    "builder.set_species(['CaCO3', 'CaHCO3+', 'CaOH+', 'Na2CO3', 'NaCO3-', 'NaHCO3', 'NaOH', 'CaOH+',\n",
    "                     'H+', 'OH-'])\n",
    "builder.make_grid(30, 5)\n",
    "builder.set_initial_guess()\n",
    "builder.species"
   ]
  },
  {
   "cell_type": "code",
   "execution_count": 12,
   "id": "c3bb5e97",
   "metadata": {},
   "outputs": [],
   "source": [
    "sol, sol_simple = builder.solve()"
   ]
  },
  {
   "cell_type": "code",
   "execution_count": 13,
   "id": "2f198e3f",
   "metadata": {},
   "outputs": [
    {
     "data": {
      "text/plain": [
       "False"
      ]
     },
     "execution_count": 13,
     "metadata": {},
     "output_type": "execute_result"
    }
   ],
   "source": [
    "sol_simple.success"
   ]
  },
  {
   "cell_type": "code",
   "execution_count": 9,
   "id": "63f56e25",
   "metadata": {},
   "outputs": [],
   "source": [
    "c = np.exp(builder.logc)"
   ]
  },
  {
   "cell_type": "code",
   "execution_count": 114,
   "id": "f460198a",
   "metadata": {},
   "outputs": [
    {
     "data": {
      "text/plain": [
       "Text(0.5, 0, '$y^+$')"
      ]
     },
     "execution_count": 114,
     "metadata": {},
     "output_type": "execute_result"
    },
    {
     "data": {
      "image/png": "[encoded data removed]",
      "text/plain": [
       "<Figure size 432x288 with 1 Axes>"
      ]
     },
     "metadata": {
      "needs_background": "light"
     },
     "output_type": "display_data"
    }
   ],
   "source": [
    "plt.figure()\n",
    "for i in range(builder.nspecies):\n",
    "    plt.plot(builder.ygrid, c[i, :], label=builder.species[i])\n",
    "plt.legend()\n",
    "plt.ylabel(r'$c$[molal]')\n",
    "plt.xlabel(r'$y^+$')"
   ]
  },
  {
   "cell_type": "code",
   "execution_count": 91,
   "id": "1e7b3385",
   "metadata": {},
   "outputs": [],
   "source": [
    "def f(cbulk):\n",
    "    builder.cbulk = cbulk\n",
    "    _, _ = builder.solve()\n",
    "    dc = builder.fluxes()[:, -1:]\n",
    "    dt = 1e-2\n",
    "    return 4/dt*dc"
   ]
  },
  {
   "cell_type": "code",
   "execution_count": 56,
   "id": "9e4c1dc1",
   "metadata": {},
   "outputs": [
    {
     "data": {
      "text/plain": [
       "DeviceArray([[-15.133566 ],\n",
       "             [ -8.9779005],\n",
       "             [ -1.6318988],\n",
       "             [ -2.0280852],\n",
       "             [-12.711183 ]], dtype=float32)"
      ]
     },
     "execution_count": 56,
     "metadata": {},
     "output_type": "execute_result"
    }
   ],
   "source": [
    "f(jnp.array([65, 56, 75.0, 28.0, 0.0]))"
   ]
  },
  {
   "cell_type": "code",
   "execution_count": 47,
   "id": "a02581e3",
   "metadata": {},
   "outputs": [
    {
     "data": {
      "text/plain": [
       "DeviceArray([[ 0,  0,  1,  0,  0,  0],\n",
       "             [ 1,  1,  0,  0,  1,  0],\n",
       "             [ 0,  0,  0,  1,  0,  0],\n",
       "             [ 0,  0,  0,  0,  0,  1],\n",
       "             [ 0, -2,  2, -1, -1,  1]], dtype=int32)"
      ]
     },
     "execution_count": 47,
     "metadata": {},
     "output_type": "execute_result"
    }
   ],
   "source": []
  },
  {
   "cell_type": "code",
   "execution_count": null,
   "id": "26ab66c2",
   "metadata": {},
   "outputs": [],
   "source": []
  }
 ],
 "metadata": {
  "kernelspec": {
   "display_name": "Python 3 (ipykernel)",
   "language": "python",
   "name": "python3"
  },
  "language_info": {
   "codemirror_mode": {
    "name": "ipython",
    "version": 3
   },
   "file_extension": ".py",
   "mimetype": "text/x-python",
   "name": "python",
   "nbconvert_exporter": "python",
   "pygments_lexer": "ipython3",
   "version": "3.9.7"
  }
 },
 "nbformat": 4,
 "nbformat_minor": 5
}
