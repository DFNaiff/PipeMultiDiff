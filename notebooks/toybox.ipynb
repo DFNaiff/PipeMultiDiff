{
 "cells": [
  {
   "cell_type": "code",
   "execution_count": 19,
   "id": "e3bb186c",
   "metadata": {},
   "outputs": [],
   "source": [
    "import numpy as np\n",
    "import jax\n",
    "import jax.numpy as jnp\n",
    "\n",
    "import pyequion2"
   ]
  },
  {
   "cell_type": "code",
   "execution_count": 20,
   "id": "969023a6",
   "metadata": {},
   "outputs": [
    {
     "name": "stdout",
     "output_type": "stream",
     "text": [
      "The autoreload extension is already loaded. To reload it, use:\n",
      "  %reload_ext autoreload\n"
     ]
    }
   ],
   "source": [
    "%load_ext autoreload\n",
    "%autoreload 2"
   ]
  },
  {
   "cell_type": "code",
   "execution_count": 21,
   "id": "fe59543d",
   "metadata": {},
   "outputs": [],
   "source": [
    "eqsys = pyequion2.EquilibriumBackend(['Ca', 'Na', 'Cl', 'C'], from_elements=True,\n",
    "                                     activity_model=\"DEBYE\", backend='jax') #We set up the feed components of our system\n"
   ]
  },
  {
   "cell_type": "code",
   "execution_count": 22,
   "id": "e5df19c0",
   "metadata": {},
   "outputs": [
    {
     "data": {
      "text/plain": [
       "DeviceArray([1.180e-09, 9.551e-10, 7.931e-10, 1.180e-09, 5.090e-10,\n",
       "             1.180e-09, 2.031e-09, 9.311e-09, 1.180e-09, 1.331e-09,\n",
       "             1.180e-09, 5.850e-10, 1.180e-09, 1.180e-09, 5.270e-09],            dtype=float32)"
      ]
     },
     "execution_count": 22,
     "metadata": {},
     "output_type": "execute_result"
    }
   ],
   "source": [
    "eqsys.get_diffusion_coefficients(298.15)"
   ]
  },
  {
   "cell_type": "code",
   "execution_count": null,
   "id": "336373e9",
   "metadata": {},
   "outputs": [],
   "source": []
  }
 ],
 "metadata": {
  "kernelspec": {
   "display_name": "Python 3 (ipykernel)",
   "language": "python",
   "name": "python3"
  },
  "language_info": {
   "codemirror_mode": {
    "name": "ipython",
    "version": 3
   },
   "file_extension": ".py",
   "mimetype": "text/x-python",
   "name": "python",
   "nbconvert_exporter": "python",
   "pygments_lexer": "ipython3",
   "version": "3.9.7"
  }
 },
 "nbformat": 4,
 "nbformat_minor": 5
}
