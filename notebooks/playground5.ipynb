{
 "cells": [
  {
   "cell_type": "code",
   "execution_count": 2,
   "id": "adb5c4cf",
   "metadata": {},
   "outputs": [],
   "source": [
    "import numpy as np\n",
    "import jax.numpy as jnp\n",
    "import jax\n",
    "import scipy.linalg\n",
    "\n",
    "import pyequion2\n",
    "import matplotlib.pyplot as plt"
   ]
  },
  {
   "cell_type": "code",
   "execution_count": 3,
   "id": "6558f18d",
   "metadata": {},
   "outputs": [],
   "source": [
    "%load_ext autoreload\n",
    "%autoreload 2\n",
    "%matplotlib inline"
   ]
  },
  {
   "cell_type": "code",
   "execution_count": 39,
   "id": "22f63458",
   "metadata": {},
   "outputs": [],
   "source": [
    "class TransportBuilder(object):\n",
    "    def __init__(self, eqsys, TK, shear_velocity, kinematic_viscosity, cbulk, phases):\n",
    "        self.eqsys = eqsys\n",
    "        self.TK = TK\n",
    "        self.shear_velocity = shear_velocity\n",
    "        self.kinematic_viscosity = kinematic_viscosity\n",
    "        self.cbulk = cbulk\n",
    "        self.phases = phases\n",
    "        \n",
    "    def set_species(self, species_to_remove=[]):\n",
    "        self.basedict = {k: v\n",
    "                         for k, v in pyequion2.datamods.chemical_potentials.items()\n",
    "                         if k in self.eqsys.solutes\n",
    "                         and k not in species_to_remove}\n",
    "#         self.species = list(self.basedict.keys())\n",
    "        self.species = [spec for spec in eqsys.species[1:] if spec not in species_to_remove]\n",
    "        self.species_ind = jnp.array([eqsys.species.index(spec) for spec in self.species])\n",
    "        self.solid_ind = jnp.array([eqsys.solid_phase_names.index(phase) for phase in self.phases])\n",
    "        self.reduced_formula_matrix = self.eqsys.formula_matrix[2:, self.species_ind]\n",
    "        self.reduced_reaction_vector = \\\n",
    "            eqsys.solid_stoich_matrix[self.solid_ind, :][:, self.species_ind]\n",
    "        self.closure_matrix = jnp.array(\n",
    "            scipy.linalg.null_space(\n",
    "                (self.reduced_formula_matrix@(self.reduced_reaction_vector.T)).T\n",
    "            ).T\n",
    "        )\n",
    "        self.nspecies = len(self.species)\n",
    "        self.logk_solid = eqsys.get_solid_log_equilibrium_constants(self.TK)[self.solid_ind]\n",
    "#         self.reduced_standard_potentials = jnp.array([self.basedict[spec]['mu0'] for spec in self.species])\n",
    "        self.reduced_standard_potentials = eqsys.get_standard_chemical_potentials(self.TK)[self.species_ind]\n",
    "        self.reduced_standard_potentials /= (pyequion2.constants.GAS_CONSTANT*self.TK)    \n",
    "        self.reduce_activity_function()\n",
    "        self.reduced_diffusion_coefficients = pyequion2.equilibrium_backend.diffusion_coefficients.get_diffusion_coefficients(\n",
    "                                        self.species, self.TK)\n",
    "        self.reduced_diffusion_coefficients = jnp.array(self.reduced_diffusion_coefficients)/self.kinematic_viscosity\n",
    "        \n",
    "    def reduce_activity_function(self):\n",
    "        self._actfunc = pyequion2.equilibrium_backend.ACTIVITY_MODEL_MAP[eqsys.activity_model](\n",
    "                            self.species, backend=\"jax\")\n",
    "        \n",
    "    def activity_model_func(self, molals, TK):\n",
    "        return jnp.zeros_like(molals)\n",
    "        return self._actfunc(molals, TK)[..., 1:]/pyequion2.constants.LOG10E\n",
    "        \n",
    "    def make_grid(self, ngrid, ymax):\n",
    "        self.ngrid = ngrid\n",
    "        self.npoints = ngrid + 1\n",
    "        self.ymax = ymax\n",
    "        self.ygrid, self.ystep = jnp.linspace(0, self.ymax, self.npoints, retstep=True)\n",
    "        \n",
    "    def wall_diffusion_plus(self, yplus):\n",
    "        return 9.5*1e-4*yplus**3\n",
    "    \n",
    "    def wall_diffusion_plus_deriv(self, yplus):\n",
    "        return 3*9.5*1e-4*yplus**2\n",
    "    \n",
    "    def bulk_boundary_condition(self, logc, mu):\n",
    "        c = jnp.exp(logc)\n",
    "        cbulk = self.cbulk[..., None]\n",
    "        return self.reduced_formula_matrix@(c[:, -1][..., None]) - cbulk\n",
    "        \n",
    "    def equilibrium_wall_boundary_condition(self, logc, mu):\n",
    "        c = jnp.exp(logc)\n",
    "        dc = (c[:, 1] - c[:, 0])/(self.ystep)\n",
    "        loga = jnp.log(c[:,0]) + self.activity_model_func(c[:,0], self.TK)\n",
    "        res1 = self.reduced_reaction_vector@loga - self.logk_solid[..., None]\n",
    "        res2 = self.closure_matrix@self.reduced_formula_matrix@dc[..., None]\n",
    "        res = jnp.vstack([res1, res2])\n",
    "        return res\n",
    "    \n",
    "    def modelled_wall_boundary_condition(self, logc, mu):\n",
    "        c = jnp.exp(logc)\n",
    "        dc = (c[:, 1] - c[:, 0])/(self.ystep)\n",
    "        loga = jnp.log(c[:,0]) + self.activity_model_func(c[:,0], self.TK)\n",
    "        logsatur = self.reduced_reaction_vector@loga - self.logk_solid[..., None]\n",
    "        fsatur = jnp.clip(jnp.exp(logsatur)-1, 0.0, jnp.inf)*1e-3\n",
    "        res = self.reduced_formula_matrix@dc[..., None] \\\n",
    "              - self.reduced_formula_matrix@(self.reduced_reaction_vector.T)@fsatur\n",
    "        return res\n",
    "\n",
    "    def transport_residual(self, logc, mu):\n",
    "        #logc : (nsolutes, ngrid)\n",
    "        #mu : (nsolutes, ngrid)\n",
    "        c = jnp.exp(logc)\n",
    "        ymiddle = self.ygrid[1:-1]\n",
    "        cm = c[:, 1:-1]\n",
    "        d1c = (c[:, 2:] - c[:, :-2])/(2*self.ystep) #(nsolutes, ngrid-2)\n",
    "        d1mu = (mu[:, 2:] - mu[:, :-2])/(2*self.ystep) #(nsolutes, ngrid-2)\n",
    "        d2c = (c[:, 2:] - 2*c[:, 1:-1] + c[:, :-2])/(self.ystep**2) #(nsolutes, ngrid-2\n",
    "        d2mu = (mu[:, 2:] - 2*mu[:, 1:-1] + mu[:, :-2])/(self.ystep**2) #(nsolutes, ngrid-2)        \n",
    "        molecular_diffusions = self.reduced_diffusion_coefficients[..., None] #(nsolutes, 1)\n",
    "        turbulent_diffusions = self.wall_diffusion_plus(ymiddle)\n",
    "        turbulent_diffusions_deriv = self.wall_diffusion_plus_deriv(ymiddle)\n",
    "        term1 = molecular_diffusions*(d1c*d1mu + cm*d2mu)\n",
    "        term2 = turbulent_diffusions*d2c + turbulent_diffusions_deriv*d1c\n",
    "        term = term1 + term2\n",
    "        res = self.reduced_formula_matrix@term\n",
    "        return res\n",
    "                \n",
    "    def potential_residual(self, logc, mu):\n",
    "        logg = self.activity_model_func(jnp.exp(logc).T, self.TK).T\n",
    "        mu0 = self.reduced_standard_potentials[..., None]\n",
    "        return mu - (mu0 + logg + logc)\n",
    "    \n",
    "    def full_residual(self, logcmu):\n",
    "        n = logcmu.shape[0]\n",
    "        logc = logcmu[:n//2, :]\n",
    "        mu = logcmu[n//2:, :]\n",
    "        res1a = self.modelled_wall_boundary_condition(logc, mu)\n",
    "        res1b = self.transport_residual(logc, mu)\n",
    "        res1c = self.bulk_boundary_condition(logc, mu)\n",
    "        res1 = jnp.hstack([res1a, res1b, res1c])\n",
    "        res3 = self.potential_residual(logc, mu)\n",
    "        res = jnp.vstack([res1, res3])\n",
    "        return res\n",
    "    \n",
    "    def bulk_residual(self, logcmu):\n",
    "        n = logcmu.shape[0]\n",
    "        logc = logcmu[:n//2, :]\n",
    "        mu = logcmu[n//2:, :]\n",
    "        res1 = self.bulk_boundary_condition(logc, mu)\n",
    "        print(res1)\n",
    "        res3 = self.potential_residual(logc, mu)\n",
    "        print(res3)\n",
    "        res = jnp.vstack([res1, res3])\n",
    "        return res\n",
    "\n",
    "    def gibbs_free_energy(self, logcmu):\n",
    "        n = logcmu.shape[0]\n",
    "        logc = logcmu[:n//2, :]\n",
    "        mu = logcmu[n//2:, :]\n",
    "        c = jnp.exp(logc)\n",
    "        return jnp.mean(jnp.sum(c*mu, axis=0))    \n",
    "    \n",
    "    def flattened_equality_constraint(self, x):\n",
    "        cmu = x.reshape(2*self.nspecies, self.npoints)\n",
    "        return self.full_residual(cmu).flatten()\n",
    "    \n",
    "    def flattened_minimization_objective(self, x):\n",
    "        cmu = x.reshape(2*self.nspecies, self.npoints)\n",
    "        return self.gibbs_free_energy(cmu).flatten()[0]\n",
    "        \n",
    "    def wall_length(self):\n",
    "        return self.kinematic_viscosity/self.shear_velocity\n",
    "    \n",
    "    def wall_time(self):\n",
    "        return self.kinematic_viscosity/(self.shear_velocity**2)\n",
    "    \n",
    "    def get_log_equilibrium_constants(self, TK):\n",
    "        return self.eqsys.get_log_equilibrium_constants(TK)\n"
   ]
  },
  {
   "cell_type": "code",
   "execution_count": 40,
   "id": "177d5a61",
   "metadata": {},
   "outputs": [],
   "source": [
    "eqsys = pyequion2.EquilibriumBackend([\"Na\", \"Cl\", \"Ca\", \"C\"], from_elements=True, backend=\"jax\", logbase=\"e\")"
   ]
  },
  {
   "cell_type": "code",
   "execution_count": 53,
   "id": "79dff99e",
   "metadata": {},
   "outputs": [
    {
     "data": {
      "text/plain": [
       "['H2O',\n",
       " 'CO2',\n",
       " 'CO3--',\n",
       " 'Ca++',\n",
       " 'CaCO3',\n",
       " 'CaHCO3+',\n",
       " 'CaOH+',\n",
       " 'Cl-',\n",
       " 'H+',\n",
       " 'HCO3-',\n",
       " 'Na+',\n",
       " 'Na2CO3',\n",
       " 'NaCO3-',\n",
       " 'NaHCO3',\n",
       " 'NaOH',\n",
       " 'OH-']"
      ]
     },
     "execution_count": 53,
     "metadata": {},
     "output_type": "execute_result"
    }
   ],
   "source": [
    "eqsys.species"
   ]
  },
  {
   "cell_type": "code",
   "execution_count": 56,
   "id": "e5c08f72",
   "metadata": {},
   "outputs": [
    {
     "data": {
      "text/plain": [
       "['CO2', 'CO3--', 'Ca++', 'Cl-', 'H+', 'HCO3-', 'Na+', 'OH-']"
      ]
     },
     "execution_count": 56,
     "metadata": {},
     "output_type": "execute_result"
    }
   ],
   "source": [
    "builder = TransportBuilder(eqsys, 298.15, 0.1, 1e-6, jnp.array([1e-1, 1e-1, 1e-1, 1e-1, 0.0]), [\"Calcite\"])\n",
    "builder.set_species(['CaCO3', 'CaHCO3+', 'CCaOH+', 'Na2CO3', 'NaCO3-', 'NaHCO3', 'NaOH', 'CaOH+'])\n",
    "builder.make_grid(60, 5)\n",
    "builder.species"
   ]
  },
  {
   "cell_type": "code",
   "execution_count": 57,
   "id": "94950066",
   "metadata": {},
   "outputs": [],
   "source": [
    "logc = np.ones([builder.nspecies, builder.npoints])*0.0 - 3.0\n",
    "mu = builder.reduced_standard_potentials[..., None] + logc\n",
    "logcmu = jnp.vstack([logc, mu])"
   ]
  },
  {
   "cell_type": "code",
   "execution_count": 58,
   "id": "0de1ae95",
   "metadata": {},
   "outputs": [],
   "source": [
    "constraints = {'type':'eq',\n",
    "               'fun':jax.jit(builder.flattened_equality_constraint),\n",
    "               'jac':jax.jit(jax.jacfwd(builder.flattened_equality_constraint))}\n",
    "equality_constraint = scipy.optimize.NonlinearConstraint(\n",
    "    jax.jit(builder.flattened_equality_constraint),\n",
    "    lb=0.0,\n",
    "    ub=0.0,\n",
    "    jac = jax.jit(jax.jacfwd(builder.flattened_equality_constraint)))\n"
   ]
  },
  {
   "cell_type": "code",
   "execution_count": 60,
   "id": "397d76e3",
   "metadata": {},
   "outputs": [],
   "source": [
    "sol = scipy.optimize.minimize(jax.jit(builder.flattened_minimization_objective),\n",
    "                              logcmu.flatten(),\n",
    "                              jac = jax.jit(jax.grad(builder.flattened_minimization_objective)),\n",
    "                              constraints=constraints,\n",
    "                              method='trust-constr')"
   ]
  },
  {
   "cell_type": "code",
   "execution_count": 61,
   "id": "4dc78a5e",
   "metadata": {},
   "outputs": [
    {
     "data": {
      "text/plain": [
       "True"
      ]
     },
     "execution_count": 61,
     "metadata": {},
     "output_type": "execute_result"
    }
   ],
   "source": [
    "sol.success"
   ]
  },
  {
   "cell_type": "code",
   "execution_count": 62,
   "id": "9731a92b",
   "metadata": {},
   "outputs": [],
   "source": [
    "logcmu = sol.x.reshape(builder.nspecies*2, builder.npoints)\n",
    "logc, mu = logcmu[:builder.nspecies, :], logcmu[builder.nspecies:, :]\n",
    "c = np.exp(logc)"
   ]
  },
  {
   "cell_type": "code",
   "execution_count": 75,
   "id": "66c17ff1",
   "metadata": {},
   "outputs": [
    {
     "data": {
      "text/plain": [
       "<matplotlib.legend.Legend at 0x7f1b7c7488e0>"
      ]
     },
     "execution_count": 75,
     "metadata": {},
     "output_type": "execute_result"
    },
    {
     "data": {
      "image/png": "[encoded data removed]",
      "text/plain": [
       "<Figure size 432x288 with 1 Axes>"
      ]
     },
     "metadata": {
      "needs_background": "light"
     },
     "output_type": "display_data"
    }
   ],
   "source": [
    "i = 0\n",
    "plt.plot(builder.ygrid, c[i, :], 'o', label=builder.species[i])\n",
    "plt.legend()"
   ]
  },
  {
   "cell_type": "code",
   "execution_count": null,
   "id": "1e495f8a",
   "metadata": {},
   "outputs": [],
   "source": []
  },
  {
   "cell_type": "code",
   "execution_count": null,
   "id": "f271cb43",
   "metadata": {},
   "outputs": [],
   "source": []
  },
  {
   "cell_type": "code",
   "execution_count": null,
   "id": "1e7b3385",
   "metadata": {},
   "outputs": [],
   "source": []
  }
 ],
 "metadata": {
  "kernelspec": {
   "display_name": "Python 3 (ipykernel)",
   "language": "python",
   "name": "python3"
  },
  "language_info": {
   "codemirror_mode": {
    "name": "ipython",
    "version": 3
   },
   "file_extension": ".py",
   "mimetype": "text/x-python",
   "name": "python",
   "nbconvert_exporter": "python",
   "pygments_lexer": "ipython3",
   "version": "3.9.7"
  }
 },
 "nbformat": 4,
 "nbformat_minor": 5
}
