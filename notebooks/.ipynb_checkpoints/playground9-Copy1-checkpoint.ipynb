{
 "cells": [
  {
   "cell_type": "code",
   "execution_count": 1,
   "id": "adb5c4cf",
   "metadata": {},
   "outputs": [],
   "source": [
    "import numpy as np\n",
    "import jax.numpy as jnp\n",
    "import jax\n",
    "import scipy.linalg\n",
    "\n",
    "import pyequion2\n",
    "import matplotlib.pyplot as plt"
   ]
  },
  {
   "cell_type": "code",
   "execution_count": 2,
   "id": "6558f18d",
   "metadata": {},
   "outputs": [],
   "source": [
    "%load_ext autoreload\n",
    "%autoreload 2\n",
    "%matplotlib inline"
   ]
  },
  {
   "cell_type": "code",
   "execution_count": 4,
   "id": "22f63458",
   "metadata": {},
   "outputs": [],
   "source": [
    "class TransportBuilder(object):\n",
    "    def __init__(self, eqsys, TK, shear_velocity, kinematic_viscosity, cbulk, phases):\n",
    "        self.eqsys = eqsys\n",
    "        self.TK = TK\n",
    "        self.shear_velocity = shear_velocity\n",
    "        self.kinematic_viscosity = kinematic_viscosity\n",
    "        self.cbulk = cbulk\n",
    "        self.phases = phases\n",
    "        self.simplified = False\n",
    "        \n",
    "    def set_species(self, species_to_remove=[]):\n",
    "        self.basedict = {k: v\n",
    "                         for k, v in pyequion2.datamods.chemical_potentials.items()\n",
    "                         if k in self.eqsys.solutes\n",
    "                         and k not in species_to_remove}\n",
    "        self.species = [spec for spec in eqsys.species[1:] if spec not in species_to_remove]\n",
    "        self.species_ind = jnp.array([eqsys.species.index(spec) for spec in self.species])\n",
    "        self.solid_ind = jnp.array([eqsys.solid_phase_names.index(phase) for phase in self.phases])\n",
    "        self.reduced_formula_matrix = self.eqsys.formula_matrix[2:, self.species_ind]\n",
    "        self.reduced_reaction_vector = \\\n",
    "            eqsys.solid_stoich_matrix[self.solid_ind, :][:, self.species_ind]\n",
    "        self.closure_matrix = jnp.array(\n",
    "            scipy.linalg.null_space(\n",
    "                (self.reduced_formula_matrix@(self.reduced_reaction_vector.T)).T\n",
    "            ).T\n",
    "        )\n",
    "        self.nspecies = len(self.species)\n",
    "        self.logk_solid = eqsys.get_solid_log_equilibrium_constants(self.TK)[self.solid_ind]\n",
    "        self.reduced_standard_potentials = eqsys.get_standard_chemical_potentials(self.TK)[self.species_ind]\n",
    "        self.reduced_standard_potentials /= (pyequion2.constants.GAS_CONSTANT*self.TK)    \n",
    "        self.reduce_activity_function()\n",
    "        self.reduced_diffusion_coefficients = pyequion2.equilibrium_backend.diffusion_coefficients.get_diffusion_coefficients(\n",
    "                                        self.species, self.TK)\n",
    "        self.reduced_diffusion_coefficients = jnp.array(self.reduced_diffusion_coefficients)/self.kinematic_viscosity\n",
    "        \n",
    "    def reduce_activity_function(self):\n",
    "        activity_model = \"DEBYE_LIMITING\"\n",
    "        activity_model = eqsys.activity_model\n",
    "        self._actfunc = pyequion2.equilibrium_backend.ACTIVITY_MODEL_MAP[activity_model](\n",
    "                            self.species, backend=\"jax\")\n",
    "        \n",
    "    def activity_model_func(self, molals, TK):\n",
    "        return self._actfunc(molals, TK)[..., 1:]/pyequion2.constants.LOG10E\n",
    "        \n",
    "    def make_grid(self, ngrid, ymax):\n",
    "        self.ngrid = ngrid\n",
    "        self.npoints = ngrid + 1\n",
    "        self.ymax = ymax\n",
    "        self.ypoints, self.ystep = jnp.linspace(0, self.ymax, self.npoints, retstep=True)\n",
    "        self.ygrid = self.ypoints[:-1] + self.ystep/2\n",
    "        \n",
    "    def wall_diffusion_plus(self, yplus):\n",
    "        return 9.5*1e-4*yplus**3\n",
    "    \n",
    "    def wall_diffusion_plus_deriv(self, yplus):\n",
    "        return 3*9.5*1e-4*yplus**2\n",
    "\n",
    "    def transport_residual(self, logc, mu):\n",
    "        #logc : (nsolutes, ngrid)\n",
    "        #npoints = ngrid + 1\n",
    "        logg = self.activity_model_func(jnp.exp(logc).T, self.TK).T #(nsolutes, ngrid)\n",
    "        c = jnp.exp(logc) #(nsolutes, ngrid)\n",
    "        loga = logg + logc #(nsolutes, ngrid)\n",
    "        ypoints = self.ypoints #(npoints,)\n",
    "        ystep = self.ystep\n",
    "        mdiffs = self.reduced_diffusion_coefficients[..., None] #(nsolutes, 1)\n",
    "        tdiffs = self.wall_diffusion_plus(ypoints)[1:-1] #(ngrid-1,)\n",
    "        A = self.reduced_formula_matrix #(nels, nsolutes)\n",
    "        C = self.closure_matrix #(nels-nreac, nsolutes)\n",
    "        R = self.reduced_reaction_vector #(nreac, nsolutes)\n",
    "        logKsp = self.logk_solid[..., None] #(nreac, 1)\n",
    "        cbulk = self.cbulk[..., None] #(nels, 1)\n",
    "        cinterp = (c[:, 1:] + c[:, :-1])*0.5 #(nsolutes, ngrid-1)\n",
    "        dmu = (loga[:, 1:] - loga[:, :-1])/ystep #(nsolutes, ngrid-1)\n",
    "        dc = (c[:, 1:] - c[:, :-1])/ystep #(nsolutes, ngrid-1)\n",
    "        if self.simplified:\n",
    "            jmiddle = -A@(mdiffs*dc + tdiffs*dc) #(nsolutes, ngrid-1)\n",
    "        else:\n",
    "            jmiddle = -A@(mdiffs*cinterp*dmu + tdiffs*dc) #(nsolutes, ngrid-1)\n",
    "        jleft = jmiddle[:, :1] #(nsolutes, 1)\n",
    "        cright = c[:, -1:] #(nsolutes, 1)\n",
    "        logaleft = loga[:, :1] #(nsolutes, 1)\n",
    "        middle_residual = jmiddle[:, 1:] - jmiddle[:, :-1] #(nsolutes, ngrid-2)\n",
    "        right_residual = A@cright - cbulk #(nsolutes, 1)\n",
    "        upper_left_residual = R@logaleft - logKsp #(nreac, 1)\n",
    "        lower_left_residual = C@jleft #(nels - nreac, 1)\n",
    "        left_residual = jnp.vstack([upper_left_residual, lower_left_residual]) #(nsolutes, 1)\n",
    "        residual = jnp.hstack([left_residual, middle_residual, right_residual]) #(nsolutes, ngrid)\n",
    "        return residual\n",
    "    \n",
    "    def fluxes(self, logc):\n",
    "        logg = self.activity_model_func(jnp.exp(logc).T, self.TK).T #(nsolutes, ngrid)\n",
    "        c = jnp.exp(logc) #(nsolutes, ngrid)\n",
    "        loga = logg + logc #(nsolutes, ngrid)\n",
    "        ypoints = self.ypoints #(npoints,)\n",
    "        ystep = self.ystep\n",
    "        mdiffs = self.reduced_diffusion_coefficients[..., None] #(nsolutes, 1)\n",
    "        tdiffs = self.wall_diffusion_plus(ypoints)[1:-1] #(ngrid-1,)\n",
    "        A = self.reduced_formula_matrix #(nels, nsolutes)\n",
    "        cinterp = (c[:, 1:] + c[:, :-1])*0.5 #(nsolutes, ngrid-1)\n",
    "        dmu = (loga[:, 1:] - loga[:, :-1])/ystep #(nsolutes, ngrid-1)\n",
    "        dc = (c[:, 1:] - c[:, :-1])/ystep #(nsolutes, ngrid-1)\n",
    "        if self.simplified:\n",
    "            jmiddle = -A@(mdiffs*dc + tdiffs*dc) #(nsolutes, ngrid-1)\n",
    "        else:\n",
    "            jmiddle = -A@(mdiffs*cinterp*dmu + tdiffs*dc) #(nsolutes, ngrid-1)\n",
    "        return jmiddle\n",
    "    \n",
    "    def potential_residual(self, logc, mu):\n",
    "        #logc : (nsolutes, ngrid)\n",
    "        #mu : (nsolutes, ngrid)\n",
    "        logg = self.activity_model_func(jnp.exp(logc).T, self.TK).T\n",
    "        loga = logg + logc\n",
    "        mu0 = self.reduced_standard_potentials[..., None]\n",
    "        return mu - (mu0 + loga)\n",
    "    \n",
    "    def full_residual(self, logcmu):\n",
    "        #logcmu : (2*nsolutes, ngrid)\n",
    "        n = logcmu.shape[0]\n",
    "        logc = logcmu[:n//2, :]\n",
    "        mu = logcmu[n//2:, :]\n",
    "        res1 = self.transport_residual(logc, mu) #(nels, ngrid)\n",
    "        res3 = self.potential_residual(logc, mu) #(nsolutes, ngrid)\n",
    "        res = jnp.vstack([res1, res3]) #(nels + nsolutes, ngrid)\n",
    "        return res\n",
    "\n",
    "    def gibbs_free_energy(self, logcmu):\n",
    "        n = logcmu.shape[0]\n",
    "        logc = logcmu[:n//2, :]\n",
    "        mu = logcmu[n//2:, :]\n",
    "        c = jnp.exp(logc)\n",
    "        return jnp.mean(jnp.sum(c*mu, axis=0))    \n",
    "    \n",
    "    def flattened_equality_constraint(self, x):\n",
    "        cmu = x.reshape(2*self.nspecies, self.ngrid)\n",
    "        return self.full_residual(cmu).flatten()\n",
    "    \n",
    "    def flattened_minimization_objective(self, x):\n",
    "        cmu = x.reshape(2*self.nspecies, self.ngrid)\n",
    "        return self.gibbs_free_energy(cmu).flatten()[0]\n",
    "        \n",
    "    def wall_length(self):\n",
    "        return self.kinematic_viscosity/self.shear_velocity\n",
    "    \n",
    "    def wall_time(self):\n",
    "        return self.kinematic_viscosity/(self.shear_velocity**2)\n",
    "    \n",
    "    def get_log_equilibrium_constants(self, TK):\n",
    "        return self.eqsys.get_log_equilibrium_constants(TK)\n",
    "    \n",
    "    def simplify(self):\n",
    "        self.simplified = True\n",
    "    \n",
    "    def complexify(self):\n",
    "        self.simplified = False"
   ]
  },
  {
   "cell_type": "code",
   "execution_count": 5,
   "id": "177d5a61",
   "metadata": {},
   "outputs": [
    {
     "name": "stderr",
     "output_type": "stream",
     "text": [
      "WARNING:absl:No GPU/TPU found, falling back to CPU. (Set TF_CPP_MIN_LOG_LEVEL=0 and rerun for more info.)\n"
     ]
    }
   ],
   "source": [
    "eqsys = pyequion2.EquilibriumBackend([\"Na\", \"Cl\", \"Ca\", \"C\"], from_elements=True, backend=\"jax\", logbase=\"e\")"
   ]
  },
  {
   "cell_type": "code",
   "execution_count": 6,
   "id": "3ff5751a",
   "metadata": {},
   "outputs": [
    {
     "data": {
      "text/plain": [
       "{'H2O': DeviceArray(-237172.17, dtype=float32),\n",
       " 'CO2': DeviceArray(-385941.53, dtype=float32),\n",
       " 'CO3--': DeviceArray(-527900., dtype=float32),\n",
       " 'Ca++': DeviceArray(-553040., dtype=float32),\n",
       " 'CaCO3': DeviceArray(-1099350., dtype=float32),\n",
       " 'CaHCO3+': DeviceArray(-1146208.4, dtype=float32),\n",
       " 'CaOH+': DeviceArray(-717263.8, dtype=float32),\n",
       " 'Cl-': DeviceArray(-131260., dtype=float32),\n",
       " 'H+': DeviceArray(0., dtype=float32),\n",
       " 'HCO3-': DeviceArray(-586857.2, dtype=float32),\n",
       " 'Na+': DeviceArray(-261890., dtype=float32),\n",
       " 'Na2CO3': DeviceArray(-1055515.8, dtype=float32),\n",
       " 'NaCO3-': DeviceArray(-797039.2, dtype=float32),\n",
       " 'NaHCO3': DeviceArray(-847320.2, dtype=float32),\n",
       " 'NaOH': DeviceArray(-418122.6, dtype=float32),\n",
       " 'OH-': DeviceArray(-157290., dtype=float32)}"
      ]
     },
     "execution_count": 6,
     "metadata": {},
     "output_type": "execute_result"
    }
   ],
   "source": [
    "{sp: k for sp, k in zip(eqsys.species, eqsys.get_standard_chemical_potentials(298.15))}"
   ]
  },
  {
   "cell_type": "code",
   "execution_count": 7,
   "id": "e5c08f72",
   "metadata": {},
   "outputs": [
    {
     "data": {
      "text/plain": [
       "['CO2', 'CO3--', 'Ca++', 'Cl-', 'HCO3-', 'Na+']"
      ]
     },
     "execution_count": 7,
     "metadata": {},
     "output_type": "execute_result"
    }
   ],
   "source": [
    "builder = TransportBuilder(eqsys, 298.15, 0.1, 1e-6, jnp.array([65, 56, 75.0, 28.0, 0.0]), [\"Calcite\"])\n",
    "builder.set_species(['CaCO3', 'CaHCO3+', 'CaOH+', 'Na2CO3', 'NaCO3-', 'NaHCO3', 'NaOH', 'CaOH+',\n",
    "                     'H+', 'OH-'])\n",
    "builder.make_grid(3, 5)\n",
    "builder.species"
   ]
  },
  {
   "cell_type": "code",
   "execution_count": 8,
   "id": "94950066",
   "metadata": {},
   "outputs": [],
   "source": [
    "logc = np.ones([builder.nspecies, builder.ngrid])*0.0 - 1.0\n",
    "mu = builder.reduced_standard_potentials[..., None] + logc\n",
    "logcmu = jnp.vstack([logc, mu])"
   ]
  },
  {
   "cell_type": "code",
   "execution_count": 9,
   "id": "b0a0dba5",
   "metadata": {},
   "outputs": [
    {
     "data": {
      "text/plain": [
       "DeviceArray([[ 14.393301  ,   0.        , -63.896362  ],\n",
       "             [  0.        ,   0.        , -55.632122  ],\n",
       "             [  0.        ,   0.        , -74.63212   ],\n",
       "             [  0.        ,   0.        , -27.63212   ],\n",
       "             [  0.        ,   0.        ,  -0.36787945],\n",
       "             [ -0.4658966 ,  -0.4658966 ,  -0.4658966 ],\n",
       "             [  1.8973236 ,   1.8973236 ,   1.8973236 ],\n",
       "             [  1.234909  ,   1.234909  ,   1.234909  ],\n",
       "             [  0.56424713,   0.56424713,   0.56424713],\n",
       "             [  0.47433472,   0.47433472,   0.47433472],\n",
       "             [  0.23307037,   0.23307037,   0.23307037]], dtype=float32)"
      ]
     },
     "execution_count": 9,
     "metadata": {},
     "output_type": "execute_result"
    }
   ],
   "source": [
    "builder.simplify()\n",
    "builder.full_residual(logcmu)"
   ]
  },
  {
   "cell_type": "code",
   "execution_count": 10,
   "id": "31b893b6",
   "metadata": {},
   "outputs": [
    {
     "data": {
      "text/plain": [
       "DeviceArray(-365.32776, dtype=float32)"
      ]
     },
     "execution_count": 10,
     "metadata": {},
     "output_type": "execute_result"
    }
   ],
   "source": [
    "builder.flattened_minimization_objective(logcmu.flatten())"
   ]
  },
  {
   "cell_type": "code",
   "execution_count": 11,
   "id": "0de1ae95",
   "metadata": {},
   "outputs": [],
   "source": [
    "constraints = {'type':'eq',\n",
    "               'fun':jax.jit(builder.flattened_equality_constraint),\n",
    "               'jac':jax.jit(jax.jacfwd(builder.flattened_equality_constraint))}\n",
    "equality_constraint = scipy.optimize.NonlinearConstraint(\n",
    "    jax.jit(builder.flattened_equality_constraint),\n",
    "    lb=0.0,\n",
    "    ub=0.0,\n",
    "    jac = jax.jit(jax.jacfwd(builder.flattened_equality_constraint)))\n"
   ]
  },
  {
   "cell_type": "code",
   "execution_count": 12,
   "id": "397d76e3",
   "metadata": {},
   "outputs": [
    {
     "ename": "ValueError",
     "evalue": "array must not contain infs or NaNs",
     "output_type": "error",
     "traceback": [
      "\u001b[0;31m---------------------------------------------------------------------------\u001b[0m",
      "\u001b[0;31mValueError\u001b[0m                                Traceback (most recent call last)",
      "\u001b[0;32m/tmp/ipykernel_18654/1094103201.py\u001b[0m in \u001b[0;36m<module>\u001b[0;34m\u001b[0m\n\u001b[0;32m----> 1\u001b[0;31m sol_simple = scipy.optimize.minimize(jax.jit(builder.flattened_minimization_objective),\n\u001b[0m\u001b[1;32m      2\u001b[0m                               \u001b[0mlogcmu\u001b[0m\u001b[0;34m.\u001b[0m\u001b[0mflatten\u001b[0m\u001b[0;34m(\u001b[0m\u001b[0;34m)\u001b[0m\u001b[0;34m,\u001b[0m\u001b[0;34m\u001b[0m\u001b[0;34m\u001b[0m\u001b[0m\n\u001b[1;32m      3\u001b[0m                               \u001b[0mjac\u001b[0m \u001b[0;34m=\u001b[0m \u001b[0mjax\u001b[0m\u001b[0;34m.\u001b[0m\u001b[0mjit\u001b[0m\u001b[0;34m(\u001b[0m\u001b[0mjax\u001b[0m\u001b[0;34m.\u001b[0m\u001b[0mgrad\u001b[0m\u001b[0;34m(\u001b[0m\u001b[0mbuilder\u001b[0m\u001b[0;34m.\u001b[0m\u001b[0mflattened_minimization_objective\u001b[0m\u001b[0;34m)\u001b[0m\u001b[0;34m)\u001b[0m\u001b[0;34m,\u001b[0m\u001b[0;34m\u001b[0m\u001b[0;34m\u001b[0m\u001b[0m\n\u001b[1;32m      4\u001b[0m                               \u001b[0mconstraints\u001b[0m\u001b[0;34m=\u001b[0m\u001b[0mequality_constraint\u001b[0m\u001b[0;34m,\u001b[0m\u001b[0;34m\u001b[0m\u001b[0;34m\u001b[0m\u001b[0m\n\u001b[1;32m      5\u001b[0m                               method='trust-constr')\n",
      "\u001b[0;32m~/miniconda3/envs/mainenv/lib/python3.9/site-packages/scipy/optimize/_minimize.py\u001b[0m in \u001b[0;36mminimize\u001b[0;34m(fun, x0, args, method, jac, hess, hessp, bounds, constraints, tol, callback, options)\u001b[0m\n\u001b[1;32m    632\u001b[0m                                constraints, callback=callback, **options)\n\u001b[1;32m    633\u001b[0m     \u001b[0;32melif\u001b[0m \u001b[0mmeth\u001b[0m \u001b[0;34m==\u001b[0m \u001b[0;34m'trust-constr'\u001b[0m\u001b[0;34m:\u001b[0m\u001b[0;34m\u001b[0m\u001b[0;34m\u001b[0m\u001b[0m\n\u001b[0;32m--> 634\u001b[0;31m         return _minimize_trustregion_constr(fun, x0, args, jac, hess, hessp,\n\u001b[0m\u001b[1;32m    635\u001b[0m                                             \u001b[0mbounds\u001b[0m\u001b[0;34m,\u001b[0m \u001b[0mconstraints\u001b[0m\u001b[0;34m,\u001b[0m\u001b[0;34m\u001b[0m\u001b[0;34m\u001b[0m\u001b[0m\n\u001b[1;32m    636\u001b[0m                                             callback=callback, **options)\n",
      "\u001b[0;32m~/miniconda3/envs/mainenv/lib/python3.9/site-packages/scipy/optimize/_trustregion_constr/minimize_trustregion_constr.py\u001b[0m in \u001b[0;36m_minimize_trustregion_constr\u001b[0;34m(fun, x0, args, grad, hess, hessp, bounds, constraints, xtol, gtol, barrier_tol, sparse_jacobian, callback, maxiter, verbose, finite_diff_rel_step, initial_constr_penalty, initial_tr_radius, initial_barrier_parameter, initial_barrier_tolerance, factorization_method, disp)\u001b[0m\n\u001b[1;32m    498\u001b[0m             \u001b[0;32mreturn\u001b[0m \u001b[0mg\u001b[0m\u001b[0;34m,\u001b[0m \u001b[0mJ_eq\u001b[0m\u001b[0;34m\u001b[0m\u001b[0;34m\u001b[0m\u001b[0m\n\u001b[1;32m    499\u001b[0m \u001b[0;34m\u001b[0m\u001b[0m\n\u001b[0;32m--> 500\u001b[0;31m         _, result = equality_constrained_sqp(\n\u001b[0m\u001b[1;32m    501\u001b[0m             \u001b[0mfun_and_constr\u001b[0m\u001b[0;34m,\u001b[0m \u001b[0mgrad_and_jac\u001b[0m\u001b[0;34m,\u001b[0m \u001b[0mlagrangian_hess\u001b[0m\u001b[0;34m,\u001b[0m\u001b[0;34m\u001b[0m\u001b[0;34m\u001b[0m\u001b[0m\n\u001b[1;32m    502\u001b[0m             \u001b[0mx0\u001b[0m\u001b[0;34m,\u001b[0m \u001b[0mobjective\u001b[0m\u001b[0;34m.\u001b[0m\u001b[0mf\u001b[0m\u001b[0;34m,\u001b[0m \u001b[0mobjective\u001b[0m\u001b[0;34m.\u001b[0m\u001b[0mg\u001b[0m\u001b[0;34m,\u001b[0m\u001b[0;34m\u001b[0m\u001b[0;34m\u001b[0m\u001b[0m\n",
      "\u001b[0;32m~/miniconda3/envs/mainenv/lib/python3.9/site-packages/scipy/optimize/_trustregion_constr/equality_constrained_sqp.py\u001b[0m in \u001b[0;36mequality_constrained_sqp\u001b[0;34m(fun_and_constr, grad_and_jac, lagr_hess, x0, fun0, grad0, constr0, jac0, stop_criteria, state, initial_penalty, initial_trust_radius, factorization_method, trust_lb, trust_ub, scaling)\u001b[0m\n\u001b[1;32m    116\u001b[0m         \u001b[0mlb_t\u001b[0m \u001b[0;34m=\u001b[0m \u001b[0mtrust_lb\u001b[0m \u001b[0;34m-\u001b[0m \u001b[0mdn\u001b[0m\u001b[0;34m\u001b[0m\u001b[0;34m\u001b[0m\u001b[0m\n\u001b[1;32m    117\u001b[0m         \u001b[0mub_t\u001b[0m \u001b[0;34m=\u001b[0m \u001b[0mtrust_ub\u001b[0m \u001b[0;34m-\u001b[0m \u001b[0mdn\u001b[0m\u001b[0;34m\u001b[0m\u001b[0;34m\u001b[0m\u001b[0m\n\u001b[0;32m--> 118\u001b[0;31m         dt, cg_info = projected_cg(H, c_t, Z, Y, b_t,\n\u001b[0m\u001b[1;32m    119\u001b[0m                                    \u001b[0mtrust_radius_t\u001b[0m\u001b[0;34m,\u001b[0m\u001b[0;34m\u001b[0m\u001b[0;34m\u001b[0m\u001b[0m\n\u001b[1;32m    120\u001b[0m                                    lb_t, ub_t)\n",
      "\u001b[0;32m~/miniconda3/envs/mainenv/lib/python3.9/site-packages/scipy/optimize/_trustregion_constr/qp_subproblem.py\u001b[0m in \u001b[0;36mprojected_cg\u001b[0;34m(H, c, Z, Y, b, trust_radius, lb, ub, tol, max_iter, max_infeasible_iter, return_all)\u001b[0m\n\u001b[1;32m    496\u001b[0m     \u001b[0;31m# Initial Values\u001b[0m\u001b[0;34m\u001b[0m\u001b[0;34m\u001b[0m\u001b[0m\n\u001b[1;32m    497\u001b[0m     \u001b[0mx\u001b[0m \u001b[0;34m=\u001b[0m \u001b[0mY\u001b[0m\u001b[0;34m.\u001b[0m\u001b[0mdot\u001b[0m\u001b[0;34m(\u001b[0m\u001b[0;34m-\u001b[0m\u001b[0mb\u001b[0m\u001b[0;34m)\u001b[0m\u001b[0;34m\u001b[0m\u001b[0;34m\u001b[0m\u001b[0m\n\u001b[0;32m--> 498\u001b[0;31m     \u001b[0mr\u001b[0m \u001b[0;34m=\u001b[0m \u001b[0mZ\u001b[0m\u001b[0;34m.\u001b[0m\u001b[0mdot\u001b[0m\u001b[0;34m(\u001b[0m\u001b[0mH\u001b[0m\u001b[0;34m.\u001b[0m\u001b[0mdot\u001b[0m\u001b[0;34m(\u001b[0m\u001b[0mx\u001b[0m\u001b[0;34m)\u001b[0m \u001b[0;34m+\u001b[0m \u001b[0mc\u001b[0m\u001b[0;34m)\u001b[0m\u001b[0;34m\u001b[0m\u001b[0;34m\u001b[0m\u001b[0m\n\u001b[0m\u001b[1;32m    499\u001b[0m     \u001b[0mg\u001b[0m \u001b[0;34m=\u001b[0m \u001b[0mZ\u001b[0m\u001b[0;34m.\u001b[0m\u001b[0mdot\u001b[0m\u001b[0;34m(\u001b[0m\u001b[0mr\u001b[0m\u001b[0;34m)\u001b[0m\u001b[0;34m\u001b[0m\u001b[0;34m\u001b[0m\u001b[0m\n\u001b[1;32m    500\u001b[0m     \u001b[0mp\u001b[0m \u001b[0;34m=\u001b[0m \u001b[0;34m-\u001b[0m\u001b[0mg\u001b[0m\u001b[0;34m\u001b[0m\u001b[0;34m\u001b[0m\u001b[0m\n",
      "\u001b[0;32m~/miniconda3/envs/mainenv/lib/python3.9/site-packages/scipy/sparse/linalg/interface.py\u001b[0m in \u001b[0;36mdot\u001b[0;34m(self, x)\u001b[0m\n\u001b[1;32m    416\u001b[0m \u001b[0;34m\u001b[0m\u001b[0m\n\u001b[1;32m    417\u001b[0m             \u001b[0;32mif\u001b[0m \u001b[0mx\u001b[0m\u001b[0;34m.\u001b[0m\u001b[0mndim\u001b[0m \u001b[0;34m==\u001b[0m \u001b[0;36m1\u001b[0m \u001b[0;32mor\u001b[0m \u001b[0mx\u001b[0m\u001b[0;34m.\u001b[0m\u001b[0mndim\u001b[0m \u001b[0;34m==\u001b[0m \u001b[0;36m2\u001b[0m \u001b[0;32mand\u001b[0m \u001b[0mx\u001b[0m\u001b[0;34m.\u001b[0m\u001b[0mshape\u001b[0m\u001b[0;34m[\u001b[0m\u001b[0;36m1\u001b[0m\u001b[0;34m]\u001b[0m \u001b[0;34m==\u001b[0m \u001b[0;36m1\u001b[0m\u001b[0;34m:\u001b[0m\u001b[0;34m\u001b[0m\u001b[0;34m\u001b[0m\u001b[0m\n\u001b[0;32m--> 418\u001b[0;31m                 \u001b[0;32mreturn\u001b[0m \u001b[0mself\u001b[0m\u001b[0;34m.\u001b[0m\u001b[0mmatvec\u001b[0m\u001b[0;34m(\u001b[0m\u001b[0mx\u001b[0m\u001b[0;34m)\u001b[0m\u001b[0;34m\u001b[0m\u001b[0;34m\u001b[0m\u001b[0m\n\u001b[0m\u001b[1;32m    419\u001b[0m             \u001b[0;32melif\u001b[0m \u001b[0mx\u001b[0m\u001b[0;34m.\u001b[0m\u001b[0mndim\u001b[0m \u001b[0;34m==\u001b[0m \u001b[0;36m2\u001b[0m\u001b[0;34m:\u001b[0m\u001b[0;34m\u001b[0m\u001b[0;34m\u001b[0m\u001b[0m\n\u001b[1;32m    420\u001b[0m                 \u001b[0;32mreturn\u001b[0m \u001b[0mself\u001b[0m\u001b[0;34m.\u001b[0m\u001b[0mmatmat\u001b[0m\u001b[0;34m(\u001b[0m\u001b[0mx\u001b[0m\u001b[0;34m)\u001b[0m\u001b[0;34m\u001b[0m\u001b[0;34m\u001b[0m\u001b[0m\n",
      "\u001b[0;32m~/miniconda3/envs/mainenv/lib/python3.9/site-packages/scipy/sparse/linalg/interface.py\u001b[0m in \u001b[0;36mmatvec\u001b[0;34m(self, x)\u001b[0m\n\u001b[1;32m    230\u001b[0m             \u001b[0;32mraise\u001b[0m \u001b[0mValueError\u001b[0m\u001b[0;34m(\u001b[0m\u001b[0;34m'dimension mismatch'\u001b[0m\u001b[0;34m)\u001b[0m\u001b[0;34m\u001b[0m\u001b[0;34m\u001b[0m\u001b[0m\n\u001b[1;32m    231\u001b[0m \u001b[0;34m\u001b[0m\u001b[0m\n\u001b[0;32m--> 232\u001b[0;31m         \u001b[0my\u001b[0m \u001b[0;34m=\u001b[0m \u001b[0mself\u001b[0m\u001b[0;34m.\u001b[0m\u001b[0m_matvec\u001b[0m\u001b[0;34m(\u001b[0m\u001b[0mx\u001b[0m\u001b[0;34m)\u001b[0m\u001b[0;34m\u001b[0m\u001b[0;34m\u001b[0m\u001b[0m\n\u001b[0m\u001b[1;32m    233\u001b[0m \u001b[0;34m\u001b[0m\u001b[0m\n\u001b[1;32m    234\u001b[0m         \u001b[0;32mif\u001b[0m \u001b[0misinstance\u001b[0m\u001b[0;34m(\u001b[0m\u001b[0mx\u001b[0m\u001b[0;34m,\u001b[0m \u001b[0mnp\u001b[0m\u001b[0;34m.\u001b[0m\u001b[0mmatrix\u001b[0m\u001b[0;34m)\u001b[0m\u001b[0;34m:\u001b[0m\u001b[0;34m\u001b[0m\u001b[0;34m\u001b[0m\u001b[0m\n",
      "\u001b[0;32m~/miniconda3/envs/mainenv/lib/python3.9/site-packages/scipy/sparse/linalg/interface.py\u001b[0m in \u001b[0;36m_matvec\u001b[0;34m(self, x)\u001b[0m\n\u001b[1;32m    528\u001b[0m \u001b[0;34m\u001b[0m\u001b[0m\n\u001b[1;32m    529\u001b[0m     \u001b[0;32mdef\u001b[0m \u001b[0m_matvec\u001b[0m\u001b[0;34m(\u001b[0m\u001b[0mself\u001b[0m\u001b[0;34m,\u001b[0m \u001b[0mx\u001b[0m\u001b[0;34m)\u001b[0m\u001b[0;34m:\u001b[0m\u001b[0;34m\u001b[0m\u001b[0;34m\u001b[0m\u001b[0m\n\u001b[0;32m--> 530\u001b[0;31m         \u001b[0;32mreturn\u001b[0m \u001b[0mself\u001b[0m\u001b[0;34m.\u001b[0m\u001b[0m__matvec_impl\u001b[0m\u001b[0;34m(\u001b[0m\u001b[0mx\u001b[0m\u001b[0;34m)\u001b[0m\u001b[0;34m\u001b[0m\u001b[0;34m\u001b[0m\u001b[0m\n\u001b[0m\u001b[1;32m    531\u001b[0m \u001b[0;34m\u001b[0m\u001b[0m\n\u001b[1;32m    532\u001b[0m     \u001b[0;32mdef\u001b[0m \u001b[0m_rmatvec\u001b[0m\u001b[0;34m(\u001b[0m\u001b[0mself\u001b[0m\u001b[0;34m,\u001b[0m \u001b[0mx\u001b[0m\u001b[0;34m)\u001b[0m\u001b[0;34m:\u001b[0m\u001b[0;34m\u001b[0m\u001b[0;34m\u001b[0m\u001b[0m\n",
      "\u001b[0;32m~/miniconda3/envs/mainenv/lib/python3.9/site-packages/scipy/optimize/_trustregion_constr/projections.py\u001b[0m in \u001b[0;36mnull_space\u001b[0;34m(x)\u001b[0m\n\u001b[1;32m    190\u001b[0m         \u001b[0;31m# v = P inv(R) Q.T x\u001b[0m\u001b[0;34m\u001b[0m\u001b[0;34m\u001b[0m\u001b[0m\n\u001b[1;32m    191\u001b[0m         \u001b[0maux1\u001b[0m \u001b[0;34m=\u001b[0m \u001b[0mQ\u001b[0m\u001b[0;34m.\u001b[0m\u001b[0mT\u001b[0m\u001b[0;34m.\u001b[0m\u001b[0mdot\u001b[0m\u001b[0;34m(\u001b[0m\u001b[0mx\u001b[0m\u001b[0;34m)\u001b[0m\u001b[0;34m\u001b[0m\u001b[0;34m\u001b[0m\u001b[0m\n\u001b[0;32m--> 192\u001b[0;31m         \u001b[0maux2\u001b[0m \u001b[0;34m=\u001b[0m \u001b[0mscipy\u001b[0m\u001b[0;34m.\u001b[0m\u001b[0mlinalg\u001b[0m\u001b[0;34m.\u001b[0m\u001b[0msolve_triangular\u001b[0m\u001b[0;34m(\u001b[0m\u001b[0mR\u001b[0m\u001b[0;34m,\u001b[0m \u001b[0maux1\u001b[0m\u001b[0;34m,\u001b[0m \u001b[0mlower\u001b[0m\u001b[0;34m=\u001b[0m\u001b[0;32mFalse\u001b[0m\u001b[0;34m)\u001b[0m\u001b[0;34m\u001b[0m\u001b[0;34m\u001b[0m\u001b[0m\n\u001b[0m\u001b[1;32m    193\u001b[0m         \u001b[0mv\u001b[0m \u001b[0;34m=\u001b[0m \u001b[0mnp\u001b[0m\u001b[0;34m.\u001b[0m\u001b[0mzeros\u001b[0m\u001b[0;34m(\u001b[0m\u001b[0mm\u001b[0m\u001b[0;34m)\u001b[0m\u001b[0;34m\u001b[0m\u001b[0;34m\u001b[0m\u001b[0m\n\u001b[1;32m    194\u001b[0m         \u001b[0mv\u001b[0m\u001b[0;34m[\u001b[0m\u001b[0mP\u001b[0m\u001b[0;34m]\u001b[0m \u001b[0;34m=\u001b[0m \u001b[0maux2\u001b[0m\u001b[0;34m\u001b[0m\u001b[0;34m\u001b[0m\u001b[0m\n",
      "\u001b[0;32m~/miniconda3/envs/mainenv/lib/python3.9/site-packages/scipy/linalg/basic.py\u001b[0m in \u001b[0;36msolve_triangular\u001b[0;34m(a, b, trans, lower, unit_diagonal, overwrite_b, debug, check_finite)\u001b[0m\n\u001b[1;32m    337\u001b[0m \u001b[0;34m\u001b[0m\u001b[0m\n\u001b[1;32m    338\u001b[0m     \u001b[0ma1\u001b[0m \u001b[0;34m=\u001b[0m \u001b[0m_asarray_validated\u001b[0m\u001b[0;34m(\u001b[0m\u001b[0ma\u001b[0m\u001b[0;34m,\u001b[0m \u001b[0mcheck_finite\u001b[0m\u001b[0;34m=\u001b[0m\u001b[0mcheck_finite\u001b[0m\u001b[0;34m)\u001b[0m\u001b[0;34m\u001b[0m\u001b[0;34m\u001b[0m\u001b[0m\n\u001b[0;32m--> 339\u001b[0;31m     \u001b[0mb1\u001b[0m \u001b[0;34m=\u001b[0m \u001b[0m_asarray_validated\u001b[0m\u001b[0;34m(\u001b[0m\u001b[0mb\u001b[0m\u001b[0;34m,\u001b[0m \u001b[0mcheck_finite\u001b[0m\u001b[0;34m=\u001b[0m\u001b[0mcheck_finite\u001b[0m\u001b[0;34m)\u001b[0m\u001b[0;34m\u001b[0m\u001b[0;34m\u001b[0m\u001b[0m\n\u001b[0m\u001b[1;32m    340\u001b[0m     \u001b[0;32mif\u001b[0m \u001b[0mlen\u001b[0m\u001b[0;34m(\u001b[0m\u001b[0ma1\u001b[0m\u001b[0;34m.\u001b[0m\u001b[0mshape\u001b[0m\u001b[0;34m)\u001b[0m \u001b[0;34m!=\u001b[0m \u001b[0;36m2\u001b[0m \u001b[0;32mor\u001b[0m \u001b[0ma1\u001b[0m\u001b[0;34m.\u001b[0m\u001b[0mshape\u001b[0m\u001b[0;34m[\u001b[0m\u001b[0;36m0\u001b[0m\u001b[0;34m]\u001b[0m \u001b[0;34m!=\u001b[0m \u001b[0ma1\u001b[0m\u001b[0;34m.\u001b[0m\u001b[0mshape\u001b[0m\u001b[0;34m[\u001b[0m\u001b[0;36m1\u001b[0m\u001b[0;34m]\u001b[0m\u001b[0;34m:\u001b[0m\u001b[0;34m\u001b[0m\u001b[0;34m\u001b[0m\u001b[0m\n\u001b[1;32m    341\u001b[0m         \u001b[0;32mraise\u001b[0m \u001b[0mValueError\u001b[0m\u001b[0;34m(\u001b[0m\u001b[0;34m'expected square matrix'\u001b[0m\u001b[0;34m)\u001b[0m\u001b[0;34m\u001b[0m\u001b[0;34m\u001b[0m\u001b[0m\n",
      "\u001b[0;32m~/miniconda3/envs/mainenv/lib/python3.9/site-packages/scipy/_lib/_util.py\u001b[0m in \u001b[0;36m_asarray_validated\u001b[0;34m(a, check_finite, sparse_ok, objects_ok, mask_ok, as_inexact)\u001b[0m\n\u001b[1;32m    291\u001b[0m             \u001b[0;32mraise\u001b[0m \u001b[0mValueError\u001b[0m\u001b[0;34m(\u001b[0m\u001b[0;34m'masked arrays are not supported'\u001b[0m\u001b[0;34m)\u001b[0m\u001b[0;34m\u001b[0m\u001b[0;34m\u001b[0m\u001b[0m\n\u001b[1;32m    292\u001b[0m     \u001b[0mtoarray\u001b[0m \u001b[0;34m=\u001b[0m \u001b[0mnp\u001b[0m\u001b[0;34m.\u001b[0m\u001b[0masarray_chkfinite\u001b[0m \u001b[0;32mif\u001b[0m \u001b[0mcheck_finite\u001b[0m \u001b[0;32melse\u001b[0m \u001b[0mnp\u001b[0m\u001b[0;34m.\u001b[0m\u001b[0masarray\u001b[0m\u001b[0;34m\u001b[0m\u001b[0;34m\u001b[0m\u001b[0m\n\u001b[0;32m--> 293\u001b[0;31m     \u001b[0ma\u001b[0m \u001b[0;34m=\u001b[0m \u001b[0mtoarray\u001b[0m\u001b[0;34m(\u001b[0m\u001b[0ma\u001b[0m\u001b[0;34m)\u001b[0m\u001b[0;34m\u001b[0m\u001b[0;34m\u001b[0m\u001b[0m\n\u001b[0m\u001b[1;32m    294\u001b[0m     \u001b[0;32mif\u001b[0m \u001b[0;32mnot\u001b[0m \u001b[0mobjects_ok\u001b[0m\u001b[0;34m:\u001b[0m\u001b[0;34m\u001b[0m\u001b[0;34m\u001b[0m\u001b[0m\n\u001b[1;32m    295\u001b[0m         \u001b[0;32mif\u001b[0m \u001b[0ma\u001b[0m\u001b[0;34m.\u001b[0m\u001b[0mdtype\u001b[0m \u001b[0;32mis\u001b[0m \u001b[0mnp\u001b[0m\u001b[0;34m.\u001b[0m\u001b[0mdtype\u001b[0m\u001b[0;34m(\u001b[0m\u001b[0;34m'O'\u001b[0m\u001b[0;34m)\u001b[0m\u001b[0;34m:\u001b[0m\u001b[0;34m\u001b[0m\u001b[0;34m\u001b[0m\u001b[0m\n",
      "\u001b[0;32m~/miniconda3/envs/mainenv/lib/python3.9/site-packages/numpy/lib/function_base.py\u001b[0m in \u001b[0;36masarray_chkfinite\u001b[0;34m(a, dtype, order)\u001b[0m\n\u001b[1;32m    601\u001b[0m     \u001b[0ma\u001b[0m \u001b[0;34m=\u001b[0m \u001b[0masarray\u001b[0m\u001b[0;34m(\u001b[0m\u001b[0ma\u001b[0m\u001b[0;34m,\u001b[0m \u001b[0mdtype\u001b[0m\u001b[0;34m=\u001b[0m\u001b[0mdtype\u001b[0m\u001b[0;34m,\u001b[0m \u001b[0morder\u001b[0m\u001b[0;34m=\u001b[0m\u001b[0morder\u001b[0m\u001b[0;34m)\u001b[0m\u001b[0;34m\u001b[0m\u001b[0;34m\u001b[0m\u001b[0m\n\u001b[1;32m    602\u001b[0m     \u001b[0;32mif\u001b[0m \u001b[0ma\u001b[0m\u001b[0;34m.\u001b[0m\u001b[0mdtype\u001b[0m\u001b[0;34m.\u001b[0m\u001b[0mchar\u001b[0m \u001b[0;32min\u001b[0m \u001b[0mtypecodes\u001b[0m\u001b[0;34m[\u001b[0m\u001b[0;34m'AllFloat'\u001b[0m\u001b[0;34m]\u001b[0m \u001b[0;32mand\u001b[0m \u001b[0;32mnot\u001b[0m \u001b[0mnp\u001b[0m\u001b[0;34m.\u001b[0m\u001b[0misfinite\u001b[0m\u001b[0;34m(\u001b[0m\u001b[0ma\u001b[0m\u001b[0;34m)\u001b[0m\u001b[0;34m.\u001b[0m\u001b[0mall\u001b[0m\u001b[0;34m(\u001b[0m\u001b[0;34m)\u001b[0m\u001b[0;34m:\u001b[0m\u001b[0;34m\u001b[0m\u001b[0;34m\u001b[0m\u001b[0m\n\u001b[0;32m--> 603\u001b[0;31m         raise ValueError(\n\u001b[0m\u001b[1;32m    604\u001b[0m             \"array must not contain infs or NaNs\")\n\u001b[1;32m    605\u001b[0m     \u001b[0;32mreturn\u001b[0m \u001b[0ma\u001b[0m\u001b[0;34m\u001b[0m\u001b[0;34m\u001b[0m\u001b[0m\n",
      "\u001b[0;31mValueError\u001b[0m: array must not contain infs or NaNs"
     ]
    }
   ],
   "source": [
    "sol_simple = scipy.optimize.minimize(jax.jit(builder.flattened_minimization_objective),\n",
    "                              logcmu.flatten(),\n",
    "                              jac = jax.jit(jax.grad(builder.flattened_minimization_objective)),\n",
    "                              constraints=equality_constraint,\n",
    "                              method='trust-constr')"
   ]
  },
  {
   "cell_type": "code",
   "execution_count": 36,
   "id": "233314cf",
   "metadata": {},
   "outputs": [
    {
     "data": {
      "text/plain": [
       "True"
      ]
     },
     "execution_count": 36,
     "metadata": {},
     "output_type": "execute_result"
    }
   ],
   "source": [
    "sol_simple.success"
   ]
  },
  {
   "cell_type": "code",
   "execution_count": 23,
   "id": "4dc78a5e",
   "metadata": {},
   "outputs": [],
   "source": [
    "# builder.complexify()\n",
    "# sol = scipy.optimize.minimize(jax.jit(builder.flattened_minimization_objective),\n",
    "#                               sol_simple.x,\n",
    "#                               jac = jax.jit(jax.grad(builder.flattened_minimization_objective)),\n",
    "#                               constraints=equality_constraint,\n",
    "#                               method='trust-constr')\n",
    "sol = sol_simple"
   ]
  },
  {
   "cell_type": "code",
   "execution_count": 24,
   "id": "9731a92b",
   "metadata": {},
   "outputs": [],
   "source": [
    "logcmu = sol.x.reshape(builder.nspecies*2, builder.ngrid)\n",
    "logc, mu = logcmu[:builder.nspecies, :], logcmu[builder.nspecies:, :]\n",
    "c = np.exp(logc)"
   ]
  },
  {
   "cell_type": "code",
   "execution_count": 144,
   "id": "f7028dbd",
   "metadata": {},
   "outputs": [
    {
     "data": {
      "text/plain": [
       "DeviceArray([[-2.01703310e-02, -2.01704782e-02, -2.01704726e-02,\n",
       "              -2.01702286e-02, -2.01703273e-02, -2.01704372e-02,\n",
       "              -2.01703981e-02, -2.01703068e-02, -2.01705042e-02,\n",
       "              -2.01702397e-02, -2.01702379e-02, -2.01707222e-02,\n",
       "              -2.01701112e-02, -2.01702062e-02, -2.01705210e-02,\n",
       "              -2.01701839e-02, -2.01705173e-02, -2.01702677e-02,\n",
       "              -2.01708302e-02, -2.01693997e-02, -2.01705657e-02,\n",
       "              -2.01709308e-02, -2.01697256e-02, -2.01711766e-02,\n",
       "              -2.01703310e-02, -2.01699603e-02, -2.01711692e-02,\n",
       "              -2.01689322e-02, -2.01718677e-02, -2.01689564e-02,\n",
       "              -2.01717634e-02, -2.01693233e-02, -2.01721676e-02,\n",
       "              -2.01687627e-02, -2.01718193e-02, -2.01698672e-02,\n",
       "              -2.01711543e-02, -2.01690551e-02, -2.01689024e-02,\n",
       "              -2.01695021e-02, -2.01730337e-02, -2.01699417e-02,\n",
       "              -2.01712381e-02, -2.01664660e-02, -2.01709773e-02,\n",
       "              -2.01722961e-02, -2.01717522e-02, -2.01670174e-02,\n",
       "              -2.01723184e-02, -2.01684367e-02, -2.01734696e-02,\n",
       "              -2.01667286e-02, -2.01755483e-02, -2.01656539e-02,\n",
       "              -2.01697368e-02, -2.01754700e-02, -2.01675408e-02,\n",
       "              -2.01670285e-02, -2.01768335e-02, -2.01696213e-02,\n",
       "              -2.01677177e-02, -2.01679971e-02, -2.01795585e-02,\n",
       "              -2.01677047e-02, -2.01695077e-02, -2.01663189e-02,\n",
       "              -2.01685224e-02, -2.01668404e-02, -2.01703180e-02,\n",
       "              -2.01827083e-02, -2.01682411e-02, -2.01686285e-02,\n",
       "              -2.01654807e-02, -2.01708116e-02, -2.01661885e-02,\n",
       "              -2.01718733e-02, -2.01679021e-02, -2.01692339e-02,\n",
       "              -2.01860238e-02, -2.01687142e-02, -2.01690197e-02,\n",
       "              -2.01690961e-02, -2.01672371e-02, -2.01680996e-02,\n",
       "              -2.01689322e-02, -2.01683454e-02, -2.01647747e-02,\n",
       "              -2.01729294e-02, -2.01658793e-02, -2.01717168e-02,\n",
       "              -2.01682243e-02, -2.01632064e-02, -2.02140715e-02,\n",
       "              -2.01691240e-02, -2.01700535e-02, -2.01667603e-02,\n",
       "              -2.01703254e-02, -2.01689433e-02, -2.01668423e-02,\n",
       "              -2.01688763e-02, -2.01680362e-02, -2.01739352e-02,\n",
       "              -2.01619957e-02, -2.01704502e-02, -2.01693401e-02,\n",
       "              -2.01651994e-02, -2.01703459e-02, -2.01715603e-02,\n",
       "              -2.01711040e-02, -2.01677904e-02, -2.01684423e-02,\n",
       "              -2.01663468e-02, -2.01697294e-02, -2.01568846e-02,\n",
       "              -2.01542713e-02, -2.01835781e-02, -2.01786719e-02,\n",
       "              -2.02253200e-02, -2.01570224e-02],\n",
       "             [ 0.00000000e+00,  0.00000000e+00,  0.00000000e+00,\n",
       "               0.00000000e+00,  0.00000000e+00,  0.00000000e+00,\n",
       "              -1.31671140e-06,  1.32415437e-06,  0.00000000e+00,\n",
       "               0.00000000e+00,  0.00000000e+00,  0.00000000e+00,\n",
       "               0.00000000e+00,  0.00000000e+00,  0.00000000e+00,\n",
       "               0.00000000e+00, -1.51797974e-06,  0.00000000e+00,\n",
       "               1.60368393e-06,  0.00000000e+00, -1.70947089e-06,\n",
       "               1.77055608e-06,  0.00000000e+00,  0.00000000e+00,\n",
       "               0.00000000e+00,  0.00000000e+00,  0.00000000e+00,\n",
       "               0.00000000e+00,  0.00000000e+00,  0.00000000e+00,\n",
       "               0.00000000e+00,  0.00000000e+00,  0.00000000e+00,\n",
       "               0.00000000e+00,  0.00000000e+00,  0.00000000e+00,\n",
       "               0.00000000e+00,  0.00000000e+00,  0.00000000e+00,\n",
       "               0.00000000e+00,  0.00000000e+00,  0.00000000e+00,\n",
       "               0.00000000e+00,  0.00000000e+00,  0.00000000e+00,\n",
       "               0.00000000e+00,  0.00000000e+00,  0.00000000e+00,\n",
       "              -6.48301011e-06,  6.80675794e-06,  0.00000000e+00,\n",
       "               0.00000000e+00,  0.00000000e+00,  0.00000000e+00,\n",
       "               0.00000000e+00,  0.00000000e+00, -9.45772899e-06,\n",
       "               9.89457476e-06,  0.00000000e+00,  0.00000000e+00,\n",
       "               0.00000000e+00,  0.00000000e+00,  0.00000000e+00,\n",
       "               0.00000000e+00,  0.00000000e+00,  0.00000000e+00,\n",
       "               0.00000000e+00,  0.00000000e+00,  0.00000000e+00,\n",
       "               0.00000000e+00,  0.00000000e+00,  0.00000000e+00,\n",
       "               0.00000000e+00,  0.00000000e+00,  0.00000000e+00,\n",
       "               0.00000000e+00,  0.00000000e+00,  0.00000000e+00,\n",
       "               0.00000000e+00,  0.00000000e+00,  0.00000000e+00,\n",
       "               0.00000000e+00,  0.00000000e+00,  0.00000000e+00,\n",
       "               0.00000000e+00,  0.00000000e+00,  0.00000000e+00,\n",
       "               0.00000000e+00,  0.00000000e+00,  0.00000000e+00,\n",
       "               0.00000000e+00,  0.00000000e+00,  0.00000000e+00,\n",
       "               0.00000000e+00,  0.00000000e+00,  0.00000000e+00,\n",
       "               0.00000000e+00,  0.00000000e+00,  0.00000000e+00,\n",
       "               0.00000000e+00,  0.00000000e+00,  0.00000000e+00,\n",
       "               0.00000000e+00,  0.00000000e+00,  0.00000000e+00,\n",
       "              -5.37554042e-05,  5.52539896e-05,  0.00000000e+00,\n",
       "               0.00000000e+00, -5.99204686e-05,  6.15337267e-05,\n",
       "               0.00000000e+00,  0.00000000e+00,  0.00000000e+00,\n",
       "               0.00000000e+00,  0.00000000e+00,  0.00000000e+00,\n",
       "               0.00000000e+00,  0.00000000e+00],\n",
       "             [ 0.00000000e+00,  0.00000000e+00,  0.00000000e+00,\n",
       "               0.00000000e+00,  0.00000000e+00,  0.00000000e+00,\n",
       "               0.00000000e+00,  0.00000000e+00,  0.00000000e+00,\n",
       "               0.00000000e+00,  0.00000000e+00,  0.00000000e+00,\n",
       "               0.00000000e+00,  0.00000000e+00,  0.00000000e+00,\n",
       "               0.00000000e+00,  0.00000000e+00,  0.00000000e+00,\n",
       "               0.00000000e+00,  0.00000000e+00,  0.00000000e+00,\n",
       "               0.00000000e+00,  0.00000000e+00,  0.00000000e+00,\n",
       "               0.00000000e+00,  0.00000000e+00,  0.00000000e+00,\n",
       "               0.00000000e+00,  0.00000000e+00,  0.00000000e+00,\n",
       "               0.00000000e+00,  0.00000000e+00,  0.00000000e+00,\n",
       "               0.00000000e+00,  0.00000000e+00,  0.00000000e+00,\n",
       "               0.00000000e+00,  0.00000000e+00,  0.00000000e+00,\n",
       "               0.00000000e+00,  0.00000000e+00,  0.00000000e+00,\n",
       "               0.00000000e+00,  0.00000000e+00,  0.00000000e+00,\n",
       "               0.00000000e+00,  0.00000000e+00,  0.00000000e+00,\n",
       "               0.00000000e+00,  0.00000000e+00,  0.00000000e+00,\n",
       "               0.00000000e+00,  0.00000000e+00,  0.00000000e+00,\n",
       "               0.00000000e+00,  0.00000000e+00,  0.00000000e+00,\n",
       "               0.00000000e+00,  1.41401979e-05, -1.48084255e-05,\n",
       "               0.00000000e+00,  0.00000000e+00,  0.00000000e+00,\n",
       "               0.00000000e+00,  0.00000000e+00,  0.00000000e+00,\n",
       "               0.00000000e+00,  0.00000000e+00,  0.00000000e+00,\n",
       "               0.00000000e+00,  0.00000000e+00,  0.00000000e+00,\n",
       "               0.00000000e+00,  0.00000000e+00,  0.00000000e+00,\n",
       "               0.00000000e+00,  0.00000000e+00,  0.00000000e+00,\n",
       "               0.00000000e+00,  0.00000000e+00,  0.00000000e+00,\n",
       "               0.00000000e+00,  0.00000000e+00,  0.00000000e+00,\n",
       "               0.00000000e+00,  0.00000000e+00,  0.00000000e+00,\n",
       "               0.00000000e+00,  0.00000000e+00,  0.00000000e+00,\n",
       "               0.00000000e+00,  0.00000000e+00,  0.00000000e+00,\n",
       "               0.00000000e+00,  0.00000000e+00,  0.00000000e+00,\n",
       "               0.00000000e+00,  0.00000000e+00,  0.00000000e+00,\n",
       "               0.00000000e+00,  0.00000000e+00,  0.00000000e+00,\n",
       "               0.00000000e+00,  0.00000000e+00,  0.00000000e+00,\n",
       "               0.00000000e+00,  0.00000000e+00,  0.00000000e+00,\n",
       "               0.00000000e+00,  0.00000000e+00,  0.00000000e+00,\n",
       "               0.00000000e+00,  0.00000000e+00,  0.00000000e+00,\n",
       "               0.00000000e+00,  0.00000000e+00,  0.00000000e+00,\n",
       "               0.00000000e+00,  0.00000000e+00],\n",
       "             [-2.01703589e-02, -2.01703571e-02, -2.01703589e-02,\n",
       "              -2.01703589e-02, -2.01703552e-02, -2.01703701e-02,\n",
       "              -2.01703422e-02, -2.01703701e-02, -2.01703347e-02,\n",
       "              -2.01703869e-02, -2.01703254e-02, -2.01703403e-02,\n",
       "              -2.01703571e-02, -2.01703832e-02, -2.01703776e-02,\n",
       "              -2.01703906e-02, -2.01702882e-02, -2.01704092e-02,\n",
       "              -2.01703552e-02, -2.01704465e-02, -2.01702379e-02,\n",
       "              -2.01703254e-02, -2.01703645e-02, -2.01703385e-02,\n",
       "              -2.01704875e-02, -2.01704092e-02, -2.01702062e-02,\n",
       "              -2.01704744e-02, -2.01703310e-02, -2.01701578e-02,\n",
       "              -2.01705415e-02, -2.01702528e-02, -2.01702137e-02,\n",
       "              -2.01703794e-02, -2.01706514e-02, -2.01703683e-02,\n",
       "              -2.01700944e-02, -2.01703385e-02, -2.01705471e-02,\n",
       "              -2.01708265e-02, -2.01698821e-02, -2.01705247e-02,\n",
       "              -2.01701596e-02, -2.01699231e-02, -2.01705378e-02,\n",
       "              -2.01714858e-02, -2.01695450e-02, -2.01707948e-02,\n",
       "              -2.01699100e-02, -2.01698914e-02, -2.01701801e-02,\n",
       "              -2.01718640e-02, -2.01695599e-02, -2.01710127e-02,\n",
       "              -2.01694723e-02, -2.01702695e-02, -2.01713368e-02,\n",
       "              -2.01709550e-02, -2.01706700e-02, -2.01704763e-02,\n",
       "              -2.01684516e-02, -2.01705135e-02, -2.01701801e-02,\n",
       "              -2.01705247e-02, -2.01703478e-02, -2.01688316e-02,\n",
       "              -2.01735422e-02, -2.01684684e-02, -2.01708116e-02,\n",
       "              -2.01704707e-02, -2.01703627e-02, -2.01712567e-02,\n",
       "              -2.01700255e-02, -2.01680269e-02, -2.01693662e-02,\n",
       "              -2.01729424e-02, -2.01669130e-02, -2.01725643e-02,\n",
       "              -2.01715063e-02, -2.01686174e-02, -2.01711040e-02,\n",
       "              -2.01729462e-02, -2.01688521e-02, -2.01678481e-02,\n",
       "              -2.01722905e-02, -2.01683883e-02, -2.01697722e-02,\n",
       "              -2.01722849e-02, -2.01687682e-02, -2.01719552e-02,\n",
       "              -2.01721415e-02, -2.01731008e-02, -2.01738849e-02,\n",
       "              -2.01600865e-02, -2.01727618e-02, -2.01679450e-02,\n",
       "              -2.01714933e-02, -2.01675408e-02, -2.01752111e-02,\n",
       "              -2.01681927e-02, -2.01692861e-02, -2.01669354e-02,\n",
       "              -2.01758742e-02, -2.01696046e-02, -2.01699492e-02,\n",
       "              -2.01747660e-02, -2.01698933e-02, -2.01715026e-02,\n",
       "              -2.01646872e-02, -2.01665759e-02, -2.01788284e-02,\n",
       "              -2.01675352e-02, -2.01728139e-02, -2.01733913e-02,\n",
       "              -2.01697052e-02, -2.01721266e-02, -2.01616269e-02,\n",
       "              -2.01796200e-02, -2.01703385e-02],\n",
       "             [ 0.00000000e+00,  7.82310963e-08,  1.19209290e-07,\n",
       "              -9.68575478e-08, -5.58793545e-08,  2.60770321e-08,\n",
       "               1.39698386e-06, -1.38953328e-06,  1.97440386e-07,\n",
       "              -1.82539225e-07, -5.96046448e-08,  4.06056643e-07,\n",
       "              -2.45869160e-07, -1.97440386e-07,  1.19209290e-07,\n",
       "              -2.38418579e-07,  1.81049109e-06, -1.89989805e-07,\n",
       "              -1.12503767e-06, -1.13638816e-06,  2.15714681e-06,\n",
       "              -1.13492570e-06, -6.47713023e-07,  8.49708158e-07,\n",
       "              -2.74987542e-07, -4.96060238e-07,  1.11162080e-06,\n",
       "              -1.68174392e-06,  1.58369403e-06, -1.01182923e-06,\n",
       "               1.06904008e-06, -8.45025625e-07,  2.10001599e-06,\n",
       "              -1.66402378e-06,  9.17225407e-07, -5.43331225e-07,\n",
       "               1.35100527e-06, -1.28631746e-06, -1.76915046e-06,\n",
       "              -1.83765314e-06,  3.61053253e-06, -8.46078365e-07,\n",
       "               1.20679761e-06, -3.04356217e-06,  5.41276222e-07,\n",
       "              -4.70407940e-07,  3.05256435e-06, -4.39211726e-06,\n",
       "               9.40428890e-06, -7.27986981e-06,  3.17852027e-06,\n",
       "              -6.78747892e-06,  6.62377170e-06, -6.01261854e-06,\n",
       "               1.41188502e-06,  5.08565245e-06,  4.97247947e-06,\n",
       "              -1.45586382e-05,  1.94972927e-05, -1.48866566e-05,\n",
       "               8.30739737e-07, -2.64495611e-06,  9.13854274e-06,\n",
       "              -2.47731805e-06, -7.86036253e-07, -5.81145287e-07,\n",
       "              -9.23499465e-06,  4.39584255e-07, -3.94880772e-07,\n",
       "               1.23903901e-05, -3.42354178e-06, -2.51457095e-06,\n",
       "              -4.68268991e-06,  5.33089042e-06, -2.67475843e-06,\n",
       "              -2.58162618e-06,  4.82797623e-06, -5.63263893e-06,\n",
       "               1.15898511e-05,  2.95415521e-06, -1.55717134e-06,\n",
       "              -7.08177686e-06, -9.64850187e-07,  2.79396772e-06,\n",
       "              -6.04242086e-06,  1.66520476e-06, -4.02703881e-06,\n",
       "              -5.77419996e-07, -7.07805157e-07, -2.45124102e-06,\n",
       "              -6.06477261e-06, -1.42790377e-05,  3.95206880e-05,\n",
       "               1.72331929e-05, -2.92062759e-06, -1.33737922e-06,\n",
       "              -2.03028321e-06,  6.66081905e-06, -1.45807862e-05,\n",
       "               1.50874257e-06,  2.58535147e-06,  1.08443201e-05,\n",
       "              -2.17780471e-05,  1.28895044e-06,  2.57045031e-07,\n",
       "               3.80942838e-05, -5.24041425e-05, -1.31875277e-06,\n",
       "               1.51172280e-05,  6.30497088e-05, -7.94747248e-05,\n",
       "               1.82539225e-07, -3.34903598e-06, -2.56821513e-05,\n",
       "              -1.51917338e-05,  1.06543303e-05,  3.19518149e-05,\n",
       "               3.52673233e-05, -1.31428242e-05]], dtype=float32)"
      ]
     },
     "execution_count": 144,
     "metadata": {},
     "output_type": "execute_result"
    }
   ],
   "source": [
    "builder.fluxes(logc)"
   ]
  },
  {
   "cell_type": "code",
   "execution_count": 145,
   "id": "f460198a",
   "metadata": {},
   "outputs": [
    {
     "data": {
      "text/plain": [
       "Text(0.5, 0, '$y^+$')"
      ]
     },
     "execution_count": 145,
     "metadata": {},
     "output_type": "execute_result"
    },
    {
     "data": {
      "image/png": "[encoded data removed]",
      "text/plain": [
       "<Figure size 432x288 with 1 Axes>"
      ]
     },
     "metadata": {
      "needs_background": "light"
     },
     "output_type": "display_data"
    }
   ],
   "source": [
    "plt.figure()\n",
    "for i in range(builder.nspecies):\n",
    "    plt.plot(builder.ygrid, c[i, :], label=builder.species[i])\n",
    "plt.legend()\n",
    "plt.ylabel(r'$c$[molal]')\n",
    "plt.xlabel(r'$y^+$')"
   ]
  },
  {
   "cell_type": "code",
   "execution_count": 146,
   "id": "66c17ff1",
   "metadata": {},
   "outputs": [
    {
     "data": {
      "text/plain": [
       "Text(0.5, 0, '$y^+$')"
      ]
     },
     "execution_count": 146,
     "metadata": {},
     "output_type": "execute_result"
    },
    {
     "data": {
      "image/png": "[encoded data removed]",
      "text/plain": [
       "<Figure size 432x288 with 1 Axes>"
      ]
     },
     "metadata": {
      "needs_background": "light"
     },
     "output_type": "display_data"
    }
   ],
   "source": [
    "plt.figure()\n",
    "for i in range(builder.nspecies):\n",
    "    plt.plot(builder.ygrid, logc[i, :]/2.30, 'o', label=builder.species[i])\n",
    "plt.legend()\n",
    "plt.ylabel(r'$c$[molal]')\n",
    "plt.xlabel(r'$y^+$')"
   ]
  },
  {
   "cell_type": "code",
   "execution_count": null,
   "id": "f271cb43",
   "metadata": {},
   "outputs": [],
   "source": []
  },
  {
   "cell_type": "code",
   "execution_count": null,
   "id": "1e7b3385",
   "metadata": {},
   "outputs": [],
   "source": []
  },
  {
   "cell_type": "code",
   "execution_count": null,
   "id": "9e4c1dc1",
   "metadata": {},
   "outputs": [],
   "source": []
  }
 ],
 "metadata": {
  "kernelspec": {
   "display_name": "Python 3 (ipykernel)",
   "language": "python",
   "name": "python3"
  },
  "language_info": {
   "codemirror_mode": {
    "name": "ipython",
    "version": 3
   },
   "file_extension": ".py",
   "mimetype": "text/x-python",
   "name": "python",
   "nbconvert_exporter": "python",
   "pygments_lexer": "ipython3",
   "version": "3.9.7"
  }
 },
 "nbformat": 4,
 "nbformat_minor": 5
}
