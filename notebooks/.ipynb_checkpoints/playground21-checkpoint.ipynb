{
 "cells": [
  {
   "cell_type": "code",
   "execution_count": 36,
   "id": "c0b3dbdd",
   "metadata": {},
   "outputs": [],
   "source": [
    "import sys\n",
    "sys.path.append(\"..\")\n",
    "import functools\n",
    "\n",
    "import numpy as np\n",
    "import torch\n",
    "import scipy.linalg\n",
    "import scipy.optimize\n",
    "import matplotlib.pyplot as plt\n",
    "from dict_minimize.torch_api import minimize\n",
    "import functorch\n",
    "import pyequion2\n",
    "\n",
    "import tmcdiff"
   ]
  },
  {
   "cell_type": "code",
   "execution_count": 37,
   "id": "ffa825ce",
   "metadata": {},
   "outputs": [
    {
     "name": "stdout",
     "output_type": "stream",
     "text": [
      "The autoreload extension is already loaded. To reload it, use:\n",
      "  %reload_ext autoreload\n"
     ]
    }
   ],
   "source": [
    "%load_ext autoreload\n",
    "%autoreload 2\n",
    "%matplotlib inline"
   ]
  },
  {
   "cell_type": "code",
   "execution_count": 126,
   "id": "b7442e2d",
   "metadata": {},
   "outputs": [],
   "source": [
    "eqsys = pyequion2.EquilibriumBackend([\"Ca\", \"C\", \"Na\", \"Cl\"], from_elements=True, backend=\"torch\", logbase=\"e\",\n",
    "                                     activity_model=\"IDEAL\")"
   ]
  },
  {
   "cell_type": "code",
   "execution_count": 127,
   "id": "c6d16dc6",
   "metadata": {},
   "outputs": [],
   "source": [
    "TK = 298.15\n",
    "shear_velocity = 0.1\n",
    "kinematic_viscosity = 1e-6\n",
    "molal_balance = {'C':0.065, 'Ca':0.028, 'Na':0.075, 'Cl':0.056}\n",
    "\n",
    "builder = tmcdiff.TransportBuilder(eqsys, TK, shear_velocity,\n",
    "                           molal_balance, [\"Calcite\"],\n",
    "                           kreaction=\"inf\")\n",
    "builder.make_grid(10, 5)\n",
    "builder.set_species()"
   ]
  },
  {
   "cell_type": "code",
   "execution_count": null,
   "id": "6b6ea1f7",
   "metadata": {},
   "outputs": [],
   "source": []
  },
  {
   "cell_type": "code",
   "execution_count": null,
   "id": "327d0057",
   "metadata": {},
   "outputs": [],
   "source": []
  },
  {
   "cell_type": "code",
   "execution_count": null,
   "id": "6469c720",
   "metadata": {},
   "outputs": [],
   "source": []
  },
  {
   "cell_type": "code",
   "execution_count": 128,
   "id": "8a1fbc86",
   "metadata": {},
   "outputs": [
    {
     "name": "stdout",
     "output_type": "stream",
     "text": [
      "Solver jacobian is singular. Returning value and residual as it is\n"
     ]
    }
   ],
   "source": [
    "builder.set_initial_guess_from_bulk()"
   ]
  },
  {
   "cell_type": "code",
   "execution_count": 129,
   "id": "4bcf4596",
   "metadata": {},
   "outputs": [
    {
     "name": "stdout",
     "output_type": "stream",
     "text": [
      "Solver jacobian is singular. Returning value and residual as it is\n"
     ]
    },
    {
     "ename": "KeyError",
     "evalue": "'Ca'",
     "output_type": "error",
     "traceback": [
      "\u001b[0;31m---------------------------------------------------------------------------\u001b[0m",
      "\u001b[0;31mKeyError\u001b[0m                                  Traceback (most recent call last)",
      "\u001b[0;32m/tmp/ipykernel_10003/4271514682.py\u001b[0m in \u001b[0;36m<module>\u001b[0;34m\u001b[0m\n\u001b[0;32m----> 1\u001b[0;31m \u001b[0msol\u001b[0m \u001b[0;34m=\u001b[0m \u001b[0mbuilder\u001b[0m\u001b[0;34m.\u001b[0m\u001b[0mset_initial_guess_lagrangian\u001b[0m\u001b[0;34m(\u001b[0m\u001b[0;34m)\u001b[0m\u001b[0;34m\u001b[0m\u001b[0;34m\u001b[0m\u001b[0m\n\u001b[0m",
      "\u001b[0;32m~/Danilo/PythonWorkspace/TurbulentMulticomponentDiffusion/notebooks/../tmcdiff/builder.py\u001b[0m in \u001b[0;36mset_initial_guess_lagrangian\u001b[0;34m(self)\u001b[0m\n\u001b[1;32m    308\u001b[0m         \u001b[0mself\u001b[0m\u001b[0;34m.\u001b[0m\u001b[0mmake_grid\u001b[0m\u001b[0;34m(\u001b[0m\u001b[0;36m2\u001b[0m\u001b[0;34m,\u001b[0m \u001b[0mself\u001b[0m\u001b[0;34m.\u001b[0m\u001b[0mymax\u001b[0m\u001b[0;34m)\u001b[0m\u001b[0;34m\u001b[0m\u001b[0;34m\u001b[0m\u001b[0m\n\u001b[1;32m    309\u001b[0m         \u001b[0mself\u001b[0m\u001b[0;34m.\u001b[0m\u001b[0mset_initial_guess_from_bulk\u001b[0m\u001b[0;34m(\u001b[0m\u001b[0;34m)\u001b[0m\u001b[0;34m\u001b[0m\u001b[0;34m\u001b[0m\u001b[0m\n\u001b[0;32m--> 310\u001b[0;31m         \u001b[0msolsimple\u001b[0m \u001b[0;34m=\u001b[0m \u001b[0mself\u001b[0m\u001b[0;34m.\u001b[0m\u001b[0msolve_lma\u001b[0m\u001b[0;34m(\u001b[0m\u001b[0msimplified\u001b[0m\u001b[0;34m=\u001b[0m\u001b[0;32mTrue\u001b[0m\u001b[0;34m)\u001b[0m\u001b[0;34m;\u001b[0m\u001b[0;34m\u001b[0m\u001b[0;34m\u001b[0m\u001b[0m\n\u001b[0m\u001b[1;32m    311\u001b[0m         \u001b[0msolfull\u001b[0m \u001b[0;34m=\u001b[0m \u001b[0mself\u001b[0m\u001b[0;34m.\u001b[0m\u001b[0msolve_lma\u001b[0m\u001b[0;34m(\u001b[0m\u001b[0msimplified\u001b[0m\u001b[0;34m=\u001b[0m\u001b[0;32mFalse\u001b[0m\u001b[0;34m)\u001b[0m\u001b[0;34m;\u001b[0m\u001b[0;34m\u001b[0m\u001b[0;34m\u001b[0m\u001b[0m\n\u001b[1;32m    312\u001b[0m         \u001b[0msolgem\u001b[0m \u001b[0;34m=\u001b[0m \u001b[0mself\u001b[0m\u001b[0;34m.\u001b[0m\u001b[0msolve_gem_lagrangian\u001b[0m\u001b[0;34m(\u001b[0m\u001b[0msimplified\u001b[0m\u001b[0;34m=\u001b[0m\u001b[0;32mFalse\u001b[0m\u001b[0;34m)\u001b[0m\u001b[0;34m\u001b[0m\u001b[0;34m\u001b[0m\u001b[0m\n",
      "\u001b[0;32m~/Danilo/PythonWorkspace/TurbulentMulticomponentDiffusion/notebooks/../tmcdiff/builder.py\u001b[0m in \u001b[0;36msolve_lma\u001b[0;34m(self, simplified)\u001b[0m\n\u001b[1;32m    368\u001b[0m         \u001b[0mjac\u001b[0m \u001b[0;34m=\u001b[0m \u001b[0mtorch_wrap\u001b[0m\u001b[0;34m(\u001b[0m\u001b[0mfunctorch\u001b[0m\u001b[0;34m.\u001b[0m\u001b[0mjacrev\u001b[0m\u001b[0;34m(\u001b[0m\u001b[0mflat_residual\u001b[0m\u001b[0;34m)\u001b[0m\u001b[0;34m)\u001b[0m\u001b[0;34m\u001b[0m\u001b[0;34m\u001b[0m\u001b[0m\n\u001b[1;32m    369\u001b[0m         \u001b[0mx0\u001b[0m \u001b[0;34m=\u001b[0m \u001b[0mself\u001b[0m\u001b[0;34m.\u001b[0m\u001b[0mx\u001b[0m\u001b[0;34m.\u001b[0m\u001b[0mdetach\u001b[0m\u001b[0;34m(\u001b[0m\u001b[0;34m)\u001b[0m\u001b[0;34m.\u001b[0m\u001b[0mnumpy\u001b[0m\u001b[0;34m(\u001b[0m\u001b[0;34m)\u001b[0m\u001b[0;34m\u001b[0m\u001b[0;34m\u001b[0m\u001b[0m\n\u001b[0;32m--> 370\u001b[0;31m         \u001b[0msol\u001b[0m \u001b[0;34m=\u001b[0m \u001b[0mscipy\u001b[0m\u001b[0;34m.\u001b[0m\u001b[0moptimize\u001b[0m\u001b[0;34m.\u001b[0m\u001b[0mroot\u001b[0m\u001b[0;34m(\u001b[0m\u001b[0mf\u001b[0m\u001b[0;34m,\u001b[0m \u001b[0mx0\u001b[0m\u001b[0;34m,\u001b[0m \u001b[0mjac\u001b[0m\u001b[0;34m=\u001b[0m\u001b[0mjac\u001b[0m\u001b[0;34m,\u001b[0m \u001b[0mmethod\u001b[0m\u001b[0;34m=\u001b[0m\u001b[0;34m\"lm\"\u001b[0m\u001b[0;34m,\u001b[0m \u001b[0mtol\u001b[0m\u001b[0;34m=\u001b[0m\u001b[0;36m1e-12\u001b[0m\u001b[0;34m)\u001b[0m\u001b[0;34m\u001b[0m\u001b[0;34m\u001b[0m\u001b[0m\n\u001b[0m\u001b[1;32m    371\u001b[0m         \u001b[0mx\u001b[0m \u001b[0;34m=\u001b[0m \u001b[0mtorch\u001b[0m\u001b[0;34m.\u001b[0m\u001b[0mtensor\u001b[0m\u001b[0;34m(\u001b[0m\u001b[0msol\u001b[0m\u001b[0;34m.\u001b[0m\u001b[0mx\u001b[0m\u001b[0;34m,\u001b[0m \u001b[0mdtype\u001b[0m\u001b[0;34m=\u001b[0m\u001b[0mtorch\u001b[0m\u001b[0;34m.\u001b[0m\u001b[0mfloat\u001b[0m\u001b[0;34m)\u001b[0m\u001b[0;34m\u001b[0m\u001b[0;34m\u001b[0m\u001b[0m\n\u001b[1;32m    372\u001b[0m         \u001b[0mself\u001b[0m\u001b[0;34m.\u001b[0m\u001b[0mx\u001b[0m \u001b[0;34m=\u001b[0m \u001b[0mx\u001b[0m\u001b[0;34m\u001b[0m\u001b[0;34m\u001b[0m\u001b[0m\n",
      "\u001b[0;32m~/miniconda3/envs/mainenv/lib/python3.9/site-packages/scipy/optimize/_root.py\u001b[0m in \u001b[0;36mroot\u001b[0;34m(fun, x0, args, method, jac, tol, callback, options)\u001b[0m\n\u001b[1;32m    187\u001b[0m         \u001b[0msol\u001b[0m \u001b[0;34m=\u001b[0m \u001b[0m_root_hybr\u001b[0m\u001b[0;34m(\u001b[0m\u001b[0mfun\u001b[0m\u001b[0;34m,\u001b[0m \u001b[0mx0\u001b[0m\u001b[0;34m,\u001b[0m \u001b[0margs\u001b[0m\u001b[0;34m=\u001b[0m\u001b[0margs\u001b[0m\u001b[0;34m,\u001b[0m \u001b[0mjac\u001b[0m\u001b[0;34m=\u001b[0m\u001b[0mjac\u001b[0m\u001b[0;34m,\u001b[0m \u001b[0;34m**\u001b[0m\u001b[0moptions\u001b[0m\u001b[0;34m)\u001b[0m\u001b[0;34m\u001b[0m\u001b[0;34m\u001b[0m\u001b[0m\n\u001b[1;32m    188\u001b[0m     \u001b[0;32melif\u001b[0m \u001b[0mmeth\u001b[0m \u001b[0;34m==\u001b[0m \u001b[0;34m'lm'\u001b[0m\u001b[0;34m:\u001b[0m\u001b[0;34m\u001b[0m\u001b[0;34m\u001b[0m\u001b[0m\n\u001b[0;32m--> 189\u001b[0;31m         \u001b[0msol\u001b[0m \u001b[0;34m=\u001b[0m \u001b[0m_root_leastsq\u001b[0m\u001b[0;34m(\u001b[0m\u001b[0mfun\u001b[0m\u001b[0;34m,\u001b[0m \u001b[0mx0\u001b[0m\u001b[0;34m,\u001b[0m \u001b[0margs\u001b[0m\u001b[0;34m=\u001b[0m\u001b[0margs\u001b[0m\u001b[0;34m,\u001b[0m \u001b[0mjac\u001b[0m\u001b[0;34m=\u001b[0m\u001b[0mjac\u001b[0m\u001b[0;34m,\u001b[0m \u001b[0;34m**\u001b[0m\u001b[0moptions\u001b[0m\u001b[0;34m)\u001b[0m\u001b[0;34m\u001b[0m\u001b[0;34m\u001b[0m\u001b[0m\n\u001b[0m\u001b[1;32m    190\u001b[0m     \u001b[0;32melif\u001b[0m \u001b[0mmeth\u001b[0m \u001b[0;34m==\u001b[0m \u001b[0;34m'df-sane'\u001b[0m\u001b[0;34m:\u001b[0m\u001b[0;34m\u001b[0m\u001b[0;34m\u001b[0m\u001b[0m\n\u001b[1;32m    191\u001b[0m         \u001b[0m_warn_jac_unused\u001b[0m\u001b[0;34m(\u001b[0m\u001b[0mjac\u001b[0m\u001b[0;34m,\u001b[0m \u001b[0mmethod\u001b[0m\u001b[0;34m)\u001b[0m\u001b[0;34m\u001b[0m\u001b[0;34m\u001b[0m\u001b[0m\n",
      "\u001b[0;32m~/miniconda3/envs/mainenv/lib/python3.9/site-packages/scipy/optimize/_root.py\u001b[0m in \u001b[0;36m_root_leastsq\u001b[0;34m(fun, x0, args, jac, col_deriv, xtol, ftol, gtol, maxiter, eps, factor, diag, **unknown_options)\u001b[0m\n\u001b[1;32m    245\u001b[0m \u001b[0;34m\u001b[0m\u001b[0m\n\u001b[1;32m    246\u001b[0m     \u001b[0m_check_unknown_options\u001b[0m\u001b[0;34m(\u001b[0m\u001b[0munknown_options\u001b[0m\u001b[0;34m)\u001b[0m\u001b[0;34m\u001b[0m\u001b[0;34m\u001b[0m\u001b[0m\n\u001b[0;32m--> 247\u001b[0;31m     x, cov_x, info, msg, ier = leastsq(fun, x0, args=args, Dfun=jac,\n\u001b[0m\u001b[1;32m    248\u001b[0m                                        \u001b[0mfull_output\u001b[0m\u001b[0;34m=\u001b[0m\u001b[0;32mTrue\u001b[0m\u001b[0;34m,\u001b[0m\u001b[0;34m\u001b[0m\u001b[0;34m\u001b[0m\u001b[0m\n\u001b[1;32m    249\u001b[0m                                        \u001b[0mcol_deriv\u001b[0m\u001b[0;34m=\u001b[0m\u001b[0mcol_deriv\u001b[0m\u001b[0;34m,\u001b[0m \u001b[0mxtol\u001b[0m\u001b[0;34m=\u001b[0m\u001b[0mxtol\u001b[0m\u001b[0;34m,\u001b[0m\u001b[0;34m\u001b[0m\u001b[0;34m\u001b[0m\u001b[0m\n",
      "\u001b[0;32m~/miniconda3/envs/mainenv/lib/python3.9/site-packages/scipy/optimize/minpack.py\u001b[0m in \u001b[0;36mleastsq\u001b[0;34m(func, x0, args, Dfun, full_output, col_deriv, ftol, xtol, gtol, maxfev, epsfcn, factor, diag)\u001b[0m\n\u001b[1;32m    408\u001b[0m     \u001b[0;32mif\u001b[0m \u001b[0;32mnot\u001b[0m \u001b[0misinstance\u001b[0m\u001b[0;34m(\u001b[0m\u001b[0margs\u001b[0m\u001b[0;34m,\u001b[0m \u001b[0mtuple\u001b[0m\u001b[0;34m)\u001b[0m\u001b[0;34m:\u001b[0m\u001b[0;34m\u001b[0m\u001b[0;34m\u001b[0m\u001b[0m\n\u001b[1;32m    409\u001b[0m         \u001b[0margs\u001b[0m \u001b[0;34m=\u001b[0m \u001b[0;34m(\u001b[0m\u001b[0margs\u001b[0m\u001b[0;34m,\u001b[0m\u001b[0;34m)\u001b[0m\u001b[0;34m\u001b[0m\u001b[0;34m\u001b[0m\u001b[0m\n\u001b[0;32m--> 410\u001b[0;31m     \u001b[0mshape\u001b[0m\u001b[0;34m,\u001b[0m \u001b[0mdtype\u001b[0m \u001b[0;34m=\u001b[0m \u001b[0m_check_func\u001b[0m\u001b[0;34m(\u001b[0m\u001b[0;34m'leastsq'\u001b[0m\u001b[0;34m,\u001b[0m \u001b[0;34m'func'\u001b[0m\u001b[0;34m,\u001b[0m \u001b[0mfunc\u001b[0m\u001b[0;34m,\u001b[0m \u001b[0mx0\u001b[0m\u001b[0;34m,\u001b[0m \u001b[0margs\u001b[0m\u001b[0;34m,\u001b[0m \u001b[0mn\u001b[0m\u001b[0;34m)\u001b[0m\u001b[0;34m\u001b[0m\u001b[0;34m\u001b[0m\u001b[0m\n\u001b[0m\u001b[1;32m    411\u001b[0m     \u001b[0mm\u001b[0m \u001b[0;34m=\u001b[0m \u001b[0mshape\u001b[0m\u001b[0;34m[\u001b[0m\u001b[0;36m0\u001b[0m\u001b[0;34m]\u001b[0m\u001b[0;34m\u001b[0m\u001b[0;34m\u001b[0m\u001b[0m\n\u001b[1;32m    412\u001b[0m \u001b[0;34m\u001b[0m\u001b[0m\n",
      "\u001b[0;32m~/miniconda3/envs/mainenv/lib/python3.9/site-packages/scipy/optimize/minpack.py\u001b[0m in \u001b[0;36m_check_func\u001b[0;34m(checker, argname, thefunc, x0, args, numinputs, output_shape)\u001b[0m\n\u001b[1;32m     22\u001b[0m def _check_func(checker, argname, thefunc, x0, args, numinputs,\n\u001b[1;32m     23\u001b[0m                 output_shape=None):\n\u001b[0;32m---> 24\u001b[0;31m     \u001b[0mres\u001b[0m \u001b[0;34m=\u001b[0m \u001b[0matleast_1d\u001b[0m\u001b[0;34m(\u001b[0m\u001b[0mthefunc\u001b[0m\u001b[0;34m(\u001b[0m\u001b[0;34m*\u001b[0m\u001b[0;34m(\u001b[0m\u001b[0;34m(\u001b[0m\u001b[0mx0\u001b[0m\u001b[0;34m[\u001b[0m\u001b[0;34m:\u001b[0m\u001b[0mnuminputs\u001b[0m\u001b[0;34m]\u001b[0m\u001b[0;34m,\u001b[0m\u001b[0;34m)\u001b[0m \u001b[0;34m+\u001b[0m \u001b[0margs\u001b[0m\u001b[0;34m)\u001b[0m\u001b[0;34m)\u001b[0m\u001b[0;34m)\u001b[0m\u001b[0;34m\u001b[0m\u001b[0;34m\u001b[0m\u001b[0m\n\u001b[0m\u001b[1;32m     25\u001b[0m     \u001b[0;32mif\u001b[0m \u001b[0;34m(\u001b[0m\u001b[0moutput_shape\u001b[0m \u001b[0;32mis\u001b[0m \u001b[0;32mnot\u001b[0m \u001b[0;32mNone\u001b[0m\u001b[0;34m)\u001b[0m \u001b[0;32mand\u001b[0m \u001b[0;34m(\u001b[0m\u001b[0mshape\u001b[0m\u001b[0;34m(\u001b[0m\u001b[0mres\u001b[0m\u001b[0;34m)\u001b[0m \u001b[0;34m!=\u001b[0m \u001b[0moutput_shape\u001b[0m\u001b[0;34m)\u001b[0m\u001b[0;34m:\u001b[0m\u001b[0;34m\u001b[0m\u001b[0;34m\u001b[0m\u001b[0m\n\u001b[1;32m     26\u001b[0m         \u001b[0;32mif\u001b[0m \u001b[0;34m(\u001b[0m\u001b[0moutput_shape\u001b[0m\u001b[0;34m[\u001b[0m\u001b[0;36m0\u001b[0m\u001b[0;34m]\u001b[0m \u001b[0;34m!=\u001b[0m \u001b[0;36m1\u001b[0m\u001b[0;34m)\u001b[0m\u001b[0;34m:\u001b[0m\u001b[0;34m\u001b[0m\u001b[0;34m\u001b[0m\u001b[0m\n",
      "\u001b[0;32m~/Danilo/PythonWorkspace/TurbulentMulticomponentDiffusion/notebooks/../tmcdiff/builder.py\u001b[0m in \u001b[0;36mg\u001b[0;34m(*args)\u001b[0m\n\u001b[1;32m    444\u001b[0m     \u001b[0;32mdef\u001b[0m \u001b[0mg\u001b[0m\u001b[0;34m(\u001b[0m\u001b[0;34m*\u001b[0m\u001b[0margs\u001b[0m\u001b[0;34m)\u001b[0m\u001b[0;34m:\u001b[0m\u001b[0;34m\u001b[0m\u001b[0;34m\u001b[0m\u001b[0m\n\u001b[1;32m    445\u001b[0m         \u001b[0margs\u001b[0m \u001b[0;34m=\u001b[0m \u001b[0;34m[\u001b[0m\u001b[0mtorch\u001b[0m\u001b[0;34m.\u001b[0m\u001b[0mtensor\u001b[0m\u001b[0;34m(\u001b[0m\u001b[0marg\u001b[0m\u001b[0;34m,\u001b[0m \u001b[0mdtype\u001b[0m\u001b[0;34m=\u001b[0m\u001b[0mtorch\u001b[0m\u001b[0;34m.\u001b[0m\u001b[0mfloat\u001b[0m\u001b[0;34m)\u001b[0m \u001b[0;32mfor\u001b[0m \u001b[0marg\u001b[0m \u001b[0;32min\u001b[0m \u001b[0margs\u001b[0m\u001b[0;34m]\u001b[0m\u001b[0;34m\u001b[0m\u001b[0;34m\u001b[0m\u001b[0m\n\u001b[0;32m--> 446\u001b[0;31m         \u001b[0mres\u001b[0m \u001b[0;34m=\u001b[0m \u001b[0mf\u001b[0m\u001b[0;34m(\u001b[0m\u001b[0;34m*\u001b[0m\u001b[0margs\u001b[0m\u001b[0;34m)\u001b[0m\u001b[0;34m.\u001b[0m\u001b[0mdetach\u001b[0m\u001b[0;34m(\u001b[0m\u001b[0;34m)\u001b[0m\u001b[0;34m.\u001b[0m\u001b[0mnumpy\u001b[0m\u001b[0;34m(\u001b[0m\u001b[0;34m)\u001b[0m\u001b[0;34m\u001b[0m\u001b[0;34m\u001b[0m\u001b[0m\n\u001b[0m\u001b[1;32m    447\u001b[0m         \u001b[0;32mreturn\u001b[0m \u001b[0mres\u001b[0m\u001b[0;34m\u001b[0m\u001b[0;34m\u001b[0m\u001b[0m\n\u001b[1;32m    448\u001b[0m     \u001b[0;32mreturn\u001b[0m \u001b[0mg\u001b[0m\u001b[0;34m\u001b[0m\u001b[0;34m\u001b[0m\u001b[0m\n",
      "\u001b[0;32m~/Danilo/PythonWorkspace/TurbulentMulticomponentDiffusion/notebooks/../tmcdiff/builder.py\u001b[0m in \u001b[0;36mflat_residual\u001b[0;34m(x)\u001b[0m\n\u001b[1;32m    363\u001b[0m         \u001b[0;32mdef\u001b[0m \u001b[0mflat_residual\u001b[0m\u001b[0;34m(\u001b[0m\u001b[0mx\u001b[0m\u001b[0;34m)\u001b[0m\u001b[0;34m:\u001b[0m\u001b[0;34m\u001b[0m\u001b[0;34m\u001b[0m\u001b[0m\n\u001b[1;32m    364\u001b[0m             \u001b[0mlogcmu\u001b[0m \u001b[0;34m=\u001b[0m \u001b[0mx\u001b[0m\u001b[0;34m.\u001b[0m\u001b[0mreshape\u001b[0m\u001b[0;34m(\u001b[0m\u001b[0;34m[\u001b[0m\u001b[0mself\u001b[0m\u001b[0;34m.\u001b[0m\u001b[0mnspecies\u001b[0m\u001b[0;34m,\u001b[0m \u001b[0mself\u001b[0m\u001b[0;34m.\u001b[0m\u001b[0mngrid\u001b[0m\u001b[0;34m]\u001b[0m\u001b[0;34m)\u001b[0m\u001b[0;34m\u001b[0m\u001b[0;34m\u001b[0m\u001b[0m\n\u001b[0;32m--> 365\u001b[0;31m             \u001b[0mres\u001b[0m \u001b[0;34m=\u001b[0m \u001b[0mself\u001b[0m\u001b[0;34m.\u001b[0m\u001b[0mfull_residual\u001b[0m\u001b[0;34m(\u001b[0m\u001b[0mlogcmu\u001b[0m\u001b[0;34m,\u001b[0m \u001b[0mlma\u001b[0m\u001b[0;34m=\u001b[0m\u001b[0;32mTrue\u001b[0m\u001b[0;34m,\u001b[0m \u001b[0minclude_mu\u001b[0m\u001b[0;34m=\u001b[0m\u001b[0;32mFalse\u001b[0m\u001b[0;34m)\u001b[0m\u001b[0;34m\u001b[0m\u001b[0;34m\u001b[0m\u001b[0m\n\u001b[0m\u001b[1;32m    366\u001b[0m             \u001b[0;32mreturn\u001b[0m \u001b[0mres\u001b[0m\u001b[0;34m.\u001b[0m\u001b[0mflatten\u001b[0m\u001b[0;34m(\u001b[0m\u001b[0;34m)\u001b[0m\u001b[0;34m\u001b[0m\u001b[0;34m\u001b[0m\u001b[0m\n\u001b[1;32m    367\u001b[0m         \u001b[0mf\u001b[0m \u001b[0;34m=\u001b[0m \u001b[0mtorch_wrap\u001b[0m\u001b[0;34m(\u001b[0m\u001b[0mflat_residual\u001b[0m\u001b[0;34m)\u001b[0m\u001b[0;34m\u001b[0m\u001b[0;34m\u001b[0m\u001b[0m\n",
      "\u001b[0;32m~/Danilo/PythonWorkspace/TurbulentMulticomponentDiffusion/notebooks/../tmcdiff/builder.py\u001b[0m in \u001b[0;36mfull_residual\u001b[0;34m(self, logcmu, lma, include_mu)\u001b[0m\n\u001b[1;32m    247\u001b[0m             \u001b[0mlogc\u001b[0m \u001b[0;34m=\u001b[0m \u001b[0mlogcmu\u001b[0m\u001b[0;34m\u001b[0m\u001b[0;34m\u001b[0m\u001b[0m\n\u001b[1;32m    248\u001b[0m         \u001b[0;31m#residual_factor = 1/max(self.cbulk.values())*1/self.flux_residual_tol\u001b[0m\u001b[0;34m\u001b[0m\u001b[0;34m\u001b[0m\u001b[0m\n\u001b[0;32m--> 249\u001b[0;31m         \u001b[0mres1\u001b[0m \u001b[0;34m=\u001b[0m \u001b[0mself\u001b[0m\u001b[0;34m.\u001b[0m\u001b[0mtransport_residual\u001b[0m\u001b[0;34m(\u001b[0m\u001b[0mlogc\u001b[0m\u001b[0;34m)\u001b[0m \u001b[0;31m#(nels, ngrid)\u001b[0m\u001b[0;34m\u001b[0m\u001b[0;34m\u001b[0m\u001b[0m\n\u001b[0m\u001b[1;32m    250\u001b[0m         \u001b[0;31m#res1 *= residual_factor\u001b[0m\u001b[0;34m\u001b[0m\u001b[0;34m\u001b[0m\u001b[0m\n\u001b[1;32m    251\u001b[0m         \u001b[0;32mif\u001b[0m \u001b[0minclude_mu\u001b[0m\u001b[0;34m:\u001b[0m\u001b[0;34m\u001b[0m\u001b[0;34m\u001b[0m\u001b[0m\n",
      "\u001b[0;32m~/Danilo/PythonWorkspace/TurbulentMulticomponentDiffusion/notebooks/../tmcdiff/builder.py\u001b[0m in \u001b[0;36mtransport_residual\u001b[0;34m(self, logc)\u001b[0m\n\u001b[1;32m    165\u001b[0m         \u001b[0mR\u001b[0m \u001b[0;34m=\u001b[0m \u001b[0mself\u001b[0m\u001b[0;34m.\u001b[0m\u001b[0mreduced_reaction_vector\u001b[0m \u001b[0;31m#(nreac, nsolutes)\u001b[0m\u001b[0;34m\u001b[0m\u001b[0;34m\u001b[0m\u001b[0m\n\u001b[1;32m    166\u001b[0m         \u001b[0mlogKsp\u001b[0m \u001b[0;34m=\u001b[0m \u001b[0mself\u001b[0m\u001b[0;34m.\u001b[0m\u001b[0mlogk_solid\u001b[0m\u001b[0;34m[\u001b[0m\u001b[0;34m...\u001b[0m\u001b[0;34m,\u001b[0m \u001b[0;32mNone\u001b[0m\u001b[0;34m]\u001b[0m \u001b[0;31m#(nreac, 1)\u001b[0m\u001b[0;34m\u001b[0m\u001b[0;34m\u001b[0m\u001b[0m\n\u001b[0;32m--> 167\u001b[0;31m         \u001b[0mcbulk\u001b[0m \u001b[0;34m=\u001b[0m \u001b[0mself\u001b[0m\u001b[0;34m.\u001b[0m\u001b[0mmake_bulk_vector\u001b[0m\u001b[0;34m(\u001b[0m\u001b[0;34m)\u001b[0m \u001b[0;31m#(nels, 1) #(mol/kgH2O)\u001b[0m\u001b[0;34m\u001b[0m\u001b[0;34m\u001b[0m\u001b[0m\n\u001b[0m\u001b[1;32m    168\u001b[0m         \u001b[0mcinterp\u001b[0m \u001b[0;34m=\u001b[0m \u001b[0;34m(\u001b[0m\u001b[0mc\u001b[0m\u001b[0;34m[\u001b[0m\u001b[0;34m:\u001b[0m\u001b[0;34m,\u001b[0m \u001b[0;36m1\u001b[0m\u001b[0;34m:\u001b[0m\u001b[0;34m]\u001b[0m \u001b[0;34m+\u001b[0m \u001b[0mc\u001b[0m\u001b[0;34m[\u001b[0m\u001b[0;34m:\u001b[0m\u001b[0;34m,\u001b[0m \u001b[0;34m:\u001b[0m\u001b[0;34m-\u001b[0m\u001b[0;36m1\u001b[0m\u001b[0;34m]\u001b[0m\u001b[0;34m)\u001b[0m\u001b[0;34m*\u001b[0m\u001b[0;36m0.5\u001b[0m \u001b[0;31m#(nsolutes, ngrid-1)\u001b[0m\u001b[0;34m\u001b[0m\u001b[0;34m\u001b[0m\u001b[0m\n\u001b[1;32m    169\u001b[0m         \u001b[0mdmu\u001b[0m \u001b[0;34m=\u001b[0m \u001b[0;34m(\u001b[0m\u001b[0mloga\u001b[0m\u001b[0;34m[\u001b[0m\u001b[0;34m:\u001b[0m\u001b[0;34m,\u001b[0m \u001b[0;36m1\u001b[0m\u001b[0;34m:\u001b[0m\u001b[0;34m]\u001b[0m \u001b[0;34m-\u001b[0m \u001b[0mloga\u001b[0m\u001b[0;34m[\u001b[0m\u001b[0;34m:\u001b[0m\u001b[0;34m,\u001b[0m \u001b[0;34m:\u001b[0m\u001b[0;34m-\u001b[0m\u001b[0;36m1\u001b[0m\u001b[0;34m]\u001b[0m\u001b[0;34m)\u001b[0m\u001b[0;34m/\u001b[0m\u001b[0mystep\u001b[0m \u001b[0;31m#(nsolutes, ngrid-1)\u001b[0m\u001b[0;34m\u001b[0m\u001b[0;34m\u001b[0m\u001b[0m\n",
      "\u001b[0;32m~/Danilo/PythonWorkspace/TurbulentMulticomponentDiffusion/notebooks/../tmcdiff/builder.py\u001b[0m in \u001b[0;36mmake_bulk_vector\u001b[0;34m(self)\u001b[0m\n\u001b[1;32m    146\u001b[0m \u001b[0;34m\u001b[0m\u001b[0m\n\u001b[1;32m    147\u001b[0m     \u001b[0;32mdef\u001b[0m \u001b[0mmake_bulk_vector\u001b[0m\u001b[0;34m(\u001b[0m\u001b[0mself\u001b[0m\u001b[0;34m)\u001b[0m\u001b[0;34m:\u001b[0m\u001b[0;34m\u001b[0m\u001b[0;34m\u001b[0m\u001b[0m\n\u001b[0;32m--> 148\u001b[0;31m         \u001b[0mbase\u001b[0m \u001b[0;34m=\u001b[0m \u001b[0;34m[\u001b[0m\u001b[0mself\u001b[0m\u001b[0;34m.\u001b[0m\u001b[0mcbulk\u001b[0m\u001b[0;34m[\u001b[0m\u001b[0mel\u001b[0m\u001b[0;34m]\u001b[0m \u001b[0;32mfor\u001b[0m \u001b[0mel\u001b[0m \u001b[0;32min\u001b[0m \u001b[0mself\u001b[0m\u001b[0;34m.\u001b[0m\u001b[0meqsys\u001b[0m\u001b[0;34m.\u001b[0m\u001b[0msolute_elements\u001b[0m\u001b[0;34m]\u001b[0m \u001b[0;34m+\u001b[0m \u001b[0;34m[\u001b[0m\u001b[0;36m0.0\u001b[0m\u001b[0;34m]\u001b[0m\u001b[0;34m\u001b[0m\u001b[0;34m\u001b[0m\u001b[0m\n\u001b[0m\u001b[1;32m    149\u001b[0m         \u001b[0mbase\u001b[0m \u001b[0;34m=\u001b[0m \u001b[0mtorch\u001b[0m\u001b[0;34m.\u001b[0m\u001b[0mtensor\u001b[0m\u001b[0;34m(\u001b[0m\u001b[0mbase\u001b[0m\u001b[0;34m,\u001b[0m \u001b[0mdtype\u001b[0m\u001b[0;34m=\u001b[0m\u001b[0mtorch\u001b[0m\u001b[0;34m.\u001b[0m\u001b[0mfloat\u001b[0m\u001b[0;34m)\u001b[0m\u001b[0;34m\u001b[0m\u001b[0;34m\u001b[0m\u001b[0m\n\u001b[1;32m    150\u001b[0m         \u001b[0mbase\u001b[0m \u001b[0;34m=\u001b[0m \u001b[0mbase\u001b[0m\u001b[0;34m[\u001b[0m\u001b[0;34m...\u001b[0m\u001b[0;34m,\u001b[0m \u001b[0;32mNone\u001b[0m\u001b[0;34m]\u001b[0m\u001b[0;34m\u001b[0m\u001b[0;34m\u001b[0m\u001b[0m\n",
      "\u001b[0;32m~/Danilo/PythonWorkspace/TurbulentMulticomponentDiffusion/notebooks/../tmcdiff/builder.py\u001b[0m in \u001b[0;36m<listcomp>\u001b[0;34m(.0)\u001b[0m\n\u001b[1;32m    146\u001b[0m \u001b[0;34m\u001b[0m\u001b[0m\n\u001b[1;32m    147\u001b[0m     \u001b[0;32mdef\u001b[0m \u001b[0mmake_bulk_vector\u001b[0m\u001b[0;34m(\u001b[0m\u001b[0mself\u001b[0m\u001b[0;34m)\u001b[0m\u001b[0;34m:\u001b[0m\u001b[0;34m\u001b[0m\u001b[0;34m\u001b[0m\u001b[0m\n\u001b[0;32m--> 148\u001b[0;31m         \u001b[0mbase\u001b[0m \u001b[0;34m=\u001b[0m \u001b[0;34m[\u001b[0m\u001b[0mself\u001b[0m\u001b[0;34m.\u001b[0m\u001b[0mcbulk\u001b[0m\u001b[0;34m[\u001b[0m\u001b[0mel\u001b[0m\u001b[0;34m]\u001b[0m \u001b[0;32mfor\u001b[0m \u001b[0mel\u001b[0m \u001b[0;32min\u001b[0m \u001b[0mself\u001b[0m\u001b[0;34m.\u001b[0m\u001b[0meqsys\u001b[0m\u001b[0;34m.\u001b[0m\u001b[0msolute_elements\u001b[0m\u001b[0;34m]\u001b[0m \u001b[0;34m+\u001b[0m \u001b[0;34m[\u001b[0m\u001b[0;36m0.0\u001b[0m\u001b[0;34m]\u001b[0m\u001b[0;34m\u001b[0m\u001b[0;34m\u001b[0m\u001b[0m\n\u001b[0m\u001b[1;32m    149\u001b[0m         \u001b[0mbase\u001b[0m \u001b[0;34m=\u001b[0m \u001b[0mtorch\u001b[0m\u001b[0;34m.\u001b[0m\u001b[0mtensor\u001b[0m\u001b[0;34m(\u001b[0m\u001b[0mbase\u001b[0m\u001b[0;34m,\u001b[0m \u001b[0mdtype\u001b[0m\u001b[0;34m=\u001b[0m\u001b[0mtorch\u001b[0m\u001b[0;34m.\u001b[0m\u001b[0mfloat\u001b[0m\u001b[0;34m)\u001b[0m\u001b[0;34m\u001b[0m\u001b[0;34m\u001b[0m\u001b[0m\n\u001b[1;32m    150\u001b[0m         \u001b[0mbase\u001b[0m \u001b[0;34m=\u001b[0m \u001b[0mbase\u001b[0m\u001b[0;34m[\u001b[0m\u001b[0;34m...\u001b[0m\u001b[0;34m,\u001b[0m \u001b[0;32mNone\u001b[0m\u001b[0;34m]\u001b[0m\u001b[0;34m\u001b[0m\u001b[0;34m\u001b[0m\u001b[0m\n",
      "\u001b[0;31mKeyError\u001b[0m: 'Ca'"
     ]
    }
   ],
   "source": [
    "sol = builder.set_initial_guess_lagrangian()"
   ]
  },
  {
   "cell_type": "code",
   "execution_count": 115,
   "id": "1a46162e",
   "metadata": {},
   "outputs": [
    {
     "data": {
      "text/plain": [
       "   cov_x: array([[ 2.34738434e-01,  2.61306953e-01,  2.74327208e-01, ...,\n",
       "         4.73254480e+02,  5.41874050e+02,  6.75209789e+01],\n",
       "       [ 2.61306957e-01,  3.01918780e-01,  3.36826939e-01, ...,\n",
       "         7.92572239e+02,  9.05519588e+02,  1.18845511e+02],\n",
       "       [ 2.74327214e-01,  3.36826935e-01,  4.11486663e-01, ...,\n",
       "         1.32759683e+03,  1.51390137e+03,  1.90662108e+02],\n",
       "       ...,\n",
       "       [ 4.69170421e+02,  7.85867557e+02,  1.31653614e+03, ...,\n",
       "         2.24246339e+07,  2.54839196e+07,  5.09120107e+05],\n",
       "       [ 5.42003350e+02,  9.05731298e+02,  1.51425050e+03, ...,\n",
       "         2.57088571e+07,  2.92202304e+07,  7.53076195e+05],\n",
       "       [ 2.00009616e+01,  4.08271377e+01,  6.19420085e+01, ...,\n",
       "        -1.72618072e+06, -1.79352917e+06,  9.53008642e+07]])\n",
       "    fjac: array([[ 1.42769515e+04, -2.63234904e-01,  0.00000000e+00, ...,\n",
       "         0.00000000e+00,  4.55492862e-21, -9.07071893e-22],\n",
       "       [-1.09733982e+03, -7.12674513e+03,  0.00000000e+00, ...,\n",
       "        -3.17449454e-20, -1.55795481e-20,  2.24144489e-21],\n",
       "       [ 0.00000000e+00,  0.00000000e+00, -4.63595480e+03, ...,\n",
       "         0.00000000e+00,  0.00000000e+00,  0.00000000e+00],\n",
       "       ...,\n",
       "       [ 0.00000000e+00,  1.33893765e-16,  0.00000000e+00, ...,\n",
       "         2.86831101e-14,  6.89913892e-19,  1.04198318e-26],\n",
       "       [ 1.89880006e-17,  6.27877102e-17,  0.00000000e+00, ...,\n",
       "         4.53922347e-15,  1.46586189e-14, -7.89904121e-19],\n",
       "       [-3.78128466e-18, -8.87173872e-18,  0.00000000e+00, ...,\n",
       "         7.43643731e-16, -3.46916866e-15,  3.37889005e-15]])\n",
       "     fun: array([-1.17111104e+04,  8.82322104e+03,  6.15698426e+02,  7.30363878e+02,\n",
       "        7.25035202e+02,  6.48685376e+02,  5.42009664e+02,  4.31440743e+02,\n",
       "       -1.93931030e+03,  6.67307246e+02,  6.71573832e-15, -6.29827065e-16,\n",
       "        1.39661889e-14,  6.14698666e-14,  2.61916886e-13,  1.07330715e-12,\n",
       "        4.24380538e-12,  1.62748658e-11, -2.04788725e-09,  5.47582962e-09,\n",
       "       -4.72806797e+02, -9.81358028e+01, -2.74823201e+02, -3.14110656e+02,\n",
       "       -3.10702343e+02, -2.80316186e+02, -2.37434227e+02, -1.92112783e+02,\n",
       "        4.62344761e+03, -2.59423854e+03, -9.70515093e-05,  1.94872842e-06,\n",
       "       -2.98421866e-05, -4.60391021e-05, -6.18024889e-05, -7.58245723e-05,\n",
       "       -8.74186114e-05, -9.63204272e-05,  3.27234790e-03, -2.50163027e-03,\n",
       "       -4.13213438e+00,  3.40436455e-01, -1.31123704e+00, -2.43391368e+00,\n",
       "       -3.93082935e+00, -5.80196239e+00, -8.04733485e+00, -1.06669309e+01,\n",
       "        4.51163588e+02, -4.15179824e+02,  0.00000000e+00, -4.36422348e+00,\n",
       "        2.60416031e-01,  1.37634087e+00,  6.89199448e-01, -5.22100449e-01,\n",
       "       -1.58265305e+00, -2.25139236e+00, -2.52394390e+00, -3.72529030e-09,\n",
       "       -2.19690156e+00, -1.21006393e+00,  2.58146667e+00,  3.14862061e+00,\n",
       "        1.97587967e+00,  3.02989960e-01, -1.17062950e+00, -2.17477417e+00,\n",
       "       -2.69130898e+00,  3.72529030e-08, -3.10688806e+00,  3.15415716e+00,\n",
       "        2.32105207e+00,  1.77227819e+00,  1.28668070e+00,  8.25089693e-01,\n",
       "        4.12025452e-01,  7.66184330e-02, -1.67364836e-01, -7.45058060e-09])\n",
       "    ipvt: array([ 1,  2, 29, 30,  9,  3,  4,  5, 21,  6, 10,  7,  8, 49, 50, 24, 23,\n",
       "       25, 26, 27, 22, 28, 67, 65, 78, 63, 76, 74, 68, 72, 48, 47, 57, 46,\n",
       "       55, 66, 45, 41, 58, 53, 44, 43, 64, 77, 62, 42, 56, 54, 73, 79, 71,\n",
       "       69, 75, 52, 51, 39, 40, 59, 61, 80, 31, 38, 37, 36, 35, 34, 60, 33,\n",
       "       32, 70, 20, 19, 18, 17, 16, 15, 13, 14, 12, 11], dtype=int32)\n",
       " message: 'The relative error between two consecutive iterates is at most 0.000000'\n",
       "    nfev: 11\n",
       "    njev: 1\n",
       "     qtf: array([ 1.29125732e+04, -6.92533467e+03, -4.62963180e+03, -2.58172132e+03,\n",
       "       -1.93883580e+03, -7.20887807e+02, -7.68993260e+02, -7.55144095e+02,\n",
       "       -4.54336390e+02,  6.69712951e+02, -6.63067997e+02, -5.54646431e+02,\n",
       "       -4.61972067e+02, -4.52598618e+02, -4.14490429e+02, -2.54167287e+02,\n",
       "       -2.71164406e+02, -3.16838158e+02, -2.86158119e+02, -2.32569083e+02,\n",
       "        2.13360341e+02, -2.37084201e+02,  1.22897362e+00, -4.88861579e-01,\n",
       "       -2.86195718e-02, -5.98459077e-01, -1.67867155e+00,  1.05516692e+00,\n",
       "       -6.70390397e+00, -5.90466591e+00, -1.06011296e+01, -8.31337395e+00,\n",
       "        1.75727212e+00, -4.91679918e+00, -6.28815358e-01, -4.08923075e+00,\n",
       "       -4.05578391e+00,  3.68751608e+00, -4.84131529e-01,  1.78630119e+00,\n",
       "        3.92144573e+00,  5.83202978e-01,  4.18478872e+00,  5.09082163e-01,\n",
       "       -1.76062819e+00, -3.00041115e-02, -2.04204647e-01,  5.37218516e-01,\n",
       "        3.04823809e-01,  1.76259104e+00,  8.79614188e-01, -1.10274905e-01,\n",
       "       -2.76884434e-01, -1.39146987e+00,  1.97989694e+00, -3.03929141e-03,\n",
       "        2.29932800e-03,  4.67052105e-02, -3.82789488e-04, -3.82684885e-02,\n",
       "       -2.17304987e-04, -2.32659794e-04,  2.23621609e-04, -2.07636413e-04,\n",
       "        1.85400643e-04, -1.57832691e-04,  9.63864277e-02, -3.81691012e-06,\n",
       "        2.00499315e-06, -8.08155444e-03,  2.95893605e-13,  2.96056983e-12,\n",
       "        1.46531951e-13,  5.55299299e-13,  3.36462129e-12,  1.00720749e-12,\n",
       "       -1.62171421e-12,  1.20767679e-12,  2.39074710e-12, -7.24058763e-13])\n",
       "  status: 2\n",
       " success: True\n",
       "       x: array([ 1.75567651e+00,  1.24033427e+00,  7.24992037e-01,  2.09649757e-01,\n",
       "       -3.05692464e-01, -8.21034789e-01, -1.33637702e+00, -1.85171926e+00,\n",
       "       -2.36706138e+00, -2.88240361e+00, -3.89018631e+01, -3.78109856e+01,\n",
       "       -3.67201080e+01, -3.56292305e+01, -3.45383530e+01, -3.34474754e+01,\n",
       "       -3.23565979e+01, -3.12657223e+01, -3.01748447e+01, -2.90839672e+01,\n",
       "        1.85938215e+00,  1.36497664e+00,  8.70571196e-01,  3.76165658e-01,\n",
       "       -1.18239790e-01, -6.12645388e-01, -1.10705078e+00, -1.60145628e+00,\n",
       "       -2.09586167e+00, -2.59026718e+00, -1.52782831e+01, -1.54631071e+01,\n",
       "       -1.56479311e+01, -1.58327551e+01, -1.60175781e+01, -1.62024021e+01,\n",
       "       -1.63872261e+01, -1.65720501e+01, -1.67568741e+01, -1.69416981e+01,\n",
       "       -3.96332312e+00, -3.96332240e+00, -3.96332169e+00, -3.96332073e+00,\n",
       "       -3.96332002e+00, -3.96331930e+00, -3.96331859e+00, -3.96331763e+00,\n",
       "       -3.96331692e+00, -3.96331620e+00, -2.38135590e+02, -1.96710114e+02,\n",
       "       -1.55284653e+02, -1.13859177e+02, -7.24337082e+01, -3.10082340e+01,\n",
       "        1.04172335e+01,  5.18427010e+01,  9.32681656e+01,  1.34693634e+02,\n",
       "       -8.39832687e+00, -2.71189728e+01, -4.58396187e+01, -6.45602646e+01,\n",
       "       -8.32809067e+01, -1.02001556e+02, -1.20722206e+02, -1.39442841e+02,\n",
       "       -1.58163498e+02, -1.76884140e+02,  4.03522682e+00,  1.09661331e+01,\n",
       "        1.78970394e+01,  2.48279476e+01,  3.17588539e+01,  3.86897621e+01,\n",
       "        4.56206665e+01,  5.25515747e+01,  5.94824791e+01,  6.64133835e+01])"
      ]
     },
     "execution_count": 115,
     "metadata": {},
     "output_type": "execute_result"
    }
   ],
   "source": [
    "builder.solve_gem_lagrangian()"
   ]
  },
  {
   "cell_type": "code",
   "execution_count": 116,
   "id": "37171c9a",
   "metadata": {},
   "outputs": [
    {
     "data": {
      "text/plain": [
       "10"
      ]
     },
     "execution_count": 116,
     "metadata": {},
     "output_type": "execute_result"
    }
   ],
   "source": [
    "builder.ngrid"
   ]
  },
  {
   "cell_type": "code",
   "execution_count": 117,
   "id": "8f9b1190",
   "metadata": {},
   "outputs": [
    {
     "data": {
      "text/plain": [
       "(tensor([[  1.7557,   1.2403,   0.7250,   0.2096,  -0.3057,  -0.8210,  -1.3364,\n",
       "           -1.8517,  -2.3671,  -2.8824],\n",
       "         [-38.9019, -37.8110, -36.7201, -35.6292, -34.5384, -33.4475, -32.3566,\n",
       "          -31.2657, -30.1748, -29.0840],\n",
       "         [  1.8594,   1.3650,   0.8706,   0.3762,  -0.1182,  -0.6126,  -1.1071,\n",
       "           -1.6015,  -2.0959,  -2.5903],\n",
       "         [-15.2783, -15.4631, -15.6479, -15.8328, -16.0176, -16.2024, -16.3872,\n",
       "          -16.5721, -16.7569, -16.9417],\n",
       "         [ -3.9633,  -3.9633,  -3.9633,  -3.9633,  -3.9633,  -3.9633,  -3.9633,\n",
       "           -3.9633,  -3.9633,  -3.9633]]),\n",
       " None)"
      ]
     },
     "execution_count": 117,
     "metadata": {},
     "output_type": "execute_result"
    }
   ],
   "source": [
    "builder.get_logcmu()"
   ]
  },
  {
   "cell_type": "code",
   "execution_count": 118,
   "id": "e97a9869",
   "metadata": {},
   "outputs": [],
   "source": [
    "#min f(x)\n",
    "#s.t. g(x) = 0\n",
    "#-------------\n",
    "#grad f(x) - jac(g)(x)^T \\lambda = 0\n",
    "#g(x) = 0\n",
    "#h(x, \\lambda) = [grad f(x) - jac(g)(x)^T \\lambda, g(x)]\n",
    "#dh(x, \\lambd) = [[hess f(x) - -d/dx(jac(g)(x)^T), -jac(g)(x)^T], [jac(g)(x), 0]"
   ]
  },
  {
   "cell_type": "code",
   "execution_count": 119,
   "id": "f8c8bc57",
   "metadata": {},
   "outputs": [],
   "source": [
    "logcmu = builder.x.reshape(builder.nspecies, builder.ngrid).numpy()\n",
    "logc = logcmu[:builder.nspecies, :]\n",
    "c = np.exp(logc)\n",
    "logc_t = torch.tensor(logc, dtype=torch.float)"
   ]
  },
  {
   "cell_type": "code",
   "execution_count": 120,
   "id": "90c9aaae",
   "metadata": {},
   "outputs": [
    {
     "data": {
      "text/plain": [
       "Text(0.5, 0, '$y^+$')"
      ]
     },
     "execution_count": 120,
     "metadata": {},
     "output_type": "execute_result"
    },
    {
     "data": {
      "image/png": "[encoded data removed]",
      "text/plain": [
       "<Figure size 432x288 with 1 Axes>"
      ]
     },
     "metadata": {
      "needs_background": "light"
     },
     "output_type": "display_data"
    }
   ],
   "source": [
    "plt.figure()\n",
    "for i in range(builder.nspecies):\n",
    "    plt.plot(builder.ygrid, c[i, :], 'o', label=builder.species[i])\n",
    "plt.legend()\n",
    "plt.ylabel(r'$c$[molal]')\n",
    "plt.xlabel(r'$y^+$')"
   ]
  },
  {
   "cell_type": "code",
   "execution_count": 121,
   "id": "bc3b5d90",
   "metadata": {},
   "outputs": [
    {
     "data": {
      "text/plain": [
       "Text(0.5, 0, '$y^+$')"
      ]
     },
     "execution_count": 121,
     "metadata": {},
     "output_type": "execute_result"
    },
    {
     "data": {
      "image/png": "[encoded data removed]",
      "text/plain": [
       "<Figure size 432x288 with 1 Axes>"
      ]
     },
     "metadata": {
      "needs_background": "light"
     },
     "output_type": "display_data"
    }
   ],
   "source": [
    "cel = builder.reduced_formula_matrix.numpy()@c\n",
    "plt.figure()\n",
    "for i, el in enumerate(eqsys.solute_elements + ['e']):\n",
    "    plt.plot(builder.ygrid, cel[i, :], 'o', label=el)\n",
    "plt.legend()\n",
    "plt.ylabel(r'$c$[molal]')\n",
    "plt.xlabel(r'$y^+$')"
   ]
  },
  {
   "cell_type": "code",
   "execution_count": 122,
   "id": "284d8c3e",
   "metadata": {},
   "outputs": [
    {
     "data": {
      "text/plain": [
       "Text(0.5, 0, '$y^+$')"
      ]
     },
     "execution_count": 122,
     "metadata": {},
     "output_type": "execute_result"
    },
    {
     "data": {
      "image/png": "[encoded data removed]",
      "text/plain": [
       "<Figure size 432x288 with 1 Axes>"
      ]
     },
     "metadata": {
      "needs_background": "light"
     },
     "output_type": "display_data"
    }
   ],
   "source": [
    "fluxes = builder.fluxes().detach().numpy()\n",
    "yplot = builder.ypoints[1:-1].detach().numpy()\n",
    "plt.figure()\n",
    "for i, el in enumerate(eqsys.solute_elements + ['e']):\n",
    "    plt.plot(yplot, fluxes[i, :], 'o', label=el)\n",
    "plt.legend()\n",
    "plt.ylabel(r'$c$[molal]')\n",
    "plt.xlabel(r'$y^+$')"
   ]
  },
  {
   "cell_type": "code",
   "execution_count": 124,
   "id": "51955c40",
   "metadata": {},
   "outputs": [
    {
     "ename": "AttributeError",
     "evalue": "'TransportBuilder' object has no attribute 'logc'",
     "output_type": "error",
     "traceback": [
      "\u001b[0;31m---------------------------------------------------------------------------\u001b[0m",
      "\u001b[0;31mAttributeError\u001b[0m                            Traceback (most recent call last)",
      "\u001b[0;32m/tmp/ipykernel_10003/3722777376.py\u001b[0m in \u001b[0;36m<module>\u001b[0;34m\u001b[0m\n\u001b[0;32m----> 1\u001b[0;31m \u001b[0mbuilder\u001b[0m\u001b[0;34m.\u001b[0m\u001b[0mfull_residual\u001b[0m\u001b[0;34m(\u001b[0m\u001b[0mbuilder\u001b[0m\u001b[0;34m.\u001b[0m\u001b[0mlogc\u001b[0m\u001b[0;34m)\u001b[0m\u001b[0;34m\u001b[0m\u001b[0;34m\u001b[0m\u001b[0m\n\u001b[0m",
      "\u001b[0;31mAttributeError\u001b[0m: 'TransportBuilder' object has no attribute 'logc'"
     ]
    }
   ],
   "source": [
    "builder.full_residual()"
   ]
  },
  {
   "cell_type": "code",
   "execution_count": null,
   "id": "b26723d1",
   "metadata": {},
   "outputs": [],
   "source": []
  },
  {
   "cell_type": "code",
   "execution_count": null,
   "id": "64e046fc",
   "metadata": {},
   "outputs": [],
   "source": []
  }
 ],
 "metadata": {
  "kernelspec": {
   "display_name": "Python 3 (ipykernel)",
   "language": "python",
   "name": "python3"
  },
  "language_info": {
   "codemirror_mode": {
    "name": "ipython",
    "version": 3
   },
   "file_extension": ".py",
   "mimetype": "text/x-python",
   "name": "python",
   "nbconvert_exporter": "python",
   "pygments_lexer": "ipython3",
   "version": "3.9.7"
  }
 },
 "nbformat": 4,
 "nbformat_minor": 5
}
