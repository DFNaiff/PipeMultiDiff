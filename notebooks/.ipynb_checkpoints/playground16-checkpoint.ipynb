{
 "cells": [
  {
   "cell_type": "code",
   "execution_count": 29,
   "id": "c0b3dbdd",
   "metadata": {},
   "outputs": [],
   "source": [
    "import sys\n",
    "sys.path.append(\"..\")\n",
    "import functools\n",
    "\n",
    "import numpy as np\n",
    "import torch\n",
    "import scipy.linalg\n",
    "import scipy.optimize\n",
    "import scipy.integrate\n",
    "import matplotlib.pyplot as plt\n",
    "from dict_minimize.torch_api import minimize\n",
    "import functorch\n",
    "import pyequion2\n",
    "\n",
    "import tmcdiff"
   ]
  },
  {
   "cell_type": "code",
   "execution_count": 15,
   "id": "ffa825ce",
   "metadata": {},
   "outputs": [
    {
     "name": "stdout",
     "output_type": "stream",
     "text": [
      "The autoreload extension is already loaded. To reload it, use:\n",
      "  %reload_ext autoreload\n"
     ]
    }
   ],
   "source": [
    "%load_ext autoreload\n",
    "%autoreload 2\n",
    "%matplotlib inline"
   ]
  },
  {
   "cell_type": "code",
   "execution_count": 103,
   "id": "79e3faef",
   "metadata": {},
   "outputs": [],
   "source": [
    "def reynolds_number(flow_velocity, pipe_diameter, TK=298.15,\n",
    "                    kinematic_viscosity = None): #Dimensionless\n",
    "    \"\"\"\n",
    "        Calculates Reynolds number of water from velocity and diameter\n",
    "    \"\"\"\n",
    "    kinematic_viscosity = kinematic_viscosity or pyequion2.water_properties.water_kinematic_viscosity(TK)\n",
    "    return flow_velocity*pipe_diameter/kinematic_viscosity\n",
    "\n",
    "\n",
    "def darcy_friction_factor(flow_velocity=float,\n",
    "                          pipe_diameter=float,\n",
    "                          TK=298.15,\n",
    "                          kinematic_viscosity=None):\n",
    "    reynolds = reynolds_number(flow_velocity, pipe_diameter, TK, kinematic_viscosity)\n",
    "    if reynolds < 2300:\n",
    "        return 64/reynolds\n",
    "    else: #Blasius\n",
    "        return 0.316*reynolds**(-1./4)\n",
    "    \n",
    "\n",
    "def get_shear_velocity(flow_velocity,\n",
    "                   pipe_diameter,\n",
    "                   TK=298.15,\n",
    "                   kinematic_viscosity=None):\n",
    "    f = darcy_friction_factor(flow_velocity, pipe_diameter, TK, kinematic_viscosity)\n",
    "    return np.sqrt(f/8.0)*flow_velocity"
   ]
  },
  {
   "cell_type": "code",
   "execution_count": 116,
   "id": "b7442e2d",
   "metadata": {},
   "outputs": [],
   "source": [
    "eqsys = pyequion2.EquilibriumBackend([\"C\", \"Ca\", \"Mg\"], from_elements=True, backend=\"torch\", logbase=\"e\",\n",
    "                                     activity_model=\"DEBYE\")\n",
    "eqsys_front = pyequion2.EquilibriumSystem([\"C\", \"Ca\", \"Mg\"], from_elements=True,\n",
    "                                           activity_model=\"DEBYE\")"
   ]
  },
  {
   "cell_type": "code",
   "execution_count": 131,
   "id": "c6d16dc6",
   "metadata": {},
   "outputs": [],
   "source": [
    "TK = 298.15\n",
    "bulk_velocity = 1.0\n",
    "pipe_diameter = 1e-2\n",
    "shear_velocity = get_shear_velocity(bulk_velocity, pipe_diameter, TK)\n",
    "kinematic_viscosity = 1e-6\n",
    "molal_balance = {'C':0.065, 'Ca':0.028, 'Mg':0.01}\n",
    "molal_balance = {k:v*1e-2 for k, v in molal_balance.items()}\n",
    "\n",
    "builder = tmcdiff.TransportBuilder(eqsys, TK, shear_velocity,\n",
    "                           molal_balance, [\"Calcite\", \"Dolomite\"],\n",
    "                           kreaction=\"inf\")\n",
    "builder.make_grid(20, 5)\n",
    "builder.set_species()"
   ]
  },
  {
   "cell_type": "code",
   "execution_count": 132,
   "id": "494d9329",
   "metadata": {},
   "outputs": [
    {
     "data": {
      "text/plain": [
       "{'Aragonite': 0.4140308364044234,\n",
       " 'Calcite': 0.5578006837966587,\n",
       " 'Dolomite': 0.8099526281655045,\n",
       " 'Vaterite': -0.008630810417640689}"
      ]
     },
     "execution_count": 132,
     "metadata": {},
     "output_type": "execute_result"
    }
   ],
   "source": [
    "sol, _ = eqsys_front.solve_equilibrium_mixed_balance(TK, molal_balance=molal_balance)\n",
    "sol.saturation_indexes"
   ]
  },
  {
   "cell_type": "code",
   "execution_count": 133,
   "id": "5996f18d",
   "metadata": {},
   "outputs": [],
   "source": [
    "builder.set_initial_guess_from_bulk()"
   ]
  },
  {
   "cell_type": "code",
   "execution_count": 134,
   "id": "c3a9cd7a",
   "metadata": {},
   "outputs": [],
   "source": [
    "def f(t, x):\n",
    "    builder.cbulk = {el:x[i] for i, el in enumerate(builder.eqsys.solute_elements)}\n",
    "    solsimple = builder.solve_lma(simplified=True);\n",
    "#    solfull = builder.solve_lma(simplified=False);\n",
    "    return builder.fluxes().detach().numpy()[:-1, -1]*4/pipe_diameter"
   ]
  },
  {
   "cell_type": "code",
   "execution_count": 135,
   "id": "190263f6",
   "metadata": {},
   "outputs": [],
   "source": [
    "x = np.array([molal_balance[el] for el in builder.eqsys.solute_elements])"
   ]
  },
  {
   "cell_type": "code",
   "execution_count": 136,
   "id": "85fda149",
   "metadata": {},
   "outputs": [
    {
     "data": {
      "text/plain": [
       "(True, True)"
      ]
     },
     "execution_count": 136,
     "metadata": {},
     "output_type": "execute_result"
    }
   ],
   "source": [
    "solsimple = builder.solve_lma(simplified=True);\n",
    "solfull = builder.solve_lma(simplified=False);\n",
    "solsimple.success, solfull.success"
   ]
  },
  {
   "cell_type": "code",
   "execution_count": 137,
   "id": "b26723d1",
   "metadata": {},
   "outputs": [
    {
     "name": "stdout",
     "output_type": "stream",
     "text": [
      "6.004803891668488e-06 [0.00064999 0.00027998 0.0001    ]\n",
      "7.50600486458561e-06 [0.00064998 0.00027998 0.0001    ]\n",
      "9.007205837502733e-06 [0.00064998 0.00027998 0.0001    ]\n",
      "2.4019215566673956e-05 [6.49929442e-04 2.79943156e-04 9.99992476e-05]\n",
      "5.514543437483285e-05 [6.49832116e-04 2.79873982e-04 9.99938093e-05]\n",
      "8.627165318299175e-05 [6.49734790e-04 2.79804808e-04 9.99883710e-05]\n",
      "0.0003975338412645807 [6.48761531e-04 2.79113067e-04 9.99339880e-05]\n",
      "0.0035101557220804705 [6.39028944e-04 2.72195663e-04 9.93901579e-05]\n",
      "0.0035412819408886295 [6.38936385e-04 2.72125614e-04 9.93876122e-05]\n",
      "0.0035724081596967884 [6.38843826e-04 2.72055565e-04 9.93850665e-05]\n",
      "0.0038836703477783774 [6.37918571e-04 2.71355094e-04 9.93596093e-05]\n",
      "0.004194932535859966 [6.36993295e-04 2.70654604e-04 9.93341522e-05]\n",
      "0.005038344492435837 [6.34486123e-04 2.68756520e-04 9.92651722e-05]\n",
      "0.013472464058194545 [6.09414393e-04 2.49775679e-04 9.85753718e-05]\n",
      "0.013477735382923144 [6.09389023e-04 2.49767224e-04 9.85722943e-05]\n",
      "0.013483006707651743 [6.09363653e-04 2.49758768e-04 9.85692168e-05]\n",
      "0.013535719954937735 [6.09109955e-04 2.49674215e-04 9.85384417e-05]\n",
      "0.014062852427797654 [6.06572976e-04 2.48828677e-04 9.82306905e-05]\n",
      "0.019334177156396848 [5.81203179e-04 2.40373300e-04 9.51531787e-05]\n",
      "0.019335000800885693 [5.81201090e-04 2.40371928e-04 9.51532564e-05]\n",
      "0.019335824445374537 [5.81198962e-04 2.40370534e-04 9.51533332e-05]\n",
      "0.019337703437307143 [5.81194070e-04 2.40367332e-04 9.51535073e-05]\n",
      "0.01934188547957483 [5.81183178e-04 2.40360204e-04 9.51538948e-05]\n",
      "0.01938022639293954 [5.81083362e-04 2.40294857e-04 9.51574472e-05]\n",
      "0.019492976037417464 [5.8078983e-04 2.4010269e-04 9.5167894e-05]\n",
      "0.020620472482196697 [5.77854509e-04 2.38181022e-04 9.52723611e-05]\n",
      "0.031895436929989016 [5.48501300e-04 2.18964342e-04 9.63170330e-05]\n",
      "0.03190248378276889 [5.48497590e-04 2.18958496e-04 9.63177820e-05]\n",
      "0.03190953063554876 [5.48493873e-04 2.18952651e-04 9.63185310e-05]\n",
      "0.03195649115182631 [5.48469104e-04 2.18913695e-04 9.63235221e-05]\n",
      "0.03242609631460189 [5.48221882e-04 2.18524133e-04 9.63734336e-05]\n",
      "0.03289570147737746 [5.47974660e-04 2.18134572e-04 9.64233450e-05]\n",
      "0.03759175310513321 [5.45502444e-04 2.14238959e-04 9.69224595e-05]\n",
      "0.0845522693826907 [0.00052078 0.00017528 0.00010191]\n",
      "0.08455960696335907 [0.0005208  0.00017529 0.00010192]\n",
      "0.08456694454402744 [0.00052081 0.00017529 0.00010192]\n",
      "0.08464032035071112 [0.00052098 0.00017534 0.00010195]\n",
      "0.08537407841754796 [0.00052268 0.00017582 0.00010229]\n",
      "0.09271165908591632 [0.00053968 0.00018066 0.0001057 ]\n",
      "0.09271624507383405 [0.00053969 0.00018066 0.0001057 ]\n",
      "0.09272083106175179 [0.0005397  0.00018066 0.0001057 ]\n",
      "0.09276669094092908 [0.00053978 0.00018068 0.00010573]\n",
      "0.09322528973270211 [0.00054059 0.00018086 0.00010602]\n",
      "0.09781127765043234 [0.0005487  0.00018271 0.00010891]\n",
      "0.09782274262022667 [0.00054872 0.00018271 0.00010892]\n",
      "0.097834207590021 [0.00054874 0.00018272 0.00010893]\n",
      "0.09794885728796425 [0.0005489  0.00018275 0.00010899]\n",
      "0.09909535426739681 [0.00055053 0.00018304 0.0001096 ]\n",
      "0.11056032406172236 [0.00056684 0.000186   0.00011577]\n",
      "0.11058898648620819 [0.00056691 0.00018602 0.00011579]\n",
      "0.110617648910694 [0.00056697 0.00018604 0.00011581]\n",
      "0.11090427315555214 [0.00056764 0.00018624 0.00011599]\n",
      "0.11377051560413352 [0.00057426 0.00018821 0.00011781]\n",
      "0.11377768121025497 [0.00057428 0.00018821 0.00011781]\n",
      "0.11378484681637642 [0.00057429 0.00018821 0.00011782]\n",
      "0.11385650287759096 [0.00057443 0.00018825 0.00011786]\n",
      "0.11457306348973631 [0.0005758  0.00018861 0.00011824]\n",
      "0.12173866961118979 [0.00058958 0.00019222 0.00012208]\n",
      "0.12175658362649341 [0.0005896  0.00019222 0.00012209]\n",
      "0.12177449764179704 [0.00058963 0.00019223 0.0001221 ]\n",
      "0.12195363779483338 [0.00058989 0.00019229 0.00012219]\n",
      "0.12374503932519675 [0.00059246 0.00019291 0.00012312]\n",
      "0.14165905462883044 [0.00061822 0.00019912 0.00013243]\n",
      "0.14167025088839522 [0.00061826 0.00019913 0.00013244]\n",
      "0.14168144714796 [0.00061829 0.00019914 0.00013244]\n",
      "0.1417934097436077 [0.00061862 0.00019922 0.0001325 ]\n",
      "0.14291303570008482 [0.0006219  0.0002     0.00013301]\n",
      "0.15410929526485587 [0.00065473 0.00020786 0.00013816]\n",
      "0.15411629292708384 [0.00065475 0.00020786 0.00013817]\n",
      "0.15412329058931182 [0.00065476 0.00020787 0.00013817]\n",
      "0.15416497627118356 [0.00065482 0.00020789 0.00013819]\n",
      "0.154581833089901 [0.0006555  0.00020808 0.00013841]\n",
      "0.15499868990861845 [0.00065617 0.00020828 0.00013863]\n",
      "0.15916725809579294 [0.00066289 0.00021022 0.00014082]\n",
      "0.15917767951626088 [0.0006629  0.00021023 0.00014083]\n",
      "0.15918810093672883 [0.00066292 0.00021023 0.00014083]\n",
      "0.1592923151414082 [0.00066303 0.00021026 0.00014087]\n",
      "0.16033445718820183 [0.00066419 0.00021053 0.00014127]\n",
      "0.17075587765613803 [0.00067582 0.00021328 0.00014528]\n",
      "0.17076239104393048 [0.00067583 0.00021329 0.00014529]\n",
      "0.17076890443172293 [0.00067584 0.00021329 0.00014529]\n",
      "0.17083403830964752 [0.00067597 0.00021333 0.00014533]\n",
      "0.17148537708889353 [0.00067723 0.00021373 0.00014569]\n",
      "0.17799876488135366 [0.0006898  0.00021767 0.00014934]\n",
      "0.17800283574872394 [0.0006898  0.00021767 0.00014934]\n",
      "0.17800690661609422 [0.00068981 0.00021767 0.00014934]\n",
      "0.1780476152897971 [0.00068982 0.00021767 0.00014935]\n",
      "0.17845470202682584 [0.00069    0.00021766 0.00014942]\n",
      "0.18252556939711342 [0.00069175 0.00021758 0.00015011]\n",
      "0.22323424309998924 [0.00070922 0.00021681 0.00015704]\n",
      "0.22324060383025532 [0.00070923 0.00021681 0.00015704]\n",
      "0.2232469645605214 [0.00070924 0.00021682 0.00015705]\n",
      "0.22331057186318215 [0.00070936 0.00021685 0.00015707]\n",
      "0.22394664488978958 [0.0007105  0.00021721 0.00015727]\n",
      "0.2303073751558639 [0.00072193 0.00022074 0.0001593 ]\n",
      "0.2303113506122802 [0.00072194 0.00022075 0.0001593 ]\n",
      "0.23031532606869648 [0.00072194 0.00022075 0.0001593 ]\n",
      "0.23035508063285945 [0.00072199 0.00022076 0.00015932]\n",
      "0.2307526262744891 [0.00072252 0.00022092 0.00015945]\n",
      "0.23472808269078554 [0.0007278  0.00022249 0.00016076]\n",
      "0.2347678372549485 [0.00072784 0.0002225  0.00016077]\n",
      "0.23480759181911148 [0.00072789 0.00022252 0.00016079]\n",
      "0.23520513746074112 [0.00072835 0.00022265 0.0001609 ]\n",
      "0.23918059387703758 [0.00073297 0.00022402 0.00016205]\n",
      "0.23918456933345386 [0.00073298 0.00022402 0.00016205]\n",
      "0.23918854478987014 [0.00073298 0.00022402 0.00016205]\n",
      "0.2392282993540331 [0.00073302 0.00022403 0.00016206]\n",
      "0.23962584499566275 [0.00073339 0.00022413 0.00016215]\n",
      "0.2412063126205697 [0.00073488 0.00022454 0.00016252]\n",
      "0.25701098886963925 [0.00074972 0.00022864 0.00016618]\n",
      "0.2570208667922949 [0.00074971 0.00022864 0.00016618]\n",
      "0.2570307447149506 [0.0007497  0.00022864 0.00016618]\n",
      "0.2571295239415073 [0.00074961 0.0002286  0.00016616]\n",
      "0.2581173162070741 [0.00074876 0.00022827 0.00016602]\n",
      "0.26799523886274257 [0.00074024 0.00022494 0.00016462]\n",
      "0.26800511678539823 [0.00074023 0.00022493 0.00016462]\n",
      "0.2680149947080539 [0.00074023 0.00022493 0.00016462]\n",
      "0.2681137739346106 [0.00074015 0.0002249  0.00016461]\n",
      "0.26910156620017744 [0.00073938 0.0002246  0.00016448]\n",
      "0.2789794888558459 [0.00073169 0.00022156 0.00016323]\n",
      "0.27898103228126087 [0.00073169 0.00022156 0.00016323]\n",
      "0.27898257570667584 [0.00073169 0.00022156 0.00016323]\n",
      "0.2789980099608253 [0.00073168 0.00022156 0.00016323]\n",
      "0.2791523525023201 [0.00073157 0.00022155 0.00016317]\n",
      "0.2806957779172683 [0.00073052 0.00022148 0.00016261]\n",
      "0.29613003206675026 [0.00072004 0.00022084 0.00015698]\n",
      "0.2961396784755937 [0.00072004 0.00022084 0.00015698]\n",
      "0.2961493248844371 [0.00072005 0.00022084 0.00015698]\n",
      "0.2962457889728714 [0.0007201  0.00022086 0.000157  ]\n",
      "0.297210429857214 [0.00072058 0.00022107 0.00015722]\n",
      "0.3068568387006403 [0.00072546 0.00022318 0.00015942]\n",
      "0.30688095472274884 [0.00072547 0.00022318 0.00015943]\n",
      "0.3069050707448574 [0.00072548 0.00022319 0.00015943]\n",
      "0.30714623096594307 [0.00072558 0.00022322 0.00015948]\n",
      "0.30955783317679963 [0.00072656 0.0002236  0.00015994]\n",
      "0.33367385528536525 [0.00073644 0.00022731 0.0001645 ]\n",
      "0.33367762341381974 [0.00073644 0.00022731 0.0001645 ]\n",
      "0.3336813915422742 [0.00073644 0.00022731 0.0001645 ]\n",
      "0.33371907282681884 [0.00073643 0.00022731 0.00016451]\n",
      "0.33409588567226517 [0.00073628 0.00022729 0.00016455]\n",
      "0.33786401412672856 [0.00073479 0.00022704 0.00016501]\n",
      "0.3755452986713623 [0.00071994 0.00022456 0.00016952]\n",
      "0.3755688494742027 [0.00071992 0.00022456 0.0001695 ]\n"
     ]
    },
    {
     "name": "stdout",
     "output_type": "stream",
     "text": [
      "0.3755924002770431 [0.0007199  0.00022456 0.00016949]\n",
      "0.37582790830544704 [0.00071966 0.00022452 0.00016932]\n",
      "0.3781829885894867 [0.00071735 0.00022422 0.0001677 ]\n",
      "0.4017337914298828 [0.00069416 0.00022117 0.00015146]\n",
      "0.40174851068165807 [0.00069417 0.00022117 0.00015146]\n",
      "0.40176322993343333 [0.00069417 0.00022117 0.00015147]\n",
      "0.4019104224511858 [0.00069423 0.00022117 0.00015148]\n",
      "0.40338234762871056 [0.00069485 0.00022114 0.00015159]\n",
      "0.41810159940395814 [0.00070099 0.00022091 0.00015275]\n",
      "0.41811079893631764 [0.00070099 0.00022091 0.00015275]\n",
      "0.41811999846867715 [0.00070099 0.00022091 0.00015275]\n",
      "0.4182119937922724 [0.00070102 0.00022091 0.00015276]\n",
      "0.41913194702822537 [0.00070129 0.00022089 0.00015282]\n",
      "0.4283314793877551 [0.00070401 0.00022076 0.00015341]\n",
      "0.5203268029830523 [0.00073117 0.00021943 0.00015937]\n",
      "0.5205567912920406 [0.00073309 0.00022007 0.00015984]\n",
      "0.5207867796010288 [0.00073502 0.00022071 0.00016031]\n",
      "0.5230866626909112 [0.00075429 0.0002271  0.00016503]\n",
      "0.5460854935897355 [0.00094701 0.00029098 0.00021225]\n",
      "0.5461429906669826 [0.00094748 0.00029113 0.00021237]\n",
      "0.5462004877442297 [0.00094794 0.00029128 0.00021248]\n",
      "0.5467754585167003 [0.00095259 0.00029279 0.00021363]\n",
      "0.5525251662414064 [0.00099906 0.00030792 0.00022509]\n",
      "0.6100222434884671 [0.00146374 0.00045922 0.00033969]\n",
      "0.6101659861815848 [0.00146513 0.0004597  0.00034003]\n",
      "0.6103097288747025 [0.00146652 0.00046017 0.00034037]\n",
      "0.611747155805879 [0.00148039 0.00046494 0.0003438 ]\n",
      "0.6261214251176442 [0.00161917 0.0005126  0.00037812]\n",
      "0.7698641182352962 [0.00300692 0.00098924 0.00072131]\n",
      "0.7702234749680903 [0.00301088 0.00099052 0.00072221]\n",
      "0.7702870609314934 [0.00301158 0.00099075 0.00072236]\n",
      "0.7703506468948964 [0.00301227 0.00099097 0.00072252]\n",
      "0.7709865065289269 [0.00301921 0.00099322 0.0007241 ]\n",
      "0.777345102869232 [0.0030886  0.00101572 0.0007399 ]\n",
      "0.8409310662722829 [0.00378246 0.0012407  0.00089789]\n"
     ]
    }
   ],
   "source": [
    "solver = scipy.integrate.ode(f)\n",
    "solver.set_integrator(\"vode\")\n",
    "solver.set_initial_value(x)\n",
    "xarr = [x.copy()]\n",
    "tarr = [0.0]\n",
    "tmax = 1.0\n",
    "while solver.successful():\n",
    "    solver.integrate(tmax, step=True)\n",
    "    xarr.append(solver.y)\n",
    "    tarr.append(solver.t)\n",
    "    if solver.t > tmax:\n",
    "        break\n",
    "    print(solver.t, solver.y)"
   ]
  },
  {
   "cell_type": "code",
   "execution_count": 138,
   "id": "64e046fc",
   "metadata": {},
   "outputs": [],
   "source": [
    "xarr = np.vstack(xarr)\n",
    "tarr = np.array(tarr)"
   ]
  },
  {
   "cell_type": "code",
   "execution_count": 140,
   "id": "ff33d290",
   "metadata": {},
   "outputs": [
    {
     "data": {
      "image/png": "[encoded data removed]",
      "text/plain": [
       "<Figure size 432x288 with 1 Axes>"
      ]
     },
     "metadata": {
      "needs_background": "light"
     },
     "output_type": "display_data"
    }
   ],
   "source": [
    "for i, el in enumerate(eqsys.solute_elements):\n",
    "    plt.plot(tarr, xarr[:, i])"
   ]
  },
  {
   "cell_type": "code",
   "execution_count": null,
   "id": "5c59563a",
   "metadata": {},
   "outputs": [],
   "source": []
  }
 ],
 "metadata": {
  "kernelspec": {
   "display_name": "Python 3 (ipykernel)",
   "language": "python",
   "name": "python3"
  },
  "language_info": {
   "codemirror_mode": {
    "name": "ipython",
    "version": 3
   },
   "file_extension": ".py",
   "mimetype": "text/x-python",
   "name": "python",
   "nbconvert_exporter": "python",
   "pygments_lexer": "ipython3",
   "version": "3.9.7"
  }
 },
 "nbformat": 4,
 "nbformat_minor": 5
}
