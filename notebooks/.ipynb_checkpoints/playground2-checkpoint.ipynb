{
 "cells": [
  {
   "cell_type": "code",
   "execution_count": 883,
   "id": "adb5c4cf",
   "metadata": {},
   "outputs": [],
   "source": [
    "import numpy as np\n",
    "import jax.numpy as jnp\n",
    "import jax\n",
    "import scipy.linalg\n",
    "\n",
    "import pyequion2\n",
    "import matplotlib.pyplot as plt"
   ]
  },
  {
   "cell_type": "code",
   "execution_count": 884,
   "id": "6558f18d",
   "metadata": {},
   "outputs": [
    {
     "name": "stdout",
     "output_type": "stream",
     "text": [
      "The autoreload extension is already loaded. To reload it, use:\n",
      "  %reload_ext autoreload\n"
     ]
    }
   ],
   "source": [
    "%load_ext autoreload\n",
    "%autoreload 2\n",
    "%matplotlib inline"
   ]
  },
  {
   "cell_type": "code",
   "execution_count": 885,
   "id": "22f63458",
   "metadata": {},
   "outputs": [],
   "source": [
    "class TransportBuilder(object):\n",
    "    def __init__(self, eqsys, TK, shear_velocity, kinematic_viscosity, cbulk, phases):\n",
    "        self.eqsys = eqsys\n",
    "        self.TK = TK\n",
    "        self.shear_velocity = shear_velocity\n",
    "        self.kinematic_viscosity = kinematic_viscosity\n",
    "        self.cbulk = cbulk\n",
    "        self.phases = phases\n",
    "        \n",
    "    def set_species(self, species_to_remove=[]):\n",
    "        self.basedict = {k: v\n",
    "                         for k, v in pyequion2.datamods.chemical_potentials.items()\n",
    "                         if k in self.eqsys.solutes\n",
    "                         and k not in species_to_remove}\n",
    "        self.species = list(self.basedict.keys())\n",
    "        self.species_ind = jnp.array([eqsys.species.index(spec) for spec in self.species])\n",
    "        self.solid_ind = jnp.array([eqsys.solid_phase_names.index(phase) for phase in self.phases])\n",
    "        self.reduced_formula_matrix = self.eqsys.formula_matrix[2:, self.species_ind]\n",
    "        self.reduced_reaction_vector = \\\n",
    "            eqsys.solid_stoich_matrix[self.solid_ind, :][:, self.species_ind]\n",
    "        print(self.reduced_formula_matrix.shape)\n",
    "        print(self.reduced_reaction_vector.shape)\n",
    "        self.closure_matrix = jnp.array(\n",
    "            scipy.linalg.null_space(\n",
    "                (self.reduced_formula_matrix@(self.reduced_reaction_vector.T)).T\n",
    "            ).T\n",
    "        )\n",
    "        self.nspecies = len(self.species)\n",
    "        self.logk_solid = eqsys.get_solid_log_equilibrium_constants(self.TK)[self.solid_ind]\n",
    "        self.reduced_standard_potentials = jnp.array([self.basedict[spec]['mu0'] for spec in self.species])\n",
    "        self.reduced_standard_potentials /= (pyequion2.constants.GAS_CONSTANT*self.TK)\n",
    "        self.reduce_activity_function()\n",
    "        self.reduced_diffusion_coefficients = pyequion2.equilibrium_backend.diffusion_coefficients.get_diffusion_coefficients(\n",
    "                                        self.species, self.TK)\n",
    "        self.reduced_diffusion_coefficients = jnp.array(self.reduced_diffusion_coefficients)/self.kinematic_viscosity\n",
    "        \n",
    "    def reduce_activity_function(self):\n",
    "        self._actfunc = pyequion2.equilibrium_backend.ACTIVITY_MODEL_MAP[eqsys.activity_model](\n",
    "                            self.species, backend=\"jax\")\n",
    "        \n",
    "    def activity_model_func(self, molals, TK):\n",
    "        return jnp.zeros_like(molals)\n",
    "        return self._actfunc(molals, TK)[..., 1:]/pyequion2.constants.LOG10E\n",
    "        \n",
    "    def make_grid(self, ngrid, ymax):\n",
    "        self.ngrid = ngrid\n",
    "        self.npoints = ngrid + 1\n",
    "        self.ymax = ymax\n",
    "        self.ygrid, self.ystep = jnp.linspace(0, self.ymax, self.npoints, retstep=True)\n",
    "        \n",
    "    def wall_diffusion_plus(self, yplus):\n",
    "        return 9.5*1e-4*yplus**3\n",
    "    \n",
    "    def wall_diffusion_plus_deriv(self, yplus):\n",
    "        return 3*9.5*1e-4*yplus**2\n",
    "    \n",
    "    def bulk_boundary_condition(self, c, mu):\n",
    "        cbulk = self.cbulk[..., None]\n",
    "        return self.reduced_formula_matrix@(c[:, -1][..., None]) - cbulk\n",
    "        \n",
    "    def equilibrium_wall_boundary_condition(self, c, mu):\n",
    "        dc = (c[:, 1] - c[:, 0])/(self.ystep)\n",
    "        loga = jnp.log(c[:,0]) + self.activity_model_func(c[:,0], self.TK)\n",
    "        res1 = self.reduced_reaction_vector@loga - self.logk_solid[..., None]\n",
    "        res2 = self.closure_matrix@self.reduced_formula_matrix@dc[..., None]\n",
    "        res = jnp.vstack([res1, res2])\n",
    "        return res\n",
    "    \n",
    "    def modeled_wall_boundary_condition(self, x, mu):\n",
    "        dc = (c[:, 1] - c[:, 0])/(self.ystep)\n",
    "        loga = jnp.log(c[:,0]) + self.activity_model_func(c[:,0], self.TK)\n",
    "        logsatur = self.reduced_reaction_vector@loga - self.logk_solid[..., None]\n",
    "        fsatur = jnp.clip(jnp.exp(logsatur)-1, 0.0, jnp.inf)*1e-3\n",
    "        res = self.reduced_formula_matrix@dc[..., None] \\\n",
    "              - self.reduced_formula_matrix@(self.reduced_reaction_vector.T)@fsatur\n",
    "        return res\n",
    "\n",
    "    def transport_residual(self, c, mu):\n",
    "        #logc : (nsolutes, ngrid)\n",
    "        #loga : (nsolutes, ngrid)\n",
    "        \n",
    "        ymiddle = self.ygrid[1:-1]\n",
    "        cm = c[:, 1:-1]\n",
    "        d1c = (c[:, 2:] - c[:, :-2])/(2*self.ystep) #(nsolutes, ngrid-2)\n",
    "        d1mu = (mu[:, 2:] - mu[:, :-2])/(2*self.ystep) #(nsolutes, ngrid-2)\n",
    "        d2c = (c[:, 2:] - 2*c[:, 1:-1] + c[:, :-2])/(self.ystep**2) #(nsolutes, ngrid-2\n",
    "        d2mu = (mu[:, 2:] - 2*mu[:, 1:-1] + mu[:, :-2])/(self.ystep**2) #(nsolutes, ngrid-2)        \n",
    "        molecular_diffusions = self.reduced_diffusion_coefficients[..., None] #(nsolutes, 1)\n",
    "        turbulent_diffusions = self.wall_diffusion_plus(ymiddle)\n",
    "        turbulent_diffusions_deriv = self.wall_diffusion_plus_deriv(ymiddle)\n",
    "        term1 = molecular_diffusions*(d1c*d1mu + cm*d2mu)\n",
    "        term2 = turbulent_diffusions*d2c + turbulent_diffusions_deriv*d1c\n",
    "        term = term1 + term2\n",
    "        res = self.reduced_formula_matrix@term\n",
    "        return res\n",
    "                \n",
    "    def potential_residual(self, c, mu):\n",
    "        logg = self.activity_model_func(c.T, self.TK).T\n",
    "        mu0 = self.reduced_standard_potentials[..., None]\n",
    "        return mu - (mu0 + logg + jnp.log(c))\n",
    "    \n",
    "    def full_residual(self, cmu):\n",
    "        n = cmu.shape[0]\n",
    "        c = cmu[:n//2, :]\n",
    "        mu = cmu[n//2:, :]\n",
    "        res1a = self.equilibrium_wall_boundary_condition(c, mu)\n",
    "        res1b = self.transport_residual(c, mu)\n",
    "        res1c = self.bulk_boundary_condition(c, mu)\n",
    "        res1 = jnp.hstack([res1a, res1b, res1c])\n",
    "        res3 = self.potential_residual(c, mu)\n",
    "        res = jnp.vstack([res1, res3])\n",
    "        return res\n",
    "    \n",
    "    def bulk_residual(self, cmu):\n",
    "        n = cmu.shape[0]\n",
    "        c = cmu[:n//2, :]\n",
    "        mu = cmu[n//2:, :]\n",
    "        res1 = self.bulk_boundary_condition(c, mu)\n",
    "        res3 = self.potential_residual(c, mu)\n",
    "        res = jnp.vstack([res1, res3])\n",
    "        return res\n",
    "\n",
    "    def gibbs_free_energy(self, cmu):\n",
    "        n = cmu.shape[0]\n",
    "        c = cmu[:n//2, :]\n",
    "        mu = cmu[n//2:, :]\n",
    "        return jnp.mean(jnp.sum(c*mu, axis=0))    \n",
    "    \n",
    "    def flattened_equality_constraint(self, x):\n",
    "        cmu = x.reshape(2*self.nspecies, self.npoints)\n",
    "        return self.full_residual(cmu).flatten()\n",
    "    \n",
    "    def flattened_minimization_objective(self, x):\n",
    "        cmu = x.reshape(2*self.nspecies, self.npoints)\n",
    "        return self.gibbs_free_energy(cmu).flatten()[0]\n",
    "        \n",
    "    def wall_length(self):\n",
    "        return self.kinematic_viscosity/self.shear_velocity\n",
    "    \n",
    "    def wall_time(self):\n",
    "        return self.kinematic_viscosity/(self.shear_velocity**2)\n",
    "    \n",
    "    def get_log_equilibrium_constants(self, TK):\n",
    "        return self.eqsys.get_log_equilibrium_constants(TK)\n"
   ]
  },
  {
   "cell_type": "code",
   "execution_count": 886,
   "id": "177d5a61",
   "metadata": {},
   "outputs": [],
   "source": [
    "eqsys = pyequion2.EquilibriumBackend([\"Na\", \"Cl\"], from_elements=True, backend=\"jax\", logbase=\"e\")"
   ]
  },
  {
   "cell_type": "code",
   "execution_count": 889,
   "id": "e5c08f72",
   "metadata": {},
   "outputs": [
    {
     "name": "stdout",
     "output_type": "stream",
     "text": [
      "(3, 4)\n",
      "(1, 4)\n"
     ]
    }
   ],
   "source": [
    "builder = TransportBuilder(eqsys, 298.15, 0.1, 1e-6, jnp.array([1e-3, 1e-3, 0.0]), [\"Halite\"])\n",
    "builder.set_species()\n",
    "builder.make_grid(10, 5)"
   ]
  },
  {
   "cell_type": "code",
   "execution_count": 890,
   "id": "f93635ee",
   "metadata": {},
   "outputs": [
    {
     "data": {
      "text/plain": [
       "['Cl-', 'H+', 'Na+', 'OH-']"
      ]
     },
     "execution_count": 890,
     "metadata": {},
     "output_type": "execute_result"
    }
   ],
   "source": [
    "builder.species"
   ]
  },
  {
   "cell_type": "code",
   "execution_count": 891,
   "id": "94950066",
   "metadata": {},
   "outputs": [],
   "source": [
    "c = np.ones([builder.nspecies, builder.npoints])*1e-3\n",
    "mu = np.random.randn(*c.shape)*0.0 + builder.reduced_standard_potentials[..., None] + np.log(c)\n",
    "cmu = jnp.vstack([c, mu])"
   ]
  },
  {
   "cell_type": "code",
   "execution_count": 892,
   "id": "59c4100f",
   "metadata": {},
   "outputs": [
    {
     "data": {
      "text/plain": [
       "DeviceArray([[0.],\n",
       "             [0.],\n",
       "             [0.]], dtype=float32)"
      ]
     },
     "execution_count": 892,
     "metadata": {},
     "output_type": "execute_result"
    }
   ],
   "source": [
    "builder.bulk_boundary_condition(c, mu)"
   ]
  },
  {
   "cell_type": "code",
   "execution_count": 893,
   "id": "d174b4cb",
   "metadata": {},
   "outputs": [
    {
     "data": {
      "text/plain": [
       "(2, 3)"
      ]
     },
     "execution_count": 893,
     "metadata": {},
     "output_type": "execute_result"
    }
   ],
   "source": [
    "builder.closure_matrix.shape"
   ]
  },
  {
   "cell_type": "code",
   "execution_count": 894,
   "id": "086c3de5",
   "metadata": {},
   "outputs": [
    {
     "data": {
      "text/plain": [
       "DeviceArray([[0., 0., 0., 0., 0., 0., 0., 0., 0., 0., 0.],\n",
       "             [0., 0., 0., 0., 0., 0., 0., 0., 0., 0., 0.],\n",
       "             [0., 0., 0., 0., 0., 0., 0., 0., 0., 0., 0.],\n",
       "             [0., 0., 0., 0., 0., 0., 0., 0., 0., 0., 0.]], dtype=float32)"
      ]
     },
     "execution_count": 894,
     "metadata": {},
     "output_type": "execute_result"
    }
   ],
   "source": [
    "builder.potential_residual(c, mu)"
   ]
  },
  {
   "cell_type": "code",
   "execution_count": 895,
   "id": "f6612b64",
   "metadata": {},
   "outputs": [
    {
     "data": {
      "text/plain": [
       "DeviceArray([[-17.430569],\n",
       "             [  0.      ],\n",
       "             [  0.      ]], dtype=float32)"
      ]
     },
     "execution_count": 895,
     "metadata": {},
     "output_type": "execute_result"
    }
   ],
   "source": [
    "builder.equilibrium_wall_boundary_condition(c, mu)"
   ]
  },
  {
   "cell_type": "code",
   "execution_count": 896,
   "id": "6e7c7a48",
   "metadata": {},
   "outputs": [
    {
     "data": {
      "text/plain": [
       "DeviceArray([[0.],\n",
       "             [0.],\n",
       "             [0.]], dtype=float32)"
      ]
     },
     "execution_count": 896,
     "metadata": {},
     "output_type": "execute_result"
    }
   ],
   "source": [
    "builder.modeled_wall_boundary_condition(c, mu)"
   ]
  },
  {
   "cell_type": "code",
   "execution_count": 897,
   "id": "2c038a47",
   "metadata": {},
   "outputs": [
    {
     "data": {
      "text/plain": [
       "DeviceArray([[0., 0., 0., 0., 0., 0., 0., 0., 0.],\n",
       "             [0., 0., 0., 0., 0., 0., 0., 0., 0.],\n",
       "             [0., 0., 0., 0., 0., 0., 0., 0., 0.]], dtype=float32)"
      ]
     },
     "execution_count": 897,
     "metadata": {},
     "output_type": "execute_result"
    }
   ],
   "source": [
    "builder.transport_residual(c, mu)"
   ]
  },
  {
   "cell_type": "code",
   "execution_count": 898,
   "id": "975524a5",
   "metadata": {},
   "outputs": [
    {
     "data": {
      "text/plain": [
       "DeviceArray([[ 1.0000000e-03,  1.0000000e-03,  1.0000000e-03,\n",
       "               1.0000000e-03,  1.0000000e-03,  1.0000000e-03,\n",
       "               1.0000000e-03,  1.0000000e-03,  1.0000000e-03,\n",
       "               1.0000000e-03,  1.0000000e-03],\n",
       "             [ 1.0000000e-03,  1.0000000e-03,  1.0000000e-03,\n",
       "               1.0000000e-03,  1.0000000e-03,  1.0000000e-03,\n",
       "               1.0000000e-03,  1.0000000e-03,  1.0000000e-03,\n",
       "               1.0000000e-03,  1.0000000e-03],\n",
       "             [ 1.0000000e-03,  1.0000000e-03,  1.0000000e-03,\n",
       "               1.0000000e-03,  1.0000000e-03,  1.0000000e-03,\n",
       "               1.0000000e-03,  1.0000000e-03,  1.0000000e-03,\n",
       "               1.0000000e-03,  1.0000000e-03],\n",
       "             [ 1.0000000e-03,  1.0000000e-03,  1.0000000e-03,\n",
       "               1.0000000e-03,  1.0000000e-03,  1.0000000e-03,\n",
       "               1.0000000e-03,  1.0000000e-03,  1.0000000e-03,\n",
       "               1.0000000e-03,  1.0000000e-03],\n",
       "             [-6.9607053e+00, -6.9607053e+00, -6.9607053e+00,\n",
       "              -6.9607053e+00, -6.9607053e+00, -6.9607053e+00,\n",
       "              -6.9607053e+00, -6.9607053e+00, -6.9607053e+00,\n",
       "              -6.9607053e+00, -6.9607053e+00],\n",
       "             [-6.9077554e+00, -6.9077554e+00, -6.9077554e+00,\n",
       "              -6.9077554e+00, -6.9077554e+00, -6.9077554e+00,\n",
       "              -6.9077554e+00, -6.9077554e+00, -6.9077554e+00,\n",
       "              -6.9077554e+00, -6.9077554e+00],\n",
       "             [-7.0134006e+00, -7.0134006e+00, -7.0134006e+00,\n",
       "              -7.0134006e+00, -7.0134006e+00, -7.0134006e+00,\n",
       "              -7.0134006e+00, -7.0134006e+00, -7.0134006e+00,\n",
       "              -7.0134006e+00, -7.0134006e+00],\n",
       "             [-6.9712052e+00, -6.9712052e+00, -6.9712052e+00,\n",
       "              -6.9712052e+00, -6.9712052e+00, -6.9712052e+00,\n",
       "              -6.9712052e+00, -6.9712052e+00, -6.9712052e+00,\n",
       "              -6.9712052e+00, -6.9712052e+00]], dtype=float32)"
      ]
     },
     "execution_count": 898,
     "metadata": {},
     "output_type": "execute_result"
    }
   ],
   "source": [
    "cmu"
   ]
  },
  {
   "cell_type": "code",
   "execution_count": 899,
   "id": "acb62481",
   "metadata": {},
   "outputs": [
    {
     "data": {
      "text/plain": [
       "DeviceArray([[-17.430569,   0.      ,   0.      ,   0.      ,   0.      ,\n",
       "                0.      ,   0.      ,   0.      ,   0.      ,   0.      ,\n",
       "                0.      ],\n",
       "             [  0.      ,   0.      ,   0.      ,   0.      ,   0.      ,\n",
       "                0.      ,   0.      ,   0.      ,   0.      ,   0.      ,\n",
       "                0.      ],\n",
       "             [  0.      ,   0.      ,   0.      ,   0.      ,   0.      ,\n",
       "                0.      ,   0.      ,   0.      ,   0.      ,   0.      ,\n",
       "                0.      ],\n",
       "             [  0.      ,   0.      ,   0.      ,   0.      ,   0.      ,\n",
       "                0.      ,   0.      ,   0.      ,   0.      ,   0.      ,\n",
       "                0.      ],\n",
       "             [  0.      ,   0.      ,   0.      ,   0.      ,   0.      ,\n",
       "                0.      ,   0.      ,   0.      ,   0.      ,   0.      ,\n",
       "                0.      ],\n",
       "             [  0.      ,   0.      ,   0.      ,   0.      ,   0.      ,\n",
       "                0.      ,   0.      ,   0.      ,   0.      ,   0.      ,\n",
       "                0.      ],\n",
       "             [  0.      ,   0.      ,   0.      ,   0.      ,   0.      ,\n",
       "                0.      ,   0.      ,   0.      ,   0.      ,   0.      ,\n",
       "                0.      ]], dtype=float32)"
      ]
     },
     "execution_count": 899,
     "metadata": {},
     "output_type": "execute_result"
    }
   ],
   "source": [
    "builder.full_residual(cmu)"
   ]
  },
  {
   "cell_type": "code",
   "execution_count": 900,
   "id": "8f35df74",
   "metadata": {},
   "outputs": [
    {
     "data": {
      "text/plain": [
       "DeviceArray(-0.02785307, dtype=float32)"
      ]
     },
     "execution_count": 900,
     "metadata": {},
     "output_type": "execute_result"
    }
   ],
   "source": [
    "builder.gibbs_free_energy(cmu)"
   ]
  },
  {
   "cell_type": "code",
   "execution_count": 901,
   "id": "0de1ae95",
   "metadata": {},
   "outputs": [],
   "source": [
    "equality_constraint = scipy.optimize.NonlinearConstraint(builder.flattened_equality_constraint,\n",
    "                                                         lb=0.0,\n",
    "                                                         ub=0.0,\n",
    "                                                         jac = jax.jacfwd(builder.flattened_equality_constraint))\n",
    "lb = np.hstack([np.zeros(builder.nspecies*builder.npoints), -np.inf*np.ones(builder.nspecies*builder.npoints)])\n",
    "bounds = scipy.optimize.Bounds(lb = lb, ub = np.inf)"
   ]
  },
  {
   "cell_type": "code",
   "execution_count": null,
   "id": "397d76e3",
   "metadata": {},
   "outputs": [],
   "source": []
  },
  {
   "cell_type": "code",
   "execution_count": null,
   "id": "7df816d1",
   "metadata": {},
   "outputs": [],
   "source": [
    "sol = scipy.optimize.minimize(builder.flattened_minimization_objective,\n",
    "                        cmu.flatten(),\n",
    "                        jac = jax.grad(builder.flattened_minimization_objective),\n",
    "                        bounds=bounds,\n",
    "                        constraints=equality_constraint,\n",
    "                        method='trust-constr')"
   ]
  },
  {
   "cell_type": "code",
   "execution_count": null,
   "id": "4dc78a5e",
   "metadata": {},
   "outputs": [],
   "source": [
    "sol.success"
   ]
  },
  {
   "cell_type": "code",
   "execution_count": null,
   "id": "9731a92b",
   "metadata": {},
   "outputs": [],
   "source": [
    "cmu = sol.x.reshape(builder.nspecies*2, builder.npoints)\n",
    "c, mu = cmu[:builder.nspecies, :], cmu[builder.nspecies:, :]"
   ]
  },
  {
   "cell_type": "code",
   "execution_count": null,
   "id": "769aa7da",
   "metadata": {},
   "outputs": [],
   "source": [
    "builder.ygrid"
   ]
  },
  {
   "cell_type": "code",
   "execution_count": null,
   "id": "66c17ff1",
   "metadata": {},
   "outputs": [],
   "source": [
    "plt.plot(builder.ygrid, np.exp(c[2, :]))"
   ]
  },
  {
   "cell_type": "code",
   "execution_count": null,
   "id": "1e495f8a",
   "metadata": {},
   "outputs": [],
   "source": []
  },
  {
   "cell_type": "code",
   "execution_count": null,
   "id": "f271cb43",
   "metadata": {},
   "outputs": [],
   "source": []
  },
  {
   "cell_type": "code",
   "execution_count": null,
   "id": "1e7b3385",
   "metadata": {},
   "outputs": [],
   "source": []
  }
 ],
 "metadata": {
  "kernelspec": {
   "display_name": "Python 3 (ipykernel)",
   "language": "python",
   "name": "python3"
  },
  "language_info": {
   "codemirror_mode": {
    "name": "ipython",
    "version": 3
   },
   "file_extension": ".py",
   "mimetype": "text/x-python",
   "name": "python",
   "nbconvert_exporter": "python",
   "pygments_lexer": "ipython3",
   "version": "3.9.7"
  }
 },
 "nbformat": 4,
 "nbformat_minor": 5
}
