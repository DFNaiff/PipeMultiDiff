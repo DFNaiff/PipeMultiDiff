{
 "cells": [
  {
   "cell_type": "code",
   "execution_count": 1,
   "id": "adb5c4cf",
   "metadata": {},
   "outputs": [],
   "source": [
    "import numpy as np\n",
    "import jax.numpy as jnp\n",
    "import jax\n",
    "import scipy.linalg\n",
    "\n",
    "import pyequion2\n",
    "import matplotlib.pyplot as plt"
   ]
  },
  {
   "cell_type": "code",
   "execution_count": 2,
   "id": "6558f18d",
   "metadata": {},
   "outputs": [],
   "source": [
    "%load_ext autoreload\n",
    "%autoreload 2\n",
    "%matplotlib inline"
   ]
  },
  {
   "cell_type": "code",
   "execution_count": 3,
   "id": "22f63458",
   "metadata": {},
   "outputs": [],
   "source": [
    "class TransportBuilder(object):\n",
    "    def __init__(self, eqsys, TK, shear_velocity, kinematic_viscosity, cbulk, phases):\n",
    "        self.eqsys = eqsys\n",
    "        self.TK = TK\n",
    "        self.shear_velocity = shear_velocity\n",
    "        self.kinematic_viscosity = kinematic_viscosity\n",
    "        self.cbulk = cbulk\n",
    "        self.phases = phases\n",
    "        self.simplified = False\n",
    "        \n",
    "    def set_species(self, species_to_remove=[]):\n",
    "        self.basedict = {k: v\n",
    "                         for k, v in pyequion2.datamods.chemical_potentials.items()\n",
    "                         if k in self.eqsys.solutes\n",
    "                         and k not in species_to_remove}\n",
    "        self.species = [spec for spec in eqsys.species[1:] if spec not in species_to_remove]\n",
    "        self.species_ind = jnp.array([eqsys.species.index(spec) for spec in self.species])\n",
    "        self.solid_ind = jnp.array([eqsys.solid_phase_names.index(phase) for phase in self.phases])\n",
    "        self.reduced_formula_matrix = self.eqsys.formula_matrix[2:, self.species_ind]\n",
    "        self.reduced_reaction_vector = \\\n",
    "            eqsys.solid_stoich_matrix[self.solid_ind, :][:, self.species_ind]\n",
    "        self.closure_matrix = jnp.array(\n",
    "            scipy.linalg.null_space(\n",
    "                (self.reduced_formula_matrix@(self.reduced_reaction_vector.T)).T\n",
    "            ).T\n",
    "        )\n",
    "        self.nspecies = len(self.species)\n",
    "        self.logk_solid = eqsys.get_solid_log_equilibrium_constants(self.TK)[self.solid_ind]\n",
    "        self.reduced_standard_potentials = eqsys.get_standard_chemical_potentials(self.TK)[self.species_ind]\n",
    "        self.reduced_standard_potentials /= (pyequion2.constants.GAS_CONSTANT*self.TK)    \n",
    "        self.reduce_activity_function()\n",
    "        self.reduced_diffusion_coefficients = pyequion2.equilibrium_backend.diffusion_coefficients.get_diffusion_coefficients(\n",
    "                                        self.species, self.TK)\n",
    "        self.reduced_diffusion_coefficients = jnp.array(self.reduced_diffusion_coefficients)/self.kinematic_viscosity\n",
    "        \n",
    "    def reduce_activity_function(self):\n",
    "        activity_model = \"DEBYE_LIMITING\"\n",
    "        activity_model = eqsys.activity_model\n",
    "        self._actfunc = pyequion2.equilibrium_backend.ACTIVITY_MODEL_MAP[activity_model](\n",
    "                            self.species, backend=\"jax\")\n",
    "        \n",
    "    def activity_model_func(self, molals, TK):\n",
    "        return self._actfunc(molals, TK)[..., 1:]/pyequion2.constants.LOG10E\n",
    "        \n",
    "    def make_grid(self, ngrid, ymax):\n",
    "        self.ngrid = ngrid\n",
    "        self.npoints = ngrid + 1\n",
    "        self.ymax = ymax\n",
    "        self.ypoints, self.ystep = jnp.linspace(0, self.ymax, self.npoints, retstep=True)\n",
    "        self.ygrid = self.ypoints[:-1] + self.ystep/2\n",
    "        \n",
    "    def wall_diffusion_plus(self, yplus):\n",
    "        return 9.5*1e-4*yplus**3\n",
    "    \n",
    "    def wall_diffusion_plus_deriv(self, yplus):\n",
    "        return 3*9.5*1e-4*yplus**2\n",
    "\n",
    "    def transport_residual(self, logc, mu):\n",
    "        #logc : (nsolutes, ngrid)\n",
    "        #npoints = ngrid + 1\n",
    "        logg = self.activity_model_func(jnp.exp(logc).T, self.TK).T #(nsolutes, ngrid)\n",
    "        c = jnp.exp(logc) #(nsolutes, ngrid)\n",
    "        loga = logg + logc #(nsolutes, ngrid)\n",
    "        ypoints = self.ypoints #(npoints,)\n",
    "        ystep = self.ystep\n",
    "        mdiffs = self.reduced_diffusion_coefficients[..., None] #(nsolutes, 1)\n",
    "        tdiffs = self.wall_diffusion_plus(ypoints)[1:-1] #(ngrid-1,)\n",
    "        A = self.reduced_formula_matrix #(nels, nsolutes)\n",
    "        C = self.closure_matrix #(nels-nreac, nsolutes)\n",
    "        R = self.reduced_reaction_vector #(nreac, nsolutes)\n",
    "        logKsp = self.logk_solid[..., None] #(nreac, 1)\n",
    "        cbulk = self.cbulk[..., None] #(nels, 1)\n",
    "        cinterp = (c[:, 1:] + c[:, :-1])*0.5 #(nsolutes, ngrid-1)\n",
    "        dmu = (loga[:, 1:] - loga[:, :-1])/ystep #(nsolutes, ngrid-1)\n",
    "        dc = (c[:, 1:] - c[:, :-1])/ystep #(nsolutes, ngrid-1)\n",
    "        if self.simplified:\n",
    "            jmiddle = -A@(mdiffs*dc + tdiffs*dc) #(nsolutes, ngrid-1)\n",
    "        else:\n",
    "            jmiddle = -A@(mdiffs*cinterp*dmu + tdiffs*dc) #(nsolutes, ngrid-1)\n",
    "        jleft = jmiddle[:, :1] #(nsolutes, 1)\n",
    "        cright = c[:, -1:] #(nsolutes, 1)\n",
    "        logaleft = loga[:, :1] #(nsolutes, 1)\n",
    "        middle_residual = jmiddle[:, 1:] - jmiddle[:, :-1] #(nsolutes, ngrid-2)\n",
    "        right_residual = A@cright - cbulk #(nsolutes, 1)\n",
    "        upper_left_residual = R@logaleft - logKsp #(nreac, 1)\n",
    "        lower_left_residual = C@jleft #(nels - nreac, 1)\n",
    "        left_residual = jnp.vstack([upper_left_residual, lower_left_residual]) #(nsolutes, 1)\n",
    "        residual = jnp.hstack([left_residual, middle_residual, right_residual]) #(nsolutes, ngrid)\n",
    "        return residual\n",
    "    \n",
    "    def fluxes(self, logc):\n",
    "        logg = self.activity_model_func(jnp.exp(logc).T, self.TK).T #(nsolutes, ngrid)\n",
    "        c = jnp.exp(logc) #(nsolutes, ngrid)\n",
    "        loga = logg + logc #(nsolutes, ngrid)\n",
    "        ypoints = self.ypoints #(npoints,)\n",
    "        ystep = self.ystep\n",
    "        mdiffs = self.reduced_diffusion_coefficients[..., None] #(nsolutes, 1)\n",
    "        tdiffs = self.wall_diffusion_plus(ypoints)[1:-1] #(ngrid-1,)\n",
    "        A = self.reduced_formula_matrix #(nels, nsolutes)\n",
    "        cinterp = (c[:, 1:] + c[:, :-1])*0.5 #(nsolutes, ngrid-1)\n",
    "        dmu = (loga[:, 1:] - loga[:, :-1])/ystep #(nsolutes, ngrid-1)\n",
    "        dc = (c[:, 1:] - c[:, :-1])/ystep #(nsolutes, ngrid-1)\n",
    "        if self.simplified:\n",
    "            jmiddle = -A@(mdiffs*dc + tdiffs*dc) #(nsolutes, ngrid-1)\n",
    "        else:\n",
    "            jmiddle = -A@(mdiffs*cinterp*dmu + tdiffs*dc) #(nsolutes, ngrid-1)\n",
    "        return jmiddle\n",
    "    \n",
    "    def potential_residual(self, logc, mu):\n",
    "        #logc : (nsolutes, ngrid)\n",
    "        #mu : (nsolutes, ngrid)\n",
    "        logg = self.activity_model_func(jnp.exp(logc).T, self.TK).T\n",
    "        loga = logg + logc\n",
    "        mu0 = self.reduced_standard_potentials[..., None]\n",
    "        return mu - (mu0 + loga)\n",
    "    \n",
    "    def full_residual(self, logcmu):\n",
    "        #logcmu : (2*nsolutes, ngrid)\n",
    "        n = logcmu.shape[0]\n",
    "        logc = logcmu[:n//2, :]\n",
    "        mu = logcmu[n//2:, :]\n",
    "        res1 = self.transport_residual(logc, mu) #(nels, ngrid)\n",
    "        res3 = self.potential_residual(logc, mu) #(nsolutes, ngrid)\n",
    "        res = jnp.vstack([res1, res3]) #(nels + nsolutes, ngrid)\n",
    "        return res\n",
    "\n",
    "    def gibbs_free_energy(self, logcmu):\n",
    "        n = logcmu.shape[0]\n",
    "        logc = logcmu[:n//2, :]\n",
    "        mu = logcmu[n//2:, :]\n",
    "        c = jnp.exp(logc)\n",
    "        return jnp.mean(jnp.sum(c*mu, axis=0))    \n",
    "    \n",
    "    def flattened_equality_constraint(self, x):\n",
    "        cmu = x.reshape(2*self.nspecies, self.ngrid)\n",
    "        return self.full_residual(cmu).flatten()\n",
    "    \n",
    "    def flattened_minimization_objective(self, x):\n",
    "        cmu = x.reshape(2*self.nspecies, self.ngrid)\n",
    "        return self.gibbs_free_energy(cmu).flatten()[0]\n",
    "        \n",
    "    def wall_length(self):\n",
    "        return self.kinematic_viscosity/self.shear_velocity\n",
    "    \n",
    "    def wall_time(self):\n",
    "        return self.kinematic_viscosity/(self.shear_velocity**2)\n",
    "    \n",
    "    def get_log_equilibrium_constants(self, TK):\n",
    "        return self.eqsys.get_log_equilibrium_constants(TK)\n",
    "    \n",
    "    def simplify(self):\n",
    "        self.simplified = True\n",
    "    \n",
    "    def complexify(self):\n",
    "        self.simplified = False"
   ]
  },
  {
   "cell_type": "code",
   "execution_count": 4,
   "id": "177d5a61",
   "metadata": {},
   "outputs": [
    {
     "name": "stderr",
     "output_type": "stream",
     "text": [
      "WARNING:absl:No GPU/TPU found, falling back to CPU. (Set TF_CPP_MIN_LOG_LEVEL=0 and rerun for more info.)\n"
     ]
    }
   ],
   "source": [
    "eqsys = pyequion2.EquilibriumBackend([\"Na\", \"Cl\", \"Ca\", \"C\"], from_elements=True, backend=\"jax\", logbase=\"e\")"
   ]
  },
  {
   "cell_type": "code",
   "execution_count": 5,
   "id": "3ff5751a",
   "metadata": {},
   "outputs": [
    {
     "data": {
      "text/plain": [
       "{'H2O': DeviceArray(-237172.17, dtype=float32),\n",
       " 'CO2': DeviceArray(-385941.53, dtype=float32),\n",
       " 'CO3--': DeviceArray(-527900., dtype=float32),\n",
       " 'Ca++': DeviceArray(-553040., dtype=float32),\n",
       " 'CaCO3': DeviceArray(-1099350., dtype=float32),\n",
       " 'CaHCO3+': DeviceArray(-1146208.4, dtype=float32),\n",
       " 'CaOH+': DeviceArray(-717263.8, dtype=float32),\n",
       " 'Cl-': DeviceArray(-131260., dtype=float32),\n",
       " 'H+': DeviceArray(0., dtype=float32),\n",
       " 'HCO3-': DeviceArray(-586857.2, dtype=float32),\n",
       " 'Na+': DeviceArray(-261890., dtype=float32),\n",
       " 'Na2CO3': DeviceArray(-1055515.8, dtype=float32),\n",
       " 'NaCO3-': DeviceArray(-797039.2, dtype=float32),\n",
       " 'NaHCO3': DeviceArray(-847320.2, dtype=float32),\n",
       " 'NaOH': DeviceArray(-418122.6, dtype=float32),\n",
       " 'OH-': DeviceArray(-157290., dtype=float32)}"
      ]
     },
     "execution_count": 5,
     "metadata": {},
     "output_type": "execute_result"
    }
   ],
   "source": [
    "{sp: k for sp, k in zip(eqsys.species, eqsys.get_standard_chemical_potentials(298.15))}"
   ]
  },
  {
   "cell_type": "code",
   "execution_count": 6,
   "id": "e5c08f72",
   "metadata": {},
   "outputs": [
    {
     "data": {
      "text/plain": [
       "['CO2', 'CO3--', 'Ca++', 'Cl-', 'HCO3-', 'Na+']"
      ]
     },
     "execution_count": 6,
     "metadata": {},
     "output_type": "execute_result"
    }
   ],
   "source": [
    "builder = TransportBuilder(eqsys, 298.15, 0.1, 1e-6, jnp.array([65, 56, 75.0, 28.0, 0.0]), [\"Calcite\"])\n",
    "builder.set_species(['CaCO3', 'CaHCO3+', 'CaOH+', 'Na2CO3', 'NaCO3-', 'NaHCO3', 'NaOH', 'CaOH+',\n",
    "                     'H+', 'OH-'])\n",
    "builder.make_grid(10, 5)\n",
    "builder.species"
   ]
  },
  {
   "cell_type": "code",
   "execution_count": 7,
   "id": "94950066",
   "metadata": {},
   "outputs": [],
   "source": [
    "logc = np.ones([builder.nspecies, builder.ngrid])*0.0 - 1.0\n",
    "mu = builder.reduced_standard_potentials[..., None] + logc\n",
    "logcmu = jnp.vstack([logc, mu])"
   ]
  },
  {
   "cell_type": "code",
   "execution_count": 8,
   "id": "b0a0dba5",
   "metadata": {},
   "outputs": [
    {
     "data": {
      "text/plain": [
       "DeviceArray([[ 14.393301  ,   0.        ,   0.        ,   0.        ,\n",
       "                0.        ,   0.        ,   0.        ,   0.        ,\n",
       "                0.        , -63.896362  ],\n",
       "             [  0.        ,   0.        ,   0.        ,   0.        ,\n",
       "                0.        ,   0.        ,   0.        ,   0.        ,\n",
       "                0.        , -55.632122  ],\n",
       "             [  0.        ,   0.        ,   0.        ,   0.        ,\n",
       "                0.        ,   0.        ,   0.        ,   0.        ,\n",
       "                0.        , -74.63212   ],\n",
       "             [  0.        ,   0.        ,   0.        ,   0.        ,\n",
       "                0.        ,   0.        ,   0.        ,   0.        ,\n",
       "                0.        , -27.63212   ],\n",
       "             [  0.        ,   0.        ,   0.        ,   0.        ,\n",
       "                0.        ,   0.        ,   0.        ,   0.        ,\n",
       "                0.        ,  -0.36787945],\n",
       "             [ -0.4658966 ,  -0.4658966 ,  -0.4658966 ,  -0.4658966 ,\n",
       "               -0.4658966 ,  -0.4658966 ,  -0.4658966 ,  -0.4658966 ,\n",
       "               -0.4658966 ,  -0.4658966 ],\n",
       "             [  1.8973236 ,   1.8973236 ,   1.8973236 ,   1.8973236 ,\n",
       "                1.8973236 ,   1.8973236 ,   1.8973236 ,   1.8973236 ,\n",
       "                1.8973236 ,   1.8973236 ],\n",
       "             [  1.234909  ,   1.234909  ,   1.234909  ,   1.234909  ,\n",
       "                1.234909  ,   1.234909  ,   1.234909  ,   1.234909  ,\n",
       "                1.234909  ,   1.234909  ],\n",
       "             [  0.56424713,   0.56424713,   0.56424713,   0.56424713,\n",
       "                0.56424713,   0.56424713,   0.56424713,   0.56424713,\n",
       "                0.56424713,   0.56424713],\n",
       "             [  0.47433472,   0.47433472,   0.47433472,   0.47433472,\n",
       "                0.47433472,   0.47433472,   0.47433472,   0.47433472,\n",
       "                0.47433472,   0.47433472],\n",
       "             [  0.23307037,   0.23307037,   0.23307037,   0.23307037,\n",
       "                0.23307037,   0.23307037,   0.23307037,   0.23307037,\n",
       "                0.23307037,   0.23307037]], dtype=float32)"
      ]
     },
     "execution_count": 8,
     "metadata": {},
     "output_type": "execute_result"
    }
   ],
   "source": [
    "builder.simplify()\n",
    "builder.full_residual(logcmu)"
   ]
  },
  {
   "cell_type": "code",
   "execution_count": 9,
   "id": "57c4e2d2",
   "metadata": {},
   "outputs": [
    {
     "data": {
      "text/plain": [
       "DeviceArray(-365.32776, dtype=float32)"
      ]
     },
     "execution_count": 9,
     "metadata": {},
     "output_type": "execute_result"
    }
   ],
   "source": [
    "builder.flattened_minimization_objective(logcmu.flatten())"
   ]
  },
  {
   "cell_type": "code",
   "execution_count": 17,
   "id": "0de1ae95",
   "metadata": {},
   "outputs": [],
   "source": [
    "equality_constraint = scipy.optimize.NonlinearConstraint(\n",
    "    jax.jit(builder.flattened_equality_constraint),\n",
    "    lb=0.0,\n",
    "    ub=0.0,\n",
    "    jac = jax.jit(jax.jacfwd(builder.flattened_equality_constraint)))\n"
   ]
  },
  {
   "cell_type": "code",
   "execution_count": 11,
   "id": "397d76e3",
   "metadata": {},
   "outputs": [],
   "source": [
    "sol_simple = scipy.optimize.minimize(jax.jit(builder.flattened_minimization_objective),\n",
    "                              logcmu.flatten(),\n",
    "                              jac = jax.jit(jax.grad(builder.flattened_minimization_objective)),\n",
    "                              constraints=equality_constraint,\n",
    "                              method='trust-constr')"
   ]
  },
  {
   "cell_type": "code",
   "execution_count": 12,
   "id": "233314cf",
   "metadata": {},
   "outputs": [
    {
     "data": {
      "text/plain": [
       "False"
      ]
     },
     "execution_count": 12,
     "metadata": {},
     "output_type": "execute_result"
    }
   ],
   "source": [
    "sol_simple.success"
   ]
  },
  {
   "cell_type": "code",
   "execution_count": 13,
   "id": "4dc78a5e",
   "metadata": {},
   "outputs": [],
   "source": [
    "# builder.complexify()\n",
    "# sol = scipy.optimize.minimize(jax.jit(builder.flattened_minimization_objective),\n",
    "#                               sol_simple.x,\n",
    "#                               jac = jax.jit(jax.grad(builder.flattened_minimization_objective)),\n",
    "#                               constraints=equality_constraint,\n",
    "#                               method='trust-constr')\n",
    "sol = sol_simple"
   ]
  },
  {
   "cell_type": "code",
   "execution_count": 14,
   "id": "9731a92b",
   "metadata": {},
   "outputs": [],
   "source": [
    "logcmu = sol.x.reshape(builder.nspecies*2, builder.ngrid)\n",
    "logc, mu = logcmu[:builder.nspecies, :], logcmu[builder.nspecies:, :]\n",
    "c = np.exp(logc)"
   ]
  },
  {
   "cell_type": "code",
   "execution_count": 15,
   "id": "f7028dbd",
   "metadata": {},
   "outputs": [
    {
     "data": {
      "text/plain": [
       "DeviceArray([[-0.00045125,  0.00218226, -0.00771123, -0.04067911,\n",
       "              -0.03433657,  0.0315798 ,  0.12708095,  0.05324364,\n",
       "               0.02114391],\n",
       "             [ 0.00046467, -0.00075763,  0.00206076,  0.00543139,\n",
       "               0.01041128,  0.00427457,  0.01499283, -0.11372957,\n",
       "              -0.14783302],\n",
       "             [-0.00586746,  0.00276439, -0.00129301,  0.03059183,\n",
       "               0.04168864,  0.01618428, -0.01959132, -0.19536898,\n",
       "              -0.27206406],\n",
       "             [ 0.00052468, -0.00037715, -0.00039276,  0.00438792,\n",
       "              -0.00246684, -0.00052491, -0.00610883, -0.02187753,\n",
       "              -0.03051732],\n",
       "             [ 0.00777275, -0.00685003,  0.01270747,  0.02533461,\n",
       "               0.01088584, -0.04217912, -0.07753727, -0.17544866,\n",
       "              -0.23249982]], dtype=float32)"
      ]
     },
     "execution_count": 15,
     "metadata": {},
     "output_type": "execute_result"
    }
   ],
   "source": [
    "builder.fluxes(logc)"
   ]
  },
  {
   "cell_type": "code",
   "execution_count": 16,
   "id": "f460198a",
   "metadata": {},
   "outputs": [
    {
     "data": {
      "text/plain": [
       "Text(0.5, 0, '$y^+$')"
      ]
     },
     "execution_count": 16,
     "metadata": {},
     "output_type": "execute_result"
    },
    {
     "data": {
      "image/png": "[encoded data removed]",
      "text/plain": [
       "<Figure size 432x288 with 1 Axes>"
      ]
     },
     "metadata": {
      "needs_background": "light"
     },
     "output_type": "display_data"
    }
   ],
   "source": [
    "plt.figure()\n",
    "for i in range(builder.nspecies):\n",
    "    plt.plot(builder.ygrid, c[i, :], label=builder.species[i])\n",
    "plt.legend()\n",
    "plt.ylabel(r'$c$[molal]')\n",
    "plt.xlabel(r'$y^+$')"
   ]
  },
  {
   "cell_type": "code",
   "execution_count": 146,
   "id": "66c17ff1",
   "metadata": {},
   "outputs": [
    {
     "data": {
      "text/plain": [
       "Text(0.5, 0, '$y^+$')"
      ]
     },
     "execution_count": 146,
     "metadata": {},
     "output_type": "execute_result"
    },
    {
     "data": {
      "image/png": "[encoded data removed]",
      "text/plain": [
       "<Figure size 432x288 with 1 Axes>"
      ]
     },
     "metadata": {
      "needs_background": "light"
     },
     "output_type": "display_data"
    }
   ],
   "source": [
    "plt.figure()\n",
    "for i in range(builder.nspecies):\n",
    "    plt.plot(builder.ygrid, logc[i, :]/2.30, 'o', label=builder.species[i])\n",
    "plt.legend()\n",
    "plt.ylabel(r'$c$[molal]')\n",
    "plt.xlabel(r'$y^+$')"
   ]
  },
  {
   "cell_type": "code",
   "execution_count": null,
   "id": "f271cb43",
   "metadata": {},
   "outputs": [],
   "source": []
  },
  {
   "cell_type": "code",
   "execution_count": null,
   "id": "1e7b3385",
   "metadata": {},
   "outputs": [],
   "source": []
  },
  {
   "cell_type": "code",
   "execution_count": null,
   "id": "9e4c1dc1",
   "metadata": {},
   "outputs": [],
   "source": []
  }
 ],
 "metadata": {
  "kernelspec": {
   "display_name": "Python 3 (ipykernel)",
   "language": "python",
   "name": "python3"
  },
  "language_info": {
   "codemirror_mode": {
    "name": "ipython",
    "version": 3
   },
   "file_extension": ".py",
   "mimetype": "text/x-python",
   "name": "python",
   "nbconvert_exporter": "python",
   "pygments_lexer": "ipython3",
   "version": "3.9.7"
  }
 },
 "nbformat": 4,
 "nbformat_minor": 5
}
