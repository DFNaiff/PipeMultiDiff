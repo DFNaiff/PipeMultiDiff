{
 "cells": [
  {
   "cell_type": "code",
   "execution_count": 1,
   "id": "adb5c4cf",
   "metadata": {},
   "outputs": [],
   "source": [
    "import sys\n",
    "sys.path.append(\"..\")\n",
    "\n",
    "import numpy as np\n",
    "import jax.numpy as jnp\n",
    "import jax\n",
    "import scipy.linalg\n",
    "import scipy.optimize\n",
    "import matplotlib.pyplot as plt\n",
    "\n",
    "import pyequion2\n",
    "import tmcdiff.builder"
   ]
  },
  {
   "cell_type": "code",
   "execution_count": 2,
   "id": "6558f18d",
   "metadata": {},
   "outputs": [],
   "source": [
    "%load_ext autoreload\n",
    "%autoreload 2\n",
    "%matplotlib inline"
   ]
  },
  {
   "cell_type": "code",
   "execution_count": 3,
   "id": "177d5a61",
   "metadata": {},
   "outputs": [
    {
     "name": "stderr",
     "output_type": "stream",
     "text": [
      "WARNING:absl:No GPU/TPU found, falling back to CPU. (Set TF_CPP_MIN_LOG_LEVEL=0 and rerun for more info.)\n"
     ]
    }
   ],
   "source": [
    "eqsys = pyequion2.EquilibriumBackend([\"Na\", \"Cl\", \"Ca\", \"C\"], from_elements=True, backend=\"jax\", logbase=\"e\")"
   ]
  },
  {
   "cell_type": "code",
   "execution_count": 4,
   "id": "e5c08f72",
   "metadata": {},
   "outputs": [
    {
     "data": {
      "text/plain": [
       "['CO2', 'CO3--', 'Ca++', 'Cl-', 'HCO3-', 'Na+']"
      ]
     },
     "execution_count": 4,
     "metadata": {},
     "output_type": "execute_result"
    }
   ],
   "source": [
    "builder = tmcdiff.builder.TransportBuilder(eqsys,\n",
    "                                           298.15,\n",
    "                                           0.1,\n",
    "                                           1e-6,\n",
    "                                           jnp.array([65, 56, 75.0, 28.0, 0.0]), [\"Calcite\"])\n",
    "builder.set_species(['CaCO3', 'CaHCO3+', 'CaOH+', 'Na2CO3', 'NaCO3-', 'NaHCO3', 'NaOH', 'CaOH+',\n",
    "                     'H+', 'OH-'])\n",
    "builder.make_grid(3, 5)\n",
    "builder.species"
   ]
  },
  {
   "cell_type": "code",
   "execution_count": null,
   "id": "f3ebd5b3",
   "metadata": {},
   "outputs": [],
   "source": [
    "logc = np.ones([builder.nspecies, builder.ngrid])*0.0 - 1.0\n",
    "mu = builder.reduced_standard_potentials[..., None] + logc\n",
    "logcmu = jnp.vstack([logc, mu])"
   ]
  },
  {
   "cell_type": "code",
   "execution_count": 6,
   "id": "e9c8807f",
   "metadata": {},
   "outputs": [
    {
     "data": {
      "text/plain": [
       "DeviceArray([[ 14.393301  ,   0.        , -64.63212   ],\n",
       "             [  0.        ,   0.        , -55.632122  ],\n",
       "             [  0.        ,   0.        , -74.63212   ],\n",
       "             [  0.        ,   0.        , -26.896362  ],\n",
       "             [  0.        ,   0.        ,  -0.36787945],\n",
       "             [ -0.4658966 ,  -0.4658966 ,  -0.4658966 ],\n",
       "             [  1.8973236 ,   1.8973236 ,   1.8973236 ],\n",
       "             [  1.234909  ,   1.234909  ,   1.234909  ],\n",
       "             [  0.56424713,   0.56424713,   0.56424713],\n",
       "             [  0.47433472,   0.47433472,   0.47433472],\n",
       "             [  0.23307037,   0.23307037,   0.23307037]], dtype=float32)"
      ]
     },
     "execution_count": 6,
     "metadata": {},
     "output_type": "execute_result"
    }
   ],
   "source": [
    "builder.simplify()\n",
    "builder.full_residual(logcmu)"
   ]
  },
  {
   "cell_type": "code",
   "execution_count": 7,
   "id": "676bb792",
   "metadata": {},
   "outputs": [
    {
     "name": "stdout",
     "output_type": "stream",
     "text": [
      "[ 14.393301     0.         -64.63212      0.           0.\n",
      " -55.632122     0.           0.         -74.63212      0.\n",
      "   0.         -26.896362     0.           0.          -0.36787945\n",
      "  -0.4658966   -0.4658966   -0.4658966    1.8973236    1.8973236\n",
      "   1.8973236    1.234909     1.234909     1.234909     0.56424713\n",
      "   0.56424713   0.56424713   0.47433472   0.47433472   0.47433472\n",
      "   0.23307037   0.23307037   0.23307037]\n",
      "[[0. 0. 0. ... 0. 0. 0.]\n",
      " [0. 0. 0. ... 0. 0. 0.]\n",
      " [0. 0. 0. ... 0. 0. 0.]\n",
      " ...\n",
      " [0. 0. 0. ... 1. 0. 0.]\n",
      " [0. 0. 0. ... 0. 1. 0.]\n",
      " [0. 0. 0. ... 0. 0. 1.]]\n",
      "-365.32776\n",
      "[-19.213984   -19.213984   -19.213984   -26.236238   -26.236238\n",
      " -26.236238   -27.47984    -27.47984    -27.47984     -6.615661\n",
      "  -6.615661    -6.615661   -29.152672   -29.152672   -29.152672\n",
      " -13.077531   -13.077531   -13.077531     0.12262648   0.12262648\n",
      "   0.12262648   0.12262648   0.12262648   0.12262648   0.12262648\n",
      "   0.12262648   0.12262648   0.12262648   0.12262648   0.12262648\n",
      "   0.12262648   0.12262648   0.12262648   0.12262648   0.12262648\n",
      "   0.12262648]\n"
     ]
    }
   ],
   "source": [
    "print(jax.jit(builder.flattened_equality_constraint)(logcmu.flatten()))\n",
    "print(jax.jit(jax.jacfwd(builder.flattened_equality_constraint))(logcmu.flatten()))\n",
    "print(jax.jit(builder.flattened_minimization_objective)(logcmu.flatten()))\n",
    "print(jax.jit(jax.grad(builder.flattened_minimization_objective))(logcmu.flatten()))"
   ]
  },
  {
   "cell_type": "code",
   "execution_count": 8,
   "id": "26ab66c2",
   "metadata": {},
   "outputs": [],
   "source": [
    "constraints = {'type':'eq',\n",
    "               'fun':jax.jit(builder.flattened_equality_constraint),\n",
    "               'jac':jax.jit(jax.jacfwd(builder.flattened_equality_constraint))}\n",
    "equality_constraint = scipy.optimize.NonlinearConstraint(\n",
    "    jax.jit(builder.flattened_equality_constraint),\n",
    "    lb=0.0,\n",
    "    ub=0.0,\n",
    "    jac = jax.jit(jax.jacfwd(builder.flattened_equality_constraint)))\n"
   ]
  },
  {
   "cell_type": "code",
   "execution_count": 9,
   "id": "bf9e4128",
   "metadata": {},
   "outputs": [],
   "source": [
    "sol_simple = scipy.optimize.minimize(jax.jit(builder.flattened_minimization_objective),\n",
    "                              logcmu.flatten(),\n",
    "                              jac = jax.jit(jax.grad(builder.flattened_minimization_objective)),\n",
    "                              constraints=equality_constraint,\n",
    "                              method='trust-constr')"
   ]
  },
  {
   "cell_type": "code",
   "execution_count": 10,
   "id": "6c1637ae",
   "metadata": {},
   "outputs": [
    {
     "data": {
      "text/plain": [
       "False"
      ]
     },
     "execution_count": 10,
     "metadata": {},
     "output_type": "execute_result"
    }
   ],
   "source": [
    "sol_simple.success"
   ]
  },
  {
   "cell_type": "code",
   "execution_count": null,
   "id": "87d2bb17",
   "metadata": {},
   "outputs": [],
   "source": []
  },
  {
   "cell_type": "code",
   "execution_count": 12,
   "id": "f64cceb8",
   "metadata": {},
   "outputs": [
    {
     "ename": "AttributeError",
     "evalue": "'TransportBuilder' object has no attribute 'solve'",
     "output_type": "error",
     "traceback": [
      "\u001b[0;31m---------------------------------------------------------------------------\u001b[0m",
      "\u001b[0;31mAttributeError\u001b[0m                            Traceback (most recent call last)",
      "\u001b[0;32m/tmp/ipykernel_13402/4134206669.py\u001b[0m in \u001b[0;36m<module>\u001b[0;34m\u001b[0m\n\u001b[0;32m----> 1\u001b[0;31m \u001b[0mbuilder\u001b[0m\u001b[0;34m.\u001b[0m\u001b[0msolve\u001b[0m\u001b[0;34m(\u001b[0m\u001b[0;34m)\u001b[0m\u001b[0;34m\u001b[0m\u001b[0;34m\u001b[0m\u001b[0m\n\u001b[0m",
      "\u001b[0;31mAttributeError\u001b[0m: 'TransportBuilder' object has no attribute 'solve'"
     ]
    }
   ],
   "source": [
    "builder.solve()"
   ]
  }
 ],
 "metadata": {
  "kernelspec": {
   "display_name": "Python 3 (ipykernel)",
   "language": "python",
   "name": "python3"
  },
  "language_info": {
   "codemirror_mode": {
    "name": "ipython",
    "version": 3
   },
   "file_extension": ".py",
   "mimetype": "text/x-python",
   "name": "python",
   "nbconvert_exporter": "python",
   "pygments_lexer": "ipython3",
   "version": "3.9.7"
  }
 },
 "nbformat": 4,
 "nbformat_minor": 5
}
