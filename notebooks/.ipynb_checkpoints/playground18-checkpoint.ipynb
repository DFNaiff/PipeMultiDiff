{
 "cells": [
  {
   "cell_type": "code",
   "execution_count": 15,
   "id": "c0b3dbdd",
   "metadata": {},
   "outputs": [],
   "source": [
    "import sys\n",
    "sys.path.append(\"..\")\n",
    "import functools\n",
    "\n",
    "import numpy as np\n",
    "import torch\n",
    "import scipy.linalg\n",
    "import scipy.optimize\n",
    "import matplotlib.pyplot as plt\n",
    "from dict_minimize.torch_api import minimize\n",
    "import functorch\n",
    "import pyequion2\n",
    "\n",
    "import tmcdiff"
   ]
  },
  {
   "cell_type": "code",
   "execution_count": 16,
   "id": "ffa825ce",
   "metadata": {},
   "outputs": [
    {
     "name": "stdout",
     "output_type": "stream",
     "text": [
      "The autoreload extension is already loaded. To reload it, use:\n",
      "  %reload_ext autoreload\n"
     ]
    }
   ],
   "source": [
    "%load_ext autoreload\n",
    "%autoreload 2\n",
    "%matplotlib inline"
   ]
  },
  {
   "cell_type": "code",
   "execution_count": 17,
   "id": "b7442e2d",
   "metadata": {},
   "outputs": [],
   "source": [
    "eqsys = pyequion2.EquilibriumBackend([\"Na\", \"Cl\"], from_elements=True, backend=\"torch\", logbase=\"e\",\n",
    "                                     activity_model=\"DEBYE\")"
   ]
  },
  {
   "cell_type": "code",
   "execution_count": 104,
   "id": "c6d16dc6",
   "metadata": {},
   "outputs": [],
   "source": [
    "TK = 298.15\n",
    "shear_velocity = 0.1\n",
    "kinematic_viscosity = 1e-6\n",
    "molal_balance = {'Na':0.01, 'Cl':0.01}\n",
    "\n",
    "builder = tmcdiff.TransportBuilder(eqsys, TK, shear_velocity,\n",
    "                           molal_balance, [\"Halite\"],\n",
    "                           kreaction=\"inf\")\n",
    "builder.make_grid(10, 5)\n",
    "builder.set_species()"
   ]
  },
  {
   "cell_type": "code",
   "execution_count": 105,
   "id": "8a1fbc86",
   "metadata": {},
   "outputs": [],
   "source": [
    "builder.set_initial_guess_from_bulk()"
   ]
  },
  {
   "cell_type": "code",
   "execution_count": 106,
   "id": "85fda149",
   "metadata": {},
   "outputs": [
    {
     "data": {
      "text/plain": [
       "True"
      ]
     },
     "execution_count": 106,
     "metadata": {},
     "output_type": "execute_result"
    }
   ],
   "source": [
    "solsimple = builder.solve_lma(simplified=True);\n",
    "solfull = builder.solve_lma(simplified=False);\n",
    "solsimple.success#, solfull.success"
   ]
  },
  {
   "cell_type": "code",
   "execution_count": 107,
   "id": "e97a9869",
   "metadata": {},
   "outputs": [],
   "source": [
    "#min f(x)\n",
    "#s.t. g(x) = 0\n",
    "#-------------\n",
    "#grad f(x) - jac(g)(x)^T \\lambda = 0\n",
    "#g(x) = 0\n",
    "#h(x, \\lambda) = [grad f(x) - jac(g)(x)^T \\lambda, g(x)]\n",
    "#dh(x, \\lambd) = [[hess f(x) - -d/dx(jac(g)(x)^T), -jac(g)(x)^T], [jac(g)(x), 0]"
   ]
  },
  {
   "cell_type": "code",
   "execution_count": 108,
   "id": "d3229837",
   "metadata": {},
   "outputs": [],
   "source": [
    "def flat_residual(x):\n",
    "    logcmu = x.reshape([builder.nspecies, builder.ngrid])\n",
    "    res = builder.full_residual(logcmu, lma=False, include_mu=False)\n",
    "    return res.flatten()"
   ]
  },
  {
   "cell_type": "code",
   "execution_count": 109,
   "id": "0feaebc3",
   "metadata": {},
   "outputs": [],
   "source": [
    "def flat_residual(x):\n",
    "    logcmu = x.reshape([builder.nspecies, builder.ngrid])\n",
    "    res = builder.full_residual(logcmu, lma=False, include_mu=False)\n",
    "    return res.flatten()\n",
    "\n",
    "def flat_objective(x):\n",
    "    logcmu = x.reshape([builder.nspecies, builder.ngrid])\n",
    "    res = builder.gibbs_free_energy(logcmu)\n",
    "    return res.flatten()[0]\n",
    "    \n",
    "def torch_wrap(f):\n",
    "    def g(x):\n",
    "        x = torch.tensor(x, dtype=torch.float)\n",
    "        res = f(x).detach().numpy()\n",
    "        return res\n",
    "    return g\n",
    "\n",
    "def torch_wrap(f):\n",
    "    def g(*args):\n",
    "        args = [torch.tensor(arg, dtype=torch.float) for arg in args]\n",
    "        res = f(*args).detach().numpy()\n",
    "        return res\n",
    "    return g"
   ]
  },
  {
   "cell_type": "code",
   "execution_count": 110,
   "id": "1a696f8e",
   "metadata": {},
   "outputs": [],
   "source": [
    "def flat_residual(x):\n",
    "    logcmu = x.reshape([builder.nspecies, builder.ngrid])\n",
    "    res = builder.full_residual(logcmu, lma=False, include_mu=False)\n",
    "    return res.flatten()\n",
    "\n",
    "def flat_objective(x):\n",
    "    logcmu = x.reshape([builder.nspecies, builder.ngrid])\n",
    "    res = builder.gibbs_free_energy(logcmu)\n",
    "    return res.flatten()[0]"
   ]
  },
  {
   "cell_type": "code",
   "execution_count": 111,
   "id": "259e5be5",
   "metadata": {},
   "outputs": [],
   "source": [
    "def constrained_sgd_step(x, flat_objective, flat_residual,\n",
    "                         flat_objective_grad, flat_residual_grad, lr=1e-3,\n",
    "                         lr2=1e-4):\n",
    "    dx = flat_objective_grad(x) #(m)\n",
    "    dg = flat_residual_grad(x) #(n, m)\n",
    "    Q, _ = torch.linalg.qr(dg.T, mode='reduced') #(m, n)\n",
    "    dxorth = (Q@Q.T)@dx\n",
    "    dx1 = dx - dxorth\n",
    "    x1 = x# - lr*dx1\n",
    "    g1 = flat_residual(x1) #(n,)\n",
    "    dg1 = flat_residual_grad(x1) #(n, m)\n",
    "    dx2 = dg1.T@g1 #(m)\n",
    "    x2 = x1 - lr2*dx2\n",
    "    delta = x2 - x\n",
    "    return x2, delta\n",
    "\n",
    "    "
   ]
  },
  {
   "cell_type": "code",
   "execution_count": 112,
   "id": "1ef1bd58",
   "metadata": {},
   "outputs": [],
   "source": [
    "flat_objective_grad = functorch.grad(flat_objective)\n",
    "flat_residual_grad = functorch.jacrev(flat_residual)\n",
    "x0 = builder.x.clone()"
   ]
  },
  {
   "cell_type": "code",
   "execution_count": 114,
   "id": "682144b4",
   "metadata": {},
   "outputs": [
    {
     "name": "stdout",
     "output_type": "stream",
     "text": [
      "tensor(7.5436e+11, grad_fn=<AddBackward0>)\n",
      "tensor(-0.0020)\n",
      "tensor(2.7695e+08, grad_fn=<AddBackward0>)\n",
      "tensor(-0.0014)\n",
      "tensor(3.6140e+09, grad_fn=<AddBackward0>)\n",
      "tensor(-0.0011)\n",
      "tensor(1.5230e+10, grad_fn=<AddBackward0>)\n",
      "tensor(-0.0008)\n",
      "tensor(4.7171e+10, grad_fn=<AddBackward0>)\n",
      "tensor(-0.0004)\n",
      "tensor(2.8838e+11, grad_fn=<AddBackward0>)\n",
      "tensor(0.0002)\n",
      "tensor(1.2651e+12, grad_fn=<AddBackward0>)\n",
      "tensor(-9.0621e-05)\n",
      "tensor(6.8659e+12, grad_fn=<AddBackward0>)\n",
      "tensor(0.0013)\n",
      "tensor(1.5135e+10, grad_fn=<AddBackward0>)\n",
      "tensor(0.0010)\n",
      "tensor(1.4046e+10, grad_fn=<AddBackward0>)\n",
      "tensor(0.0008)\n"
     ]
    }
   ],
   "source": [
    "lr = 1e-4\n",
    "c = 1000\n",
    "p = 2\n",
    "delta = 1e-4\n",
    "x0.requires_grad = True\n",
    "optimizer = torch.optim.RMSprop([x0], lr=lr, momentum=0.0)\n",
    "for i in range(10):\n",
    "    x0_ = x0.detach().clone()\n",
    "    f1 = flat_objective(x0)\n",
    "    f2 = (torch.max(torch.abs(flat_residual(x0)/delta)))\n",
    "    f = f1 + c*f2\n",
    "    print(f)\n",
    "    f.backward()\n",
    "    optimizer.step()\n",
    "    delta = (x0_ - x0.detach()).sum()\n",
    "    print(delta)"
   ]
  },
  {
   "cell_type": "code",
   "execution_count": null,
   "id": "9fe67ac4",
   "metadata": {},
   "outputs": [],
   "source": []
  },
  {
   "cell_type": "code",
   "execution_count": 89,
   "id": "f8c8bc57",
   "metadata": {},
   "outputs": [],
   "source": [
    "logcmu = x0.detach().numpy().reshape(builder.nspecies, builder.ngrid)\n",
    "logc = logcmu[:builder.nspecies, :]\n",
    "c = np.exp(logc)\n",
    "logc_t = torch.tensor(logc, dtype=torch.float)"
   ]
  },
  {
   "cell_type": "code",
   "execution_count": 90,
   "id": "0033e342",
   "metadata": {},
   "outputs": [
    {
     "data": {
      "text/plain": [
       "Text(0.5, 0, '$y^+$')"
      ]
     },
     "execution_count": 90,
     "metadata": {},
     "output_type": "execute_result"
    },
    {
     "data": {
      "image/png": "[encoded data removed]",
      "text/plain": [
       "<Figure size 432x288 with 1 Axes>"
      ]
     },
     "metadata": {
      "needs_background": "light"
     },
     "output_type": "display_data"
    }
   ],
   "source": [
    "plt.figure()\n",
    "for i in range(builder.nspecies):\n",
    "    plt.plot(builder.ygrid, c[i, :], 'o', label=builder.species[i])\n",
    "plt.legend()\n",
    "plt.ylabel(r'$c$[molal]')\n",
    "plt.xlabel(r'$y^+$')"
   ]
  },
  {
   "cell_type": "code",
   "execution_count": 91,
   "id": "90c9aaae",
   "metadata": {},
   "outputs": [
    {
     "data": {
      "text/plain": [
       "Text(0.5, 0, '$y^+$')"
      ]
     },
     "execution_count": 91,
     "metadata": {},
     "output_type": "execute_result"
    },
    {
     "data": {
      "image/png": "[encoded data removed]",
      "text/plain": [
       "<Figure size 432x288 with 1 Axes>"
      ]
     },
     "metadata": {
      "needs_background": "light"
     },
     "output_type": "display_data"
    }
   ],
   "source": [
    "plt.figure()\n",
    "for i in range(builder.nspecies):\n",
    "    plt.plot(builder.ygrid, c[i, :], 'o', label=builder.species[i])\n",
    "plt.legend()\n",
    "plt.ylabel(r'$c$[molal]')\n",
    "plt.xlabel(r'$y^+$')"
   ]
  },
  {
   "cell_type": "code",
   "execution_count": 92,
   "id": "bc3b5d90",
   "metadata": {},
   "outputs": [
    {
     "data": {
      "text/plain": [
       "Text(0.5, 0, '$y^+$')"
      ]
     },
     "execution_count": 92,
     "metadata": {},
     "output_type": "execute_result"
    },
    {
     "data": {
      "image/png": "[encoded data removed]",
      "text/plain": [
       "<Figure size 432x288 with 1 Axes>"
      ]
     },
     "metadata": {
      "needs_background": "light"
     },
     "output_type": "display_data"
    }
   ],
   "source": [
    "cel = builder.reduced_formula_matrix@c\n",
    "plt.figure()\n",
    "for i, el in enumerate(eqsys.solute_elements + ['e']):\n",
    "    plt.plot(builder.ygrid, cel[i, :], 'o', label=el)\n",
    "plt.legend()\n",
    "plt.ylabel(r'$c$[molal]')\n",
    "plt.xlabel(r'$y^+$')"
   ]
  },
  {
   "cell_type": "code",
   "execution_count": 93,
   "id": "284d8c3e",
   "metadata": {},
   "outputs": [
    {
     "data": {
      "text/plain": [
       "Text(0.5, 0, '$y^+$')"
      ]
     },
     "execution_count": 93,
     "metadata": {},
     "output_type": "execute_result"
    },
    {
     "data": {
      "image/png": "[encoded data removed]",
      "text/plain": [
       "<Figure size 432x288 with 1 Axes>"
      ]
     },
     "metadata": {
      "needs_background": "light"
     },
     "output_type": "display_data"
    }
   ],
   "source": [
    "fluxes = builder.fluxes().detach().numpy()\n",
    "yplot = builder.ypoints[1:-1].detach().numpy()\n",
    "plt.figure()\n",
    "for i, el in enumerate(eqsys.solute_elements + ['e']):\n",
    "    plt.plot(yplot, fluxes[i, :], 'o', label=el)\n",
    "plt.legend()\n",
    "plt.ylabel(r'$c$[molal]')\n",
    "plt.xlabel(r'$y^+$')"
   ]
  },
  {
   "cell_type": "code",
   "execution_count": 248,
   "id": "51955c40",
   "metadata": {},
   "outputs": [
    {
     "data": {
      "text/plain": [
       "tensor([[ 6.6646e-06,  8.2600e-06,  5.8769e-06,  5.7761e-06,  4.2858e-06,\n",
       "         -6.4416e-06, -8.1932e-06,  9.9411e-06,  4.2804e-06, -5.9772e-06,\n",
       "         -2.1050e-06, -9.8062e-06,  1.1723e-05, -6.5610e-06, -1.3883e-05,\n",
       "          3.4611e-05,  4.7454e-06,  2.5661e-06, -2.9176e-05,  2.9094e-05,\n",
       "         -5.0136e-06,  4.7004e-05, -1.1938e-05, -6.7049e-05, -8.9124e-06,\n",
       "          2.2800e-05,  6.3230e-05, -4.2502e-05, -8.2783e-05,  2.1131e-05,\n",
       "          8.7177e-05, -1.2582e-04,  1.1556e-04,  1.1245e-04, -1.2851e-04,\n",
       "          1.5374e-05, -1.1894e-04,  1.0911e-04,  2.9944e-05, -2.4256e-04,\n",
       "          1.5396e-04,  1.0129e-05, -1.6122e-05,  1.8806e-04,  2.2795e-04,\n",
       "         -3.5556e-04, -7.9265e-05, -2.2032e-04, -4.1008e-05],\n",
       "        [-7.8369e-01, -7.8369e-01, -7.8369e-01, -7.8369e-01, -7.8369e-01,\n",
       "         -7.8369e-01, -7.8369e-01, -7.8369e-01, -7.8369e-01, -7.8368e-01,\n",
       "         -7.8369e-01, -7.8368e-01, -7.8369e-01, -7.8368e-01, -7.8369e-01,\n",
       "         -7.8369e-01, -7.8369e-01, -7.8370e-01, -7.8368e-01, -7.8367e-01,\n",
       "         -7.8368e-01, -7.8367e-01, -7.8370e-01, -7.8369e-01, -7.8368e-01,\n",
       "         -7.8369e-01, -7.8374e-01, -7.8367e-01, -7.8372e-01, -7.8366e-01,\n",
       "         -7.8370e-01, -7.8368e-01, -7.8368e-01, -7.8370e-01, -7.8371e-01,\n",
       "         -7.8366e-01, -7.8366e-01, -7.8368e-01, -7.8372e-01, -7.8377e-01,\n",
       "         -7.8373e-01, -7.8359e-01, -7.8365e-01, -7.8370e-01, -7.8375e-01,\n",
       "         -7.8366e-01, -7.8367e-01, -7.8370e-01, -7.8383e-01],\n",
       "        [ 6.8925e-06,  5.8239e-06,  1.5329e-05,  1.7061e-07, -1.1776e-05,\n",
       "          2.0058e-05, -5.6430e-06,  3.9449e-06,  8.3954e-06, -9.3522e-06,\n",
       "         -3.5210e-06, -8.1800e-06,  6.8265e-06,  1.5707e-05, -8.8012e-06,\n",
       "         -9.5528e-06, -1.2258e-05, -6.8016e-09, -9.1470e-06,  5.1668e-05,\n",
       "         -4.8597e-06,  1.6385e-05, -2.6917e-05, -6.9902e-05,  4.2286e-05,\n",
       "          2.1164e-05, -1.5009e-06,  4.2854e-05, -1.2732e-04,  5.8080e-05,\n",
       "          1.3562e-04, -5.4511e-05,  4.4155e-05, -1.3300e-04, -5.2701e-05,\n",
       "          2.1365e-05,  2.8373e-05,  5.2806e-05, -3.8073e-05, -7.4797e-05,\n",
       "          3.0850e-05,  2.1096e-04, -1.3903e-04, -2.3402e-04, -6.0586e-05,\n",
       "         -1.0279e-04,  2.7467e-05,  3.5856e-05, -1.0515e-04],\n",
       "        [-7.8370e-01, -7.8371e-01, -7.8370e-01, -7.8369e-01, -7.8367e-01,\n",
       "         -7.8365e-01, -7.8366e-01, -7.8367e-01, -7.8368e-01, -7.8368e-01,\n",
       "         -7.8369e-01, -7.8368e-01, -7.8369e-01, -7.8369e-01, -7.8369e-01,\n",
       "         -7.8368e-01, -7.8369e-01, -7.8369e-01, -7.8368e-01, -7.8369e-01,\n",
       "         -7.8369e-01, -7.8368e-01, -7.8370e-01, -7.8368e-01, -7.8371e-01,\n",
       "         -7.8370e-01, -7.8370e-01, -7.8366e-01, -7.8372e-01, -7.8366e-01,\n",
       "         -7.8371e-01, -7.8368e-01, -7.8368e-01, -7.8364e-01, -7.8372e-01,\n",
       "         -7.8360e-01, -7.8363e-01, -7.8376e-01, -7.8373e-01, -7.8376e-01,\n",
       "         -7.8377e-01, -7.8377e-01, -7.8385e-01, -7.8339e-01, -7.8370e-01,\n",
       "         -7.8360e-01, -7.8379e-01, -7.8368e-01, -7.8377e-01],\n",
       "        [ 5.9113e-06,  9.5090e-06, -9.3037e-06,  2.8058e-06,  1.1710e-05,\n",
       "         -8.8014e-06,  3.3540e-07,  2.7056e-06, -9.2008e-06, -1.0785e-06,\n",
       "         -1.1121e-06,  2.0039e-06, -7.2938e-06, -9.6765e-06, -2.6479e-05,\n",
       "          4.3131e-05,  1.4185e-05, -9.2594e-06, -3.0611e-06,  1.0426e-05,\n",
       "          1.3560e-05,  3.4934e-05,  9.0205e-06,  2.0109e-06, -2.6319e-05,\n",
       "          2.9375e-05, -1.8140e-05, -7.7711e-05,  1.9429e-05,  1.2013e-05,\n",
       "         -7.1845e-05, -4.9320e-05,  7.7870e-05,  1.7765e-04, -5.1592e-05,\n",
       "         -9.0956e-05, -1.5028e-04,  1.3460e-04,  5.8722e-05, -1.2207e-04,\n",
       "         -3.9851e-05,  1.1177e-04,  3.1301e-04,  1.3897e-04,  2.1678e-04,\n",
       "         -2.4248e-04, -2.0539e-05, -2.8337e-04, -7.5131e-05]])"
      ]
     },
     "execution_count": 248,
     "metadata": {},
     "output_type": "execute_result"
    }
   ],
   "source": [
    "4/(1e-2)*builder.fluxes()"
   ]
  },
  {
   "cell_type": "code",
   "execution_count": null,
   "id": "b26723d1",
   "metadata": {},
   "outputs": [],
   "source": []
  },
  {
   "cell_type": "code",
   "execution_count": null,
   "id": "64e046fc",
   "metadata": {},
   "outputs": [],
   "source": []
  }
 ],
 "metadata": {
  "kernelspec": {
   "display_name": "Python 3 (ipykernel)",
   "language": "python",
   "name": "python3"
  },
  "language_info": {
   "codemirror_mode": {
    "name": "ipython",
    "version": 3
   },
   "file_extension": ".py",
   "mimetype": "text/x-python",
   "name": "python",
   "nbconvert_exporter": "python",
   "pygments_lexer": "ipython3",
   "version": "3.9.7"
  }
 },
 "nbformat": 4,
 "nbformat_minor": 5
}
