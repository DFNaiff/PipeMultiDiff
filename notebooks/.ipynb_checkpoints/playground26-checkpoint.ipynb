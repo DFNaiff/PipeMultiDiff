{
 "cells": [
  {
   "cell_type": "code",
   "execution_count": 165,
   "id": "c0b3dbdd",
   "metadata": {},
   "outputs": [],
   "source": [
    "import sys\n",
    "sys.path.append(\"..\")\n",
    "import functools\n",
    "\n",
    "import numpy as np\n",
    "import torch\n",
    "import scipy.linalg\n",
    "import scipy.optimize\n",
    "import matplotlib.pyplot as plt\n",
    "from dict_minimize.torch_api import minimize\n",
    "import functorch\n",
    "import pyequion2\n",
    "\n",
    "import tmcdiff"
   ]
  },
  {
   "cell_type": "code",
   "execution_count": 166,
   "id": "ffa825ce",
   "metadata": {},
   "outputs": [
    {
     "name": "stdout",
     "output_type": "stream",
     "text": [
      "The autoreload extension is already loaded. To reload it, use:\n",
      "  %reload_ext autoreload\n"
     ]
    }
   ],
   "source": [
    "%load_ext autoreload\n",
    "%autoreload 2\n",
    "%matplotlib inline"
   ]
  },
  {
   "cell_type": "code",
   "execution_count": 167,
   "id": "b7442e2d",
   "metadata": {},
   "outputs": [],
   "source": [
    "eqsys = pyequion2.EquilibriumBackend([\"Ca\", \"C\"], from_elements=True, backend=\"torch\", logbase=\"e\",\n",
    "                                     activity_model=\"IDEAL\")"
   ]
  },
  {
   "cell_type": "code",
   "execution_count": 168,
   "id": "107a139a",
   "metadata": {},
   "outputs": [],
   "source": [
    "MOLAL_MASS_WATER = 18.01528 #g/mol\n",
    "MOLALITY_WATER = 1e3*1/MOLAL_MASS_WATER #mol/kg\n"
   ]
  },
  {
   "cell_type": "code",
   "execution_count": null,
   "id": "a086c5d9",
   "metadata": {},
   "outputs": [],
   "source": []
  },
  {
   "cell_type": "code",
   "execution_count": null,
   "id": "4bd45e69",
   "metadata": {},
   "outputs": [],
   "source": []
  },
  {
   "cell_type": "code",
   "execution_count": 141,
   "id": "c6d16dc6",
   "metadata": {},
   "outputs": [],
   "source": [
    "TK = 298.15\n",
    "shear_velocity = 0.1\n",
    "kinematic_viscosity = 1e-6\n",
    "molal_balance = {'Ca':0.075, 'C':0.075}\n",
    "\n",
    "builder = tmcdiff.TransportBuilder(eqsys, TK, shear_velocity,\n",
    "                           molal_balance, [\"Calcite\"],\n",
    "                           kreaction=\"inf\",\n",
    "                           flux_residual_tol=1e-2)\n",
    "builder.make_grid(3, 3)\n",
    "builder.set_species(['Ca++', 'CO3--', 'CO2', 'HCO3-', 'CaCO3', 'H+', 'OH-'])"
   ]
  },
  {
   "cell_type": "code",
   "execution_count": 142,
   "id": "d96d31d4",
   "metadata": {},
   "outputs": [
    {
     "data": {
      "text/plain": [
       "['CO2', 'CO3--', 'Ca++', 'CaCO3', 'CaHCO3+', 'CaOH+', 'H+', 'HCO3-', 'OH-']"
      ]
     },
     "execution_count": 142,
     "metadata": {},
     "output_type": "execute_result"
    }
   ],
   "source": [
    "builder.species"
   ]
  },
  {
   "cell_type": "code",
   "execution_count": 143,
   "id": "8a1fbc86",
   "metadata": {},
   "outputs": [],
   "source": [
    "builder.set_initial_guess_from_bulk()"
   ]
  },
  {
   "cell_type": "code",
   "execution_count": 144,
   "id": "85fda149",
   "metadata": {},
   "outputs": [
    {
     "data": {
      "text/plain": [
       "True"
      ]
     },
     "execution_count": 144,
     "metadata": {},
     "output_type": "execute_result"
    }
   ],
   "source": [
    "solsimple = builder.solve_lma(simplified=True);\n",
    "solfull = builder.solve_lma(simplified=False);\n",
    "solsimple.success#, solfull.success"
   ]
  },
  {
   "cell_type": "code",
   "execution_count": 145,
   "id": "0feaebc3",
   "metadata": {},
   "outputs": [],
   "source": [
    "def flat_residual(x):\n",
    "    x_ = x.reshape([builder.nspecoptim, builder.ngrid])\n",
    "    res = builder.full_residual(x_, lma=False, optim_species=True)\n",
    "    return res.flatten()\n",
    "\n",
    "def flat_objective(x):\n",
    "    x_ = x.reshape([builder.nspecoptim, builder.ngrid])\n",
    "    res = builder.gibbs_free_energy(x_, optim_species=True)\n",
    "    return res.flatten()[0]\n",
    "    \n",
    "def torch_wrap(f):\n",
    "    def g(x):\n",
    "        x = torch.tensor(x, dtype=torch.float)\n",
    "        res = f(x).detach().numpy()\n",
    "        return res\n",
    "    return g\n",
    "\n",
    "def torch_wrap(f):\n",
    "    def g(*args):\n",
    "        args = [torch.tensor(arg, dtype=torch.float) for arg in args]\n",
    "        res = f(*args).detach().numpy()\n",
    "        return res\n",
    "    return g"
   ]
  },
  {
   "cell_type": "code",
   "execution_count": 146,
   "id": "ab9cd4e2",
   "metadata": {},
   "outputs": [],
   "source": [
    "def make_lagrangian_residual_jacobian(g, df, dg, d2f, d2g, nx, nlambd):\n",
    "    def residual(xlambd):\n",
    "        x, lambd = xlambd[..., :nx], xlambd[..., nx:]\n",
    "        res1 = df(x) - (dg(x).T)@lambd\n",
    "        res2 = g(x)\n",
    "        res = np.concatenate([res1, res2], axis=-1)\n",
    "        return res\n",
    "    def jacobian(xlambd):\n",
    "        x, lambd = xlambd[..., :nx], xlambd[..., nx:]\n",
    "        jac11 = d2f(x) - d2g(x, lambd)\n",
    "        jac12 = -dg(x).T\n",
    "        jac21 = dg(x)\n",
    "        jac22 = np.zeros([nlambd, nlambd])\n",
    "        jac = np.block([[jac11, jac12], [jac21, jac22]])\n",
    "        return jac\n",
    "    return residual, jacobian\n",
    "\n",
    "def make_lagrangian_residual(g, df, dg, nx):\n",
    "    def residual(xlambd):\n",
    "        x, lambd = xlambd[..., :nx], xlambd[..., nx:]\n",
    "        res1 = df(x) - (dg(x).T)@lambd\n",
    "        res2 = g(x)\n",
    "        res = torch.cat([res1, res2], dim=-1)\n",
    "        return res\n",
    "    return residual\n",
    "\n",
    "def make_lagrangian_residual_torch(g, df, dg, nx, nlambd):\n",
    "    def residual(xlambd):\n",
    "        x, lambd = xlambd[..., :nx], xlambd[..., nx:]\n",
    "        res1 = df(x) - (dg(x).T)@lambd\n",
    "        res2 = g(x)\n",
    "        res = torch.cat([res1, res2], axis=-1)\n",
    "        return res\n",
    "    return residual"
   ]
  },
  {
   "cell_type": "code",
   "execution_count": 147,
   "id": "d5023b86",
   "metadata": {},
   "outputs": [],
   "source": [
    "f_t = flat_objective\n",
    "df_t = functorch.jacrev(f_t)\n",
    "d2f_t = functorch.hessian(f_t)\n",
    "g_t = flat_residual\n",
    "dg_t = functorch.jacrev(g_t)\n",
    "d2g_t = functorch.jacrev(lambda x, v : (dg_t(x).T)@v)\n",
    "f = torch_wrap(f_t)\n",
    "df = torch_wrap(df_t)\n",
    "d2f = torch_wrap(d2f_t)\n",
    "g = torch_wrap(g_t)\n",
    "dg = torch_wrap(dg_t)\n",
    "d2g = torch_wrap(d2g_t)\n",
    "\n",
    "equality_constraint = scipy.optimize.NonlinearConstraint(\n",
    "    g, lb=0.0, ub=0.0, jac = dg, hess=d2g)\n",
    "bounds = scipy.optimize.Bounds(lb=1e-30, ub=np.inf, keep_feasible=True)\n",
    "x0 = builder.xoptim.detach().numpy()\n",
    "# x0 = np.exp(x0)\n",
    "# lambd0 = builder.lambd.detach().numpy()\n",
    "# xlambd0 = np.concatenate([x0, lambd0], axis=0)"
   ]
  },
  {
   "cell_type": "code",
   "execution_count": 148,
   "id": "bb223846",
   "metadata": {},
   "outputs": [
    {
     "name": "stdout",
     "output_type": "stream",
     "text": [
      "| niter |f evals|CG iter|  obj func   |tr radius |   opt    |  c viol  |\n",
      "|-------|-------|-------|-------------|----------|----------|----------|\n",
      "|   1   |   1   |   0   | -1.7989e+01 | 1.00e+00 | 2.22e-01 | 2.98e-06 |\n",
      "|   2   |   3   |   1   | -1.8250e+01 | 2.00e+00 | 2.31e-01 | 2.06e-02 |\n",
      "|   3   |   5   |   2   | -1.8250e+01 | 3.29e-01 | 2.31e-01 | 2.06e-02 |\n",
      "|   4   |   6   |   3   | -1.8343e+01 | 6.57e-01 | 2.33e-01 | 6.15e-02 |\n",
      "|   5   |   8   |   4   | -1.8517e+01 | 4.60e+00 | 2.35e-01 | 1.31e-02 |\n",
      "|   6   |  10   |   5   | -1.8517e+01 | 4.60e-01 | 2.35e-01 | 1.31e-02 |\n",
      "|   7   |  12   |   6   | -1.8644e+01 | 3.22e+00 | 2.36e-01 | 7.20e-03 |\n",
      "|   8   |  14   |   7   | -1.8644e+01 | 3.22e-01 | 2.36e-01 | 7.20e-03 |\n",
      "|   9   |  16   |   8   | -1.8731e+01 | 2.25e+00 | 2.36e-01 | 3.17e-03 |\n",
      "|  10   |  18   |   9   | -1.8731e+01 | 2.25e-01 | 2.36e-01 | 3.17e-03 |\n",
      "|  11   |  20   |  10   | -1.8792e+01 | 1.58e+00 | 2.36e-01 | 1.22e-03 |\n",
      "|  12   |  22   |  11   | -1.8792e+01 | 1.58e-01 | 2.36e-01 | 1.22e-03 |\n",
      "|  13   |  23   |  12   | -1.8838e+01 | 1.58e-01 | 2.37e-01 | 3.01e-02 |\n",
      "|  14   |  24   |  13   | -1.8880e+01 | 3.16e-01 | 2.37e-01 | 3.01e-02 |\n",
      "|  15   |  26   |  14   | -1.8959e+01 | 2.21e+00 | 2.39e-01 | 3.30e-03 |\n",
      "|  16   |  28   |  15   | -1.8959e+01 | 2.21e-01 | 2.39e-01 | 3.30e-03 |\n",
      "|  17   |  29   |  16   | -1.9021e+01 | 2.21e-01 | 2.41e-01 | 4.68e-02 |\n",
      "|  18   |  30   |  17   | -1.9076e+01 | 4.42e-01 | 2.45e-01 | 3.67e-02 |\n",
      "|  19   |  31   |  18   | -1.9196e+01 | 4.42e-01 | 2.59e-01 | 9.61e-02 |\n",
      "|  20   |  32   |  19   | -1.9308e+01 | 3.09e+00 | 2.86e-01 | 1.28e-02 |\n",
      "|  21   |  33   |  20   | -2.1500e+01 | 2.16e+01 | 1.87e+00 | 7.22e-01 |\n",
      "|  22   |  35   |  21   | -2.1500e+01 | 2.16e+00 | 1.87e+00 | 7.22e-01 |\n",
      "|  23   |  36   |  22   | -3.3780e+01 | 2.16e+00 | 1.36e+01 | 8.60e+00 |\n",
      "|  24   |  37   |  23   | -1.2382e+02 | 2.16e+00 | 5.53e+01 | 7.08e+01 |\n",
      "|  25   |  38   |  24   | -1.2382e+02 | 1.08e+00 | 5.53e+01 | 7.08e+01 |\n",
      "|  26   |  39   |  25   | -2.0054e+02 | 2.16e+00 | 1.20e+02 | 7.70e+01 |\n",
      "|  27   |  40   |  26   | -1.0927e+03 | 2.16e+00 | 5.24e+02 | 6.94e+02 |\n",
      "|  28   |  41   |  27   | -1.0927e+03 | 1.08e+00 | 5.24e+02 | 6.94e+02 |\n",
      "|  29   |  42   |  28   | -1.6566e+03 | 1.08e+00 | 1.03e+03 | 7.54e+02 |\n",
      "|  30   |  43   |  29   | -4.0205e+03 | 2.16e+00 | 2.02e+03 | 1.25e+03 |\n",
      "|  31   |  44   |  30   | -1.5481e+04 | 2.16e+00 | 9.84e+03 | 8.40e+03 |\n",
      "|  32   |  45   |  31   | -1.5481e+04 | 1.08e+00 | 9.84e+03 | 8.40e+03 |\n",
      "|  33   |  46   |  32   | -3.8264e+04 | 2.16e+00 | 1.92e+04 | 1.35e+04 |\n",
      "|  34   |  48   |  33   | -3.8264e+04 | 1.08e+00 | 1.92e+04 | 1.35e+04 |\n",
      "|  35   |  49   |  34   | -6.9941e+04 | 2.16e+00 | 4.08e+04 | 1.99e+04 |\n",
      "|  36   |  50   |  35   | -3.7711e+05 | 4.33e+00 | 1.84e+05 | 1.53e+05 |\n",
      "|  37   |  52   |  36   | -3.7711e+05 | 1.19e+00 | 1.84e+05 | 1.53e+05 |\n",
      "|  38   |  53   |  37   | -7.1604e+05 | 2.38e+00 | 3.43e+05 | 2.59e+05 |\n",
      "|  39   |  54   |  38   | -3.8209e+06 | 4.76e+00 | 1.54e+06 | 1.86e+06 |\n",
      "|  40   |  55   |  39   | -3.8209e+06 | 2.38e+00 | 1.54e+06 | 1.86e+06 |\n",
      "|  41   |  56   |  40   | -4.6866e+06 | 4.76e+00 | 2.33e+06 | 1.33e+06 |\n",
      "|  42   |  57   |  41   | -5.1376e+07 | 9.52e+00 | 1.26e+07 | 2.82e+07 |\n",
      "|  43   |  59   |  42   | -5.1376e+07 | 2.15e+00 | 1.26e+07 | 2.82e+07 |\n",
      "|  44   |  60   |  43   | -7.1427e+07 | 4.31e+00 | 4.12e+07 | 2.52e+07 |\n",
      "|  45   |  61   |  44   | -3.4840e+08 | 8.62e+00 | 1.91e+08 | 1.57e+08 |\n",
      "|  46   |  63   |  45   | -3.4840e+08 | 8.62e-01 | 1.91e+08 | 1.57e+08 |\n",
      "|  47   |  64   |  46   | -3.4992e+08 | 6.03e+00 | 2.00e+08 | 1.57e+07 |\n",
      "|  48   |  65   |  47   | -9.0123e+09 | 4.22e+01 | 1.46e+09 | 1.31e+09 |\n",
      "|  49   |  67   |  48   | -9.0123e+09 | 4.22e+00 | 1.46e+09 | 1.31e+09 |\n",
      "|  50   |  68   |  49   | -9.0123e+09 | 2.11e+00 | 1.46e+09 | 1.31e+09 |\n",
      "|  51   |  69   |  50   | -9.0123e+09 | 1.06e+00 | 1.46e+09 | 1.31e+09 |\n",
      "|  52   |  70   |  51   | -9.0123e+09 | 5.28e-01 | 1.46e+09 | 1.31e+09 |\n",
      "|  53   |  71   |  52   | -8.3911e+09 | 1.10e+00 | 1.61e+09 | 7.98e+08 |\n",
      "|  54   |  72   |  53   | -8.3911e+09 | 1.10e-01 | 1.61e+09 | 7.98e+08 |\n",
      "|  55   |  73   |  54   | -7.9390e+09 | 7.74e-01 | 1.56e+09 | 1.22e+08 |\n",
      "|  56   |  74   |  55   | -1.1775e+10 | 1.55e+00 | 1.95e+09 | 7.36e+08 |\n",
      "|  57   |  75   |  56   | -2.0484e+10 | 1.55e+00 | 4.99e+09 | 5.22e+09 |\n",
      "|  58   |  76   |  57   | -1.8114e+10 | 3.09e+00 | 6.40e+09 | 1.87e+09 |\n",
      "|  59   |  77   |  58   | -6.3895e+10 | 6.19e+00 | 9.42e+09 | 9.08e+09 |\n",
      "|  60   |  78   |  59   | -3.6078e+11 | 1.24e+01 | 9.89e+10 | 8.24e+10 |\n",
      "|  61   |  79   |  60   | -3.6078e+11 | 1.24e+00 | 9.89e+10 | 8.24e+10 |\n",
      "|  62   |  80   |  61   | -5.2097e+11 | 2.47e+00 | 1.17e+11 | 5.39e+10 |\n",
      "|  63   |  81   |  62   | -1.8680e+12 | 4.94e+00 | 2.80e+11 | 7.22e+11 |\n",
      "|  64   |  82   |  63   | -1.0286e+13 | 3.45e+01 | 7.78e+12 | 2.24e+12 |\n",
      "|  65   |  84   |  64   | -1.0286e+13 | 3.45e+00 | 7.78e+12 | 2.24e+12 |\n",
      "|  66   |  85   |  65   | -1.1871e+13 | 6.91e+00 | 3.69e+12 | 5.14e+11 |\n",
      "|  67   |  86   |  66   | -6.4454e+13 | 1.38e+01 | 2.75e+13 | 1.45e+13 |\n",
      "|  68   |  88   |  67   | -6.4454e+13 | 1.38e+00 | 2.75e+13 | 1.45e+13 |\n",
      "|  69   |  89   |  68   | -1.2764e+14 | 2.76e+00 | 3.86e+13 | 2.32e+13 |\n",
      "|  70   |  90   |  69   | -6.5761e+14 | 5.53e+00 | 2.94e+14 | 2.75e+14 |\n",
      "|  71   |  91   |  70   | -6.5761e+14 | 2.76e+00 | 2.94e+14 | 2.75e+14 |\n",
      "|  72   |  92   |  71   | -1.0773e+15 | 5.53e+00 | 2.75e+14 | 3.11e+14 |\n",
      "|  73   |  93   |  72   | -1.0773e+15 | 2.77e+00 | 2.75e+14 | 3.11e+14 |\n",
      "|  74   |  94   |  73   | -5.3418e+15 | 5.53e+00 | 5.92e+14 | 2.08e+15 |\n",
      "|  75   |  95   |  74   | -5.3418e+15 | 2.16e+00 | 5.92e+14 | 2.08e+15 |\n",
      "|  76   |  96   |  75   | -5.3418e+15 | 1.08e+00 | 5.92e+14 | 2.08e+15 |\n",
      "|  77   |  97   |  76   | -3.6568e+15 | 7.47e+00 | 8.62e+14 | 4.18e+12 |\n",
      "|  78   |  98   |  77   | -8.2976e+16 | 5.18e+01 | 1.18e+16 | 7.42e+12 |\n",
      "|  79   |  100  |  78   | -8.2976e+16 | 5.18e+00 | 1.18e+16 | 7.42e+12 |\n",
      "|  80   |  101  |  79   | -8.2976e+16 | 2.59e+00 | 1.18e+16 | 7.42e+12 |\n",
      "|  81   |  102  |  80   | -8.2976e+16 | 1.20e+00 | 1.18e+16 | 7.42e+12 |\n",
      "|  82   |  103  |  81   | -8.2976e+16 | 1.20e-01 | 1.18e+16 | 7.42e+12 |\n",
      "|  83   |  104  |  82   | -8.2976e+16 | 1.20e-02 | 1.18e+16 | 7.42e+12 |\n",
      "|  84   |  105  |  83   | -8.2976e+16 | 1.20e-03 | 1.18e+16 | 7.42e+12 |\n",
      "|  85   |  106  |  84   | -8.2976e+16 | 1.20e-04 | 1.18e+16 | 7.42e+12 |\n",
      "|  86   |  107  |  85   | -8.2972e+16 | 8.48e-04 | 1.21e+16 | 7.38e+11 |\n",
      "|  87   |  108  |  86   | -8.2972e+16 | 8.48e-05 | 1.21e+16 | 7.38e+11 |\n",
      "|  88   |  109  |  87   | -8.2972e+16 | 1.99e-05 | 1.21e+16 | 7.38e+11 |\n",
      "|  89   |  110  |  88   | -8.2972e+16 | 9.97e-06 | 1.21e+16 | 7.38e+11 |\n",
      "|  90   |  111  |  89   | -8.2971e+16 | 2.00e-05 | 7.37e+15 | 4.03e+11 |\n",
      "|  91   |  112  |  90   | -8.2971e+16 | 3.99e-05 | 7.37e+15 | 8.05e+10 |\n",
      "|  92   |  113  |  91   | -8.2971e+16 | 9.55e-06 | 7.37e+15 | 8.05e+10 |\n",
      "|  93   |  114  |  92   | -8.2971e+16 | 2.68e-06 | 7.37e+15 | 8.05e+10 |\n",
      "|  94   |  115  |  93   | -8.2971e+16 | 2.68e-06 | 7.37e+15 | 8.05e+10 |\n",
      "|  95   |  116  |  94   | -8.2971e+16 | 5.92e-07 | 7.37e+15 | 8.05e+10 |\n",
      "|  96   |  117  |  95   | -8.2971e+16 | 1.19e-07 | 7.37e+15 | 8.05e+10 |\n",
      "|  97   |  118  |  96   | -8.2971e+16 | 1.19e-08 | 7.37e+15 | 8.05e+10 |\n",
      "|  98   |  119  |  97   | -8.2971e+16 | 5.94e-09 | 7.37e+15 | 8.05e+10 |\n",
      "\n",
      "`xtol` termination condition is satisfied.\n",
      "Number of iterations: 98, function evaluations: 119, CG iterations: 97, optimality: 7.37e+15, constraint violation: 8.05e+10, execution time: 0.67 s.\n"
     ]
    }
   ],
   "source": [
    "sol = scipy.optimize.minimize(f, x0, jac=df, method='trust-constr',\n",
    "                              hess=d2f,\n",
    "                              constraints=equality_constraint,\n",
    "                              options={'verbose':2}) #TNC"
   ]
  },
  {
   "cell_type": "code",
   "execution_count": 149,
   "id": "9c2eeefe",
   "metadata": {},
   "outputs": [],
   "source": [
    "b = df(x0)\n",
    "A = dg(x0).T\n",
    "lambd0, _, _, _ = np.linalg.lstsq(A, b, rcond=None)\n",
    "xlambd0 = np.concatenate([x0, lambd0], axis=0)\n",
    "xlambd0_t = torch.tensor(xlambd0, dtype=torch.float)"
   ]
  },
  {
   "cell_type": "code",
   "execution_count": 150,
   "id": "add22fb1",
   "metadata": {},
   "outputs": [],
   "source": [
    "h, dh = make_lagrangian_residual_jacobian(g, df, dg, d2f, d2g, len(builder.x), len(builder.lambd))\n",
    "h_t = make_lagrangian_residual_torch(g_t, df_t, dg_t, len(builder.x), len(builder.lambd))\n",
    "loss_t = lambda x : torch.sum((h_t(x))**2)\n",
    "dloss_t = functorch.grad(loss_t)\n",
    "d2loss_t = functorch.hessian(loss_t)\n",
    "loss = torch_wrap(loss_t)\n",
    "dloss = torch_wrap(dloss_t)\n",
    "d2loss = torch_wrap(d2loss_t)"
   ]
  },
  {
   "cell_type": "code",
   "execution_count": 155,
   "id": "ab32abbd",
   "metadata": {},
   "outputs": [],
   "source": [
    "x = sol.x"
   ]
  },
  {
   "cell_type": "code",
   "execution_count": 157,
   "id": "d66167ee",
   "metadata": {},
   "outputs": [
    {
     "data": {
      "text/plain": [
       "array([[-17.47272544, -17.63643578, -17.57560962],\n",
       "       [ -6.55068771,   0.75873928,  -6.63586244],\n",
       "       [-12.97484205,  16.76177091,  -3.66033145],\n",
       "       [ 33.95695404,  31.51580898,  -2.9932451 ],\n",
       "       [-18.12430061, -47.41537919, -28.52709749],\n",
       "       [  0.29852784,  16.95114433,  -3.69604765],\n",
       "       [-14.09980686,  15.1912765 ,  -3.69700694]])"
      ]
     },
     "execution_count": 157,
     "metadata": {},
     "output_type": "execute_result"
    }
   ],
   "source": [
    "logcmu_"
   ]
  },
  {
   "cell_type": "code",
   "execution_count": 161,
   "id": "f8c8bc57",
   "metadata": {},
   "outputs": [],
   "source": [
    "logc_ = x.reshape(builder.nspecoptim, builder.ngrid)\n",
    "logc = builder.get_logc().numpy()\n",
    "logc[builder.species_optim_ind, :] = logc_\n",
    "c = np.exp(logc)\n",
    "logc_t = torch.tensor(logc, dtype=torch.float)"
   ]
  },
  {
   "cell_type": "code",
   "execution_count": 162,
   "id": "90c9aaae",
   "metadata": {},
   "outputs": [
    {
     "data": {
      "text/plain": [
       "Text(0.5, 0, '$y^+$')"
      ]
     },
     "execution_count": 162,
     "metadata": {},
     "output_type": "execute_result"
    },
    {
     "data": {
      "image/png": "[encoded data removed]",
      "text/plain": [
       "<Figure size 432x288 with 1 Axes>"
      ]
     },
     "metadata": {
      "needs_background": "light"
     },
     "output_type": "display_data"
    }
   ],
   "source": [
    "plt.figure()\n",
    "for i in range(builder.nspecies):\n",
    "    plt.plot(builder.ygrid, c[i, :], 'o', label=builder.species[i])\n",
    "plt.legend()\n",
    "plt.ylabel(r'$c$[molal]')\n",
    "plt.xlabel(r'$y^+$')"
   ]
  },
  {
   "cell_type": "code",
   "execution_count": 163,
   "id": "bc3b5d90",
   "metadata": {},
   "outputs": [
    {
     "data": {
      "text/plain": [
       "Text(0.5, 0, '$y^+$')"
      ]
     },
     "execution_count": 163,
     "metadata": {},
     "output_type": "execute_result"
    },
    {
     "data": {
      "image/png": "[encoded data removed]",
      "text/plain": [
       "<Figure size 432x288 with 1 Axes>"
      ]
     },
     "metadata": {
      "needs_background": "light"
     },
     "output_type": "display_data"
    }
   ],
   "source": [
    "cel = builder.reduced_formula_matrix.numpy()@c\n",
    "plt.figure()\n",
    "for i, el in enumerate(eqsys.solute_elements + ['e']):\n",
    "    plt.plot(builder.ygrid, cel[i, :], 'o', label=el)\n",
    "plt.legend()\n",
    "plt.ylabel(r'$c$[molal]')\n",
    "plt.xlabel(r'$y^+$')"
   ]
  },
  {
   "cell_type": "code",
   "execution_count": 164,
   "id": "284d8c3e",
   "metadata": {},
   "outputs": [],
   "source": [
    "# fluxes = builder.fluxes().detach().numpy()\n",
    "# yplot = builder.ypoints[1:-1].detach().numpy()\n",
    "# plt.figure()\n",
    "# for i, el in enumerate(eqsys.solute_elements + ['e']):\n",
    "#     plt.plot(yplot, fluxes[i, :], 'o', label=el)\n",
    "# plt.legend()\n",
    "# plt.ylabel(r'$c$[molal]')\n",
    "# plt.xlabel(r'$y^+$')"
   ]
  },
  {
   "cell_type": "code",
   "execution_count": null,
   "id": "b26723d1",
   "metadata": {},
   "outputs": [],
   "source": []
  },
  {
   "cell_type": "code",
   "execution_count": null,
   "id": "64e046fc",
   "metadata": {},
   "outputs": [],
   "source": []
  }
 ],
 "metadata": {
  "kernelspec": {
   "display_name": "Python 3 (ipykernel)",
   "language": "python",
   "name": "python3"
  },
  "language_info": {
   "codemirror_mode": {
    "name": "ipython",
    "version": 3
   },
   "file_extension": ".py",
   "mimetype": "text/x-python",
   "name": "python",
   "nbconvert_exporter": "python",
   "pygments_lexer": "ipython3",
   "version": "3.9.7"
  }
 },
 "nbformat": 4,
 "nbformat_minor": 5
}
