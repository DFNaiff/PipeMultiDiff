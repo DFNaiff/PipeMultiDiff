{
 "cells": [
  {
   "cell_type": "code",
   "execution_count": 110,
   "id": "c0b3dbdd",
   "metadata": {},
   "outputs": [],
   "source": [
    "import sys\n",
    "sys.path.append(\"..\")\n",
    "import functools\n",
    "\n",
    "import numpy as np\n",
    "import torch\n",
    "import scipy.linalg\n",
    "import scipy.optimize\n",
    "import scipy.integrate\n",
    "import matplotlib.pyplot as plt\n",
    "from dict_minimize.torch_api import minimize\n",
    "import functorch\n",
    "import pyequion2\n",
    "\n",
    "import tmcdiff"
   ]
  },
  {
   "cell_type": "code",
   "execution_count": 111,
   "id": "ffa825ce",
   "metadata": {},
   "outputs": [
    {
     "name": "stdout",
     "output_type": "stream",
     "text": [
      "The autoreload extension is already loaded. To reload it, use:\n",
      "  %reload_ext autoreload\n"
     ]
    }
   ],
   "source": [
    "%load_ext autoreload\n",
    "%autoreload 2\n",
    "%matplotlib inline"
   ]
  },
  {
   "cell_type": "code",
   "execution_count": 112,
   "id": "a1059a3d",
   "metadata": {},
   "outputs": [],
   "source": [
    "def reynolds_number(flow_velocity, pipe_diameter, TK=298.15,\n",
    "                    kinematic_viscosity = None): #Dimensionless\n",
    "    \"\"\"\n",
    "        Calculates Reynolds number of water from velocity and diameter\n",
    "    \"\"\"\n",
    "    kinematic_viscosity = kinematic_viscosity or pyequion2.water_properties.water_kinematic_viscosity(TK)\n",
    "    return flow_velocity*pipe_diameter/kinematic_viscosity\n",
    "\n",
    "\n",
    "def darcy_friction_factor(flow_velocity=float,\n",
    "                          pipe_diameter=float,\n",
    "                          TK=298.15,\n",
    "                          kinematic_viscosity=None):\n",
    "    reynolds = reynolds_number(flow_velocity, pipe_diameter, TK, kinematic_viscosity)\n",
    "    if reynolds < 2300:\n",
    "        return 64/reynolds\n",
    "    else: #Blasius\n",
    "        return 0.316*reynolds**(-1./4)\n",
    "    \n",
    "\n",
    "def get_shear_velocity(flow_velocity,\n",
    "                   pipe_diameter,\n",
    "                   TK=298.15,\n",
    "                   kinematic_viscosity=None):\n",
    "    f = darcy_friction_factor(flow_velocity, pipe_diameter, TK, kinematic_viscosity)\n",
    "    return np.sqrt(f/8.0)*flow_velocity"
   ]
  },
  {
   "cell_type": "code",
   "execution_count": 78,
   "id": "b7442e2d",
   "metadata": {},
   "outputs": [],
   "source": [
    "eqsys = pyequion2.EquilibriumBackend([\"C\", \"Ca\", \"Na\", \"Cl\"], from_elements=True, backend=\"torch\", logbase=\"e\",\n",
    "                                     activity_model=\"DEBYE\")\n",
    "eqsys_front = pyequion2.EquilibriumSystem([\"C\", \"Ca\", \"Na\", \"Cl\"], from_elements=True,\n",
    "                                           activity_model=\"DEBYE\")"
   ]
  },
  {
   "cell_type": "code",
   "execution_count": 99,
   "id": "c6d16dc6",
   "metadata": {},
   "outputs": [],
   "source": [
    "TK = 298.15\n",
    "bulk_velocity = 1.0\n",
    "pipe_diameter = 1e-2\n",
    "shear_velocity = get_shear_velocity(bulk_velocity, pipe_diameter, TK)\n",
    "kinematic_viscosity = 1e-6\n",
    "c_nahco3 = 0.020\n",
    "c_cacl2 = 0.010\n",
    "molal_balance = {'C':c_nahco3, 'Ca':c_cacl2, 'Na':c_nahco3, 'Cl':2*c_cacl2}\n",
    "molal_balance = {k:v*1e0 for k, v in molal_balance.items()}\n",
    "\n",
    "builder = tmcdiff.TransportBuilder(eqsys, TK, shear_velocity,\n",
    "                           molal_balance, [\"Calcite\"],\n",
    "                           kreaction=\"inf\")\n",
    "builder.make_grid(20, 5)\n",
    "builder.set_species()"
   ]
  },
  {
   "cell_type": "code",
   "execution_count": 103,
   "id": "be26bd52",
   "metadata": {},
   "outputs": [
    {
     "data": {
      "text/plain": [
       "{'Aragonite': 1.5992366772106408,\n",
       " 'Calcite': 1.743006524602876,\n",
       " 'Halite': -5.161929565992914,\n",
       " 'Vaterite': 1.1765750303885767}"
      ]
     },
     "execution_count": 103,
     "metadata": {},
     "output_type": "execute_result"
    }
   ],
   "source": [
    "sol, _ = eqsys_front.solve_equilibrium_mixed_balance(TK, molal_balance=molal_balance)\n",
    "sol.saturation_indexes"
   ]
  },
  {
   "cell_type": "code",
   "execution_count": 104,
   "id": "c2145f8a",
   "metadata": {},
   "outputs": [],
   "source": [
    "builder.set_initial_guess_from_bulk()\n",
    "solsimple = builder.solve_lma(simplified=True);\n",
    "solfull = builder.solve_lma(simplified=False);"
   ]
  },
  {
   "cell_type": "code",
   "execution_count": 105,
   "id": "9ba82722",
   "metadata": {},
   "outputs": [],
   "source": [
    "def f(t, x):\n",
    "    builder.cbulk = {el:x[i] for i, el in enumerate(builder.eqsys.solute_elements)}\n",
    "#     solsimple = builder.solve_lma(simplified=True);\n",
    "    solfull = builder.solve_lma(simplified=False);\n",
    "    res = builder.fluxes().detach().numpy()[:-1, -1]*4/pipe_diameter\n",
    "    return res"
   ]
  },
  {
   "cell_type": "code",
   "execution_count": 106,
   "id": "57a5e9f8",
   "metadata": {},
   "outputs": [],
   "source": [
    "x = np.array([molal_balance[el] for el in builder.eqsys.solute_elements])"
   ]
  },
  {
   "cell_type": "code",
   "execution_count": 107,
   "id": "85fda149",
   "metadata": {},
   "outputs": [
    {
     "data": {
      "text/plain": [
       "(True, True)"
      ]
     },
     "execution_count": 107,
     "metadata": {},
     "output_type": "execute_result"
    }
   ],
   "source": [
    "solsimple = builder.solve_lma(simplified=True);\n",
    "solfull = builder.solve_lma(simplified=False);\n",
    "solsimple.success, solfull.success"
   ]
  },
  {
   "cell_type": "code",
   "execution_count": 115,
   "id": "2606bced",
   "metadata": {},
   "outputs": [
    {
     "data": {
      "text/plain": [
       "array([[ -5.454978 ,  -5.677202 ,  -5.9362617,  -6.2140293,  -6.4824686,\n",
       "         -6.718816 ,  -6.913115 ,  -7.0662255,  -7.1844816,  -7.275424 ,\n",
       "         -7.345734 ,  -7.400655 ,  -7.4440846,  -7.4788756,  -7.5070896,\n",
       "         -7.530251 ,  -7.549464 ,  -7.565567 ,  -7.5791855,  -7.5908   ],\n",
       "       [-12.434015 , -11.886845 , -11.3686905, -10.90308  , -10.509447 ,\n",
       "        -10.193228 ,  -9.948345 ,  -9.762688 ,  -9.622888 ,  -9.517199 ,\n",
       "         -9.436458 ,  -9.373926 ,  -9.324786 ,  -9.285613 ,  -9.253957 ,\n",
       "         -9.228055 ,  -9.206612 ,  -9.188679 ,  -9.173532 ,  -9.160634 ],\n",
       "       [ -5.6065874,  -5.295944 ,  -5.082362 ,  -4.948311 ,  -4.869468 ,\n",
       "         -4.8233314,  -4.795494 ,  -4.7779555,  -4.766398 ,  -4.7584553,\n",
       "         -4.7527905,  -4.748618 ,  -4.7454596,  -4.7430115,  -4.741076 ,\n",
       "         -4.7395196,  -4.7382483,  -4.737197 ,  -4.736317 ,  -4.735574 ],\n",
       "       [-12.09904  , -11.315721 , -10.646648 , -10.09232  ,  -9.649251 ,\n",
       "         -9.305266 ,  -9.044126 ,  -8.848443 ,  -8.702142 ,  -8.592038 ,\n",
       "         -8.508177 ,  -8.443363 ,  -8.392505 ,  -8.352008 ,  -8.319305 ,\n",
       "         -8.292566 ,  -8.270442 ,  -8.251945 ,  -8.236329 ,  -8.223032 ],\n",
       "       [ -8.354601 ,  -7.928044 ,  -7.6240788,  -7.4244394,  -7.301379 ,\n",
       "         -7.226789 ,  -7.1808968,  -7.151781 ,  -7.132611 ,  -7.119501 ,\n",
       "         -7.11021  ,  -7.1034136,  -7.0983005,  -7.094363 ,  -7.0912657,\n",
       "         -7.088784 ,  -7.086769 ,  -7.085106 ,  -7.0837207,  -7.08255  ],\n",
       "       [-20.246838 , -19.598055 , -19.035032 , -18.557625 , -18.166124 ,\n",
       "        -17.855188 , -17.614996 , -17.43277  , -17.295341 , -17.19129  ,\n",
       "        -17.111689 , -17.049973 , -17.00143  , -16.962702 , -16.931387 ,\n",
       "        -16.90575  , -16.88452  , -16.866753 , -16.851744 , -16.838968 ],\n",
       "       [ -3.9385495,  -3.9292994,  -3.9218624,  -3.9170585,  -3.9144804,\n",
       "         -3.9132266,  -3.912633 ,  -3.9123468,  -3.9122036,  -3.912128 ,\n",
       "         -3.9120865,  -3.9120626,  -3.912048 ,  -3.912039 ,  -3.9120333,\n",
       "         -3.9120295,  -3.912027 ,  -3.912025 ,  -3.9120238,  -3.9120228],\n",
       "       [-15.158021 , -15.514783 , -15.879891 , -16.23458  , -16.554588 ,\n",
       "        -16.823982 , -17.03923  , -17.205797 , -17.33293  , -17.429922 ,\n",
       "        -17.504494 , -17.56251  , -17.608255 , -17.644815 , -17.674417 ,\n",
       "        -17.698679 , -17.718786 , -17.735622 , -17.74985  , -17.761976 ],\n",
       "       [ -4.5514326,  -4.398272 ,  -4.2765574,  -4.1883025,  -4.1293817,\n",
       "         -4.091742 ,  -4.0678983,  -4.052564 ,  -4.0424232,  -4.0354915,\n",
       "         -4.0305934,  -4.027024 ,  -4.02435  ,  -4.0222983,  -4.020691 ,\n",
       "         -4.0194077,  -4.018368 ,  -4.017513 ,  -4.0168014,  -4.016203 ],\n",
       "       [ -3.9413993,  -3.93275  ,  -3.926023 ,  -3.9220054,  -3.9201105,\n",
       "         -3.9193513,  -3.919091 ,  -3.9190304,  -3.9190445,  -3.919083 ,\n",
       "         -3.919127 ,  -3.9191682,  -3.9192052,  -3.9192371,  -3.9192648,\n",
       "         -3.9192882,  -3.9193084,  -3.9193256,  -3.9193404,  -3.9193532],\n",
       "       [-19.883173 , -19.374573 , -18.889963 , -18.450317 , -18.074951 ,\n",
       "        -17.770992 , -17.534271 , -17.35413  , -17.21815  , -17.115183 ,\n",
       "        -17.036438 , -16.975407 , -16.927422 , -16.889154 , -16.858223 ,\n",
       "        -16.832905 , -16.811945 , -16.794413 , -16.779602 , -16.76699  ],\n",
       "       [-14.193595 , -13.675023 , -13.181473 , -12.734511 , -12.353687 ,\n",
       "        -12.045895 , -11.8065405, -11.624579 , -11.487321 , -11.383435 ,\n",
       "        -11.304011 , -11.242466 , -11.194083 , -11.155503 , -11.12432  ,\n",
       "        -11.098802 , -11.077673 , -11.06     , -11.045074 , -11.032362 ],\n",
       "       [ -9.43971  ,  -9.296523 ,  -9.183748 ,  -9.102809 ,  -9.049345 ,\n",
       "         -9.015539 ,  -8.994329 ,  -8.980813 ,  -8.971951 ,  -8.9659395,\n",
       "         -8.96172  ,  -8.958666 ,  -8.956388 ,  -8.954651 ,  -8.953291 ,\n",
       "         -8.952214 ,  -8.951342 ,  -8.9506235,  -8.95003  ,  -8.949532 ],\n",
       "       [-21.434036 , -21.068624 , -20.696789 , -20.338085 , -20.016182 ,\n",
       "        -19.746027 , -19.53052  , -19.363892 , -19.236774 , -19.139818 ,\n",
       "        -19.065292 , -19.007317 , -18.961609 , -18.925077 , -18.895506 ,\n",
       "        -18.871267 , -18.851181 , -18.83436  , -18.820148 , -18.808033 ],\n",
       "       [-16.694853 , -16.31947  , -15.938692 , -15.572672 , -15.245313 ,\n",
       "        -14.971325 , -14.753183 , -14.584736 , -14.456341 , -14.358466 ,\n",
       "        -14.283258 , -14.224771 , -14.178663 , -14.141821 , -14.111999 ,\n",
       "        -14.087559 , -14.067303 , -14.050343 , -14.0360155, -14.0238   ]],\n",
       "      dtype=float32)"
      ]
     },
     "execution_count": 115,
     "metadata": {},
     "output_type": "execute_result"
    }
   ],
   "source": [
    "builder.get_logc().numpy()"
   ]
  },
  {
   "cell_type": "code",
   "execution_count": 109,
   "id": "b26723d1",
   "metadata": {},
   "outputs": [
    {
     "name": "stdout",
     "output_type": "stream",
     "text": [
      "3.432259064882502e-08 [0.01 0.02 0.02 0.02]\n",
      "1.26642615058863e-06 [0.00999985 0.02       0.01999985 0.02      ]\n",
      "1.358746174998668e-05 [0.00999844 0.02       0.01999844 0.02      ]\n",
      "0.00013679781774396718 [0.00998429 0.02       0.01998429 0.02      ]\n",
      "0.0002196752699975134 [0.00997479 0.02       0.01997479 0.02000001]\n",
      "0.0003025527222510596 [0.0099653  0.02       0.0199653  0.02000001]\n",
      "0.00034537366894605345 [0.00996041 0.02       0.01996041 0.02000001]\n",
      "0.0003881946156410473 [0.00995552 0.02       0.01995551 0.02000001]\n",
      "0.00043239664696690755 [0.00995048 0.02       0.01995047 0.02000001]\n",
      "0.0004765986782927678 [0.00994544 0.02       0.01994544 0.02000001]\n",
      "0.0005210388731171086 [0.00994038 0.02       0.01994038 0.02000001]\n",
      "0.0005654790679414494 [0.00993533 0.02       0.01993533 0.02000001]\n",
      "0.000610293585657545 [0.00993024 0.02       0.01993024 0.02000001]\n",
      "0.0006551081033736405 [0.00992516 0.02       0.01992515 0.02000002]\n",
      "0.0006988462063269213 [0.00992022 0.02       0.01992022 0.02000002]\n",
      "0.000742584309280202 [0.00991527 0.02       0.01991527 0.02000001]\n",
      "0.0007863224122334828 [0.00991033 0.02       0.01991032 0.02000001]\n",
      "0.0008307899245301672 [0.0099053  0.02       0.0199053  0.02000001]\n",
      "0.0008752574368268517 [0.00990028 0.02       0.01990028 0.02000001]\n",
      "0.0009189580577924046 [0.00989536 0.02       0.01989536 0.02000001]\n",
      "0.0009626586787579576 [0.00989043 0.02       0.01989043 0.02000001]\n"
     ]
    }
   ],
   "source": [
    "solver = scipy.integrate.ode(f)\n",
    "solver.set_integrator(\"vode\")\n",
    "solver.set_initial_value(x)\n",
    "xarr = [x.copy()]\n",
    "tarr = [0.0]\n",
    "tmax = 1e-3\n",
    "while solver.successful():\n",
    "    solver.integrate(tmax, step=True)\n",
    "    xarr.append(solver.y)\n",
    "    tarr.append(solver.t)\n",
    "    if solver.t > tmax:\n",
    "        break\n",
    "    print(solver.t, solver.y)"
   ]
  },
  {
   "cell_type": "code",
   "execution_count": null,
   "id": "64e046fc",
   "metadata": {},
   "outputs": [],
   "source": [
    "xarr = np.vstack(xarr)\n",
    "tarr = np.array(tarr)"
   ]
  },
  {
   "cell_type": "code",
   "execution_count": null,
   "id": "fc732d24",
   "metadata": {},
   "outputs": [],
   "source": [
    "for i, el in enumerate(eqsys.solute_elements):\n",
    "    plt.plot(tarr, xarr[:, i], label=el)\n",
    "plt.legend()"
   ]
  },
  {
   "cell_type": "code",
   "execution_count": null,
   "id": "11b331e9",
   "metadata": {},
   "outputs": [],
   "source": []
  },
  {
   "cell_type": "code",
   "execution_count": null,
   "id": "552412d1",
   "metadata": {},
   "outputs": [],
   "source": []
  },
  {
   "cell_type": "code",
   "execution_count": null,
   "id": "52b15af5",
   "metadata": {},
   "outputs": [],
   "source": []
  }
 ],
 "metadata": {
  "kernelspec": {
   "display_name": "Python 3 (ipykernel)",
   "language": "python",
   "name": "python3"
  },
  "language_info": {
   "codemirror_mode": {
    "name": "ipython",
    "version": 3
   },
   "file_extension": ".py",
   "mimetype": "text/x-python",
   "name": "python",
   "nbconvert_exporter": "python",
   "pygments_lexer": "ipython3",
   "version": "3.9.7"
  }
 },
 "nbformat": 4,
 "nbformat_minor": 5
}
