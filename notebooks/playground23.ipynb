{
 "cells": [
  {
   "cell_type": "code",
   "execution_count": 1,
   "id": "c0b3dbdd",
   "metadata": {},
   "outputs": [],
   "source": [
    "import sys\n",
    "sys.path.append(\"..\")\n",
    "import functools\n",
    "\n",
    "import numpy as np\n",
    "import torch\n",
    "import scipy.linalg\n",
    "import scipy.optimize\n",
    "import matplotlib.pyplot as plt\n",
    "from dict_minimize.torch_api import minimize\n",
    "import functorch\n",
    "import pyequion2\n",
    "\n",
    "import tmcdiff"
   ]
  },
  {
   "cell_type": "code",
   "execution_count": 2,
   "id": "ffa825ce",
   "metadata": {},
   "outputs": [],
   "source": [
    "%load_ext autoreload\n",
    "%autoreload 2\n",
    "%matplotlib inline"
   ]
  },
  {
   "cell_type": "code",
   "execution_count": 50,
   "id": "b7442e2d",
   "metadata": {},
   "outputs": [],
   "source": [
    "eqsys = pyequion2.EquilibriumBackend([\"Ca\", \"C\", \"Na\", \"Cl\"], from_elements=True, backend=\"torch\", logbase=\"e\",\n",
    "                                     activity_model=\"DEBYE\")"
   ]
  },
  {
   "cell_type": "code",
   "execution_count": 51,
   "id": "c6d16dc6",
   "metadata": {},
   "outputs": [],
   "source": [
    "TK = 298.15\n",
    "shear_velocity = 0.1\n",
    "kinematic_viscosity = 1e-6\n",
    "molal_balance = {'C':0.065, 'Ca':0.028, 'Na':0.075, 'Cl':0.056}\n",
    "\n",
    "builder = tmcdiff.TransportBuilder(eqsys, TK, shear_velocity,\n",
    "                           molal_balance, [\"Calcite\"],\n",
    "                           kreaction=\"inf\")\n",
    "builder.make_grid(10, 5)\n",
    "builder.set_species()"
   ]
  },
  {
   "cell_type": "code",
   "execution_count": 52,
   "id": "8a1fbc86",
   "metadata": {},
   "outputs": [],
   "source": [
    "builder.set_initial_guess_from_bulk()"
   ]
  },
  {
   "cell_type": "code",
   "execution_count": 53,
   "id": "85fda149",
   "metadata": {},
   "outputs": [
    {
     "data": {
      "text/plain": [
       "True"
      ]
     },
     "execution_count": 53,
     "metadata": {},
     "output_type": "execute_result"
    }
   ],
   "source": [
    "solsimple = builder.solve_lma(simplified=True);\n",
    "solfull = builder.solve_lma(simplified=False);\n",
    "solsimple.success#, solfull.success"
   ]
  },
  {
   "cell_type": "code",
   "execution_count": 54,
   "id": "0feaebc3",
   "metadata": {},
   "outputs": [],
   "source": [
    "builder.simplified = False\n",
    "\n",
    "def flat_residual(x):\n",
    "    logcmu = x.reshape([builder.nspecies, builder.ngrid])\n",
    "    res = builder.full_residual(logcmu, lma=False, include_mu=False)\n",
    "    return res.flatten()\n",
    "\n",
    "def flat_objective(x):\n",
    "    logcmu = x.reshape([builder.nspecies, builder.ngrid])\n",
    "    res = builder.gibbs_free_energy(logcmu)\n",
    "    return res.flatten()[0]\n",
    "    \n",
    "def torch_wrap(f):\n",
    "    def g(x):\n",
    "        x = torch.tensor(x, dtype=torch.float)\n",
    "        res = f(x).detach().numpy()\n",
    "        return res\n",
    "    return g\n",
    "\n",
    "def torch_wrap(f):\n",
    "    def g(*args):\n",
    "        args = [torch.tensor(arg, dtype=torch.float) for arg in args]\n",
    "        res = f(*args).detach().numpy()\n",
    "        return res\n",
    "    return g"
   ]
  },
  {
   "cell_type": "code",
   "execution_count": 55,
   "id": "ab9cd4e2",
   "metadata": {},
   "outputs": [],
   "source": [
    "def make_lagrangian_residual_jacobian(g, df, dg, d2f, d2g, nx, nlambd):\n",
    "    def residual(xlambd):\n",
    "        x, lambd = xlambd[..., :nx], xlambd[..., nx:]\n",
    "        res1 = df(x) - (dg(x).T)@lambd\n",
    "        res2 = g(x)\n",
    "        res = np.concatenate([res1, res2], axis=-1)\n",
    "        return res\n",
    "    def jacobian(xlambd):\n",
    "        x, lambd = xlambd[..., :nx], xlambd[..., nx:]\n",
    "        jac11 = d2f(x) - d2g(x, lambd)\n",
    "        jac12 = -dg(x).T\n",
    "        jac21 = dg(x)\n",
    "        jac22 = np.zeros([nlambd, nlambd])\n",
    "        jac = np.block([[jac11, jac12], [jac21, jac22]])\n",
    "        return jac\n",
    "    return residual, jacobian\n",
    "\n",
    "def make_lagrangian_residual(g, df, dg, nx):\n",
    "    def residual(xlambd):\n",
    "        x, lambd = xlambd[..., :nx], xlambd[..., nx:]\n",
    "        res1 = df(x) - (dg(x).T)@lambd\n",
    "        res2 = g(x)\n",
    "        res = torch.cat([res1, res2], dim=-1)\n",
    "        return res\n",
    "    return residual\n",
    "\n",
    "def make_lagrangian_residual_torch(g, df, dg, nx, nlambd):\n",
    "    def residual(xlambd):\n",
    "        x, lambd = xlambd[..., :nx], xlambd[..., nx:]\n",
    "        res1 = df(x) - (dg(x).T)@lambd\n",
    "        res2 = g(x)\n",
    "        res = torch.cat([res1, res2], axis=-1)\n",
    "        return res\n",
    "    return residual"
   ]
  },
  {
   "cell_type": "code",
   "execution_count": 56,
   "id": "d5023b86",
   "metadata": {},
   "outputs": [],
   "source": [
    "f_t = flat_objective\n",
    "df_t = functorch.jacrev(f_t)\n",
    "d2f_t = functorch.hessian(f_t)\n",
    "g_t = flat_residual\n",
    "dg_t = functorch.jacrev(g_t)\n",
    "d2g_t = functorch.jacrev(lambda x, v : (dg_t(x).T)@v)\n",
    "f = torch_wrap(f_t)\n",
    "df = torch_wrap(df_t)\n",
    "d2f = torch_wrap(d2f_t)\n",
    "g = torch_wrap(g_t)\n",
    "dg = torch_wrap(dg_t)\n",
    "d2g = torch_wrap(d2g_t)\n",
    "\n",
    "equality_constraint = scipy.optimize.NonlinearConstraint(\n",
    "    g, lb=0.0, ub=0.0, jac = dg, hess=d2g)\n",
    "x0 = builder.x.detach().numpy()\n",
    "# lambd0 = builder.lambd.detach().numpy()\n",
    "# xlambd0 = np.concatenate([x0, lambd0], axis=0)"
   ]
  },
  {
   "cell_type": "code",
   "execution_count": 57,
   "id": "d71cd95c",
   "metadata": {},
   "outputs": [],
   "source": [
    "b = df(x0)\n",
    "A = dg(x0).T\n",
    "lambd0, _, _, _ = np.linalg.lstsq(A, b, rcond=None)\n",
    "xlambd0 = np.concatenate([x0, lambd0], axis=0)\n",
    "xlambd0_t = torch.tensor(xlambd0, dtype=torch.float)"
   ]
  },
  {
   "cell_type": "code",
   "execution_count": 58,
   "id": "add22fb1",
   "metadata": {},
   "outputs": [],
   "source": [
    "h, dh = make_lagrangian_residual_jacobian(g, df, dg, d2f, d2g, len(builder.x), len(builder.lambd))\n",
    "h_t = make_lagrangian_residual_torch(g_t, df_t, dg_t, len(builder.x), len(builder.lambd))\n",
    "loss_t = lambda x : torch.sum(h_t(x)**2)\n",
    "dloss_t = functorch.grad(loss_t)\n",
    "d2loss_t = functorch.hessian(loss_t)\n",
    "loss = torch_wrap(loss_t)\n",
    "dloss = torch_wrap(dloss_t)\n",
    "d2loss = torch_wrap(d2loss_t)"
   ]
  },
  {
   "cell_type": "code",
   "execution_count": 59,
   "id": "bfe21573",
   "metadata": {},
   "outputs": [
    {
     "name": "stderr",
     "output_type": "stream",
     "text": [
      "/home/dfnaiff/miniconda3/envs/mainenv/lib/python3.9/site-packages/scipy/optimize/_minimize.py:527: RuntimeWarning: Method TNC does not use Hessian information (hess).\n",
      "  warn('Method %s does not use Hessian information (hess).' % method,\n"
     ]
    },
    {
     "name": "stdout",
     "output_type": "stream",
     "text": [
      "False\n",
      "0.014529818\n"
     ]
    }
   ],
   "source": [
    "sol = scipy.optimize.minimize(loss, xlambd0, jac=dloss, method='TNC',\n",
    "                              hess=d2loss) #TNC\n",
    "print(sol.success)\n",
    "print(sol.fun)"
   ]
  },
  {
   "cell_type": "code",
   "execution_count": 60,
   "id": "c1a83a44",
   "metadata": {},
   "outputs": [
    {
     "name": "stderr",
     "output_type": "stream",
     "text": [
      "/home/dfnaiff/miniconda3/envs/mainenv/lib/python3.9/site-packages/scipy/optimize/_minimize.py:527: RuntimeWarning: Method BFGS does not use Hessian information (hess).\n",
      "  warn('Method %s does not use Hessian information (hess).' % method,\n"
     ]
    },
    {
     "name": "stdout",
     "output_type": "stream",
     "text": [
      "False\n",
      "0.0002884948917198926\n"
     ]
    }
   ],
   "source": [
    "xlambd0 = sol.x\n",
    "sol = scipy.optimize.minimize(loss, xlambd0, jac=dloss, method='BFGS',\n",
    "                              hess=d2loss) #TNC\n",
    "print(sol.success)\n",
    "print(sol.fun)"
   ]
  },
  {
   "cell_type": "code",
   "execution_count": 61,
   "id": "a291ffc6",
   "metadata": {},
   "outputs": [],
   "source": [
    "# xlambd0_t.requires_grad = True\n",
    "# optimizer = torch.optim.SGD([xlambd0_t], lr=1e-6, momentum=0.9)\n",
    "# for i in range(1000):\n",
    "#     loss = torch.max(h_t(xlambd0_t)**2)\n",
    "#     loss.backward()\n",
    "#     optimizer.step()\n",
    "#     print(loss)"
   ]
  },
  {
   "cell_type": "code",
   "execution_count": null,
   "id": "8461d097",
   "metadata": {},
   "outputs": [],
   "source": []
  },
  {
   "cell_type": "code",
   "execution_count": null,
   "id": "613127bb",
   "metadata": {},
   "outputs": [],
   "source": []
  },
  {
   "cell_type": "code",
   "execution_count": 62,
   "id": "86e6a3ca",
   "metadata": {},
   "outputs": [],
   "source": [
    "# sol = scipy.optimize.root(h, xlambd0, jac=dh, method=\"broyden1\")\n",
    "# print(sol.success)\n",
    "# print(np.max(np.abs(sol.fun)))"
   ]
  },
  {
   "cell_type": "code",
   "execution_count": null,
   "id": "449353b5",
   "metadata": {},
   "outputs": [],
   "source": []
  },
  {
   "cell_type": "code",
   "execution_count": null,
   "id": "fc6b2465",
   "metadata": {},
   "outputs": [],
   "source": []
  },
  {
   "cell_type": "code",
   "execution_count": 63,
   "id": "d01bc1a2",
   "metadata": {},
   "outputs": [],
   "source": [
    "x = sol.x[:len(builder.x)]"
   ]
  },
  {
   "cell_type": "code",
   "execution_count": 64,
   "id": "f8c8bc57",
   "metadata": {},
   "outputs": [],
   "source": [
    "logcmu = x.reshape(builder.nspecies, builder.ngrid)\n",
    "logc = logcmu[:builder.nspecies, :]\n",
    "c = np.exp(logc)\n",
    "logc_t = torch.tensor(logc, dtype=torch.float)"
   ]
  },
  {
   "cell_type": "code",
   "execution_count": 65,
   "id": "90c9aaae",
   "metadata": {},
   "outputs": [
    {
     "data": {
      "text/plain": [
       "Text(0.5, 0, '$y^+$')"
      ]
     },
     "execution_count": 65,
     "metadata": {},
     "output_type": "execute_result"
    },
    {
     "data": {
      "image/png": "[encoded data removed]",
      "text/plain": [
       "<Figure size 432x288 with 1 Axes>"
      ]
     },
     "metadata": {
      "needs_background": "light"
     },
     "output_type": "display_data"
    }
   ],
   "source": [
    "plt.figure()\n",
    "for i in range(builder.nspecies):\n",
    "    plt.plot(builder.ygrid, c[i, :], 'o', label=builder.species[i])\n",
    "plt.legend()\n",
    "plt.ylabel(r'$c$[molal]')\n",
    "plt.xlabel(r'$y^+$')"
   ]
  },
  {
   "cell_type": "code",
   "execution_count": 66,
   "id": "bc3b5d90",
   "metadata": {},
   "outputs": [
    {
     "data": {
      "text/plain": [
       "Text(0.5, 0, '$y^+$')"
      ]
     },
     "execution_count": 66,
     "metadata": {},
     "output_type": "execute_result"
    },
    {
     "data": {
      "image/png": "[encoded data removed]",
      "text/plain": [
       "<Figure size 432x288 with 1 Axes>"
      ]
     },
     "metadata": {
      "needs_background": "light"
     },
     "output_type": "display_data"
    }
   ],
   "source": [
    "cel = builder.reduced_formula_matrix.numpy()@c\n",
    "plt.figure()\n",
    "for i, el in enumerate(eqsys.solute_elements + ['e']):\n",
    "    plt.plot(builder.ygrid, cel[i, :], 'o', label=el)\n",
    "plt.legend()\n",
    "plt.ylabel(r'$c$[molal]')\n",
    "plt.xlabel(r'$y^+$')"
   ]
  },
  {
   "cell_type": "code",
   "execution_count": 68,
   "id": "284d8c3e",
   "metadata": {},
   "outputs": [
    {
     "data": {
      "text/plain": [
       "Text(0.5, 0, '$y^+$')"
      ]
     },
     "execution_count": 68,
     "metadata": {},
     "output_type": "execute_result"
    },
    {
     "data": {
      "image/png": "[encoded data removed]",
      "text/plain": [
       "<Figure size 432x288 with 1 Axes>"
      ]
     },
     "metadata": {
      "needs_background": "light"
     },
     "output_type": "display_data"
    }
   ],
   "source": [
    "fluxes = builder.fluxes().detach().numpy()\n",
    "yplot = builder.ypoints[1:-1].detach().numpy()\n",
    "plt.figure()\n",
    "for i, el in enumerate(eqsys.solute_elements + ['e']):\n",
    "    plt.plot(yplot, fluxes[i, :], 'o', label=el)\n",
    "plt.legend()\n",
    "plt.ylabel(r'$c$[molal]')\n",
    "plt.xlabel(r'$y^+$')"
   ]
  },
  {
   "cell_type": "code",
   "execution_count": 69,
   "id": "51955c40",
   "metadata": {},
   "outputs": [
    {
     "data": {
      "text/plain": [
       "tensor([[-4.4822e-06, -4.1490e-06,  5.9151e-06,  2.4973e-06, -3.6332e-07,\n",
       "         -1.3239e-05,  7.7382e-06,  7.0530e-06,  2.6764e-05],\n",
       "        [-1.0680e+00, -1.0680e+00, -1.0680e+00, -1.0680e+00, -1.0680e+00,\n",
       "         -1.0680e+00, -1.0680e+00, -1.0680e+00, -1.0680e+00],\n",
       "        [-4.7632e-06, -1.9762e-07,  5.0540e-07, -6.0564e-06,  9.6512e-06,\n",
       "         -2.4432e-05,  2.0087e-05,  4.0688e-05,  1.1733e-05],\n",
       "        [-1.0680e+00, -1.0680e+00, -1.0680e+00, -1.0680e+00, -1.0680e+00,\n",
       "         -1.0680e+00, -1.0681e+00, -1.0681e+00, -1.0680e+00],\n",
       "        [ 7.1643e-07,  1.3362e-06, -2.4124e-06, -1.6742e-05,  2.1516e-05,\n",
       "         -1.8337e-05,  1.4196e-05,  6.1934e-05,  3.7368e-06]])"
      ]
     },
     "execution_count": 69,
     "metadata": {},
     "output_type": "execute_result"
    }
   ],
   "source": [
    "4/(1e-2)*builder.fluxes()"
   ]
  },
  {
   "cell_type": "code",
   "execution_count": null,
   "id": "b26723d1",
   "metadata": {},
   "outputs": [],
   "source": []
  },
  {
   "cell_type": "code",
   "execution_count": null,
   "id": "64e046fc",
   "metadata": {},
   "outputs": [],
   "source": []
  }
 ],
 "metadata": {
  "kernelspec": {
   "display_name": "Python 3 (ipykernel)",
   "language": "python",
   "name": "python3"
  },
  "language_info": {
   "codemirror_mode": {
    "name": "ipython",
    "version": 3
   },
   "file_extension": ".py",
   "mimetype": "text/x-python",
   "name": "python",
   "nbconvert_exporter": "python",
   "pygments_lexer": "ipython3",
   "version": "3.9.7"
  }
 },
 "nbformat": 4,
 "nbformat_minor": 5
}
