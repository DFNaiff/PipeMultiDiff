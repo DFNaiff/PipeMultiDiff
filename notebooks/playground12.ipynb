{
 "cells": [
  {
   "cell_type": "code",
   "execution_count": 1,
   "id": "5fc4e823",
   "metadata": {},
   "outputs": [],
   "source": [
    "import sys\n",
    "sys.path.append(\"..\")\n",
    "import functools\n",
    "\n",
    "import numpy as np\n",
    "import jax.numpy as jnp\n",
    "import jax\n",
    "import scipy.linalg\n",
    "import scipy.optimize\n",
    "import matplotlib.pyplot as plt\n",
    "\n",
    "import pyequion2\n",
    "import tmcdiff.builder"
   ]
  },
  {
   "cell_type": "code",
   "execution_count": 2,
   "id": "7efd2467",
   "metadata": {},
   "outputs": [],
   "source": [
    "%load_ext autoreload\n",
    "%autoreload 2\n",
    "%matplotlib inline"
   ]
  },
  {
   "cell_type": "code",
   "execution_count": 3,
   "id": "1b158230",
   "metadata": {},
   "outputs": [
    {
     "name": "stderr",
     "output_type": "stream",
     "text": [
      "WARNING:absl:No GPU/TPU found, falling back to CPU. (Set TF_CPP_MIN_LOG_LEVEL=0 and rerun for more info.)\n"
     ]
    }
   ],
   "source": [
    "eqsys = pyequion2.EquilibriumBackend([\"Ca\", \"C\", \"Na\", \"Cl\"], from_elements=True, backend=\"jax\", logbase=\"e\")"
   ]
  },
  {
   "cell_type": "code",
   "execution_count": 4,
   "id": "49391584",
   "metadata": {},
   "outputs": [
    {
     "data": {
      "text/plain": [
       "16"
      ]
     },
     "execution_count": 4,
     "metadata": {},
     "output_type": "execute_result"
    }
   ],
   "source": [
    "eqsys.nspecies"
   ]
  },
  {
   "cell_type": "code",
   "execution_count": 5,
   "id": "90f3249c",
   "metadata": {},
   "outputs": [
    {
     "data": {
      "text/plain": [
       "{'H2O': DeviceArray(-95.6795, dtype=float32),\n",
       " 'CO2': DeviceArray(-155.69572, dtype=float32),\n",
       " 'CO3--': DeviceArray(-212.96431, dtype=float32),\n",
       " 'Ca++': DeviceArray(-223.10623, dtype=float32),\n",
       " 'CaCO3': DeviceArray(-443.49747, dtype=float32),\n",
       " 'CaHCO3+': DeviceArray(-462.40097, dtype=float32),\n",
       " 'CaOH+': DeviceArray(-289.35706, dtype=float32),\n",
       " 'Cl-': DeviceArray(-52.952633, dtype=float32),\n",
       " 'H+': DeviceArray(0., dtype=float32),\n",
       " 'HCO3-': DeviceArray(-236.7487, dtype=float32),\n",
       " 'Na+': DeviceArray(-105.651115, dtype=float32),\n",
       " 'Na2CO3': DeviceArray(-425.81396, dtype=float32),\n",
       " 'NaCO3-': DeviceArray(-321.5399, dtype=float32),\n",
       " 'NaHCO3': DeviceArray(-341.82413, dtype=float32),\n",
       " 'NaOH': DeviceArray(-168.67815, dtype=float32),\n",
       " 'OH-': DeviceArray(-63.4536, dtype=float32)}"
      ]
     },
     "execution_count": 5,
     "metadata": {},
     "output_type": "execute_result"
    }
   ],
   "source": [
    "{sp: eqsys.get_standard_chemical_potentials(298.15)[i]/(8.314*298.15) for i, sp in enumerate(eqsys.species)}"
   ]
  },
  {
   "cell_type": "code",
   "execution_count": 6,
   "id": "5e6643f8",
   "metadata": {},
   "outputs": [],
   "source": [
    "builder = tmcdiff.builder.TransportBuilder(eqsys,\n",
    "                                           298.15,\n",
    "                                           0.1,\n",
    "                                           1e-6,\n",
    "                                           jnp.array([1.0, 1.0, 1.0, 1.0, 0.0]), [\"Calcite\"])\n",
    "builder.set_species(['CaCO3', 'CaHCO3+', 'CaOH+', 'Na2CO3', 'NaCO3-', 'NaHCO3', 'NaOH', 'CaOH+'])\n",
    "builder.make_grid(60, 5)\n",
    "builder.species\n",
    "builder.simplified = True\n",
    "builder.ideal_activity = True"
   ]
  },
  {
   "cell_type": "code",
   "execution_count": 7,
   "id": "7680e187",
   "metadata": {},
   "outputs": [
    {
     "data": {
      "text/plain": [
       "['CO2', 'CO3--', 'Ca++', 'Cl-', 'H+', 'HCO3-', 'Na+', 'OH-']"
      ]
     },
     "execution_count": 7,
     "metadata": {},
     "output_type": "execute_result"
    }
   ],
   "source": [
    "builder.species"
   ]
  },
  {
   "cell_type": "code",
   "execution_count": 181,
   "id": "063a4424",
   "metadata": {},
   "outputs": [],
   "source": [
    "logc = np.ones([builder.nspecies, builder.ngrid])*0.0 - 0.0\n",
    "mu = builder.reduced_standard_potentials[..., None] + logc\n",
    "logcmu = jnp.vstack([logc, mu])\n",
    "xinit = logcmu.flatten()\n",
    "xinit2 = logc.flatten()"
   ]
  },
  {
   "cell_type": "code",
   "execution_count": 8,
   "id": "f6907fa2",
   "metadata": {},
   "outputs": [
    {
     "data": {
      "text/plain": [
       "<bound method TransportBuilder.flattened_equality_constraint of <tmcdiff.builder.TransportBuilder object at 0x7feea432ac70>>"
      ]
     },
     "execution_count": 8,
     "metadata": {},
     "output_type": "execute_result"
    }
   ],
   "source": [
    "builder.flattened_equality_constraint"
   ]
  },
  {
   "cell_type": "code",
   "execution_count": null,
   "id": "cbfdb78d",
   "metadata": {},
   "outputs": [],
   "source": []
  },
  {
   "cell_type": "code",
   "execution_count": null,
   "id": "6ffd44dc",
   "metadata": {},
   "outputs": [],
   "source": []
  },
  {
   "cell_type": "code",
   "execution_count": null,
   "id": "a0ebc4f9",
   "metadata": {},
   "outputs": [],
   "source": []
  },
  {
   "cell_type": "code",
   "execution_count": 182,
   "id": "99cb38bc",
   "metadata": {},
   "outputs": [],
   "source": [
    "f = functools.partial(builder.flattened_minimization_objective, ftype=1)\n",
    "df = functools.partial(builder.jac_flattened_minimization_objective, ftype=1)\n",
    "g = functools.partial(builder.flattened_equality_constraint, ftype=1)\n",
    "dg = functools.partial(builder.jac_flattened_equality_constraint, ftype=1)"
   ]
  },
  {
   "cell_type": "code",
   "execution_count": 183,
   "id": "a3eaa8aa",
   "metadata": {},
   "outputs": [
    {
     "data": {
      "text/plain": [
       "DeviceArray([19.52553  ,  0.       ,  0.       ,  0.       ,  0.       ,\n",
       "              0.       ,  0.       ,  0.       ,  0.       ,  0.       ,\n",
       "              0.       ,  0.       ,  0.       ,  0.       ,  0.       ,\n",
       "              0.       ,  0.       ,  0.       ,  0.       ,  0.       ,\n",
       "              0.       ,  0.       ,  0.       ,  0.       ,  0.       ,\n",
       "              0.       ,  0.       ,  0.       ,  0.       ,  0.       ,\n",
       "              0.       ,  0.       ,  0.       ,  0.       ,  0.       ,\n",
       "              0.       ,  0.       ,  0.       ,  0.       ,  0.       ,\n",
       "              0.       ,  0.       ,  0.       ,  0.       ,  0.       ,\n",
       "              0.       ,  0.       ,  0.       ,  0.       ,  0.       ,\n",
       "              0.       ,  0.       ,  0.       ,  0.       ,  0.       ,\n",
       "              0.       ,  0.       ,  0.       ,  0.       ,  2.       ,\n",
       "              0.       ,  0.       ,  0.       ,  0.       ,  0.       ,\n",
       "              0.       ,  0.       ,  0.       ,  0.       ,  0.       ,\n",
       "              0.       ,  0.       ,  0.       ,  0.       ,  0.       ,\n",
       "              0.       ,  0.       ,  0.       ,  0.       ,  0.       ,\n",
       "              0.       ,  0.       ,  0.       ,  0.       ,  0.       ,\n",
       "              0.       ,  0.       ,  0.       ,  0.       ,  0.       ,\n",
       "              0.       ,  0.       ,  0.       ,  0.       ,  0.       ,\n",
       "              0.       ,  0.       ,  0.       ,  0.       ,  0.       ,\n",
       "              0.       ,  0.       ,  0.       ,  0.       ,  0.       ,\n",
       "              0.       ,  0.       ,  0.       ,  0.       ,  0.       ,\n",
       "              0.       ,  0.       ,  0.       ,  0.       ,  0.       ,\n",
       "              0.       ,  0.       ,  0.       ,  0.       ,  0.       ,\n",
       "              0.       ,  0.       ,  0.       ,  0.       ,  0.       ,\n",
       "              0.       ,  0.       ,  0.       ,  0.       ,  0.       ,\n",
       "              0.       ,  0.       ,  0.       ,  0.       ,  0.       ,\n",
       "              0.       ,  0.       ,  0.       ,  0.       ,  0.       ,\n",
       "              0.       ,  0.       ,  0.       ,  0.       ,  0.       ,\n",
       "              0.       ,  0.       ,  0.       ,  0.       ,  0.       ,\n",
       "              0.       ,  0.       ,  0.       ,  0.       ,  0.       ,\n",
       "              0.       ,  0.       ,  0.       ,  0.       ,  0.       ,\n",
       "              0.       ,  0.       ,  0.       ,  0.       ,  0.       ,\n",
       "              0.       ,  0.       ,  0.       ,  0.       ,  0.       ,\n",
       "              0.       ,  0.       ,  0.       ,  0.       ,  0.       ,\n",
       "              0.       ,  0.       ,  0.       ,  0.       ,  0.       ,\n",
       "              0.       ,  0.       ,  0.       ,  0.       ,  0.       ,\n",
       "              0.       ,  0.       ,  0.       ,  0.       ,  0.       ,\n",
       "              0.       ,  0.       ,  0.       ,  0.       ,  0.       ,\n",
       "              0.       ,  0.       ,  0.       ,  0.       ,  0.       ,\n",
       "              0.       ,  0.       ,  0.       ,  0.       ,  0.       ,\n",
       "              0.       ,  0.       ,  0.       ,  0.       ,  0.       ,\n",
       "              0.       ,  0.       ,  0.       ,  0.       ,  0.       ,\n",
       "              0.       ,  0.       ,  0.       ,  0.       ,  0.       ,\n",
       "              0.       ,  0.       ,  0.       ,  0.       ,  0.       ,\n",
       "              0.       ,  0.       ,  0.       ,  0.       ,  0.       ,\n",
       "              0.       ,  0.       ,  0.       ,  0.       ,  0.       ,\n",
       "              0.       ,  0.       ,  0.       ,  0.       ,  0.       ,\n",
       "              0.       ,  0.       ,  0.       ,  0.       ,  0.       ,\n",
       "              0.       ,  0.       ,  0.       ,  0.       ,  0.       ,\n",
       "              0.       ,  0.       ,  0.       ,  0.       ,  0.       ,\n",
       "              0.       ,  0.       ,  0.       ,  0.       ,  0.       ,\n",
       "              0.       ,  0.       ,  0.       ,  0.       ,  0.       ,\n",
       "              0.       ,  0.       ,  0.       ,  0.       ,  0.       ,\n",
       "              0.       ,  0.       ,  0.       ,  0.       ,  0.       ,\n",
       "              0.       ,  0.       ,  0.       ,  0.       ,  0.       ,\n",
       "              0.       ,  0.       ,  0.       ,  0.       ,  0.       ,\n",
       "              0.       ,  0.       ,  0.       ,  0.       ,  0.       ,\n",
       "              0.       ,  0.       ,  0.       ,  0.       ,  0.       ,\n",
       "              0.       ,  0.       ,  0.       ,  0.       , -1.       ,\n",
       "              0.5756463,  0.5756463,  0.5756463,  0.5756463,  0.5756463,\n",
       "              0.5756463,  0.5756463,  0.5756463,  0.5756463,  0.5756463,\n",
       "              0.5756463,  0.5756463,  0.5756463,  0.5756463,  0.5756463,\n",
       "              0.5756463,  0.5756463,  0.5756463,  0.5756463,  0.5756463,\n",
       "              0.5756463,  0.5756463,  0.5756463,  0.5756463,  0.5756463,\n",
       "              0.5756463,  0.5756463,  0.5756463,  0.5756463,  0.5756463,\n",
       "              0.5756463,  0.5756463,  0.5756463,  0.5756463,  0.5756463,\n",
       "              0.5756463,  0.5756463,  0.5756463,  0.5756463,  0.5756463,\n",
       "              0.5756463,  0.5756463,  0.5756463,  0.5756463,  0.5756463,\n",
       "              0.5756463,  0.5756463,  0.5756463,  0.5756463,  0.5756463,\n",
       "              0.5756463,  0.5756463,  0.5756463,  0.5756463,  0.5756463,\n",
       "              0.5756463,  0.5756463,  0.5756463,  0.5756463,  0.5756463,\n",
       "              0.       ,  0.       ,  0.       ,  0.       ,  0.       ,\n",
       "              0.       ,  0.       ,  0.       ,  0.       ,  0.       ,\n",
       "              0.       ,  0.       ,  0.       ,  0.       ,  0.       ,\n",
       "              0.       ,  0.       ,  0.       ,  0.       ,  0.       ,\n",
       "              0.       ,  0.       ,  0.       ,  0.       ,  0.       ,\n",
       "              0.       ,  0.       ,  0.       ,  0.       ,  0.       ,\n",
       "              0.       ,  0.       ,  0.       ,  0.       ,  0.       ,\n",
       "              0.       ,  0.       ,  0.       ,  0.       ,  0.       ,\n",
       "              0.       ,  0.       ,  0.       ,  0.       ,  0.       ,\n",
       "              0.       ,  0.       ,  0.       ,  0.       ,  0.       ,\n",
       "              0.       ,  0.       ,  0.       ,  0.       ,  0.       ,\n",
       "              0.       ,  0.       ,  0.       ,  0.       ,  0.       ,\n",
       "              0.       ,  0.       ,  0.       ,  0.       ,  0.       ,\n",
       "              0.       ,  0.       ,  0.       ,  0.       ,  0.       ,\n",
       "              0.       ,  0.       ,  0.       ,  0.       ,  0.       ,\n",
       "              0.       ,  0.       ,  0.       ,  0.       ,  0.       ,\n",
       "              0.       ,  0.       ,  0.       ,  0.       ,  0.       ,\n",
       "              0.       ,  0.       ,  0.       ,  0.       ,  0.       ,\n",
       "              0.       ,  0.       ,  0.       ,  0.       ,  0.       ,\n",
       "              0.       ,  0.       ,  0.       ,  0.       ,  0.       ,\n",
       "              0.       ,  0.       ,  0.       ,  0.       ,  0.       ,\n",
       "              0.       ,  0.       ,  0.       ,  0.       ,  0.       ,\n",
       "              0.       ,  0.       ,  0.       ,  0.       ,  0.       ,\n",
       "              0.       ,  0.       ,  0.       ,  0.       ,  0.       ,\n",
       "              0.       ,  0.       ,  0.       ,  0.       ,  0.       ,\n",
       "              0.       ,  0.       ,  0.       ,  0.       ,  0.       ,\n",
       "              0.       ,  0.       ,  0.       ,  0.       ,  0.       ,\n",
       "              0.       ,  0.       ,  0.       ,  0.       ,  0.       ,\n",
       "              0.       ,  0.       ,  0.       ,  0.       ,  0.       ,\n",
       "              0.       ,  0.       ,  0.       ,  0.       ,  0.       ,\n",
       "              0.       ,  0.       ,  0.       ,  0.       ,  0.       ,\n",
       "              0.       ,  0.       ,  0.       ,  0.       ,  0.       ,\n",
       "              0.       ,  0.       ,  0.       ,  0.       ,  0.       ,\n",
       "              0.       ,  0.       ,  0.       ,  0.       ,  0.       ,\n",
       "              0.       ,  0.       ,  0.       ,  0.       ,  0.       ,\n",
       "              0.       ,  0.       ,  0.       ,  0.       ,  0.       ,\n",
       "              0.       ,  0.       ,  0.       ,  0.       ,  0.       ,\n",
       "              0.       ,  0.       ,  0.       ,  0.       ,  0.       ,\n",
       "              0.       ,  0.       ,  0.       ,  0.       ,  0.       ,\n",
       "              0.       ,  0.       ,  0.       ,  0.       ,  0.       ,\n",
       "              0.       ,  0.       ,  0.       ,  0.       ,  0.       ,\n",
       "              0.       ,  0.       ,  0.       ,  0.       ,  0.       ,\n",
       "              0.       ,  0.       ,  0.       ,  0.       ,  0.       ,\n",
       "              0.       ,  0.       ,  0.       ,  0.       ,  0.       ,\n",
       "              0.       ,  0.       ,  0.       ,  0.       ,  0.       ,\n",
       "              0.       ,  0.       ,  0.       ,  0.       ,  0.       ,\n",
       "              0.       ,  0.       ,  0.       ,  0.       ,  0.       ,\n",
       "              0.       ,  0.       ,  0.       ,  0.       ,  0.       ,\n",
       "              0.       ,  0.       ,  0.       ,  0.       ,  0.       ,\n",
       "              0.       ,  0.       ,  0.       ,  0.       ,  0.       ,\n",
       "              0.       ,  0.       ,  0.       ,  0.       ,  0.       ,\n",
       "              0.       ,  0.       ,  0.       ,  0.       ,  0.       ,\n",
       "              0.       ,  0.       ,  0.       ,  0.       ,  0.       ,\n",
       "              0.       ,  0.       ,  0.       ,  0.       ,  0.       ,\n",
       "              0.       ,  0.       ,  0.       ,  0.       ,  0.       ,\n",
       "              0.       ,  0.       ,  0.       ,  0.       ,  0.       ,\n",
       "              0.       ,  0.       ,  0.       ,  0.       ,  0.       ,\n",
       "              0.       ,  0.       ,  0.       ,  0.       ,  0.       ,\n",
       "              0.       ,  0.       ,  0.       ,  0.       ,  0.       ,\n",
       "              0.       ,  0.       ,  0.       ,  0.       ,  0.       ,\n",
       "              0.       ,  0.       ,  0.       ,  0.       ,  0.       ,\n",
       "              0.       ,  0.       ,  0.       ,  0.       ,  0.       ,\n",
       "              0.       ,  0.       ,  0.       ,  0.       ,  0.       ,\n",
       "              0.       ,  0.       ,  0.       ,  0.       ,  0.       ,\n",
       "              0.       ,  0.       ,  0.       ,  0.       ,  0.       ,\n",
       "              0.       ,  0.       ,  0.       ,  0.       ,  0.       ,\n",
       "              0.       ,  0.       ,  0.       ,  0.       ,  0.       ,\n",
       "              0.       ,  0.       ,  0.       ,  0.       ,  0.       ,\n",
       "              0.       ,  0.       ,  0.       ,  0.       ,  0.       ,\n",
       "              0.       ,  0.       ,  0.       ,  0.       ,  0.       ,\n",
       "              0.       ,  0.       ,  0.       ,  0.       ,  0.       ,\n",
       "              0.       ,  0.       ,  0.       ,  0.       ,  0.       ,\n",
       "              0.       ,  0.       ,  0.       ,  0.       ,  0.       ,\n",
       "              0.       ,  0.       ,  0.       ,  0.       ,  0.       ,\n",
       "              0.       ,  0.       ,  0.       ,  0.       ,  0.       ,\n",
       "              0.       ,  0.       ,  0.       ,  0.       ,  0.       ,\n",
       "              0.       ,  0.       ,  0.       ,  0.       ,  0.       ,\n",
       "              0.       ,  0.       ,  0.       ,  0.       ,  0.       ,\n",
       "              0.       ,  0.       ,  0.       ,  0.       ,  0.       ,\n",
       "              0.       ,  0.       ,  0.       ,  0.       ,  0.       ,\n",
       "              0.       ,  0.       ,  0.       ,  0.       ,  0.       ,\n",
       "              0.       ,  0.       ,  0.       ,  0.       ,  0.       ,\n",
       "              0.       ,  0.       ,  0.       ,  0.       ,  0.       ,\n",
       "              0.       ,  0.       ,  0.       ,  0.       ,  0.       ,\n",
       "              0.       ,  0.       ,  0.       ,  0.       ,  0.       ,\n",
       "              0.       ,  0.       ,  0.       ,  0.       ,  0.       ,\n",
       "              0.       ,  0.       ,  0.       ,  0.       ,  0.       ,\n",
       "              0.       ,  0.       ,  0.       ,  0.       ,  0.       ,\n",
       "              0.       ,  0.       ,  0.       ,  0.       ,  0.       ,\n",
       "              0.       ,  0.       ,  0.       ,  0.       ,  0.       ,\n",
       "              0.       ,  0.       ,  0.       ,  0.       ,  0.       ,\n",
       "              0.       ,  0.       ,  0.       ,  0.       ,  0.       ,\n",
       "              0.       ,  0.       ,  0.       ,  0.       ,  0.       ,\n",
       "              0.       ,  0.       ,  0.       ,  0.       ,  0.       ,\n",
       "              0.       ,  0.       ,  0.       ,  0.       ,  0.       ,\n",
       "              0.       ,  0.       ,  0.       ,  0.       ,  0.       ],            dtype=float32)"
      ]
     },
     "execution_count": 183,
     "metadata": {},
     "output_type": "execute_result"
    }
   ],
   "source": [
    "g(xinit)"
   ]
  },
  {
   "cell_type": "code",
   "execution_count": 184,
   "id": "91801255",
   "metadata": {},
   "outputs": [
    {
     "name": "stdout",
     "output_type": "stream",
     "text": [
      "| niter |f evals|CG iter|  obj func   |tr radius |   opt    |  c viol  |\n",
      "|-------|-------|-------|-------------|----------|----------|----------|\n",
      "|   1   |   1   |   0   | -1.0505e+03 | 1.00e+00 | 2.88e+00 | 2.22e+02 |\n",
      "|   2   |   2   |   1   | -1.0579e+03 | 7.00e+00 | 2.83e+00 | 2.22e+02 |\n"
     ]
    },
    {
     "ename": "KeyboardInterrupt",
     "evalue": "",
     "output_type": "error",
     "traceback": [
      "\u001b[0;31m---------------------------------------------------------------------------\u001b[0m",
      "\u001b[0;31mKeyboardInterrupt\u001b[0m                         Traceback (most recent call last)",
      "\u001b[0;32m/tmp/ipykernel_30251/819103673.py\u001b[0m in \u001b[0;36m<module>\u001b[0;34m\u001b[0m\n\u001b[1;32m      5\u001b[0m     jac=dg)\n\u001b[1;32m      6\u001b[0m \u001b[0mbounds\u001b[0m \u001b[0;34m=\u001b[0m \u001b[0mscipy\u001b[0m\u001b[0;34m.\u001b[0m\u001b[0moptimize\u001b[0m\u001b[0;34m.\u001b[0m\u001b[0mBounds\u001b[0m\u001b[0;34m(\u001b[0m\u001b[0mlb\u001b[0m\u001b[0;34m=\u001b[0m\u001b[0;34m-\u001b[0m\u001b[0;36m15.0\u001b[0m\u001b[0;34m,\u001b[0m \u001b[0mub\u001b[0m\u001b[0;34m=\u001b[0m\u001b[0;36m5.0\u001b[0m\u001b[0;34m)\u001b[0m\u001b[0;34m\u001b[0m\u001b[0;34m\u001b[0m\u001b[0m\n\u001b[0;32m----> 7\u001b[0;31m sol = scipy.optimize.minimize(f,\n\u001b[0m\u001b[1;32m      8\u001b[0m                               \u001b[0mxinit\u001b[0m\u001b[0;34m,\u001b[0m\u001b[0;34m\u001b[0m\u001b[0;34m\u001b[0m\u001b[0m\n\u001b[1;32m      9\u001b[0m                               \u001b[0mconstraints\u001b[0m\u001b[0;34m=\u001b[0m\u001b[0mequality_constraint\u001b[0m\u001b[0;34m,\u001b[0m\u001b[0;34m\u001b[0m\u001b[0;34m\u001b[0m\u001b[0m\n",
      "\u001b[0;32m~/miniconda3/envs/mainenv/lib/python3.9/site-packages/scipy/optimize/_minimize.py\u001b[0m in \u001b[0;36mminimize\u001b[0;34m(fun, x0, args, method, jac, hess, hessp, bounds, constraints, tol, callback, options)\u001b[0m\n\u001b[1;32m    632\u001b[0m                                constraints, callback=callback, **options)\n\u001b[1;32m    633\u001b[0m     \u001b[0;32melif\u001b[0m \u001b[0mmeth\u001b[0m \u001b[0;34m==\u001b[0m \u001b[0;34m'trust-constr'\u001b[0m\u001b[0;34m:\u001b[0m\u001b[0;34m\u001b[0m\u001b[0;34m\u001b[0m\u001b[0m\n\u001b[0;32m--> 634\u001b[0;31m         return _minimize_trustregion_constr(fun, x0, args, jac, hess, hessp,\n\u001b[0m\u001b[1;32m    635\u001b[0m                                             \u001b[0mbounds\u001b[0m\u001b[0;34m,\u001b[0m \u001b[0mconstraints\u001b[0m\u001b[0;34m,\u001b[0m\u001b[0;34m\u001b[0m\u001b[0;34m\u001b[0m\u001b[0m\n\u001b[1;32m    636\u001b[0m                                             callback=callback, **options)\n",
      "\u001b[0;32m~/miniconda3/envs/mainenv/lib/python3.9/site-packages/scipy/optimize/_trustregion_constr/minimize_trustregion_constr.py\u001b[0m in \u001b[0;36m_minimize_trustregion_constr\u001b[0;34m(fun, x0, args, grad, hess, hessp, bounds, constraints, xtol, gtol, barrier_tol, sparse_jacobian, callback, maxiter, verbose, finite_diff_rel_step, initial_constr_penalty, initial_tr_radius, initial_barrier_parameter, initial_barrier_tolerance, factorization_method, disp)\u001b[0m\n\u001b[1;32m    507\u001b[0m \u001b[0;34m\u001b[0m\u001b[0m\n\u001b[1;32m    508\u001b[0m     \u001b[0;32melif\u001b[0m \u001b[0mmethod\u001b[0m \u001b[0;34m==\u001b[0m \u001b[0;34m'tr_interior_point'\u001b[0m\u001b[0;34m:\u001b[0m\u001b[0;34m\u001b[0m\u001b[0;34m\u001b[0m\u001b[0m\n\u001b[0;32m--> 509\u001b[0;31m         _, result = tr_interior_point(\n\u001b[0m\u001b[1;32m    510\u001b[0m             \u001b[0mobjective\u001b[0m\u001b[0;34m.\u001b[0m\u001b[0mfun\u001b[0m\u001b[0;34m,\u001b[0m \u001b[0mobjective\u001b[0m\u001b[0;34m.\u001b[0m\u001b[0mgrad\u001b[0m\u001b[0;34m,\u001b[0m \u001b[0mlagrangian_hess\u001b[0m\u001b[0;34m,\u001b[0m\u001b[0;34m\u001b[0m\u001b[0;34m\u001b[0m\u001b[0m\n\u001b[1;32m    511\u001b[0m             \u001b[0mn_vars\u001b[0m\u001b[0;34m,\u001b[0m \u001b[0mcanonical\u001b[0m\u001b[0;34m.\u001b[0m\u001b[0mn_ineq\u001b[0m\u001b[0;34m,\u001b[0m \u001b[0mcanonical\u001b[0m\u001b[0;34m.\u001b[0m\u001b[0mn_eq\u001b[0m\u001b[0;34m,\u001b[0m\u001b[0;34m\u001b[0m\u001b[0;34m\u001b[0m\u001b[0m\n",
      "\u001b[0;32m~/miniconda3/envs/mainenv/lib/python3.9/site-packages/scipy/optimize/_trustregion_constr/tr_interior_point.py\u001b[0m in \u001b[0;36mtr_interior_point\u001b[0;34m(fun, grad, lagr_hess, n_vars, n_ineq, n_eq, constr, jac, x0, fun0, grad0, constr_ineq0, jac_ineq0, constr_eq0, jac_eq0, stop_criteria, enforce_feasibility, xtol, state, initial_barrier_parameter, initial_tolerance, initial_penalty, initial_trust_radius, factorization_method)\u001b[0m\n\u001b[1;32m    319\u001b[0m     \u001b[0;32mwhile\u001b[0m \u001b[0;32mTrue\u001b[0m\u001b[0;34m:\u001b[0m\u001b[0;34m\u001b[0m\u001b[0;34m\u001b[0m\u001b[0m\n\u001b[1;32m    320\u001b[0m         \u001b[0;31m# Solve SQP subproblem\u001b[0m\u001b[0;34m\u001b[0m\u001b[0;34m\u001b[0m\u001b[0m\n\u001b[0;32m--> 321\u001b[0;31m         z, state = equality_constrained_sqp(\n\u001b[0m\u001b[1;32m    322\u001b[0m             \u001b[0msubprob\u001b[0m\u001b[0;34m.\u001b[0m\u001b[0mfunction_and_constraints\u001b[0m\u001b[0;34m,\u001b[0m\u001b[0;34m\u001b[0m\u001b[0;34m\u001b[0m\u001b[0m\n\u001b[1;32m    323\u001b[0m             \u001b[0msubprob\u001b[0m\u001b[0;34m.\u001b[0m\u001b[0mgradient_and_jacobian\u001b[0m\u001b[0;34m,\u001b[0m\u001b[0;34m\u001b[0m\u001b[0;34m\u001b[0m\u001b[0m\n",
      "\u001b[0;32m~/miniconda3/envs/mainenv/lib/python3.9/site-packages/scipy/optimize/_trustregion_constr/equality_constrained_sqp.py\u001b[0m in \u001b[0;36mequality_constrained_sqp\u001b[0;34m(fun_and_constr, grad_and_jac, lagr_hess, x0, fun0, grad0, constr0, jac0, stop_criteria, state, initial_penalty, initial_trust_radius, factorization_method, trust_lb, trust_ub, scaling)\u001b[0m\n\u001b[1;32m    201\u001b[0m             \u001b[0mS\u001b[0m \u001b[0;34m=\u001b[0m \u001b[0mscaling\u001b[0m\u001b[0;34m(\u001b[0m\u001b[0mx\u001b[0m\u001b[0;34m)\u001b[0m\u001b[0;34m\u001b[0m\u001b[0;34m\u001b[0m\u001b[0m\n\u001b[1;32m    202\u001b[0m             \u001b[0;31m# Get projections\u001b[0m\u001b[0;34m\u001b[0m\u001b[0;34m\u001b[0m\u001b[0m\n\u001b[0;32m--> 203\u001b[0;31m             \u001b[0mZ\u001b[0m\u001b[0;34m,\u001b[0m \u001b[0mLS\u001b[0m\u001b[0;34m,\u001b[0m \u001b[0mY\u001b[0m \u001b[0;34m=\u001b[0m \u001b[0mprojections\u001b[0m\u001b[0;34m(\u001b[0m\u001b[0mA\u001b[0m\u001b[0;34m,\u001b[0m \u001b[0mfactorization_method\u001b[0m\u001b[0;34m)\u001b[0m\u001b[0;34m\u001b[0m\u001b[0;34m\u001b[0m\u001b[0m\n\u001b[0m\u001b[1;32m    204\u001b[0m             \u001b[0;31m# Compute least-square lagrange multipliers\u001b[0m\u001b[0;34m\u001b[0m\u001b[0;34m\u001b[0m\u001b[0m\n\u001b[1;32m    205\u001b[0m             \u001b[0mv\u001b[0m \u001b[0;34m=\u001b[0m \u001b[0;34m-\u001b[0m\u001b[0mLS\u001b[0m\u001b[0;34m.\u001b[0m\u001b[0mdot\u001b[0m\u001b[0;34m(\u001b[0m\u001b[0mc\u001b[0m\u001b[0;34m)\u001b[0m\u001b[0;34m\u001b[0m\u001b[0;34m\u001b[0m\u001b[0m\n",
      "\u001b[0;32m~/miniconda3/envs/mainenv/lib/python3.9/site-packages/scipy/optimize/_trustregion_constr/projections.py\u001b[0m in \u001b[0;36mprojections\u001b[0;34m(A, method, orth_tol, max_refin, tol)\u001b[0m\n\u001b[1;32m    394\u001b[0m     \u001b[0;32melif\u001b[0m \u001b[0mmethod\u001b[0m \u001b[0;34m==\u001b[0m \u001b[0;34m\"QRFactorization\"\u001b[0m\u001b[0;34m:\u001b[0m\u001b[0;34m\u001b[0m\u001b[0;34m\u001b[0m\u001b[0m\n\u001b[1;32m    395\u001b[0m         \u001b[0mnull_space\u001b[0m\u001b[0;34m,\u001b[0m \u001b[0mleast_squares\u001b[0m\u001b[0;34m,\u001b[0m \u001b[0mrow_space\u001b[0m\u001b[0;31m \u001b[0m\u001b[0;31m\\\u001b[0m\u001b[0;34m\u001b[0m\u001b[0;34m\u001b[0m\u001b[0m\n\u001b[0;32m--> 396\u001b[0;31m             \u001b[0;34m=\u001b[0m \u001b[0mqr_factorization_projections\u001b[0m\u001b[0;34m(\u001b[0m\u001b[0mA\u001b[0m\u001b[0;34m,\u001b[0m \u001b[0mm\u001b[0m\u001b[0;34m,\u001b[0m \u001b[0mn\u001b[0m\u001b[0;34m,\u001b[0m \u001b[0morth_tol\u001b[0m\u001b[0;34m,\u001b[0m \u001b[0mmax_refin\u001b[0m\u001b[0;34m,\u001b[0m \u001b[0mtol\u001b[0m\u001b[0;34m)\u001b[0m\u001b[0;34m\u001b[0m\u001b[0;34m\u001b[0m\u001b[0m\n\u001b[0m\u001b[1;32m    397\u001b[0m     \u001b[0;32melif\u001b[0m \u001b[0mmethod\u001b[0m \u001b[0;34m==\u001b[0m \u001b[0;34m\"SVDFactorization\"\u001b[0m\u001b[0;34m:\u001b[0m\u001b[0;34m\u001b[0m\u001b[0;34m\u001b[0m\u001b[0m\n\u001b[1;32m    398\u001b[0m         \u001b[0mnull_space\u001b[0m\u001b[0;34m,\u001b[0m \u001b[0mleast_squares\u001b[0m\u001b[0;34m,\u001b[0m \u001b[0mrow_space\u001b[0m\u001b[0;31m \u001b[0m\u001b[0;31m\\\u001b[0m\u001b[0;34m\u001b[0m\u001b[0;34m\u001b[0m\u001b[0m\n",
      "\u001b[0;32m~/miniconda3/envs/mainenv/lib/python3.9/site-packages/scipy/optimize/_trustregion_constr/projections.py\u001b[0m in \u001b[0;36mqr_factorization_projections\u001b[0;34m(A, m, n, orth_tol, max_refin, tol)\u001b[0m\n\u001b[1;32m    176\u001b[0m     \"\"\"\n\u001b[1;32m    177\u001b[0m     \u001b[0;31m# QRFactorization\u001b[0m\u001b[0;34m\u001b[0m\u001b[0;34m\u001b[0m\u001b[0m\n\u001b[0;32m--> 178\u001b[0;31m     \u001b[0mQ\u001b[0m\u001b[0;34m,\u001b[0m \u001b[0mR\u001b[0m\u001b[0;34m,\u001b[0m \u001b[0mP\u001b[0m \u001b[0;34m=\u001b[0m \u001b[0mscipy\u001b[0m\u001b[0;34m.\u001b[0m\u001b[0mlinalg\u001b[0m\u001b[0;34m.\u001b[0m\u001b[0mqr\u001b[0m\u001b[0;34m(\u001b[0m\u001b[0mA\u001b[0m\u001b[0;34m.\u001b[0m\u001b[0mT\u001b[0m\u001b[0;34m,\u001b[0m \u001b[0mpivoting\u001b[0m\u001b[0;34m=\u001b[0m\u001b[0;32mTrue\u001b[0m\u001b[0;34m,\u001b[0m \u001b[0mmode\u001b[0m\u001b[0;34m=\u001b[0m\u001b[0;34m'economic'\u001b[0m\u001b[0;34m)\u001b[0m\u001b[0;34m\u001b[0m\u001b[0;34m\u001b[0m\u001b[0m\n\u001b[0m\u001b[1;32m    179\u001b[0m \u001b[0;34m\u001b[0m\u001b[0m\n\u001b[1;32m    180\u001b[0m     \u001b[0;32mif\u001b[0m \u001b[0mnp\u001b[0m\u001b[0;34m.\u001b[0m\u001b[0mlinalg\u001b[0m\u001b[0;34m.\u001b[0m\u001b[0mnorm\u001b[0m\u001b[0;34m(\u001b[0m\u001b[0mR\u001b[0m\u001b[0;34m[\u001b[0m\u001b[0;34m-\u001b[0m\u001b[0;36m1\u001b[0m\u001b[0;34m,\u001b[0m \u001b[0;34m:\u001b[0m\u001b[0;34m]\u001b[0m\u001b[0;34m,\u001b[0m \u001b[0mnp\u001b[0m\u001b[0;34m.\u001b[0m\u001b[0minf\u001b[0m\u001b[0;34m)\u001b[0m \u001b[0;34m<\u001b[0m \u001b[0mtol\u001b[0m\u001b[0;34m:\u001b[0m\u001b[0;34m\u001b[0m\u001b[0;34m\u001b[0m\u001b[0m\n",
      "\u001b[0;32m~/miniconda3/envs/mainenv/lib/python3.9/site-packages/scipy/linalg/decomp_qr.py\u001b[0m in \u001b[0;36mqr\u001b[0;34m(a, overwrite_a, lwork, mode, pivoting, check_finite)\u001b[0m\n\u001b[1;32m    135\u001b[0m     \u001b[0;32mif\u001b[0m \u001b[0mpivoting\u001b[0m\u001b[0;34m:\u001b[0m\u001b[0;34m\u001b[0m\u001b[0;34m\u001b[0m\u001b[0m\n\u001b[1;32m    136\u001b[0m         \u001b[0mgeqp3\u001b[0m\u001b[0;34m,\u001b[0m \u001b[0;34m=\u001b[0m \u001b[0mget_lapack_funcs\u001b[0m\u001b[0;34m(\u001b[0m\u001b[0;34m(\u001b[0m\u001b[0;34m'geqp3'\u001b[0m\u001b[0;34m,\u001b[0m\u001b[0;34m)\u001b[0m\u001b[0;34m,\u001b[0m \u001b[0;34m(\u001b[0m\u001b[0ma1\u001b[0m\u001b[0;34m,\u001b[0m\u001b[0;34m)\u001b[0m\u001b[0;34m)\u001b[0m\u001b[0;34m\u001b[0m\u001b[0;34m\u001b[0m\u001b[0m\n\u001b[0;32m--> 137\u001b[0;31m         \u001b[0mqr\u001b[0m\u001b[0;34m,\u001b[0m \u001b[0mjpvt\u001b[0m\u001b[0;34m,\u001b[0m \u001b[0mtau\u001b[0m \u001b[0;34m=\u001b[0m \u001b[0msafecall\u001b[0m\u001b[0;34m(\u001b[0m\u001b[0mgeqp3\u001b[0m\u001b[0;34m,\u001b[0m \u001b[0;34m\"geqp3\"\u001b[0m\u001b[0;34m,\u001b[0m \u001b[0ma1\u001b[0m\u001b[0;34m,\u001b[0m \u001b[0moverwrite_a\u001b[0m\u001b[0;34m=\u001b[0m\u001b[0moverwrite_a\u001b[0m\u001b[0;34m)\u001b[0m\u001b[0;34m\u001b[0m\u001b[0;34m\u001b[0m\u001b[0m\n\u001b[0m\u001b[1;32m    138\u001b[0m         \u001b[0mjpvt\u001b[0m \u001b[0;34m-=\u001b[0m \u001b[0;36m1\u001b[0m  \u001b[0;31m# geqp3 returns a 1-based index array, so subtract 1\u001b[0m\u001b[0;34m\u001b[0m\u001b[0;34m\u001b[0m\u001b[0m\n\u001b[1;32m    139\u001b[0m     \u001b[0;32melse\u001b[0m\u001b[0;34m:\u001b[0m\u001b[0;34m\u001b[0m\u001b[0;34m\u001b[0m\u001b[0m\n",
      "\u001b[0;32m~/miniconda3/envs/mainenv/lib/python3.9/site-packages/scipy/linalg/decomp_qr.py\u001b[0m in \u001b[0;36msafecall\u001b[0;34m(f, name, *args, **kwargs)\u001b[0m\n\u001b[1;32m     17\u001b[0m         \u001b[0mret\u001b[0m \u001b[0;34m=\u001b[0m \u001b[0mf\u001b[0m\u001b[0;34m(\u001b[0m\u001b[0;34m*\u001b[0m\u001b[0margs\u001b[0m\u001b[0;34m,\u001b[0m \u001b[0;34m**\u001b[0m\u001b[0mkwargs\u001b[0m\u001b[0;34m)\u001b[0m\u001b[0;34m\u001b[0m\u001b[0;34m\u001b[0m\u001b[0m\n\u001b[1;32m     18\u001b[0m         \u001b[0mkwargs\u001b[0m\u001b[0;34m[\u001b[0m\u001b[0;34m'lwork'\u001b[0m\u001b[0;34m]\u001b[0m \u001b[0;34m=\u001b[0m \u001b[0mret\u001b[0m\u001b[0;34m[\u001b[0m\u001b[0;34m-\u001b[0m\u001b[0;36m2\u001b[0m\u001b[0;34m]\u001b[0m\u001b[0;34m[\u001b[0m\u001b[0;36m0\u001b[0m\u001b[0;34m]\u001b[0m\u001b[0;34m.\u001b[0m\u001b[0mreal\u001b[0m\u001b[0;34m.\u001b[0m\u001b[0mastype\u001b[0m\u001b[0;34m(\u001b[0m\u001b[0mnumpy\u001b[0m\u001b[0;34m.\u001b[0m\u001b[0mint_\u001b[0m\u001b[0;34m)\u001b[0m\u001b[0;34m\u001b[0m\u001b[0;34m\u001b[0m\u001b[0m\n\u001b[0;32m---> 19\u001b[0;31m     \u001b[0mret\u001b[0m \u001b[0;34m=\u001b[0m \u001b[0mf\u001b[0m\u001b[0;34m(\u001b[0m\u001b[0;34m*\u001b[0m\u001b[0margs\u001b[0m\u001b[0;34m,\u001b[0m \u001b[0;34m**\u001b[0m\u001b[0mkwargs\u001b[0m\u001b[0;34m)\u001b[0m\u001b[0;34m\u001b[0m\u001b[0;34m\u001b[0m\u001b[0m\n\u001b[0m\u001b[1;32m     20\u001b[0m     \u001b[0;32mif\u001b[0m \u001b[0mret\u001b[0m\u001b[0;34m[\u001b[0m\u001b[0;34m-\u001b[0m\u001b[0;36m1\u001b[0m\u001b[0;34m]\u001b[0m \u001b[0;34m<\u001b[0m \u001b[0;36m0\u001b[0m\u001b[0;34m:\u001b[0m\u001b[0;34m\u001b[0m\u001b[0;34m\u001b[0m\u001b[0m\n\u001b[1;32m     21\u001b[0m         raise ValueError(\"illegal value in %dth argument of internal %s\"\n",
      "\u001b[0;31mKeyboardInterrupt\u001b[0m: "
     ]
    }
   ],
   "source": [
    "equality_constraint = scipy.optimize.NonlinearConstraint(\n",
    "    g,\n",
    "    lb=0.0,\n",
    "    ub=0.0,\n",
    "    jac=dg)\n",
    "bounds = scipy.optimize.Bounds(lb=-15.0, ub=5.0)\n",
    "sol = scipy.optimize.minimize(f,\n",
    "                              xinit,\n",
    "                              constraints=equality_constraint,\n",
    "                              method='trust-constr',\n",
    "                              jac=df,\n",
    "                              bounds=bounds,\n",
    "                              options={'verbose':2})"
   ]
  },
  {
   "cell_type": "code",
   "execution_count": 163,
   "id": "6e9393d9",
   "metadata": {},
   "outputs": [],
   "source": [
    "logc = sol.x.reshape(builder.nspecies, builder.ngrid)"
   ]
  },
  {
   "cell_type": "code",
   "execution_count": 164,
   "id": "8f80b820",
   "metadata": {},
   "outputs": [],
   "source": [
    "c = jnp.exp(logc)"
   ]
  },
  {
   "cell_type": "code",
   "execution_count": 165,
   "id": "121e227a",
   "metadata": {},
   "outputs": [
    {
     "data": {
      "text/plain": [
       "Text(0.5, 0, '$y^+$')"
      ]
     },
     "execution_count": 165,
     "metadata": {},
     "output_type": "execute_result"
    },
    {
     "data": {
      "image/png": "[encoded data removed]",
      "text/plain": [
       "<Figure size 432x288 with 1 Axes>"
      ]
     },
     "metadata": {
      "needs_background": "light"
     },
     "output_type": "display_data"
    }
   ],
   "source": [
    "plt.figure()\n",
    "for i in range(builder.nspecies):\n",
    "    plt.plot(builder.ygrid, c[i, :], label=builder.species[i])\n",
    "plt.legend()\n",
    "plt.ylabel(r'$c$[molal]')\n",
    "plt.xlabel(r'$y^+$')"
   ]
  },
  {
   "cell_type": "code",
   "execution_count": null,
   "id": "a8a5cfd4",
   "metadata": {},
   "outputs": [],
   "source": []
  }
 ],
 "metadata": {
  "kernelspec": {
   "display_name": "Python 3 (ipykernel)",
   "language": "python",
   "name": "python3"
  },
  "language_info": {
   "codemirror_mode": {
    "name": "ipython",
    "version": 3
   },
   "file_extension": ".py",
   "mimetype": "text/x-python",
   "name": "python",
   "nbconvert_exporter": "python",
   "pygments_lexer": "ipython3",
   "version": "3.9.7"
  }
 },
 "nbformat": 4,
 "nbformat_minor": 5
}
