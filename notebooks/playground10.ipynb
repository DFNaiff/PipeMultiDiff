{
 "cells": [
  {
   "cell_type": "code",
   "execution_count": 1,
   "id": "adb5c4cf",
   "metadata": {},
   "outputs": [],
   "source": [
    "import sys\n",
    "sys.path.append(\"..\")\n",
    "\n",
    "import numpy as np\n",
    "import jax.numpy as jnp\n",
    "import jax\n",
    "import scipy.linalg\n",
    "import scipy.optimize\n",
    "import matplotlib.pyplot as plt\n",
    "\n",
    "import pyequion2\n",
    "import tmcdiff.builder"
   ]
  },
  {
   "cell_type": "code",
   "execution_count": 2,
   "id": "6558f18d",
   "metadata": {},
   "outputs": [],
   "source": [
    "%load_ext autoreload\n",
    "%autoreload 2\n",
    "%matplotlib inline"
   ]
  },
  {
   "cell_type": "code",
   "execution_count": 3,
   "id": "177d5a61",
   "metadata": {},
   "outputs": [
    {
     "name": "stderr",
     "output_type": "stream",
     "text": [
      "WARNING:absl:No GPU/TPU found, falling back to CPU. (Set TF_CPP_MIN_LOG_LEVEL=0 and rerun for more info.)\n"
     ]
    }
   ],
   "source": [
    "eqsys = pyequion2.EquilibriumBackend([\"Na\", \"Cl\", \"Ca\", \"C\"], from_elements=True, backend=\"jax\", logbase=\"e\")"
   ]
  },
  {
   "cell_type": "code",
   "execution_count": 4,
   "id": "390f9d50",
   "metadata": {},
   "outputs": [
    {
     "data": {
      "text/plain": [
       "['H', 'O', 'Ca', 'Cl', 'Na', 'C']"
      ]
     },
     "execution_count": 4,
     "metadata": {},
     "output_type": "execute_result"
    }
   ],
   "source": [
    "eqsys.elements"
   ]
  },
  {
   "cell_type": "code",
   "execution_count": 5,
   "id": "0ff2f806",
   "metadata": {},
   "outputs": [
    {
     "data": {
      "text/plain": [
       "(<pyequion2.solution.SolutionResult at 0x7f852280b130>,\n",
       " {'res': array([ 3.92574862e-13,  3.53495011e-13, -1.77635684e-14,  2.12607709e-13,\n",
       "         -2.73114864e-13,  6.45483667e-13,  5.68434189e-14, -7.99360578e-14,\n",
       "          8.88178420e-15, -7.28306304e-14,  0.00000000e+00,  0.00000000e+00,\n",
       "          0.00000000e+00,  0.00000000e+00,  0.00000000e+00]),\n",
       "  'x': array([4.28503689e-04, 4.03583577e-06, 5.07903025e-14, 3.77942506e-13,\n",
       "         2.80000000e+01, 8.10546031e-24, 5.60000000e+01, 2.80236719e-03,\n",
       "         2.53423142e+01, 5.33395199e+01, 1.00032268e+01, 1.85960298e-10,\n",
       "         1.65402647e+00, 7.48547586e-13, 1.34525464e-11])})"
      ]
     },
     "execution_count": 5,
     "metadata": {},
     "output_type": "execute_result"
    }
   ],
   "source": [
    "eqsysfront = pyequion2.EquilibriumSystem([\"Na\", \"Cl\", \"Ca\", \"C\"], from_elements=True)\n",
    "balance = {'Na': 75.0, 'Cl':56.0, 'Ca':28.0, 'C':65.0}\n",
    "eqsysfront.solve_equilibrium_mixed_balance(298.15, molal_balance=balance)"
   ]
  },
  {
   "cell_type": "code",
   "execution_count": 6,
   "id": "3ff5751a",
   "metadata": {},
   "outputs": [
    {
     "data": {
      "text/plain": [
       "{'H2O': DeviceArray(-237172.17, dtype=float32),\n",
       " 'CO2': DeviceArray(-385941.53, dtype=float32),\n",
       " 'CO3--': DeviceArray(-527900., dtype=float32),\n",
       " 'Ca++': DeviceArray(-553040., dtype=float32),\n",
       " 'CaCO3': DeviceArray(-1099350., dtype=float32),\n",
       " 'CaHCO3+': DeviceArray(-1146208.4, dtype=float32),\n",
       " 'CaOH+': DeviceArray(-717263.8, dtype=float32),\n",
       " 'Cl-': DeviceArray(-131260., dtype=float32),\n",
       " 'H+': DeviceArray(0., dtype=float32),\n",
       " 'HCO3-': DeviceArray(-586857.2, dtype=float32),\n",
       " 'Na+': DeviceArray(-261890., dtype=float32),\n",
       " 'Na2CO3': DeviceArray(-1055515.8, dtype=float32),\n",
       " 'NaCO3-': DeviceArray(-797039.2, dtype=float32),\n",
       " 'NaHCO3': DeviceArray(-847320.2, dtype=float32),\n",
       " 'NaOH': DeviceArray(-418122.6, dtype=float32),\n",
       " 'OH-': DeviceArray(-157290., dtype=float32)}"
      ]
     },
     "execution_count": 6,
     "metadata": {},
     "output_type": "execute_result"
    }
   ],
   "source": [
    "{sp: k for sp, k in zip(eqsys.species, eqsys.get_standard_chemical_potentials(298.15))}"
   ]
  },
  {
   "cell_type": "code",
   "execution_count": 7,
   "id": "e5c08f72",
   "metadata": {},
   "outputs": [
    {
     "data": {
      "text/plain": [
       "['CO2', 'CO3--', 'Ca++', 'Cl-', 'HCO3-', 'Na+']"
      ]
     },
     "execution_count": 7,
     "metadata": {},
     "output_type": "execute_result"
    }
   ],
   "source": [
    "builder = tmcdiff.builder.FixedGridTransportBuilder(eqsys, 298.15, 0.1, 1e-6, jnp.array([65, 56, 75.0, 28.0, 0.0]), [\"Calcite\"])\n",
    "builder.set_species(['CaCO3', 'CaHCO3+', 'CaOH+', 'Na2CO3', 'NaCO3-', 'NaHCO3', 'NaOH', 'CaOH+',\n",
    "                     'H+', 'OH-'])\n",
    "builder.make_grid(10, 5)\n",
    "builder.set_initial_guess()\n",
    "builder.species"
   ]
  },
  {
   "cell_type": "code",
   "execution_count": 8,
   "id": "c3bb5e97",
   "metadata": {},
   "outputs": [],
   "source": [
    "sol, sol_simple = builder.solve()"
   ]
  },
  {
   "cell_type": "code",
   "execution_count": 12,
   "id": "2f198e3f",
   "metadata": {},
   "outputs": [
    {
     "data": {
      "text/plain": [
       "         cg_niter: 3825\n",
       "     cg_stop_cond: 2\n",
       "           constr: [array([ 8.0083399e+00,  2.5813468e-03, -6.5529114e-03,  1.4156707e-02,\n",
       "       -3.5614025e-02,  4.9574368e-02, -4.2860061e-02,  1.8252923e-01,\n",
       "       -2.5593693e+00, -5.0508694e+01, -1.6035589e-03, -4.2873179e-04,\n",
       "        2.7600583e-03, -4.0367846e-03, -2.1263955e-02,  6.8720818e-02,\n",
       "        4.6886131e-04, -8.7251055e-01, -7.1780524e+00, -2.7177315e+00,\n",
       "       -1.4476073e-03,  3.1455816e-03, -2.3006946e-03,  8.2034385e-05,\n",
       "       -5.9817475e-03,  1.6997937e-02,  1.1819288e-02, -2.0299335e+00,\n",
       "       -5.0548983e+00, -1.6731838e+01, -1.3466357e-03, -3.8004732e-03,\n",
       "        1.8686496e-02, -3.1810656e-02,  6.8273917e-02, -8.8398516e-02,\n",
       "        8.6717241e-02, -5.8687299e-02, -4.0174274e+00, -1.9813366e+00,\n",
       "        4.0041767e-03,  1.6298585e-02, -5.5550452e-02,  9.5995054e-02,\n",
       "       -1.9259399e-01,  2.2428268e-01, -2.4740003e-01, -6.7549515e-01,\n",
       "        5.2840328e-01,  7.6464272e+00,  2.6652527e-01, -6.2289429e-01,\n",
       "       -7.2517395e-01, -6.6757202e-01, -7.3843384e-01, -7.5364685e-01,\n",
       "       -7.0326233e-01, -3.3367920e-01, -1.8472290e+00, -1.3611450e+01,\n",
       "        3.5233307e+00,  1.2308807e+00,  1.0023193e+00,  1.3147125e+00,\n",
       "        1.0320740e+00,  1.3479767e+00,  9.7914124e-01,  1.4293518e+00,\n",
       "        1.4152374e+00,  2.7831879e+00,  3.7426910e+00,  1.0014343e-01,\n",
       "        1.4508057e-01,  1.8795776e-01,  1.7779541e-01,  2.2036743e-01,\n",
       "        1.7271423e-01,  4.5960999e-01, -1.5308380e+00, -2.8325256e+01,\n",
       "        6.2020874e-01,  5.1791000e-01,  4.0756226e-01,  2.7663040e-01,\n",
       "        3.5515213e-01, -8.6231232e-02,  3.4287262e-01,  5.2296448e-01,\n",
       "       -1.3379478e+00, -5.5946350e+00,  2.4299622e-01,  2.8564453e-01,\n",
       "        2.4885559e-01,  2.5732422e-01,  2.2045898e-01,  2.3774719e-01,\n",
       "        2.3846436e-01,  2.5688171e-01,  2.4403381e-01, -2.7791290e+00,\n",
       "        5.2357483e-01, -1.3851929e-01, -2.0465851e-01, -1.4310455e-01,\n",
       "       -7.8788757e-02, -2.6762390e-01, -3.0937195e-02,  2.9442596e-01,\n",
       "       -3.0844193e+00, -1.5779640e+01], dtype=float32)]\n",
       "      constr_nfev: [1000]\n",
       "      constr_nhev: [0]\n",
       "      constr_njev: [1000]\n",
       "   constr_penalty: 3.2431423538187706e+17\n",
       " constr_violation: 50.50869369506836\n",
       "   execution_time: 28.448935508728027\n",
       "              fun: DeviceArray(-3116.5173, dtype=float32)\n",
       "             grad: array([-6.16303682e-02, -2.08540420e-08, -9.14160137e-06, -9.86982230e-03,\n",
       "       -3.99651043e-02, -7.85340741e-02, -9.04310346e-02, -5.55417389e-02,\n",
       "       -6.52885661e-02, -1.59862302e-02, -6.77109909e+00, -4.75126076e+01,\n",
       "       -9.14040070e+01, -6.37569656e+01, -8.98126450e+01, -5.79470482e+01,\n",
       "       -7.44148102e+01, -6.27073402e+01, -6.49580460e+01, -6.51127911e+00,\n",
       "       -1.58449598e-02, -2.63995361e+01, -2.36332321e+01, -4.05233383e+01,\n",
       "       -2.99675694e+01, -4.93233833e+01, -4.02240906e+01, -4.57421722e+01,\n",
       "       -1.68679199e+01, -3.10292786e+02, -6.78324890e+00, -8.70722675e+00,\n",
       "       -1.04577017e+01, -1.01326981e+01, -1.09894190e+01, -1.48382730e+01,\n",
       "       -1.06398630e+01, -7.93436432e+00, -4.24028015e+01, -2.77683716e+02,\n",
       "       -1.80749848e-01, -1.90867226e-07, -9.76012780e-06, -4.14330425e-04,\n",
       "       -4.34772484e-03, -1.46967974e-02, -2.76510641e-02, -4.95679192e-02,\n",
       "       -6.02305122e-02, -6.09130188e+02, -2.06590919e+01, -2.57374496e+01,\n",
       "       -2.17771530e+01, -2.24840660e+01, -2.27106419e+01, -2.48437672e+01,\n",
       "       -2.27871304e+01, -2.00374775e+01, -1.86405777e+02, -5.89834534e+02,\n",
       "        3.84087878e-04,  1.19298155e-10,  5.44495258e-08,  6.12830408e-05,\n",
       "        2.50804995e-04,  4.94357431e-04,  5.70117903e-04,  3.49397946e-04,\n",
       "        4.12569061e-04,  1.04111445e-04,  3.18638198e-02,  2.22908720e-01,\n",
       "        4.29568529e-01,  2.99588442e-01,  4.22101468e-01,  2.72194207e-01,\n",
       "        3.49347949e-01,  2.94791639e-01,  3.05284798e-01,  3.04457303e-02,\n",
       "        6.95575873e-05,  1.19017459e-01,  1.07196741e-01,  1.83969423e-01,\n",
       "        1.36216566e-01,  2.24463686e-01,  1.82909876e-01,  2.08056360e-01,\n",
       "        7.68359825e-02,  1.44913065e+00,  1.28847525e-01,  1.66143924e-01,\n",
       "        2.00231314e-01,  1.93283319e-01,  2.10462317e-01,  2.83272207e-01,\n",
       "        2.03528240e-01,  1.51359901e-01,  8.10185850e-01,  5.32822704e+00,\n",
       "        7.47298298e-04,  7.46391116e-10,  3.87580279e-08,  1.67037240e-06,\n",
       "        1.76932062e-05,  6.01130851e-05,  1.13393202e-04,  2.03779084e-04,\n",
       "        2.47779390e-04,  2.57131648e+00,  1.97424427e-01,  2.47350529e-01,\n",
       "        2.10130572e-01,  2.16772482e-01,  2.19687536e-01,  2.39788100e-01,\n",
       "        2.20338300e-01,  1.93812385e-01,  1.80944598e+00,  5.82681608e+00],\n",
       "      dtype=float32)\n",
       "              jac: [array([[0., 0., 0., ..., 0., 0., 0.],\n",
       "       [0., 0., 0., ..., 0., 0., 0.],\n",
       "       [0., 0., 0., ..., 0., 0., 0.],\n",
       "       ...,\n",
       "       [0., 0., 0., ..., 1., 0., 0.],\n",
       "       [0., 0., 0., ..., 0., 1., 0.],\n",
       "       [0., 0., 0., ..., 0., 0., 1.]], dtype=float32)]\n",
       "  lagrangian_grad: array([ 1.2460083e-02, -2.6324422e-03,  3.5687571e-03,  1.0836831e-03,\n",
       "        6.3024629e-03, -2.9470286e-04,  1.3276421e-03,  3.9956537e-03,\n",
       "        3.3172665e-03,  1.0204364e-02,  2.9536923e-03,  6.6146264e-03,\n",
       "        1.3633410e-03, -5.2239368e-04,  3.9023554e-03,  1.0995925e-02,\n",
       "       -6.2214788e-03, -2.0368816e-03, -8.7050279e-04, -4.7383546e-03,\n",
       "       -1.7678237e-04, -2.6721805e-03,  6.4376448e-03, -8.8129553e-04,\n",
       "       -4.8531843e-03, -1.1354663e-02,  6.3660806e-03, -3.6211072e-03,\n",
       "        3.3330384e-03,  6.2852274e-03, -1.3118210e-03, -8.1924727e-04,\n",
       "       -6.9124037e-03,  1.1710266e-02,  6.3248089e-04,  5.7083047e-03,\n",
       "       -2.8176175e-03,  9.4840460e-04,  1.8059694e-04, -4.9751634e-03,\n",
       "       -3.2217507e-03, -3.3432763e-04, -1.1155186e-03, -8.5318112e-04,\n",
       "       -6.6846615e-04, -1.7397243e-03, -3.4378991e-03, -4.5431885e-03,\n",
       "       -6.3836593e-03, -2.6253583e-03,  1.8471446e-03, -4.9631968e-03,\n",
       "        6.6310791e-03, -5.0588972e-03,  4.6499385e-03, -6.1069932e-03,\n",
       "       -5.3017652e-03, -2.2538304e-03,  6.5831356e-03,  4.6409378e-04,\n",
       "        7.8966953e-03,  2.6379779e-03, -7.8841327e-03,  2.6089665e-03,\n",
       "       -1.4717851e-03,  2.3473338e-03, -1.3649296e-03,  1.2451059e-03,\n",
       "        2.2664734e-03,  3.2045869e-03, -1.2385659e-03,  9.2655420e-04,\n",
       "       -5.2101314e-03, -2.7394891e-03, -5.4806471e-05,  6.0127378e-03,\n",
       "       -1.5560687e-03, -3.5439730e-03, -1.1845529e-03, -2.4941172e-03,\n",
       "        4.2278849e-04,  2.4770796e-03,  2.9371157e-03,  4.8180223e-03,\n",
       "        1.7298162e-03, -2.6403815e-03,  3.9025545e-03,  2.4134219e-03,\n",
       "        2.5773495e-03,  2.5868416e-04, -2.0222366e-03,  1.6921461e-03,\n",
       "       -5.6985319e-03,  2.3274124e-03,  2.0982325e-04,  6.3170195e-03,\n",
       "        1.6678423e-03, -9.5227361e-04, -1.7583966e-03, -8.4352493e-04,\n",
       "       -2.7655526e-03,  3.5160020e-04, -4.2305578e-04,  7.9056213e-04,\n",
       "       -2.8763519e-04, -1.8247127e-03, -3.3604330e-03, -5.9212875e-03,\n",
       "       -6.8063606e-03,  5.7721138e-04, -6.6708922e-03, -3.9982647e-03,\n",
       "       -5.8701485e-03,  2.0967424e-04, -3.2474250e-03, -3.4675747e-03,\n",
       "        8.6884946e-03,  4.1241944e-04, -1.8962622e-03,  1.0204315e-04],\n",
       "      dtype=float32)\n",
       "          message: 'The maximum number of function evaluations is exceeded.'\n",
       "           method: 'equality_constrained_sqp'\n",
       "             nfev: 1000\n",
       "             nhev: 0\n",
       "              nit: 1000\n",
       "            niter: 1000\n",
       "             njev: 1000\n",
       "       optimality: 0.012460083\n",
       "           status: 0\n",
       "          success: False\n",
       "        tr_radius: 0.02560730451812329\n",
       "                v: [array([ 5.87465502e-02, -2.83936188e+05,  8.14697438e+05,  4.41151812e+05,\n",
       "        2.53321281e+05,  1.49631281e+05,  8.72201328e+04,  4.69494453e+04,\n",
       "        1.95158789e+04,  3.43151172e+03,  1.44230938e+05,  1.43813719e+05,\n",
       "       -4.01548438e+05, -2.15128891e+05, -1.22392242e+05, -7.17136328e+04,\n",
       "       -4.15076602e+04, -2.22046211e+04, -9.18008301e+03, -1.60098621e+03,\n",
       "       -1.17945109e+05, -1.22294586e+05,  4.16830875e+05,  2.25550047e+05,\n",
       "        1.29454570e+05,  7.64360781e+04,  4.45391016e+04,  2.39676172e+04,\n",
       "        9.96040039e+03,  1.75192627e+03,  4.47012188e+05,  3.07906000e+05,\n",
       "       -7.90396062e+05, -4.22199625e+05, -2.39513250e+05, -1.39966906e+05,\n",
       "       -8.08165078e+04, -4.31386211e+04, -1.78001387e+04, -3.09574561e+03,\n",
       "        1.36483406e+05,  1.37263734e+05, -4.06379344e+05, -2.18496500e+05,\n",
       "       -1.24699422e+05, -7.32651328e+04, -4.25067539e+04, -2.27867812e+04,\n",
       "       -9.43798828e+03, -1.65093103e+03,  7.51260761e-03,  2.63797771e-03,\n",
       "       -7.88418669e-03,  2.54768343e-03, -1.72259007e-03,  1.85297627e-03,\n",
       "       -1.93504745e-03,  8.95707984e-04,  1.85390434e-03,  3.10047553e-03,\n",
       "       -3.31023857e-02, -2.21982166e-01, -4.34778661e-01, -3.02327931e-01,\n",
       "       -4.22156274e-01, -2.66181469e-01, -3.50904018e-01, -2.98335612e-01,\n",
       "       -3.06469351e-01, -3.29398476e-02,  3.53230920e-04, -1.16540380e-01,\n",
       "       -1.04259625e-01, -1.79151401e-01, -1.34486750e-01, -2.27104068e-01,\n",
       "       -1.79007322e-01, -2.05642939e-01, -7.42586330e-02, -1.44887197e+00,\n",
       "       -1.30869761e-01, -1.64451778e-01, -2.05929846e-01, -1.90955907e-01,\n",
       "       -2.10252494e-01, -2.76955187e-01, -2.01860398e-01, -1.52312174e-01,\n",
       "       -8.11944246e-01, -5.32907057e+00, -3.51285096e-03,  3.51599447e-04,\n",
       "       -4.23094549e-04,  7.88891746e-04, -3.05328402e-04, -1.88482576e-03,\n",
       "       -3.47382622e-03, -6.12506643e-03, -7.05413986e-03, -2.57073927e+00,\n",
       "       -2.04095319e-01, -2.51348794e-01, -2.16000721e-01, -2.16562808e-01,\n",
       "       -2.22934961e-01, -2.43255675e-01, -2.11649805e-01, -1.93399966e-01,\n",
       "       -1.81134224e+00, -5.82671404e+00])]\n",
       "                x: array([-5.56205402e+00, -2.05468094e+01, -1.44234064e+01, -7.39742215e+00,\n",
       "       -5.98825001e+00, -5.30966647e+00, -5.16708210e+00, -5.65671388e+00,\n",
       "       -5.49052207e+00, -6.86746342e+00, -1.14369899e+00,  8.01592126e-01,\n",
       "        1.45761105e+00,  1.09723947e+00,  1.44007555e+00,  1.00134568e+00,\n",
       "        1.25089827e+00,  1.08109851e+00,  1.11607488e+00, -1.18922442e+00,\n",
       "       -7.27077057e+00,  1.74100052e-01,  6.94955830e-02,  6.09599391e-01,\n",
       "        3.09075839e-01,  8.08543736e-01,  6.03823326e-01,  7.32638811e-01,\n",
       "       -2.63497230e-01,  2.67354890e+00,  2.53459441e-01,  5.07684213e-01,\n",
       "        6.94303112e-01,  6.58986949e-01,  7.44136378e-01,  1.04123806e+00,\n",
       "        7.10634540e-01,  4.14490289e-01,  2.09209355e+00,  3.97560356e+00,\n",
       "       -4.89646123e+00, -1.87131858e+01, -1.47633431e+01, -1.09998792e+01,\n",
       "       -8.63974466e+00, -7.41669796e+00, -6.78206380e+00, -6.19588903e+00,\n",
       "       -6.00038686e+00,  3.24700312e+00,  6.80185647e-01,  9.05636244e-01,\n",
       "        7.42558931e-01,  7.73678194e-01,  7.87036037e-01,  8.74585433e-01,\n",
       "        7.89993898e-01,  6.61720404e-01,  2.89560572e+00,  4.06505597e+00,\n",
       "       -1.60459023e+02, -1.74806071e+02, -1.67891302e+02, -1.61053089e+02,\n",
       "       -1.59347341e+02, -1.58860911e+02, -1.58618135e+02, -1.58964122e+02,\n",
       "       -1.58248818e+02, -1.53549214e+02, -2.12501152e+02, -2.13148269e+02,\n",
       "       -2.12780957e+02, -2.12815175e+02, -2.12775024e+02, -2.12888623e+02,\n",
       "       -2.13010571e+02, -2.12717520e+02, -2.12778539e+02, -2.13865076e+02,\n",
       "       -2.27796283e+02, -2.21812306e+02, -2.20465965e+02, -2.20272144e+02,\n",
       "       -2.19999444e+02, -2.19738824e+02, -2.19912082e+02, -2.19854718e+02,\n",
       "       -2.19531534e+02, -2.14123395e+02, -5.26455527e+01, -5.24077351e+01,\n",
       "       -5.22280987e+01, -5.24240694e+01, -5.22156135e+01, -5.23816750e+01,\n",
       "       -5.22770819e+01, -5.24205127e+01, -5.23371312e+01, -5.21155947e+01,\n",
       "       -2.41871065e+02, -2.55720126e+02, -2.51822120e+02, -2.48046734e+02,\n",
       "       -2.45728486e+02, -2.44485836e+02, -2.43851172e+02, -2.43243405e+02,\n",
       "       -2.43081227e+02, -2.36894289e+02, -1.04643035e+02, -1.04052537e+02,\n",
       "       -1.03636294e+02, -1.03721950e+02, -1.03377013e+02, -1.03607172e+02,\n",
       "       -1.03418829e+02, -1.03385950e+02, -1.03018152e+02, -1.01227581e+02])"
      ]
     },
     "execution_count": 12,
     "metadata": {},
     "output_type": "execute_result"
    }
   ],
   "source": [
    "sol_simple"
   ]
  },
  {
   "cell_type": "code",
   "execution_count": 113,
   "id": "63f56e25",
   "metadata": {},
   "outputs": [],
   "source": [
    "c = np.exp(builder.logc)"
   ]
  },
  {
   "cell_type": "code",
   "execution_count": 114,
   "id": "f460198a",
   "metadata": {},
   "outputs": [
    {
     "data": {
      "text/plain": [
       "Text(0.5, 0, '$y^+$')"
      ]
     },
     "execution_count": 114,
     "metadata": {},
     "output_type": "execute_result"
    },
    {
     "data": {
      "image/png": "[encoded data removed]",
      "text/plain": [
       "<Figure size 432x288 with 1 Axes>"
      ]
     },
     "metadata": {
      "needs_background": "light"
     },
     "output_type": "display_data"
    }
   ],
   "source": [
    "plt.figure()\n",
    "for i in range(builder.nspecies):\n",
    "    plt.plot(builder.ygrid, c[i, :], label=builder.species[i])\n",
    "plt.legend()\n",
    "plt.ylabel(r'$c$[molal]')\n",
    "plt.xlabel(r'$y^+$')"
   ]
  },
  {
   "cell_type": "code",
   "execution_count": 91,
   "id": "1e7b3385",
   "metadata": {},
   "outputs": [],
   "source": [
    "def f(cbulk):\n",
    "    builder.cbulk = cbulk\n",
    "    _, _ = builder.solve()\n",
    "    dc = builder.fluxes()[:, -1:]\n",
    "    dt = 1e-2\n",
    "    return 4/dt*dc"
   ]
  },
  {
   "cell_type": "code",
   "execution_count": 56,
   "id": "9e4c1dc1",
   "metadata": {},
   "outputs": [
    {
     "data": {
      "text/plain": [
       "DeviceArray([[-15.133566 ],\n",
       "             [ -8.9779005],\n",
       "             [ -1.6318988],\n",
       "             [ -2.0280852],\n",
       "             [-12.711183 ]], dtype=float32)"
      ]
     },
     "execution_count": 56,
     "metadata": {},
     "output_type": "execute_result"
    }
   ],
   "source": [
    "f(jnp.array([65, 56, 75.0, 28.0, 0.0]))"
   ]
  },
  {
   "cell_type": "code",
   "execution_count": 47,
   "id": "a02581e3",
   "metadata": {},
   "outputs": [
    {
     "data": {
      "text/plain": [
       "DeviceArray([[ 0,  0,  1,  0,  0,  0],\n",
       "             [ 1,  1,  0,  0,  1,  0],\n",
       "             [ 0,  0,  0,  1,  0,  0],\n",
       "             [ 0,  0,  0,  0,  0,  1],\n",
       "             [ 0, -2,  2, -1, -1,  1]], dtype=int32)"
      ]
     },
     "execution_count": 47,
     "metadata": {},
     "output_type": "execute_result"
    }
   ],
   "source": []
  },
  {
   "cell_type": "code",
   "execution_count": null,
   "id": "26ab66c2",
   "metadata": {},
   "outputs": [],
   "source": []
  }
 ],
 "metadata": {
  "kernelspec": {
   "display_name": "Python 3 (ipykernel)",
   "language": "python",
   "name": "python3"
  },
  "language_info": {
   "codemirror_mode": {
    "name": "ipython",
    "version": 3
   },
   "file_extension": ".py",
   "mimetype": "text/x-python",
   "name": "python",
   "nbconvert_exporter": "python",
   "pygments_lexer": "ipython3",
   "version": "3.9.7"
  }
 },
 "nbformat": 4,
 "nbformat_minor": 5
}
