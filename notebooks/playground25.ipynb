{
 "cells": [
  {
   "cell_type": "code",
   "execution_count": 21,
   "id": "c0b3dbdd",
   "metadata": {},
   "outputs": [],
   "source": [
    "import sys\n",
    "sys.path.append(\"..\")\n",
    "import functools\n",
    "\n",
    "import numpy as np\n",
    "import torch\n",
    "import scipy.linalg\n",
    "import scipy.optimize\n",
    "import matplotlib.pyplot as plt\n",
    "from dict_minimize.torch_api import minimize\n",
    "import functorch\n",
    "import pyequion2\n",
    "\n",
    "import tmcdiff"
   ]
  },
  {
   "cell_type": "code",
   "execution_count": 22,
   "id": "ffa825ce",
   "metadata": {},
   "outputs": [
    {
     "name": "stdout",
     "output_type": "stream",
     "text": [
      "The autoreload extension is already loaded. To reload it, use:\n",
      "  %reload_ext autoreload\n"
     ]
    }
   ],
   "source": [
    "%load_ext autoreload\n",
    "%autoreload 2\n",
    "%matplotlib inline"
   ]
  },
  {
   "cell_type": "code",
   "execution_count": 23,
   "id": "b7442e2d",
   "metadata": {},
   "outputs": [],
   "source": [
    "eqsys = pyequion2.EquilibriumBackend([\"Na\", \"Cl\"], from_elements=True, backend=\"torch\", logbase=\"e\",\n",
    "                                     activity_model=\"IDEAL\")"
   ]
  },
  {
   "cell_type": "code",
   "execution_count": 24,
   "id": "c6d16dc6",
   "metadata": {},
   "outputs": [],
   "source": [
    "TK = 298.15\n",
    "shear_velocity = 0.1\n",
    "kinematic_viscosity = 1e-6\n",
    "molal_balance = {'Na':0.075, 'Cl':0.075}\n",
    "\n",
    "builder = tmcdiff.TransportBuilder(eqsys, TK, shear_velocity,\n",
    "                           molal_balance, [\"Halite\"],\n",
    "                           kreaction=\"inf\",\n",
    "                           flux_residual_tol=1e-2)\n",
    "builder.make_grid(3, 3)\n",
    "builder.set_species()"
   ]
  },
  {
   "cell_type": "code",
   "execution_count": 25,
   "id": "8a1fbc86",
   "metadata": {},
   "outputs": [],
   "source": [
    "builder.set_initial_guess_from_bulk()"
   ]
  },
  {
   "cell_type": "code",
   "execution_count": 26,
   "id": "85fda149",
   "metadata": {},
   "outputs": [
    {
     "data": {
      "text/plain": [
       "True"
      ]
     },
     "execution_count": 26,
     "metadata": {},
     "output_type": "execute_result"
    }
   ],
   "source": [
    "solsimple = builder.solve_lma(simplified=True);\n",
    "solfull = builder.solve_lma(simplified=False);\n",
    "solsimple.success#, solfull.success"
   ]
  },
  {
   "cell_type": "code",
   "execution_count": 27,
   "id": "0feaebc3",
   "metadata": {},
   "outputs": [],
   "source": [
    "def flat_residual(x):\n",
    "    x_ = x.reshape([builder.nspecies, builder.ngrid])\n",
    "    res = builder.full_residual(c=x_, lma=False)\n",
    "    return res.flatten()\n",
    "\n",
    "def flat_objective(x):\n",
    "    x_ = x.reshape([builder.nspecies, builder.ngrid])\n",
    "    res = builder.gibbs_free_energy(c=x_)\n",
    "    return res.flatten()[0]\n",
    "    \n",
    "def torch_wrap(f):\n",
    "    def g(x):\n",
    "        x = torch.tensor(x, dtype=torch.float)\n",
    "        res = f(x).detach().numpy()\n",
    "        return res\n",
    "    return g\n",
    "\n",
    "def torch_wrap(f):\n",
    "    def g(*args):\n",
    "        args = [torch.tensor(arg, dtype=torch.float) for arg in args]\n",
    "        res = f(*args).detach().numpy()\n",
    "        return res\n",
    "    return g"
   ]
  },
  {
   "cell_type": "code",
   "execution_count": 28,
   "id": "ab9cd4e2",
   "metadata": {},
   "outputs": [],
   "source": [
    "def make_lagrangian_residual_jacobian(g, df, dg, d2f, d2g, nx, nlambd):\n",
    "    def residual(xlambd):\n",
    "        x, lambd = xlambd[..., :nx], xlambd[..., nx:]\n",
    "        res1 = df(x) - (dg(x).T)@lambd\n",
    "        res2 = g(x)\n",
    "        res = np.concatenate([res1, res2], axis=-1)\n",
    "        return res\n",
    "    def jacobian(xlambd):\n",
    "        x, lambd = xlambd[..., :nx], xlambd[..., nx:]\n",
    "        jac11 = d2f(x) - d2g(x, lambd)\n",
    "        jac12 = -dg(x).T\n",
    "        jac21 = dg(x)\n",
    "        jac22 = np.zeros([nlambd, nlambd])\n",
    "        jac = np.block([[jac11, jac12], [jac21, jac22]])\n",
    "        return jac\n",
    "    return residual, jacobian\n",
    "\n",
    "def make_lagrangian_residual(g, df, dg, nx):\n",
    "    def residual(xlambd):\n",
    "        x, lambd = xlambd[..., :nx], xlambd[..., nx:]\n",
    "        res1 = df(x) - (dg(x).T)@lambd\n",
    "        res2 = g(x)\n",
    "        res = torch.cat([res1, res2], dim=-1)\n",
    "        return res\n",
    "    return residual\n",
    "\n",
    "def make_lagrangian_residual_torch(g, df, dg, nx, nlambd):\n",
    "    def residual(xlambd):\n",
    "        x, lambd = xlambd[..., :nx], xlambd[..., nx:]\n",
    "        res1 = df(x) - (dg(x).T)@lambd\n",
    "        res2 = g(x)\n",
    "        res = torch.cat([res1, res2], axis=-1)\n",
    "        return res\n",
    "    return residual"
   ]
  },
  {
   "cell_type": "code",
   "execution_count": 35,
   "id": "2e6188bf",
   "metadata": {},
   "outputs": [
    {
     "data": {
      "text/plain": [
       "tensor([8., 4.])"
      ]
     },
     "execution_count": 35,
     "metadata": {},
     "output_type": "execute_result"
    }
   ],
   "source": [
    "a = torch.tensor([1.0, 2.0], requires_grad = True)\n",
    "b = torch.tensor([4.0, 0.0, 0.0])\n",
    "b[[1, 2]] = a\n",
    "l = b.prod()\n",
    "l.backward()\n",
    "a.grad"
   ]
  },
  {
   "cell_type": "code",
   "execution_count": 29,
   "id": "d5023b86",
   "metadata": {},
   "outputs": [],
   "source": [
    "f_t = flat_objective\n",
    "df_t = functorch.jacrev(f_t)\n",
    "d2f_t = functorch.hessian(f_t)\n",
    "g_t = flat_residual\n",
    "dg_t = functorch.jacrev(g_t)\n",
    "d2g_t = functorch.jacrev(lambda x, v : (dg_t(x).T)@v)\n",
    "f = torch_wrap(f_t)\n",
    "df = torch_wrap(df_t)\n",
    "d2f = torch_wrap(d2f_t)\n",
    "g = torch_wrap(g_t)\n",
    "dg = torch_wrap(dg_t)\n",
    "d2g = torch_wrap(d2g_t)\n",
    "\n",
    "equality_constraint = scipy.optimize.NonlinearConstraint(\n",
    "    g, lb=0.0, ub=0.0, jac = dg, hess=d2g)\n",
    "bounds = scipy.optimize.Bounds(lb=1e-30, ub=np.inf, keep_feasible=True)\n",
    "x0 = builder.x.detach().numpy()\n",
    "x0 = np.exp(x0)\n",
    "# lambd0 = builder.lambd.detach().numpy()\n",
    "# xlambd0 = np.concatenate([x0, lambd0], axis=0)"
   ]
  },
  {
   "cell_type": "code",
   "execution_count": 30,
   "id": "bb223846",
   "metadata": {},
   "outputs": [
    {
     "name": "stdout",
     "output_type": "stream",
     "text": [
      "| niter |f evals|CG iter|  obj func   |tr radius |   opt    |  c viol  |\n",
      "|-------|-------|-------|-------------|----------|----------|----------|\n",
      "|   1   |   1   |   0   | -4.1028e+02 | 1.00e+00 | 4.69e-02 | 2.50e-04 |\n",
      "|   2   |   2   |   1   | -4.1028e+02 | 2.00e+00 | 4.75e-02 | 6.54e-02 |\n",
      "|   3   |   3   |   3   | -4.1028e+02 | 1.00e+00 | 4.75e-02 | 6.54e-02 |\n",
      "|   4   |   4   |   4   | -4.1028e+02 | 7.00e+00 | 7.08e-02 | 1.05e-02 |\n",
      "|   5   |   6   |   6   | -4.1028e+02 | 7.00e-01 | 7.08e-02 | 1.05e-02 |\n",
      "|   6   |   7   |   7   | -4.1028e+02 | 1.40e+00 | 9.66e-02 | 3.11e-02 |\n",
      "|   7   |   8   |   8   | -4.1028e+02 | 2.80e+00 | 1.19e-01 | 6.75e-02 |\n",
      "|   8   |   8   |   8   | -4.1028e+02 | 1.40e+01 | 3.07e-02 | 6.75e-02 |\n",
      "|   9   |   9   |   9   | -4.1028e+02 | 1.40e+00 | 3.07e-02 | 6.75e-02 |\n",
      "|  10   |  10   |  10   | -4.1028e+02 | 4.06e-01 | 3.07e-02 | 6.75e-02 |\n",
      "|  11   |  11   |  11   | -4.1028e+02 | 8.12e-01 | 2.88e-02 | 1.69e-02 |\n",
      "|  12   |  11   |  11   | -4.1028e+02 | 4.06e+00 | 7.09e-03 | 1.69e-02 |\n",
      "|  13   |  13   |  12   | -4.1028e+02 | 4.06e-01 | 7.09e-03 | 1.69e-02 |\n",
      "|  14   |  14   |  13   | -4.1028e+02 | 8.12e-01 | 1.29e-03 | 7.11e-03 |\n",
      "|  15   |  15   |  14   | -4.1028e+02 | 9.71e-02 | 1.29e-03 | 7.11e-03 |\n",
      "|  16   |  16   |  15   | -4.1028e+02 | 6.80e-01 | 5.09e-03 | 1.35e-03 |\n",
      "|  17   |  16   |  15   | -4.1028e+02 | 3.40e+00 | 1.61e-03 | 1.35e-03 |\n",
      "|  18   |  18   |  16   | -4.1028e+02 | 3.40e-01 | 1.61e-03 | 1.35e-03 |\n",
      "|  19   |  19   |  17   | -4.1028e+02 | 3.56e-02 | 1.61e-03 | 1.35e-03 |\n",
      "|  20   |  20   |  18   | -4.1028e+02 | 2.50e-01 | 1.47e-03 | 6.45e-04 |\n",
      "|  21   |  20   |  18   | -4.1028e+02 | 1.25e+00 | 1.90e-04 | 6.45e-04 |\n",
      "|  22   |  22   |  19   | -4.1028e+02 | 1.25e-01 | 1.90e-04 | 6.45e-04 |\n",
      "|  23   |  24   |  20   | -4.1028e+02 | 4.45e-02 | 1.90e-04 | 6.45e-04 |\n",
      "|  24   |  25   |  21   | -4.1028e+02 | 8.90e-02 | 2.32e-04 | 2.86e-04 |\n",
      "|  25   |  26   |  22   | -4.1028e+02 | 1.78e-01 | 1.22e-04 | 1.98e-04 |\n",
      "|  26   |  27   |  23   | -4.1028e+02 | 1.78e-02 | 1.22e-04 | 1.98e-04 |\n",
      "|  27   |  28   |  24   | -4.1028e+02 | 7.52e-03 | 1.22e-04 | 1.98e-04 |\n",
      "|  28   |  29   |  25   | -4.1028e+02 | 1.50e-02 | 6.97e-05 | 1.91e-04 |\n",
      "|  29   |  30   |  26   | -4.1028e+02 | 2.57e-03 | 6.97e-05 | 1.91e-04 |\n",
      "|  30   |  31   |  27   | -4.1028e+02 | 2.57e-04 | 6.97e-05 | 1.91e-04 |\n",
      "|  31   |  32   |  28   | -4.1028e+02 | 5.14e-04 | 1.05e-04 | 1.91e-04 |\n",
      "|  32   |  33   |  29   | -4.1028e+02 | 1.03e-03 | 1.76e-04 | 1.91e-04 |\n",
      "|  33   |  34   |  30   | -4.1028e+02 | 1.03e-04 | 1.76e-04 | 1.91e-04 |\n",
      "|  34   |  35   |  31   | -4.1028e+02 | 2.06e-04 | 1.35e-04 | 1.91e-04 |\n",
      "|  35   |  36   |  32   | -4.1028e+02 | 2.06e-04 | 1.73e-04 | 1.91e-04 |\n",
      "|  36   |  37   |  33   | -4.1028e+02 | 2.06e-04 | 2.35e-04 | 1.91e-04 |\n",
      "|  37   |  38   |  34   | -4.1028e+02 | 2.06e-04 | 2.41e-04 | 1.91e-04 |\n",
      "|  38   |  39   |  35   | -4.1028e+02 | 1.03e-04 | 2.41e-04 | 1.91e-04 |\n",
      "|  39   |  40   |  36   | -4.1028e+02 | 5.14e-05 | 2.41e-04 | 1.91e-04 |\n",
      "|  40   |  41   |  37   | -4.1028e+02 | 5.14e-05 | 9.91e-05 | 1.91e-04 |\n",
      "|  41   |  42   |  38   | -4.1028e+02 | 2.57e-05 | 9.91e-05 | 1.91e-04 |\n",
      "|  42   |  43   |  39   | -4.1028e+02 | 1.29e-05 | 9.91e-05 | 1.91e-04 |\n",
      "|  43   |  44   |  40   | -4.1028e+02 | 6.43e-06 | 9.91e-05 | 1.91e-04 |\n",
      "|  44   |  45   |  41   | -4.1028e+02 | 3.21e-06 | 9.91e-05 | 1.91e-04 |\n",
      "|  45   |  46   |  42   | -4.1028e+02 | 1.61e-06 | 9.91e-05 | 1.91e-04 |\n",
      "|  46   |  47   |  43   | -4.1028e+02 | 8.03e-07 | 9.91e-05 | 1.91e-04 |\n",
      "|  47   |  48   |  44   | -4.1028e+02 | 4.02e-07 | 9.91e-05 | 1.91e-04 |\n",
      "|  48   |  49   |  45   | -4.1028e+02 | 2.01e-07 | 9.91e-05 | 1.91e-04 |\n",
      "|  49   |  50   |  46   | -4.1028e+02 | 1.00e-07 | 9.91e-05 | 1.91e-04 |\n",
      "|  50   |  51   |  47   | -4.1028e+02 | 5.02e-08 | 9.91e-05 | 1.91e-04 |\n",
      "|  51   |  52   |  48   | -4.1028e+02 | 5.02e-08 | 2.30e-04 | 1.91e-04 |\n",
      "|  52   |  53   |  49   | -4.1028e+02 | 5.02e-08 | 2.05e-04 | 1.91e-04 |\n",
      "|  53   |  54   |  50   | -4.1028e+02 | 5.02e-08 | 6.06e-05 | 1.91e-04 |\n",
      "|  54   |  55   |  51   | -4.1028e+02 | 2.51e-08 | 6.06e-05 | 1.91e-04 |\n",
      "|  55   |  56   |  52   | -4.1028e+02 | 1.26e-08 | 6.06e-05 | 1.91e-04 |\n",
      "|  56   |  57   |  53   | -4.1028e+02 | 1.26e-08 | 1.60e-04 | 1.91e-04 |\n",
      "|  57   |  58   |  54   | -4.1028e+02 | 1.26e-08 | 1.88e-04 | 1.91e-04 |\n",
      "|  58   |  59   |  55   | -4.1028e+02 | 2.51e-08 | 1.86e-04 | 1.91e-04 |\n",
      "|  59   |  60   |  56   | -4.1028e+02 | 2.51e-08 | 1.41e-04 | 1.91e-04 |\n",
      "|  60   |  61   |  57   | -4.1028e+02 | 2.51e-09 | 1.41e-04 | 1.91e-04 |\n",
      "|  61   |  62   |  57   | -4.1028e+02 | 1.00e+00 | 4.74e-05 | 1.91e-04 |\n",
      "|  62   |  64   |  58   | -4.1028e+02 | 1.00e-01 | 4.74e-05 | 1.91e-04 |\n",
      "|  63   |  65   |  59   | -4.1028e+02 | 1.00e-02 | 4.74e-05 | 1.91e-04 |\n",
      "|  64   |  66   |  60   | -4.1028e+02 | 1.08e-03 | 4.74e-05 | 1.91e-04 |\n",
      "|  65   |  67   |  61   | -4.1028e+02 | 1.08e-04 | 4.74e-05 | 1.91e-04 |\n",
      "|  66   |  68   |  62   | -4.1028e+02 | 1.08e-04 | 5.99e-05 | 1.91e-04 |\n",
      "|  67   |  69   |  63   | -4.1028e+02 | 1.08e-05 | 5.99e-05 | 1.91e-04 |\n",
      "|  68   |  70   |  64   | -4.1028e+02 | 5.39e-06 | 5.99e-05 | 1.91e-04 |\n",
      "|  69   |  71   |  65   | -4.1028e+02 | 5.39e-06 | 2.35e-05 | 1.91e-04 |\n",
      "|  70   |  72   |  66   | -4.1028e+02 | 1.80e-06 | 2.35e-05 | 1.91e-04 |\n",
      "|  71   |  73   |  67   | -4.1028e+02 | 2.59e-07 | 2.35e-05 | 1.91e-04 |\n",
      "|  72   |  74   |  68   | -4.1028e+02 | 1.30e-07 | 2.35e-05 | 1.91e-04 |\n",
      "|  73   |  75   |  69   | -4.1028e+02 | 1.30e-07 | 5.29e-05 | 1.91e-04 |\n",
      "|  74   |  76   |  70   | -4.1028e+02 | 1.30e-07 | 3.43e-05 | 1.91e-04 |\n",
      "|  75   |  77   |  71   | -4.1028e+02 | 1.30e-07 | 5.97e-05 | 1.91e-04 |\n",
      "|  76   |  78   |  72   | -4.1028e+02 | 1.30e-07 | 3.98e-05 | 1.91e-04 |\n",
      "|  77   |  79   |  73   | -4.1028e+02 | 1.30e-07 | 4.29e-05 | 1.91e-04 |\n",
      "|  78   |  80   |  74   | -4.1028e+02 | 1.30e-08 | 4.29e-05 | 1.91e-04 |\n",
      "|  79   |  81   |  75   | -4.1028e+02 | 1.30e-09 | 4.29e-05 | 1.91e-04 |\n",
      "|  80   |  82   |  75   | -4.1028e+02 | 1.00e+00 | 1.92e-05 | 1.91e-04 |\n",
      "|  81   |  84   |  76   | -4.1028e+02 | 1.00e-01 | 1.92e-05 | 1.91e-04 |\n",
      "|  82   |  85   |  77   | -4.1028e+02 | 1.00e-02 | 1.92e-05 | 1.91e-04 |\n",
      "|  83   |  86   |  78   | -4.1028e+02 | 1.08e-03 | 1.92e-05 | 1.91e-04 |\n",
      "|  84   |  87   |  79   | -4.1028e+02 | 1.08e-04 | 1.92e-05 | 1.91e-04 |\n",
      "|  85   |  88   |  80   | -4.1028e+02 | 1.08e-05 | 1.92e-05 | 1.91e-04 |\n",
      "|  86   |  89   |  81   | -4.1028e+02 | 5.39e-06 | 1.92e-05 | 1.91e-04 |\n",
      "|  87   |  90   |  82   | -4.1028e+02 | 1.82e-06 | 1.92e-05 | 1.91e-04 |\n",
      "|  88   |  91   |  83   | -4.1028e+02 | 2.66e-07 | 1.92e-05 | 1.91e-04 |\n",
      "|  89   |  92   |  84   | -4.1028e+02 | 2.66e-08 | 1.92e-05 | 1.91e-04 |\n",
      "|  90   |  93   |  85   | -4.1028e+02 | 2.66e-09 | 1.92e-05 | 1.91e-04 |\n",
      "|  91   |  94   |  85   | -4.1028e+02 | 1.00e+00 | 8.61e-06 | 1.91e-04 |\n",
      "|  92   |  96   |  86   | -4.1028e+02 | 1.00e-01 | 8.61e-06 | 1.91e-04 |\n",
      "|  93   |  97   |  87   | -4.1028e+02 | 1.00e-02 | 8.61e-06 | 1.91e-04 |\n",
      "|  94   |  98   |  88   | -4.1028e+02 | 1.08e-03 | 8.61e-06 | 1.91e-04 |\n",
      "|  95   |  99   |  89   | -4.1028e+02 | 1.08e-04 | 8.61e-06 | 1.91e-04 |\n",
      "|  96   |  100  |  90   | -4.1028e+02 | 1.08e-05 | 8.61e-06 | 1.91e-04 |\n",
      "|  97   |  101  |  91   | -4.1028e+02 | 3.64e-06 | 8.61e-06 | 1.91e-04 |\n",
      "|  98   |  102  |  92   | -4.1028e+02 | 9.35e-07 | 8.61e-06 | 1.91e-04 |\n",
      "|  99   |  103  |  93   | -4.1028e+02 | 9.35e-08 | 8.61e-06 | 1.91e-04 |\n",
      "|  100  |  104  |  94   | -4.1028e+02 | 9.35e-09 | 8.61e-06 | 1.91e-04 |\n",
      "|  101  |  105  |  94   | -4.1028e+02 | 1.00e+00 | 1.18e-05 | 1.91e-04 |\n",
      "|  102  |  107  |  95   | -4.1028e+02 | 1.00e-01 | 1.18e-05 | 1.91e-04 |\n",
      "|  103  |  108  |  96   | -4.1028e+02 | 1.00e-02 | 1.18e-05 | 1.91e-04 |\n",
      "|  104  |  109  |  97   | -4.1028e+02 | 1.08e-03 | 1.18e-05 | 1.91e-04 |\n",
      "|  105  |  110  |  98   | -4.1028e+02 | 1.08e-04 | 1.18e-05 | 1.91e-04 |\n",
      "|  106  |  111  |  99   | -4.1028e+02 | 1.08e-05 | 1.18e-05 | 1.91e-04 |\n",
      "|  107  |  112  |  100  | -4.1028e+02 | 3.64e-06 | 1.18e-05 | 1.91e-04 |\n",
      "|  108  |  113  |  101  | -4.1028e+02 | 9.36e-07 | 1.18e-05 | 1.91e-04 |\n",
      "|  109  |  114  |  102  | -4.1028e+02 | 9.36e-08 | 1.18e-05 | 1.91e-04 |\n",
      "|  110  |  115  |  103  | -4.1028e+02 | 9.36e-09 | 1.18e-05 | 1.91e-04 |\n",
      "|  111  |  116  |  103  | -4.1028e+02 | 1.00e+00 | 2.40e-06 | 1.91e-04 |\n",
      "|  112  |  118  |  104  | -4.1028e+02 | 1.00e-01 | 2.40e-06 | 1.91e-04 |\n",
      "|  113  |  119  |  105  | -4.1028e+02 | 1.00e-02 | 2.40e-06 | 1.91e-04 |\n",
      "|  114  |  120  |  106  | -4.1028e+02 | 1.08e-03 | 2.40e-06 | 1.91e-04 |\n",
      "|  115  |  121  |  107  | -4.1028e+02 | 1.08e-04 | 2.40e-06 | 1.91e-04 |\n",
      "|  116  |  122  |  108  | -4.1028e+02 | 1.08e-05 | 2.40e-06 | 1.91e-04 |\n",
      "|  117  |  123  |  109  | -4.1028e+02 | 3.64e-06 | 2.40e-06 | 1.91e-04 |\n",
      "|  118  |  124  |  110  | -4.1028e+02 | 9.36e-07 | 2.40e-06 | 1.91e-04 |\n",
      "|  119  |  125  |  111  | -4.1028e+02 | 9.36e-08 | 2.40e-06 | 1.91e-04 |\n",
      "|  120  |  126  |  112  | -4.1028e+02 | 9.36e-09 | 2.40e-06 | 1.91e-04 |\n",
      "|  121  |  127  |  112  | -4.1028e+02 | 1.00e+00 | 1.13e-05 | 1.91e-04 |\n",
      "|  122  |  129  |  113  | -4.1028e+02 | 1.00e-01 | 1.13e-05 | 1.91e-04 |\n",
      "|  123  |  130  |  114  | -4.1028e+02 | 1.00e-02 | 1.13e-05 | 1.91e-04 |\n",
      "|  124  |  131  |  115  | -4.1028e+02 | 1.08e-03 | 1.13e-05 | 1.91e-04 |\n",
      "|  125  |  132  |  116  | -4.1028e+02 | 1.08e-04 | 1.13e-05 | 1.91e-04 |\n",
      "|  126  |  133  |  117  | -4.1028e+02 | 1.08e-05 | 1.13e-05 | 1.91e-04 |\n",
      "|  127  |  134  |  118  | -4.1028e+02 | 3.64e-06 | 1.13e-05 | 1.91e-04 |\n",
      "|  128  |  135  |  119  | -4.1028e+02 | 9.36e-07 | 1.13e-05 | 1.91e-04 |\n",
      "|  129  |  136  |  120  | -4.1028e+02 | 9.36e-08 | 1.13e-05 | 1.91e-04 |\n",
      "|  130  |  137  |  121  | -4.1028e+02 | 9.36e-09 | 1.13e-05 | 1.91e-04 |\n",
      "|  131  |  138  |  121  | -4.1028e+02 | 1.00e+00 | 5.17e-06 | 1.91e-04 |\n",
      "|  132  |  140  |  122  | -4.1028e+02 | 1.00e-01 | 5.17e-06 | 1.91e-04 |\n",
      "|  133  |  141  |  123  | -4.1028e+02 | 1.00e-02 | 5.17e-06 | 1.91e-04 |\n",
      "|  134  |  142  |  124  | -4.1028e+02 | 1.08e-03 | 5.17e-06 | 1.91e-04 |\n",
      "|  135  |  143  |  125  | -4.1028e+02 | 1.08e-04 | 5.17e-06 | 1.91e-04 |\n",
      "|  136  |  144  |  126  | -4.1028e+02 | 1.08e-05 | 5.17e-06 | 1.91e-04 |\n",
      "|  137  |  145  |  127  | -4.1028e+02 | 3.64e-06 | 5.17e-06 | 1.91e-04 |\n",
      "|  138  |  146  |  128  | -4.1028e+02 | 9.36e-07 | 5.17e-06 | 1.91e-04 |\n",
      "|  139  |  147  |  129  | -4.1028e+02 | 9.36e-08 | 5.17e-06 | 1.91e-04 |\n",
      "|  140  |  148  |  130  | -4.1028e+02 | 9.36e-09 | 5.17e-06 | 1.91e-04 |\n",
      "\n",
      "`xtol` termination condition is satisfied.\n",
      "Number of iterations: 140, function evaluations: 148, CG iterations: 130, optimality: 5.17e-06, constraint violation: 1.91e-04, execution time: 0.55 s.\n"
     ]
    }
   ],
   "source": [
    "sol = scipy.optimize.minimize(f, x0, jac=df, method='trust-constr',\n",
    "                              hess=d2f,\n",
    "                              constraints=equality_constraint,\n",
    "                              bounds=bounds,\n",
    "                              options={'verbose':2}) #TNC"
   ]
  },
  {
   "cell_type": "code",
   "execution_count": 12,
   "id": "9c2eeefe",
   "metadata": {},
   "outputs": [],
   "source": [
    "b = df(x0)\n",
    "A = dg(x0).T\n",
    "lambd0, _, _, _ = np.linalg.lstsq(A, b, rcond=None)\n",
    "xlambd0 = np.concatenate([x0, lambd0], axis=0)\n",
    "xlambd0_t = torch.tensor(xlambd0, dtype=torch.float)"
   ]
  },
  {
   "cell_type": "code",
   "execution_count": 13,
   "id": "add22fb1",
   "metadata": {},
   "outputs": [],
   "source": [
    "h, dh = make_lagrangian_residual_jacobian(g, df, dg, d2f, d2g, len(builder.x), len(builder.lambd))\n",
    "h_t = make_lagrangian_residual_torch(g_t, df_t, dg_t, len(builder.x), len(builder.lambd))\n",
    "loss_t = lambda x : torch.sum((h_t(x))**2)\n",
    "dloss_t = functorch.grad(loss_t)\n",
    "d2loss_t = functorch.hessian(loss_t)\n",
    "loss = torch_wrap(loss_t)\n",
    "dloss = torch_wrap(dloss_t)\n",
    "d2loss = torch_wrap(d2loss_t)"
   ]
  },
  {
   "cell_type": "code",
   "execution_count": 14,
   "id": "9bd2d5a4",
   "metadata": {},
   "outputs": [],
   "source": [
    "# sol = scipy.optimize.minimize(loss, xlambd0, jac=dloss, method='TNC',\n",
    "#                               hess=d2loss) #TNC\n",
    "# print(sol.success)\n",
    "# print(sol.fun)"
   ]
  },
  {
   "cell_type": "code",
   "execution_count": 20,
   "id": "f14a0acf",
   "metadata": {},
   "outputs": [
    {
     "name": "stderr",
     "output_type": "stream",
     "text": [
      "/tmp/ipykernel_3444/933009971.py:2: OptimizeWarning: Unknown solver options: verbose\n",
      "  sol = scipy.optimize.minimize(loss, xlambd0, jac=dloss, method='TNC',\n"
     ]
    },
    {
     "name": "stdout",
     "output_type": "stream",
     "text": [
      "False\n",
      "6765.12\n"
     ]
    }
   ],
   "source": [
    "# xlambd0 = sol.x\n",
    "sol = scipy.optimize.minimize(loss, xlambd0, jac=dloss, method='TNC',\n",
    "                              hess=d2loss,\n",
    "                              options={'verbose':2}) #TNC\n",
    "print(sol.success)\n",
    "print(sol.fun)"
   ]
  },
  {
   "cell_type": "code",
   "execution_count": 317,
   "id": "a291ffc6",
   "metadata": {},
   "outputs": [],
   "source": [
    "# xlambd0_t.requires_grad = True\n",
    "# optimizer = torch.optim.SGD([xlambd0_t], lr=1e-6, momentum=0.9)\n",
    "# for i in range(1000):\n",
    "#     loss = torch.max(h_t(xlambd0_t)**2)\n",
    "#     loss.backward()\n",
    "#     optimizer.step()\n",
    "#     print(loss)"
   ]
  },
  {
   "cell_type": "code",
   "execution_count": null,
   "id": "f5e84c38",
   "metadata": {},
   "outputs": [],
   "source": []
  },
  {
   "cell_type": "code",
   "execution_count": null,
   "id": "d7ceaeb1",
   "metadata": {},
   "outputs": [],
   "source": []
  },
  {
   "cell_type": "code",
   "execution_count": 318,
   "id": "86e6a3ca",
   "metadata": {},
   "outputs": [],
   "source": [
    "# sol = scipy.optimize.root(h, xlambd0, jac=dh, method=\"broyden1\")\n",
    "# print(sol.success)\n",
    "# print(np.max(np.abs(sol.fun)))"
   ]
  },
  {
   "cell_type": "code",
   "execution_count": null,
   "id": "e8557265",
   "metadata": {},
   "outputs": [],
   "source": []
  },
  {
   "cell_type": "code",
   "execution_count": null,
   "id": "8b6c6255",
   "metadata": {},
   "outputs": [],
   "source": []
  },
  {
   "cell_type": "code",
   "execution_count": 319,
   "id": "d01bc1a2",
   "metadata": {},
   "outputs": [],
   "source": [
    "x = sol.x[:len(builder.x)]\n",
    "# x = builder.x.numpy()"
   ]
  },
  {
   "cell_type": "code",
   "execution_count": 320,
   "id": "f8c8bc57",
   "metadata": {},
   "outputs": [],
   "source": [
    "logcmu = x.reshape(builder.nspecies, builder.ngrid)\n",
    "logc = logcmu[:builder.nspecies, :]\n",
    "c = np.exp(logc)\n",
    "logc_t = torch.tensor(logc, dtype=torch.float)"
   ]
  },
  {
   "cell_type": "code",
   "execution_count": 321,
   "id": "90c9aaae",
   "metadata": {},
   "outputs": [
    {
     "data": {
      "text/plain": [
       "Text(0.5, 0, '$y^+$')"
      ]
     },
     "execution_count": 321,
     "metadata": {},
     "output_type": "execute_result"
    },
    {
     "data": {
      "image/png": "[encoded data removed]",
      "text/plain": [
       "<Figure size 432x288 with 1 Axes>"
      ]
     },
     "metadata": {
      "needs_background": "light"
     },
     "output_type": "display_data"
    }
   ],
   "source": [
    "plt.figure()\n",
    "for i in range(builder.nspecies):\n",
    "    plt.plot(builder.ygrid, c[i, :], 'o', label=builder.species[i])\n",
    "plt.legend()\n",
    "plt.ylabel(r'$c$[molal]')\n",
    "plt.xlabel(r'$y^+$')"
   ]
  },
  {
   "cell_type": "code",
   "execution_count": 322,
   "id": "bc3b5d90",
   "metadata": {},
   "outputs": [
    {
     "data": {
      "text/plain": [
       "Text(0.5, 0, '$y^+$')"
      ]
     },
     "execution_count": 322,
     "metadata": {},
     "output_type": "execute_result"
    },
    {
     "data": {
      "image/png": "[encoded data removed]",
      "text/plain": [
       "<Figure size 432x288 with 1 Axes>"
      ]
     },
     "metadata": {
      "needs_background": "light"
     },
     "output_type": "display_data"
    }
   ],
   "source": [
    "cel = builder.reduced_formula_matrix.numpy()@c\n",
    "plt.figure()\n",
    "for i, el in enumerate(eqsys.solute_elements + ['e']):\n",
    "    plt.plot(builder.ygrid, cel[i, :], 'o', label=el)\n",
    "plt.legend()\n",
    "plt.ylabel(r'$c$[molal]')\n",
    "plt.xlabel(r'$y^+$')"
   ]
  },
  {
   "cell_type": "code",
   "execution_count": 323,
   "id": "284d8c3e",
   "metadata": {},
   "outputs": [],
   "source": [
    "# fluxes = builder.fluxes().detach().numpy()\n",
    "# yplot = builder.ypoints[1:-1].detach().numpy()\n",
    "# plt.figure()\n",
    "# for i, el in enumerate(eqsys.solute_elements + ['e']):\n",
    "#     plt.plot(yplot, fluxes[i, :], 'o', label=el)\n",
    "# plt.legend()\n",
    "# plt.ylabel(r'$c$[molal]')\n",
    "# plt.xlabel(r'$y^+$')"
   ]
  },
  {
   "cell_type": "code",
   "execution_count": null,
   "id": "b26723d1",
   "metadata": {},
   "outputs": [],
   "source": []
  },
  {
   "cell_type": "code",
   "execution_count": null,
   "id": "64e046fc",
   "metadata": {},
   "outputs": [],
   "source": []
  }
 ],
 "metadata": {
  "kernelspec": {
   "display_name": "Python 3 (ipykernel)",
   "language": "python",
   "name": "python3"
  },
  "language_info": {
   "codemirror_mode": {
    "name": "ipython",
    "version": 3
   },
   "file_extension": ".py",
   "mimetype": "text/x-python",
   "name": "python",
   "nbconvert_exporter": "python",
   "pygments_lexer": "ipython3",
   "version": "3.9.7"
  }
 },
 "nbformat": 4,
 "nbformat_minor": 5
}
